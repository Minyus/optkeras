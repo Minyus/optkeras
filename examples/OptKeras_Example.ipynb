{
  "nbformat": 4,
  "nbformat_minor": 0,
  "metadata": {
    "colab": {
      "name": "OptKeras_Example.ipynb",
      "version": "0.3.2",
      "provenance": [],
      "collapsed_sections": []
    },
    "kernelspec": {
      "name": "python3",
      "display_name": "Python 3"
    },
    "accelerator": "GPU"
  },
  "cells": [
    {
      "metadata": {
        "id": "adlTq181lzrT",
        "colab_type": "text"
      },
      "cell_type": "markdown",
      "source": [
        "This notebook demonstrates how to use OptKeras, wrapper of Keras and Optuna"
      ]
    },
    {
      "metadata": {
        "id": "U087RvP2l0ew",
        "colab_type": "text"
      },
      "cell_type": "markdown",
      "source": [
        "##  Set up Google Colab environment\n",
        "\n",
        "To run in Google Colab, specify a directory in Google Drive. (GPU is recommended.)\n",
        "\n",
        "To run in an environment other than Google Colab, just skip this code."
      ]
    },
    {
      "metadata": {
        "id": "2M7KQx6HV40_",
        "colab_type": "code",
        "colab": {
          "base_uri": "https://localhost:8080/",
          "height": 714
        },
        "outputId": "2c07d3fb-2fb5-4d57-edf0-8f41fc3e43dc"
      },
      "cell_type": "code",
      "source": [
        "try:\n",
        "    # Mount Google Drive\n",
        "    from google.colab import drive\n",
        "    drive.mount('/content/drive')\n",
        "    import os\n",
        "    # Specify a directory in Google Drive\n",
        "    dir = '/content/drive/My Drive/Colab Notebooks/OptKeras'\n",
        "    os.chdir(dir)    \n",
        "    # Check the environment info\n",
        "    print('## Current working directory: ', os.getcwd())\n",
        "    print('## Check the uptime. (Google Colab reboots every 12 hours)')\n",
        "    !cat /proc/uptime | awk '{print \"Uptime is \" $1 /60 /60 \" hours (\" $1 \" sec)\"}'\n",
        "    print('## Check the GPU info')\n",
        "    !nvidia-smi\n",
        "    print('## Check the OS') \n",
        "    !cat /etc/issue\n",
        "    print('## Check the Python version') \n",
        "    !python --version\n",
        "    print('## Check the memory')\n",
        "    !free -h\n",
        "    print('## Check the disk')\n",
        "    !df -h\n",
        "except:\n",
        "    print('Run the code assuming the environment is not Google Colab.')"
      ],
      "execution_count": 1,
      "outputs": [
        {
          "output_type": "stream",
          "text": [
            "Drive already mounted at /content/drive; to attempt to forcibly remount, call drive.mount(\"/content/drive\", force_remount=True).\n",
            "## Current working directory:  /content/drive/My Drive/Colab Notebooks/OptKeras\n",
            "## Check the uptime. (Google Colab reboots every 12 hours)\n",
            "Uptime is 0.387753 hours (1395.91 sec)\n",
            "## Check the GPU info\n",
            "Wed Feb 13 10:14:02 2019       \n",
            "+-----------------------------------------------------------------------------+\n",
            "| NVIDIA-SMI 410.79       Driver Version: 410.79       CUDA Version: 10.0     |\n",
            "|-------------------------------+----------------------+----------------------+\n",
            "| GPU  Name        Persistence-M| Bus-Id        Disp.A | Volatile Uncorr. ECC |\n",
            "| Fan  Temp  Perf  Pwr:Usage/Cap|         Memory-Usage | GPU-Util  Compute M. |\n",
            "|===============================+======================+======================|\n",
            "|   0  Tesla K80           Off  | 00000000:00:04.0 Off |                    0 |\n",
            "| N/A   34C    P8    29W / 149W |      0MiB / 11441MiB |      0%      Default |\n",
            "+-------------------------------+----------------------+----------------------+\n",
            "                                                                               \n",
            "+-----------------------------------------------------------------------------+\n",
            "| Processes:                                                       GPU Memory |\n",
            "|  GPU       PID   Type   Process name                             Usage      |\n",
            "|=============================================================================|\n",
            "|  No running processes found                                                 |\n",
            "+-----------------------------------------------------------------------------+\n",
            "## Check the OS\n",
            "Ubuntu 18.04.1 LTS \\n \\l\n",
            "\n",
            "## Check the Python version\n",
            "Python 3.6.7\n",
            "## Check the memory\n",
            "              total        used        free      shared  buff/cache   available\n",
            "Mem:            12G        449M        9.4G        904K        2.9G         12G\n",
            "Swap:            0B          0B          0B\n",
            "## Check the disk\n",
            "Filesystem      Size  Used Avail Use% Mounted on\n",
            "overlay         359G   22G  319G   7% /\n",
            "tmpfs           6.4G     0  6.4G   0% /dev\n",
            "tmpfs           6.4G     0  6.4G   0% /sys/fs/cgroup\n",
            "tmpfs           6.4G   12K  6.4G   1% /var/colab\n",
            "/dev/sda1       365G   26G  340G   8% /opt/bin\n",
            "shm             6.0G     0  6.0G   0% /dev/shm\n",
            "tmpfs           6.4G     0  6.4G   0% /sys/firmware\n",
            "drive           200G   39G  162G  20% /content/drive\n"
          ],
          "name": "stdout"
        }
      ]
    },
    {
      "metadata": {
        "id": "it4-DX10mqlB",
        "colab_type": "text"
      },
      "cell_type": "markdown",
      "source": [
        "## Install Optuna 0.7.0"
      ]
    },
    {
      "metadata": {
        "id": "XeNktIMgWNOg",
        "colab_type": "code",
        "colab": {
          "base_uri": "https://localhost:8080/",
          "height": 394
        },
        "outputId": "9d4ed806-78d7-4d19-cb49-e239245c3224"
      },
      "cell_type": "code",
      "source": [
        "!pip install optuna==0.7.0"
      ],
      "execution_count": 2,
      "outputs": [
        {
          "output_type": "stream",
          "text": [
            "Requirement already satisfied: optuna==0.7.0 in /usr/local/lib/python3.6/dist-packages (0.7.0)\n",
            "Requirement already satisfied: colorlog in /usr/local/lib/python3.6/dist-packages (from optuna==0.7.0) (4.0.2)\n",
            "Requirement already satisfied: six in /usr/local/lib/python3.6/dist-packages (from optuna==0.7.0) (1.11.0)\n",
            "Requirement already satisfied: scipy in /usr/local/lib/python3.6/dist-packages (from optuna==0.7.0) (1.1.0)\n",
            "Requirement already satisfied: typing in /usr/local/lib/python3.6/dist-packages (from optuna==0.7.0) (3.6.6)\n",
            "Requirement already satisfied: cliff in /usr/local/lib/python3.6/dist-packages (from optuna==0.7.0) (2.14.0)\n",
            "Requirement already satisfied: sqlalchemy>=1.1.0 in /usr/local/lib/python3.6/dist-packages (from optuna==0.7.0) (1.2.17)\n",
            "Requirement already satisfied: pandas in /usr/local/lib/python3.6/dist-packages (from optuna==0.7.0) (0.22.0)\n",
            "Requirement already satisfied: numpy in /usr/local/lib/python3.6/dist-packages (from optuna==0.7.0) (1.14.6)\n",
            "Requirement already satisfied: PyYAML>=3.12 in /usr/local/lib/python3.6/dist-packages (from cliff->optuna==0.7.0) (3.13)\n",
            "Requirement already satisfied: cmd2!=0.8.3; python_version >= \"3.0\" in /usr/local/lib/python3.6/dist-packages (from cliff->optuna==0.7.0) (0.9.8)\n",
            "Requirement already satisfied: stevedore>=1.20.0 in /usr/local/lib/python3.6/dist-packages (from cliff->optuna==0.7.0) (1.30.0)\n",
            "Requirement already satisfied: pbr!=2.1.0,>=2.0.0 in /usr/local/lib/python3.6/dist-packages (from cliff->optuna==0.7.0) (5.1.2)\n",
            "Requirement already satisfied: pyparsing>=2.1.0 in /usr/local/lib/python3.6/dist-packages (from cliff->optuna==0.7.0) (2.3.1)\n",
            "Requirement already satisfied: PrettyTable<0.8,>=0.7.2 in /usr/local/lib/python3.6/dist-packages (from cliff->optuna==0.7.0) (0.7.2)\n",
            "Requirement already satisfied: pytz>=2011k in /usr/local/lib/python3.6/dist-packages (from pandas->optuna==0.7.0) (2018.9)\n",
            "Requirement already satisfied: python-dateutil>=2 in /usr/local/lib/python3.6/dist-packages (from pandas->optuna==0.7.0) (2.5.3)\n",
            "Requirement already satisfied: attrs>=16.3.0 in /usr/local/lib/python3.6/dist-packages (from cmd2!=0.8.3; python_version >= \"3.0\"->cliff->optuna==0.7.0) (18.2.0)\n",
            "Requirement already satisfied: colorama in /usr/local/lib/python3.6/dist-packages (from cmd2!=0.8.3; python_version >= \"3.0\"->cliff->optuna==0.7.0) (0.4.1)\n",
            "Requirement already satisfied: wcwidth>=0.1.7 in /usr/local/lib/python3.6/dist-packages (from cmd2!=0.8.3; python_version >= \"3.0\"->cliff->optuna==0.7.0) (0.1.7)\n",
            "Requirement already satisfied: pyperclip>=1.5.27 in /usr/local/lib/python3.6/dist-packages (from cmd2!=0.8.3; python_version >= \"3.0\"->cliff->optuna==0.7.0) (1.7.0)\n"
          ],
          "name": "stdout"
        }
      ]
    },
    {
      "metadata": {
        "id": "COmhC_CuoYo9",
        "colab_type": "text"
      },
      "cell_type": "markdown",
      "source": [
        "## Install the latest version of OptKeras"
      ]
    },
    {
      "metadata": {
        "id": "zfIoE_CLvytu",
        "colab_type": "code",
        "colab": {
          "base_uri": "https://localhost:8080/",
          "height": 581
        },
        "outputId": "10291592-119d-461c-eda6-745394f93002"
      },
      "cell_type": "code",
      "source": [
        "!pip install git+https://github.com/Minyus/optkeras.git"
      ],
      "execution_count": 3,
      "outputs": [
        {
          "output_type": "stream",
          "text": [
            "Collecting git+https://github.com/Minyus/optkeras.git\n",
            "  Cloning https://github.com/Minyus/optkeras.git to /tmp/pip-req-build-w1xl0n06\n",
            "Requirement already satisfied (use --upgrade to upgrade): optkeras==0.0.1 from git+https://github.com/Minyus/optkeras.git in /usr/local/lib/python3.6/dist-packages\n",
            "Requirement already satisfied: keras in /usr/local/lib/python3.6/dist-packages (from optkeras==0.0.1) (2.2.4)\n",
            "Requirement already satisfied: optuna in /usr/local/lib/python3.6/dist-packages (from optkeras==0.0.1) (0.7.0)\n",
            "Requirement already satisfied: six>=1.9.0 in /usr/local/lib/python3.6/dist-packages (from keras->optkeras==0.0.1) (1.11.0)\n",
            "Requirement already satisfied: keras-preprocessing>=1.0.5 in /usr/local/lib/python3.6/dist-packages (from keras->optkeras==0.0.1) (1.0.9)\n",
            "Requirement already satisfied: scipy>=0.14 in /usr/local/lib/python3.6/dist-packages (from keras->optkeras==0.0.1) (1.1.0)\n",
            "Requirement already satisfied: keras-applications>=1.0.6 in /usr/local/lib/python3.6/dist-packages (from keras->optkeras==0.0.1) (1.0.7)\n",
            "Requirement already satisfied: h5py in /usr/local/lib/python3.6/dist-packages (from keras->optkeras==0.0.1) (2.8.0)\n",
            "Requirement already satisfied: numpy>=1.9.1 in /usr/local/lib/python3.6/dist-packages (from keras->optkeras==0.0.1) (1.14.6)\n",
            "Requirement already satisfied: pyyaml in /usr/local/lib/python3.6/dist-packages (from keras->optkeras==0.0.1) (3.13)\n",
            "Requirement already satisfied: sqlalchemy>=1.1.0 in /usr/local/lib/python3.6/dist-packages (from optuna->optkeras==0.0.1) (1.2.17)\n",
            "Requirement already satisfied: cliff in /usr/local/lib/python3.6/dist-packages (from optuna->optkeras==0.0.1) (2.14.0)\n",
            "Requirement already satisfied: pandas in /usr/local/lib/python3.6/dist-packages (from optuna->optkeras==0.0.1) (0.22.0)\n",
            "Requirement already satisfied: colorlog in /usr/local/lib/python3.6/dist-packages (from optuna->optkeras==0.0.1) (4.0.2)\n",
            "Requirement already satisfied: typing in /usr/local/lib/python3.6/dist-packages (from optuna->optkeras==0.0.1) (3.6.6)\n",
            "Requirement already satisfied: PrettyTable<0.8,>=0.7.2 in /usr/local/lib/python3.6/dist-packages (from cliff->optuna->optkeras==0.0.1) (0.7.2)\n",
            "Requirement already satisfied: pbr!=2.1.0,>=2.0.0 in /usr/local/lib/python3.6/dist-packages (from cliff->optuna->optkeras==0.0.1) (5.1.2)\n",
            "Requirement already satisfied: stevedore>=1.20.0 in /usr/local/lib/python3.6/dist-packages (from cliff->optuna->optkeras==0.0.1) (1.30.0)\n",
            "Requirement already satisfied: cmd2!=0.8.3; python_version >= \"3.0\" in /usr/local/lib/python3.6/dist-packages (from cliff->optuna->optkeras==0.0.1) (0.9.8)\n",
            "Requirement already satisfied: pyparsing>=2.1.0 in /usr/local/lib/python3.6/dist-packages (from cliff->optuna->optkeras==0.0.1) (2.3.1)\n",
            "Requirement already satisfied: python-dateutil>=2 in /usr/local/lib/python3.6/dist-packages (from pandas->optuna->optkeras==0.0.1) (2.5.3)\n",
            "Requirement already satisfied: pytz>=2011k in /usr/local/lib/python3.6/dist-packages (from pandas->optuna->optkeras==0.0.1) (2018.9)\n",
            "Requirement already satisfied: attrs>=16.3.0 in /usr/local/lib/python3.6/dist-packages (from cmd2!=0.8.3; python_version >= \"3.0\"->cliff->optuna->optkeras==0.0.1) (18.2.0)\n",
            "Requirement already satisfied: colorama in /usr/local/lib/python3.6/dist-packages (from cmd2!=0.8.3; python_version >= \"3.0\"->cliff->optuna->optkeras==0.0.1) (0.4.1)\n",
            "Requirement already satisfied: pyperclip>=1.5.27 in /usr/local/lib/python3.6/dist-packages (from cmd2!=0.8.3; python_version >= \"3.0\"->cliff->optuna->optkeras==0.0.1) (1.7.0)\n",
            "Requirement already satisfied: wcwidth>=0.1.7 in /usr/local/lib/python3.6/dist-packages (from cmd2!=0.8.3; python_version >= \"3.0\"->cliff->optuna->optkeras==0.0.1) (0.1.7)\n",
            "Building wheels for collected packages: optkeras\n",
            "  Building wheel for optkeras (setup.py) ... \u001b[?25ldone\n",
            "\u001b[?25h  Stored in directory: /tmp/pip-ephem-wheel-cache-jyk4qiuj/wheels/ad/c8/9d/67471f9fd7c5fd15961a2e7aa3d15215212d0631ea96df8b5c\n",
            "Successfully built optkeras\n"
          ],
          "name": "stdout"
        }
      ]
    },
    {
      "metadata": {
        "id": "0nikvt-fppC8",
        "colab_type": "text"
      },
      "cell_type": "markdown",
      "source": [
        "## Import modules"
      ]
    },
    {
      "metadata": {
        "id": "i85DbXl0nvmU",
        "colab_type": "code",
        "colab": {
          "base_uri": "https://localhost:8080/",
          "height": 102
        },
        "outputId": "debd07ab-6949-47c6-f640-8afd860d30e0"
      },
      "cell_type": "code",
      "source": [
        "# import Keras\n",
        "from keras.datasets import mnist\n",
        "from keras.models import Sequential\n",
        "from keras.layers import Activation, Flatten, Dense, Conv2D\n",
        "from keras.layers import MaxPooling2D, Dropout, BatchNormalization\n",
        "from keras.preprocessing.image import ImageDataGenerator\n",
        "from keras.optimizers import SGD, Adagrad, RMSprop, Adam, Adadelta, Adamax, Nadam\n",
        "import keras.backend as K\n",
        "\n",
        "import keras\n",
        "print('Keras', keras.__version__)\n",
        "\n",
        "import tensorflow as tf\n",
        "print('TensorFlow', tf.__version__)\n",
        "\n",
        "import numpy as np\n",
        "import pandas as pd\n",
        "\n",
        "# import Optuna and OptKeras after Keras\n",
        "import optuna \n",
        "print('Optuna', optuna.__version__)\n",
        "\n",
        "from optkeras.optkeras import OptKeras\n",
        "import optkeras\n",
        "print('OptKeras', optkeras.__version__)"
      ],
      "execution_count": 4,
      "outputs": [
        {
          "output_type": "stream",
          "text": [
            "Using TensorFlow backend.\n"
          ],
          "name": "stderr"
        },
        {
          "output_type": "stream",
          "text": [
            "Keras 2.2.4\n",
            "TensorFlow 1.13.0-rc1\n",
            "Optuna 0.7.0\n",
            "OptKeras 0.0.1\n"
          ],
          "name": "stdout"
        }
      ]
    },
    {
      "metadata": {
        "id": "mq16j0E4olJO",
        "colab_type": "text"
      },
      "cell_type": "markdown",
      "source": [
        "## Set up Dataset"
      ]
    },
    {
      "metadata": {
        "id": "sfMZGHCO4DrV",
        "colab_type": "code",
        "colab": {}
      },
      "cell_type": "code",
      "source": [
        "dataset_name = 'MNIST'\n",
        "\n",
        "if dataset_name in ['MNIST', 'MNIST_1000samples']:\n",
        "    (x_train, y_train), (x_test, y_test) = mnist.load_data()\n",
        "    \n",
        "    img_x, img_y = x_train.shape[1], x_train.shape[2]\n",
        "    x_train = x_train.reshape(-1, img_x, img_y, 1)\n",
        "    x_test = x_test.reshape(-1, img_x, img_y, 1)   \n",
        "    x_train = x_train.astype('float32')\n",
        "    x_test = x_test.astype('float32')\n",
        "    x_train /= 255\n",
        "    x_test /= 255\n",
        "    num_classes = 10\n",
        "    input_shape = (img_x, img_y, 1)"
      ],
      "execution_count": 0,
      "outputs": []
    },
    {
      "metadata": {
        "id": "D6QEQ_Dk6ReL",
        "colab_type": "code",
        "outputId": "3f60e59c-c75d-4bd4-e012-d341938e0bec",
        "colab": {
          "base_uri": "https://localhost:8080/",
          "height": 102
        }
      },
      "cell_type": "code",
      "source": [
        "print('x_train: ', x_train.shape)\n",
        "print('y_train', y_train.shape)\n",
        "print('x_test: ', x_test.shape)\n",
        "print('y_test', y_test.shape)\n",
        "print('input_shape: ', input_shape )    "
      ],
      "execution_count": 6,
      "outputs": [
        {
          "output_type": "stream",
          "text": [
            "x_train:  (60000, 28, 28, 1)\n",
            "y_train (60000,)\n",
            "x_test:  (10000, 28, 28, 1)\n",
            "y_test (10000,)\n",
            "input_shape:  (28, 28, 1)\n"
          ],
          "name": "stdout"
        }
      ]
    },
    {
      "metadata": {
        "id": "7Wb1ZX2vJDO1",
        "colab_type": "text"
      },
      "cell_type": "markdown",
      "source": [
        "## Try a simple Convolutional Neural Networks model"
      ]
    },
    {
      "metadata": {
        "id": "m5NqIOlKJBpO",
        "colab_type": "code",
        "outputId": "87c5702f-1c08-47ed-fd67-34f44d10d99f",
        "colab": {
          "base_uri": "https://localhost:8080/",
          "height": 241
        }
      },
      "cell_type": "code",
      "source": [
        "model = Sequential()\n",
        "model.add(Conv2D(128, kernel_size = (3, 3), strides = (1, 1),\n",
        "               activation = 'relu', input_shape = input_shape))\n",
        "model.add(Flatten())\n",
        "model.add(Dense(10, activation='softmax'))\n",
        "model.compile(optimizer = Adam(), \n",
        "            loss='sparse_categorical_crossentropy', metrics=['accuracy'])\t\t\t  \n",
        "model.fit(x_train, y_train, validation_data = (x_test, y_test), shuffle = True,\n",
        "          batch_size = 512, epochs = 2) "
      ],
      "execution_count": 7,
      "outputs": [
        {
          "output_type": "stream",
          "text": [
            "WARNING:tensorflow:From /usr/local/lib/python3.6/dist-packages/tensorflow/python/framework/op_def_library.py:263: colocate_with (from tensorflow.python.framework.ops) is deprecated and will be removed in a future version.\n",
            "Instructions for updating:\n",
            "Colocations handled automatically by placer.\n",
            "WARNING:tensorflow:From /usr/local/lib/python3.6/dist-packages/tensorflow/python/ops/math_ops.py:3066: to_int32 (from tensorflow.python.ops.math_ops) is deprecated and will be removed in a future version.\n",
            "Instructions for updating:\n",
            "Use tf.cast instead.\n",
            "Train on 60000 samples, validate on 10000 samples\n",
            "Epoch 1/2\n",
            "60000/60000 [==============================] - 8s 127us/step - loss: 0.3313 - acc: 0.9079 - val_loss: 0.1339 - val_acc: 0.9661\n",
            "Epoch 2/2\n",
            "60000/60000 [==============================] - 6s 95us/step - loss: 0.0986 - acc: 0.9733 - val_loss: 0.0767 - val_acc: 0.9767\n"
          ],
          "name": "stdout"
        },
        {
          "output_type": "execute_result",
          "data": {
            "text/plain": [
              "<keras.callbacks.History at 0x7fddfb450470>"
            ]
          },
          "metadata": {
            "tags": []
          },
          "execution_count": 7
        }
      ]
    },
    {
      "metadata": {
        "id": "JdEzC5grp9ew",
        "colab_type": "text"
      },
      "cell_type": "markdown",
      "source": [
        "## Setup optimization of a Keras model"
      ]
    },
    {
      "metadata": {
        "id": "LfV6iONwVujP",
        "colab_type": "code",
        "colab": {
          "base_uri": "https://localhost:8080/",
          "height": 51
        },
        "outputId": "b5e5c916-e7d7-424a-eb8d-04ecf9505ac7"
      },
      "cell_type": "code",
      "source": [
        "study_name = dataset_name + '_Optimized'\n",
        "\n",
        "ok = OptKeras( \n",
        "    # parameters for optuna.create_study\n",
        "    storage='sqlite:///' + study_name + '_Optuna.db', \n",
        "    sampler=None, \n",
        "    pruner=optuna.pruners.MedianPruner(n_startup_trials=5, n_warmup_steps=0), \n",
        "    study_name = study_name, \n",
        "    direction='minimize', \n",
        "    load_if_exists = True,\n",
        "    # parameters for OptKeras\n",
        "    monitor='val_error', # Either 'val_error' (1 - val_acc) or 'val_loss'\n",
        "    enable_pruning=False, \n",
        "    models_to_keep=1, # Either 1, 0, or -1 (save all models) \n",
        "    verbose=1 )\n",
        "\n",
        "def objective(trial): \n",
        "    epochs = 10\n",
        "    \n",
        "    K.clear_session()   \n",
        "    model = Sequential()\n",
        "    \n",
        "    if trial.suggest_int('Conv', 0, 1):  \n",
        "        # 1 Convolution layer\n",
        "        i = 1\n",
        "        model.add(Conv2D(\n",
        "            filters = int(trial.suggest_discrete_uniform(\n",
        "                'Conv_{}_num_filters_'.format(i), 32, 64, 32)), \n",
        "            kernel_size=tuple([trial.suggest_int(\n",
        "                'Conv_{}_kernel_size'.format(i), 2, 3)] * 2),\n",
        "            activation='relu',\n",
        "            input_shape = input_shape))\n",
        "        model.add(MaxPooling2D(pool_size=tuple([trial.suggest_int(\n",
        "                'Conv_{}_max_pooling_size'.format(i), 2, 3)] * 2)))\n",
        "        model.add(Dropout(trial.suggest_discrete_uniform(\n",
        "                'Conv_{}_dropout_rate'.format(i), 0, 0.5, 0.25) ))\n",
        "        model.add(Flatten())        \n",
        "    else:\n",
        "        model.add(Flatten(input_shape=input_shape))\n",
        "    # 2 Fully connected layers\n",
        "    for i in np.arange(2) + 1:\n",
        "        model.add(Dense(int(trial.suggest_discrete_uniform(\n",
        "            'FC_{}_num_hidden_units'.format(i), 256, 512, 256))))\n",
        "        if trial.suggest_int('FC_{}_batch_normalization'.format(i), 0, 1):\n",
        "            model.add(BatchNormalization())\n",
        "        model.add(Activation(trial.suggest_categorical(\n",
        "            'FC_{}_acivation'.format(i), ['relu'])))\n",
        "        model.add(Dropout(\n",
        "            trial.suggest_discrete_uniform(\n",
        "                'FC_{}_dropout_rate'.format(i), 0, 0.5, 0.25) ))\n",
        "        \n",
        "    # Output layer    \n",
        "    model.add(Dense(num_classes, activation='softmax'))\n",
        "    \n",
        "    optimizer_dict = { \\\n",
        "    #'Adagrad': Adagrad(),\n",
        "    'Adam': Adam() }\n",
        "    \n",
        "    model.compile(optimizer = optimizer_dict[\n",
        "        trial.suggest_categorical('Optimizer', list(optimizer_dict.keys()))],\n",
        "          loss='sparse_categorical_crossentropy', metrics=['accuracy'])    \n",
        "    \n",
        "    if ok.verbose >= 2: model.summary()\n",
        "    \n",
        "    batch_size = trial.suggest_int('Batch_size', 256, 256) \n",
        "    #batch_size = int(trial.suggest_discrete_uniform(\n",
        "    #                  'Batch_size', 256, 512, 256) )\n",
        "    data_augmentation = trial.suggest_int('Data_augmentation', 0, 1)\n",
        "    \n",
        "    if not data_augmentation:\n",
        "        # [Required] Specify callbacks(trial) in fit method\n",
        "        model.fit(x_train, y_train, batch_size = batch_size,\n",
        "                  epochs = epochs, validation_data = (x_test, y_test),\n",
        "                  shuffle = True,\n",
        "                  callbacks = ok.callbacks(trial), \n",
        "                  verbose = ok.keras_verbose )\n",
        "    \n",
        "    if data_augmentation:\n",
        "        # This will do preprocessing and realtime data augmentation:\n",
        "        datagen = ImageDataGenerator(\n",
        "            width_shift_range=[-1, 0, +1], # 1 pixel\n",
        "            height_shift_range=[-1, 0, +1], # 1 pixel\n",
        "            zoom_range=[0.95,1.05],  # set range for random zoom\n",
        "            horizontal_flip=False,  # disable horizontal flip\n",
        "            vertical_flip=False )  # disable vertical flip\n",
        "        datagen.fit(x_train)\n",
        "        # [Required] Specify callbacks(trial) in fit_generator method\n",
        "        model.fit_generator(datagen.flow(x_train, y_train, \n",
        "                                         batch_size=batch_size),\n",
        "                            epochs=epochs, validation_data=(x_test, y_test),\n",
        "                            steps_per_epoch=len(x_train) // batch_size,\n",
        "                            callbacks = ok.callbacks(trial), \n",
        "                            verbose = ok.keras_verbose )  \n",
        "    \n",
        "    # [Required] return trial_best_value (recommended) or latest_value\n",
        "    return ok.trial_best_value"
      ],
      "execution_count": 8,
      "outputs": [
        {
          "output_type": "stream",
          "text": [
            "[I 2019-02-13 10:14:40,446] A new study created with name: MNIST_Optimized\n"
          ],
          "name": "stderr"
        },
        {
          "output_type": "stream",
          "text": [
            "[2019-02-13 10:14:40.478006]  Ready for optimization. (message printed as verbose is set to 1+)\n"
          ],
          "name": "stdout"
        }
      ]
    },
    {
      "metadata": {
        "id": "lUrj6NZWqB8b",
        "colab_type": "text"
      },
      "cell_type": "markdown",
      "source": [
        "## Run optimization trials"
      ]
    },
    {
      "metadata": {
        "id": "GCkV2XqeBMhm",
        "colab_type": "code",
        "colab": {
          "base_uri": "https://localhost:8080/",
          "height": 445
        },
        "outputId": "b465afb2-e305-40ed-b307-48d2539eef78"
      },
      "cell_type": "code",
      "source": [
        "# Set n_trials and/or timeout (in sec) for optimization by Optuna\n",
        "ok.optimize(objective, n_trials=10, timeout = 12 * 60 * 60)"
      ],
      "execution_count": 9,
      "outputs": [
        {
          "output_type": "stream",
          "text": [
            "WARNING:tensorflow:From /usr/local/lib/python3.6/dist-packages/keras/backend/tensorflow_backend.py:3445: calling dropout (from tensorflow.python.ops.nn_ops) with keep_prob is deprecated and will be removed in a future version.\n",
            "Instructions for updating:\n",
            "Please use `rate` instead of `keep_prob`. Rate should be set to `rate = 1 - keep_prob`.\n",
            "[2019-02-13 10:14:41.643727] Latest trial id: None, value: None (None) | Best trial id: None, value: None, parameters: None\n"
          ],
          "name": "stdout"
        },
        {
          "output_type": "stream",
          "text": [
            "[I 2019-02-13 10:17:23,849] Finished a trial resulted in value: 0.040200000000000014. Current best value is 0.040200000000000014 with parameters: {'Batch_size': 256, 'Conv': 0, 'Data_augmentation': 1, 'FC_1_acivation': 'relu', 'FC_1_batch_normalization': 1, 'FC_1_dropout_rate': 0.5, 'FC_1_num_hidden_units': 512.0, 'FC_2_acivation': 'relu', 'FC_2_batch_normalization': 1, 'FC_2_dropout_rate': 0.25, 'FC_2_num_hidden_units': 512.0, 'Optimizer': 'Adam'}.\n"
          ],
          "name": "stderr"
        },
        {
          "output_type": "stream",
          "text": [
            "[2019-02-13 10:17:24.710872] Latest trial id: 1, value: 0.040200000000000014 (TrialState.COMPLETE) | Best trial id: 1, value: 0.040200000000000014, parameters: {'Batch_size': 256, 'Conv': 0, 'Data_augmentation': 1, 'FC_1_acivation': 'relu', 'FC_1_batch_normalization': 1, 'FC_1_dropout_rate': 0.5, 'FC_1_num_hidden_units': 512.0, 'FC_2_acivation': 'relu', 'FC_2_batch_normalization': 1, 'FC_2_dropout_rate': 0.25, 'FC_2_num_hidden_units': 512.0, 'Optimizer': 'Adam'}\n"
          ],
          "name": "stdout"
        },
        {
          "output_type": "stream",
          "text": [
            "[I 2019-02-13 10:20:04,556] Finished a trial resulted in value: 0.03510000000000002. Current best value is 0.03510000000000002 with parameters: {'Batch_size': 256, 'Conv': 0, 'Data_augmentation': 1, 'FC_1_acivation': 'relu', 'FC_1_batch_normalization': 1, 'FC_1_dropout_rate': 0.0, 'FC_1_num_hidden_units': 256.0, 'FC_2_acivation': 'relu', 'FC_2_batch_normalization': 0, 'FC_2_dropout_rate': 0.0, 'FC_2_num_hidden_units': 512.0, 'Optimizer': 'Adam'}.\n"
          ],
          "name": "stderr"
        },
        {
          "output_type": "stream",
          "text": [
            "[2019-02-13 10:20:05.520462] Latest trial id: 2, value: 0.03510000000000002 (TrialState.COMPLETE) | Best trial id: 2, value: 0.03510000000000002, parameters: {'Batch_size': 256, 'Conv': 0, 'Data_augmentation': 1, 'FC_1_acivation': 'relu', 'FC_1_batch_normalization': 1, 'FC_1_dropout_rate': 0.0, 'FC_1_num_hidden_units': 256.0, 'FC_2_acivation': 'relu', 'FC_2_batch_normalization': 0, 'FC_2_dropout_rate': 0.0, 'FC_2_num_hidden_units': 512.0, 'Optimizer': 'Adam'}\n"
          ],
          "name": "stdout"
        },
        {
          "output_type": "stream",
          "text": [
            "[I 2019-02-13 10:20:33,256] Finished a trial resulted in value: 0.01770000000000005. Current best value is 0.01770000000000005 with parameters: {'Batch_size': 256, 'Conv': 0, 'Data_augmentation': 0, 'FC_1_acivation': 'relu', 'FC_1_batch_normalization': 1, 'FC_1_dropout_rate': 0.5, 'FC_1_num_hidden_units': 512.0, 'FC_2_acivation': 'relu', 'FC_2_batch_normalization': 1, 'FC_2_dropout_rate': 0.0, 'FC_2_num_hidden_units': 512.0, 'Optimizer': 'Adam'}.\n"
          ],
          "name": "stderr"
        },
        {
          "output_type": "stream",
          "text": [
            "[2019-02-13 10:20:34.377592] Latest trial id: 3, value: 0.01770000000000005 (TrialState.COMPLETE) | Best trial id: 3, value: 0.01770000000000005, parameters: {'Batch_size': 256, 'Conv': 0, 'Data_augmentation': 0, 'FC_1_acivation': 'relu', 'FC_1_batch_normalization': 1, 'FC_1_dropout_rate': 0.5, 'FC_1_num_hidden_units': 512.0, 'FC_2_acivation': 'relu', 'FC_2_batch_normalization': 1, 'FC_2_dropout_rate': 0.0, 'FC_2_num_hidden_units': 512.0, 'Optimizer': 'Adam'}\n"
          ],
          "name": "stdout"
        },
        {
          "output_type": "stream",
          "text": [
            "[I 2019-02-13 10:21:18,619] Finished a trial resulted in value: 0.009199999999999986. Current best value is 0.009199999999999986 with parameters: {'Batch_size': 256, 'Conv': 1, 'Conv_1_dropout_rate': 0.25, 'Conv_1_kernel_size': 3, 'Conv_1_max_pooling_size': 3, 'Conv_1_num_filters_': 64.0, 'Data_augmentation': 0, 'FC_1_acivation': 'relu', 'FC_1_batch_normalization': 0, 'FC_1_dropout_rate': 0.5, 'FC_1_num_hidden_units': 256.0, 'FC_2_acivation': 'relu', 'FC_2_batch_normalization': 1, 'FC_2_dropout_rate': 0.25, 'FC_2_num_hidden_units': 256.0, 'Optimizer': 'Adam'}.\n"
          ],
          "name": "stderr"
        },
        {
          "output_type": "stream",
          "text": [
            "[2019-02-13 10:21:19.917771] Latest trial id: 4, value: 0.009199999999999986 (TrialState.COMPLETE) | Best trial id: 4, value: 0.009199999999999986, parameters: {'Batch_size': 256, 'Conv': 1, 'Conv_1_dropout_rate': 0.25, 'Conv_1_kernel_size': 3, 'Conv_1_max_pooling_size': 3, 'Conv_1_num_filters_': 64.0, 'Data_augmentation': 0, 'FC_1_acivation': 'relu', 'FC_1_batch_normalization': 0, 'FC_1_dropout_rate': 0.5, 'FC_1_num_hidden_units': 256.0, 'FC_2_acivation': 'relu', 'FC_2_batch_normalization': 1, 'FC_2_dropout_rate': 0.25, 'FC_2_num_hidden_units': 256.0, 'Optimizer': 'Adam'}\n"
          ],
          "name": "stdout"
        },
        {
          "output_type": "stream",
          "text": [
            "[I 2019-02-13 10:24:10,627] Finished a trial resulted in value: 0.021100000000000008. Current best value is 0.009199999999999986 with parameters: {'Batch_size': 256, 'Conv': 1, 'Conv_1_dropout_rate': 0.25, 'Conv_1_kernel_size': 3, 'Conv_1_max_pooling_size': 3, 'Conv_1_num_filters_': 64.0, 'Data_augmentation': 0, 'FC_1_acivation': 'relu', 'FC_1_batch_normalization': 0, 'FC_1_dropout_rate': 0.5, 'FC_1_num_hidden_units': 256.0, 'FC_2_acivation': 'relu', 'FC_2_batch_normalization': 1, 'FC_2_dropout_rate': 0.25, 'FC_2_num_hidden_units': 256.0, 'Optimizer': 'Adam'}.\n"
          ],
          "name": "stderr"
        },
        {
          "output_type": "stream",
          "text": [
            "[2019-02-13 10:24:11.674570] Latest trial id: 5, value: 0.021100000000000008 (TrialState.COMPLETE) | Best trial id: 4, value: 0.009199999999999986, parameters: {'Batch_size': 256, 'Conv': 1, 'Conv_1_dropout_rate': 0.25, 'Conv_1_kernel_size': 3, 'Conv_1_max_pooling_size': 3, 'Conv_1_num_filters_': 64.0, 'Data_augmentation': 0, 'FC_1_acivation': 'relu', 'FC_1_batch_normalization': 0, 'FC_1_dropout_rate': 0.5, 'FC_1_num_hidden_units': 256.0, 'FC_2_acivation': 'relu', 'FC_2_batch_normalization': 1, 'FC_2_dropout_rate': 0.25, 'FC_2_num_hidden_units': 256.0, 'Optimizer': 'Adam'}\n"
          ],
          "name": "stdout"
        },
        {
          "output_type": "stream",
          "text": [
            "[I 2019-02-13 10:24:44,189] Finished a trial resulted in value: 0.010399999999999965. Current best value is 0.009199999999999986 with parameters: {'Batch_size': 256, 'Conv': 1, 'Conv_1_dropout_rate': 0.25, 'Conv_1_kernel_size': 3, 'Conv_1_max_pooling_size': 3, 'Conv_1_num_filters_': 64.0, 'Data_augmentation': 0, 'FC_1_acivation': 'relu', 'FC_1_batch_normalization': 0, 'FC_1_dropout_rate': 0.5, 'FC_1_num_hidden_units': 256.0, 'FC_2_acivation': 'relu', 'FC_2_batch_normalization': 1, 'FC_2_dropout_rate': 0.25, 'FC_2_num_hidden_units': 256.0, 'Optimizer': 'Adam'}.\n"
          ],
          "name": "stderr"
        },
        {
          "output_type": "stream",
          "text": [
            "[2019-02-13 10:24:45.174690] Latest trial id: 6, value: 0.010399999999999965 (TrialState.COMPLETE) | Best trial id: 4, value: 0.009199999999999986, parameters: {'Batch_size': 256, 'Conv': 1, 'Conv_1_dropout_rate': 0.25, 'Conv_1_kernel_size': 3, 'Conv_1_max_pooling_size': 3, 'Conv_1_num_filters_': 64.0, 'Data_augmentation': 0, 'FC_1_acivation': 'relu', 'FC_1_batch_normalization': 0, 'FC_1_dropout_rate': 0.5, 'FC_1_num_hidden_units': 256.0, 'FC_2_acivation': 'relu', 'FC_2_batch_normalization': 1, 'FC_2_dropout_rate': 0.25, 'FC_2_num_hidden_units': 256.0, 'Optimizer': 'Adam'}\n"
          ],
          "name": "stdout"
        },
        {
          "output_type": "stream",
          "text": [
            "[I 2019-02-13 10:25:09,602] Finished a trial resulted in value: 0.01880000000000004. Current best value is 0.009199999999999986 with parameters: {'Batch_size': 256, 'Conv': 1, 'Conv_1_dropout_rate': 0.25, 'Conv_1_kernel_size': 3, 'Conv_1_max_pooling_size': 3, 'Conv_1_num_filters_': 64.0, 'Data_augmentation': 0, 'FC_1_acivation': 'relu', 'FC_1_batch_normalization': 0, 'FC_1_dropout_rate': 0.5, 'FC_1_num_hidden_units': 256.0, 'FC_2_acivation': 'relu', 'FC_2_batch_normalization': 1, 'FC_2_dropout_rate': 0.25, 'FC_2_num_hidden_units': 256.0, 'Optimizer': 'Adam'}.\n"
          ],
          "name": "stderr"
        },
        {
          "output_type": "stream",
          "text": [
            "[2019-02-13 10:25:10.909303] Latest trial id: 7, value: 0.01880000000000004 (TrialState.COMPLETE) | Best trial id: 4, value: 0.009199999999999986, parameters: {'Batch_size': 256, 'Conv': 1, 'Conv_1_dropout_rate': 0.25, 'Conv_1_kernel_size': 3, 'Conv_1_max_pooling_size': 3, 'Conv_1_num_filters_': 64.0, 'Data_augmentation': 0, 'FC_1_acivation': 'relu', 'FC_1_batch_normalization': 0, 'FC_1_dropout_rate': 0.5, 'FC_1_num_hidden_units': 256.0, 'FC_2_acivation': 'relu', 'FC_2_batch_normalization': 1, 'FC_2_dropout_rate': 0.25, 'FC_2_num_hidden_units': 256.0, 'Optimizer': 'Adam'}\n"
          ],
          "name": "stdout"
        },
        {
          "output_type": "stream",
          "text": [
            "[I 2019-02-13 10:25:34,876] Finished a trial resulted in value: 0.017800000000000038. Current best value is 0.009199999999999986 with parameters: {'Batch_size': 256, 'Conv': 1, 'Conv_1_dropout_rate': 0.25, 'Conv_1_kernel_size': 3, 'Conv_1_max_pooling_size': 3, 'Conv_1_num_filters_': 64.0, 'Data_augmentation': 0, 'FC_1_acivation': 'relu', 'FC_1_batch_normalization': 0, 'FC_1_dropout_rate': 0.5, 'FC_1_num_hidden_units': 256.0, 'FC_2_acivation': 'relu', 'FC_2_batch_normalization': 1, 'FC_2_dropout_rate': 0.25, 'FC_2_num_hidden_units': 256.0, 'Optimizer': 'Adam'}.\n"
          ],
          "name": "stderr"
        },
        {
          "output_type": "stream",
          "text": [
            "[2019-02-13 10:25:35.909683] Latest trial id: 8, value: 0.017800000000000038 (TrialState.COMPLETE) | Best trial id: 4, value: 0.009199999999999986, parameters: {'Batch_size': 256, 'Conv': 1, 'Conv_1_dropout_rate': 0.25, 'Conv_1_kernel_size': 3, 'Conv_1_max_pooling_size': 3, 'Conv_1_num_filters_': 64.0, 'Data_augmentation': 0, 'FC_1_acivation': 'relu', 'FC_1_batch_normalization': 0, 'FC_1_dropout_rate': 0.5, 'FC_1_num_hidden_units': 256.0, 'FC_2_acivation': 'relu', 'FC_2_batch_normalization': 1, 'FC_2_dropout_rate': 0.25, 'FC_2_num_hidden_units': 256.0, 'Optimizer': 'Adam'}\n"
          ],
          "name": "stdout"
        },
        {
          "output_type": "stream",
          "text": [
            "[I 2019-02-13 10:25:58,504] Finished a trial resulted in value: 0.02429999999999999. Current best value is 0.009199999999999986 with parameters: {'Batch_size': 256, 'Conv': 1, 'Conv_1_dropout_rate': 0.25, 'Conv_1_kernel_size': 3, 'Conv_1_max_pooling_size': 3, 'Conv_1_num_filters_': 64.0, 'Data_augmentation': 0, 'FC_1_acivation': 'relu', 'FC_1_batch_normalization': 0, 'FC_1_dropout_rate': 0.5, 'FC_1_num_hidden_units': 256.0, 'FC_2_acivation': 'relu', 'FC_2_batch_normalization': 1, 'FC_2_dropout_rate': 0.25, 'FC_2_num_hidden_units': 256.0, 'Optimizer': 'Adam'}.\n"
          ],
          "name": "stderr"
        },
        {
          "output_type": "stream",
          "text": [
            "[2019-02-13 10:26:00.252350] Latest trial id: 9, value: 0.02429999999999999 (TrialState.COMPLETE) | Best trial id: 4, value: 0.009199999999999986, parameters: {'Batch_size': 256, 'Conv': 1, 'Conv_1_dropout_rate': 0.25, 'Conv_1_kernel_size': 3, 'Conv_1_max_pooling_size': 3, 'Conv_1_num_filters_': 64.0, 'Data_augmentation': 0, 'FC_1_acivation': 'relu', 'FC_1_batch_normalization': 0, 'FC_1_dropout_rate': 0.5, 'FC_1_num_hidden_units': 256.0, 'FC_2_acivation': 'relu', 'FC_2_batch_normalization': 1, 'FC_2_dropout_rate': 0.25, 'FC_2_num_hidden_units': 256.0, 'Optimizer': 'Adam'}\n"
          ],
          "name": "stdout"
        },
        {
          "output_type": "stream",
          "text": [
            "[I 2019-02-13 10:28:51,146] Finished a trial resulted in value: 0.02059999999999995. Current best value is 0.009199999999999986 with parameters: {'Batch_size': 256, 'Conv': 1, 'Conv_1_dropout_rate': 0.25, 'Conv_1_kernel_size': 3, 'Conv_1_max_pooling_size': 3, 'Conv_1_num_filters_': 64.0, 'Data_augmentation': 0, 'FC_1_acivation': 'relu', 'FC_1_batch_normalization': 0, 'FC_1_dropout_rate': 0.5, 'FC_1_num_hidden_units': 256.0, 'FC_2_acivation': 'relu', 'FC_2_batch_normalization': 1, 'FC_2_dropout_rate': 0.25, 'FC_2_num_hidden_units': 256.0, 'Optimizer': 'Adam'}.\n"
          ],
          "name": "stderr"
        },
        {
          "output_type": "stream",
          "text": [
            "[2019-02-13 10:28:51.254180] Latest trial id: 10, value: 0.02059999999999995 (TrialState.COMPLETE) | Best trial id: 4, value: 0.009199999999999986, parameters: {'Batch_size': 256, 'Conv': 1, 'Conv_1_dropout_rate': 0.25, 'Conv_1_kernel_size': 3, 'Conv_1_max_pooling_size': 3, 'Conv_1_num_filters_': 64.0, 'Data_augmentation': 0, 'FC_1_acivation': 'relu', 'FC_1_batch_normalization': 0, 'FC_1_dropout_rate': 0.5, 'FC_1_num_hidden_units': 256.0, 'FC_2_acivation': 'relu', 'FC_2_batch_normalization': 1, 'FC_2_dropout_rate': 0.25, 'FC_2_num_hidden_units': 256.0, 'Optimizer': 'Adam'}\n"
          ],
          "name": "stdout"
        }
      ]
    },
    {
      "metadata": {
        "id": "auoF6dt0sWCl",
        "colab_type": "text"
      },
      "cell_type": "markdown",
      "source": [
        "## Check the results"
      ]
    },
    {
      "metadata": {
        "id": "6y5SKUF9qXlp",
        "colab_type": "code",
        "outputId": "fdb728e6-31fa-4bc1-c595-bb8bd36a6f97",
        "colab": {
          "base_uri": "https://localhost:8080/",
          "height": 340
        }
      },
      "cell_type": "code",
      "source": [
        "# OptKeras best_trial returns \n",
        "print('Best trial id: ', ok.best_trial.trial_id)\n",
        "print('Best value:', ok.best_trial.value)\n",
        "print('Best params: ')\n",
        "ok.best_trial.params"
      ],
      "execution_count": 10,
      "outputs": [
        {
          "output_type": "stream",
          "text": [
            "Best trial id:  4\n",
            "Best value: 0.009199999999999986\n",
            "Best params: \n"
          ],
          "name": "stdout"
        },
        {
          "output_type": "execute_result",
          "data": {
            "text/plain": [
              "{'Batch_size': 256,\n",
              " 'Conv': 1,\n",
              " 'Conv_1_dropout_rate': 0.25,\n",
              " 'Conv_1_kernel_size': 3,\n",
              " 'Conv_1_max_pooling_size': 3,\n",
              " 'Conv_1_num_filters_': 64.0,\n",
              " 'Data_augmentation': 0,\n",
              " 'FC_1_acivation': 'relu',\n",
              " 'FC_1_batch_normalization': 0,\n",
              " 'FC_1_dropout_rate': 0.5,\n",
              " 'FC_1_num_hidden_units': 256.0,\n",
              " 'FC_2_acivation': 'relu',\n",
              " 'FC_2_batch_normalization': 1,\n",
              " 'FC_2_dropout_rate': 0.25,\n",
              " 'FC_2_num_hidden_units': 256.0,\n",
              " 'Optimizer': 'Adam'}"
            ]
          },
          "metadata": {
            "tags": []
          },
          "execution_count": 10
        }
      ]
    },
    {
      "metadata": {
        "id": "_3VjUGT7AVqO",
        "colab_type": "code",
        "colab": {
          "base_uri": "https://localhost:8080/",
          "height": 289
        },
        "outputId": "10a306a6-dfe0-429e-d70b-20ce6f9b3436"
      },
      "cell_type": "code",
      "source": [
        "\"\"\"\n",
        "Alternatively, you can access Optuna's study object to, for example, \n",
        "get the best parameters as well.\n",
        "Please note that study.best_trial returns error if optimization trials \n",
        "were not completed (e.g. if you interupt execution) as of Optuna 0.7.0, \n",
        "so usage of OptKeras is recommended.\n",
        "\"\"\"\n",
        "study = ok.study\n",
        "study.best_trial.params "
      ],
      "execution_count": 11,
      "outputs": [
        {
          "output_type": "execute_result",
          "data": {
            "text/plain": [
              "{'Batch_size': 256,\n",
              " 'Conv': 1,\n",
              " 'Conv_1_dropout_rate': 0.25,\n",
              " 'Conv_1_kernel_size': 3,\n",
              " 'Conv_1_max_pooling_size': 3,\n",
              " 'Conv_1_num_filters_': 64.0,\n",
              " 'Data_augmentation': 0,\n",
              " 'FC_1_acivation': 'relu',\n",
              " 'FC_1_batch_normalization': 0,\n",
              " 'FC_1_dropout_rate': 0.5,\n",
              " 'FC_1_num_hidden_units': 256.0,\n",
              " 'FC_2_acivation': 'relu',\n",
              " 'FC_2_batch_normalization': 1,\n",
              " 'FC_2_dropout_rate': 0.25,\n",
              " 'FC_2_num_hidden_units': 256.0,\n",
              " 'Optimizer': 'Adam'}"
            ]
          },
          "metadata": {
            "tags": []
          },
          "execution_count": 11
        }
      ]
    },
    {
      "metadata": {
        "id": "uTGnnvpDF5IE",
        "colab_type": "code",
        "colab": {
          "base_uri": "https://localhost:8080/",
          "height": 547
        },
        "outputId": "7cac7cd7-8b73-4497-96c6-24564aa60a65"
      },
      "cell_type": "code",
      "source": [
        "## Check the Optuna CSV log file \n",
        "pd.options.display.max_rows = 8 # limit rows to display\n",
        "print('Data Frame read from', ok.optuna_log_file_path, '\\n')\n",
        "pd.read_csv(ok.optuna_log_file_path)"
      ],
      "execution_count": 12,
      "outputs": [
        {
          "output_type": "stream",
          "text": [
            "Data Frame read from MNIST_Optimized_Optuna.csv \n",
            "\n"
          ],
          "name": "stdout"
        },
        {
          "output_type": "execute_result",
          "data": {
            "text/html": [
              "<div>\n",
              "<style scoped>\n",
              "    .dataframe tbody tr th:only-of-type {\n",
              "        vertical-align: middle;\n",
              "    }\n",
              "\n",
              "    .dataframe tbody tr th {\n",
              "        vertical-align: top;\n",
              "    }\n",
              "\n",
              "    .dataframe thead th {\n",
              "        text-align: right;\n",
              "    }\n",
              "</style>\n",
              "<table border=\"1\" class=\"dataframe\">\n",
              "  <thead>\n",
              "    <tr style=\"text-align: right;\">\n",
              "      <th></th>\n",
              "      <th>trial_id</th>\n",
              "      <th>state</th>\n",
              "      <th>value</th>\n",
              "      <th>datetime_start</th>\n",
              "      <th>datetime_complete</th>\n",
              "      <th>Batch_size</th>\n",
              "      <th>Conv</th>\n",
              "      <th>Conv_1_dropout_rate</th>\n",
              "      <th>Conv_1_kernel_size</th>\n",
              "      <th>Conv_1_max_pooling_size</th>\n",
              "      <th>...</th>\n",
              "      <th>_Datetime_epoch_begin</th>\n",
              "      <th>_Datetime_epoch_end</th>\n",
              "      <th>_Monitor</th>\n",
              "      <th>_Trial_id</th>\n",
              "      <th>acc</th>\n",
              "      <th>error</th>\n",
              "      <th>loss</th>\n",
              "      <th>val_acc</th>\n",
              "      <th>val_error</th>\n",
              "      <th>val_loss</th>\n",
              "    </tr>\n",
              "  </thead>\n",
              "  <tbody>\n",
              "    <tr>\n",
              "      <th>0</th>\n",
              "      <td>1</td>\n",
              "      <td>TrialState.COMPLETE</td>\n",
              "      <td>0.0402</td>\n",
              "      <td>2019-02-13 10:14:40.506402</td>\n",
              "      <td>2019-02-13 10:17:23.806408</td>\n",
              "      <td>256</td>\n",
              "      <td>0</td>\n",
              "      <td>NaN</td>\n",
              "      <td>NaN</td>\n",
              "      <td>NaN</td>\n",
              "      <td>...</td>\n",
              "      <td>2019-02-13 10:14:42.603022</td>\n",
              "      <td>2019-02-13 10:14:59.145381</td>\n",
              "      <td>val_error</td>\n",
              "      <td>1</td>\n",
              "      <td>0.966859</td>\n",
              "      <td>0.138989</td>\n",
              "      <td>0.108857</td>\n",
              "      <td>0.9849</td>\n",
              "      <td>0.0402</td>\n",
              "      <td>0.044857</td>\n",
              "    </tr>\n",
              "    <tr>\n",
              "      <th>1</th>\n",
              "      <td>2</td>\n",
              "      <td>TrialState.COMPLETE</td>\n",
              "      <td>0.0351</td>\n",
              "      <td>2019-02-13 10:17:23.859359</td>\n",
              "      <td>2019-02-13 10:20:04.501119</td>\n",
              "      <td>256</td>\n",
              "      <td>0</td>\n",
              "      <td>NaN</td>\n",
              "      <td>NaN</td>\n",
              "      <td>NaN</td>\n",
              "      <td>...</td>\n",
              "      <td>2019-02-13 10:17:25.409510</td>\n",
              "      <td>2019-02-13 10:17:41.593029</td>\n",
              "      <td>val_error</td>\n",
              "      <td>2</td>\n",
              "      <td>0.985170</td>\n",
              "      <td>0.093333</td>\n",
              "      <td>0.047310</td>\n",
              "      <td>0.9846</td>\n",
              "      <td>0.0351</td>\n",
              "      <td>0.048114</td>\n",
              "    </tr>\n",
              "    <tr>\n",
              "      <th>2</th>\n",
              "      <td>3</td>\n",
              "      <td>TrialState.COMPLETE</td>\n",
              "      <td>0.0177</td>\n",
              "      <td>2019-02-13 10:20:04.569554</td>\n",
              "      <td>2019-02-13 10:20:33.211843</td>\n",
              "      <td>256</td>\n",
              "      <td>0</td>\n",
              "      <td>NaN</td>\n",
              "      <td>NaN</td>\n",
              "      <td>NaN</td>\n",
              "      <td>...</td>\n",
              "      <td>2019-02-13 10:20:30.641364</td>\n",
              "      <td>2019-02-13 10:20:32.918594</td>\n",
              "      <td>val_error</td>\n",
              "      <td>3</td>\n",
              "      <td>0.984500</td>\n",
              "      <td>0.015500</td>\n",
              "      <td>0.046144</td>\n",
              "      <td>0.9823</td>\n",
              "      <td>0.0177</td>\n",
              "      <td>0.058114</td>\n",
              "    </tr>\n",
              "    <tr>\n",
              "      <th>3</th>\n",
              "      <td>4</td>\n",
              "      <td>TrialState.COMPLETE</td>\n",
              "      <td>0.0092</td>\n",
              "      <td>2019-02-13 10:20:33.265991</td>\n",
              "      <td>2019-02-13 10:21:18.569915</td>\n",
              "      <td>256</td>\n",
              "      <td>1</td>\n",
              "      <td>0.25</td>\n",
              "      <td>3.0</td>\n",
              "      <td>3.0</td>\n",
              "      <td>...</td>\n",
              "      <td>2019-02-13 10:21:14.369394</td>\n",
              "      <td>2019-02-13 10:21:18.143973</td>\n",
              "      <td>val_error</td>\n",
              "      <td>4</td>\n",
              "      <td>0.990067</td>\n",
              "      <td>0.009933</td>\n",
              "      <td>0.031785</td>\n",
              "      <td>0.9908</td>\n",
              "      <td>0.0092</td>\n",
              "      <td>0.030390</td>\n",
              "    </tr>\n",
              "    <tr>\n",
              "      <th>...</th>\n",
              "      <td>...</td>\n",
              "      <td>...</td>\n",
              "      <td>...</td>\n",
              "      <td>...</td>\n",
              "      <td>...</td>\n",
              "      <td>...</td>\n",
              "      <td>...</td>\n",
              "      <td>...</td>\n",
              "      <td>...</td>\n",
              "      <td>...</td>\n",
              "      <td>...</td>\n",
              "      <td>...</td>\n",
              "      <td>...</td>\n",
              "      <td>...</td>\n",
              "      <td>...</td>\n",
              "      <td>...</td>\n",
              "      <td>...</td>\n",
              "      <td>...</td>\n",
              "      <td>...</td>\n",
              "      <td>...</td>\n",
              "      <td>...</td>\n",
              "    </tr>\n",
              "    <tr>\n",
              "      <th>6</th>\n",
              "      <td>7</td>\n",
              "      <td>TrialState.COMPLETE</td>\n",
              "      <td>0.0188</td>\n",
              "      <td>2019-02-13 10:24:44.198139</td>\n",
              "      <td>2019-02-13 10:25:09.546023</td>\n",
              "      <td>256</td>\n",
              "      <td>0</td>\n",
              "      <td>NaN</td>\n",
              "      <td>NaN</td>\n",
              "      <td>NaN</td>\n",
              "      <td>...</td>\n",
              "      <td>2019-02-13 10:25:07.235147</td>\n",
              "      <td>2019-02-13 10:25:09.181546</td>\n",
              "      <td>val_error</td>\n",
              "      <td>7</td>\n",
              "      <td>0.992600</td>\n",
              "      <td>0.007400</td>\n",
              "      <td>0.022032</td>\n",
              "      <td>0.9812</td>\n",
              "      <td>0.0188</td>\n",
              "      <td>0.063693</td>\n",
              "    </tr>\n",
              "    <tr>\n",
              "      <th>7</th>\n",
              "      <td>8</td>\n",
              "      <td>TrialState.COMPLETE</td>\n",
              "      <td>0.0178</td>\n",
              "      <td>2019-02-13 10:25:09.612843</td>\n",
              "      <td>2019-02-13 10:25:34.816422</td>\n",
              "      <td>256</td>\n",
              "      <td>0</td>\n",
              "      <td>NaN</td>\n",
              "      <td>NaN</td>\n",
              "      <td>NaN</td>\n",
              "      <td>...</td>\n",
              "      <td>2019-02-13 10:25:32.469296</td>\n",
              "      <td>2019-02-13 10:25:34.366723</td>\n",
              "      <td>val_error</td>\n",
              "      <td>8</td>\n",
              "      <td>0.996067</td>\n",
              "      <td>0.003933</td>\n",
              "      <td>0.012279</td>\n",
              "      <td>0.9822</td>\n",
              "      <td>0.0178</td>\n",
              "      <td>0.063992</td>\n",
              "    </tr>\n",
              "    <tr>\n",
              "      <th>8</th>\n",
              "      <td>9</td>\n",
              "      <td>TrialState.COMPLETE</td>\n",
              "      <td>0.0243</td>\n",
              "      <td>2019-02-13 10:25:34.882716</td>\n",
              "      <td>2019-02-13 10:25:58.442689</td>\n",
              "      <td>256</td>\n",
              "      <td>0</td>\n",
              "      <td>NaN</td>\n",
              "      <td>NaN</td>\n",
              "      <td>NaN</td>\n",
              "      <td>...</td>\n",
              "      <td>2019-02-13 10:25:56.290366</td>\n",
              "      <td>2019-02-13 10:25:58.073696</td>\n",
              "      <td>val_error</td>\n",
              "      <td>9</td>\n",
              "      <td>0.997567</td>\n",
              "      <td>0.002433</td>\n",
              "      <td>0.008477</td>\n",
              "      <td>0.9757</td>\n",
              "      <td>0.0243</td>\n",
              "      <td>0.092641</td>\n",
              "    </tr>\n",
              "    <tr>\n",
              "      <th>9</th>\n",
              "      <td>10</td>\n",
              "      <td>TrialState.COMPLETE</td>\n",
              "      <td>0.0206</td>\n",
              "      <td>2019-02-13 10:25:58.514614</td>\n",
              "      <td>2019-02-13 10:28:51.081418</td>\n",
              "      <td>256</td>\n",
              "      <td>1</td>\n",
              "      <td>0.00</td>\n",
              "      <td>3.0</td>\n",
              "      <td>3.0</td>\n",
              "      <td>...</td>\n",
              "      <td>2019-02-13 10:26:01.156709</td>\n",
              "      <td>2019-02-13 10:26:18.801302</td>\n",
              "      <td>val_error</td>\n",
              "      <td>10</td>\n",
              "      <td>0.984333</td>\n",
              "      <td>0.102147</td>\n",
              "      <td>0.051120</td>\n",
              "      <td>0.9870</td>\n",
              "      <td>0.0206</td>\n",
              "      <td>0.041684</td>\n",
              "    </tr>\n",
              "  </tbody>\n",
              "</table>\n",
              "<p>10 rows × 31 columns</p>\n",
              "</div>"
            ],
            "text/plain": [
              "    trial_id                state   value              datetime_start  \\\n",
              "0          1  TrialState.COMPLETE  0.0402  2019-02-13 10:14:40.506402   \n",
              "1          2  TrialState.COMPLETE  0.0351  2019-02-13 10:17:23.859359   \n",
              "2          3  TrialState.COMPLETE  0.0177  2019-02-13 10:20:04.569554   \n",
              "3          4  TrialState.COMPLETE  0.0092  2019-02-13 10:20:33.265991   \n",
              "..       ...                  ...     ...                         ...   \n",
              "6          7  TrialState.COMPLETE  0.0188  2019-02-13 10:24:44.198139   \n",
              "7          8  TrialState.COMPLETE  0.0178  2019-02-13 10:25:09.612843   \n",
              "8          9  TrialState.COMPLETE  0.0243  2019-02-13 10:25:34.882716   \n",
              "9         10  TrialState.COMPLETE  0.0206  2019-02-13 10:25:58.514614   \n",
              "\n",
              "             datetime_complete  Batch_size  Conv  Conv_1_dropout_rate  \\\n",
              "0   2019-02-13 10:17:23.806408         256     0                  NaN   \n",
              "1   2019-02-13 10:20:04.501119         256     0                  NaN   \n",
              "2   2019-02-13 10:20:33.211843         256     0                  NaN   \n",
              "3   2019-02-13 10:21:18.569915         256     1                 0.25   \n",
              "..                         ...         ...   ...                  ...   \n",
              "6   2019-02-13 10:25:09.546023         256     0                  NaN   \n",
              "7   2019-02-13 10:25:34.816422         256     0                  NaN   \n",
              "8   2019-02-13 10:25:58.442689         256     0                  NaN   \n",
              "9   2019-02-13 10:28:51.081418         256     1                 0.00   \n",
              "\n",
              "    Conv_1_kernel_size  Conv_1_max_pooling_size    ...     \\\n",
              "0                  NaN                      NaN    ...      \n",
              "1                  NaN                      NaN    ...      \n",
              "2                  NaN                      NaN    ...      \n",
              "3                  3.0                      3.0    ...      \n",
              "..                 ...                      ...    ...      \n",
              "6                  NaN                      NaN    ...      \n",
              "7                  NaN                      NaN    ...      \n",
              "8                  NaN                      NaN    ...      \n",
              "9                  3.0                      3.0    ...      \n",
              "\n",
              "         _Datetime_epoch_begin         _Datetime_epoch_end   _Monitor  \\\n",
              "0   2019-02-13 10:14:42.603022  2019-02-13 10:14:59.145381  val_error   \n",
              "1   2019-02-13 10:17:25.409510  2019-02-13 10:17:41.593029  val_error   \n",
              "2   2019-02-13 10:20:30.641364  2019-02-13 10:20:32.918594  val_error   \n",
              "3   2019-02-13 10:21:14.369394  2019-02-13 10:21:18.143973  val_error   \n",
              "..                         ...                         ...        ...   \n",
              "6   2019-02-13 10:25:07.235147  2019-02-13 10:25:09.181546  val_error   \n",
              "7   2019-02-13 10:25:32.469296  2019-02-13 10:25:34.366723  val_error   \n",
              "8   2019-02-13 10:25:56.290366  2019-02-13 10:25:58.073696  val_error   \n",
              "9   2019-02-13 10:26:01.156709  2019-02-13 10:26:18.801302  val_error   \n",
              "\n",
              "    _Trial_id       acc     error      loss  val_acc  val_error  val_loss  \n",
              "0           1  0.966859  0.138989  0.108857   0.9849     0.0402  0.044857  \n",
              "1           2  0.985170  0.093333  0.047310   0.9846     0.0351  0.048114  \n",
              "2           3  0.984500  0.015500  0.046144   0.9823     0.0177  0.058114  \n",
              "3           4  0.990067  0.009933  0.031785   0.9908     0.0092  0.030390  \n",
              "..        ...       ...       ...       ...      ...        ...       ...  \n",
              "6           7  0.992600  0.007400  0.022032   0.9812     0.0188  0.063693  \n",
              "7           8  0.996067  0.003933  0.012279   0.9822     0.0178  0.063992  \n",
              "8           9  0.997567  0.002433  0.008477   0.9757     0.0243  0.092641  \n",
              "9          10  0.984333  0.102147  0.051120   0.9870     0.0206  0.041684  \n",
              "\n",
              "[10 rows x 31 columns]"
            ]
          },
          "metadata": {
            "tags": []
          },
          "execution_count": 12
        }
      ]
    },
    {
      "metadata": {
        "id": "aECKs3b8bR6o",
        "colab_type": "code",
        "colab": {
          "base_uri": "https://localhost:8080/",
          "height": 391
        },
        "outputId": "acc20886-f757-45c8-f621-7d850cda4e52"
      },
      "cell_type": "code",
      "source": [
        "## Check the Keras CSV log file\n",
        "\n",
        "pd.options.display.max_rows = 8 # limit rows to display\n",
        "print('Data Frame read from', ok.keras_log_file_path, '\\n')\n",
        "pd.read_csv(ok.keras_log_file_path)"
      ],
      "execution_count": 13,
      "outputs": [
        {
          "output_type": "stream",
          "text": [
            "Data Frame read from MNIST_Optimized_Keras.csv \n",
            "\n"
          ],
          "name": "stdout"
        },
        {
          "output_type": "execute_result",
          "data": {
            "text/html": [
              "<div>\n",
              "<style scoped>\n",
              "    .dataframe tbody tr th:only-of-type {\n",
              "        vertical-align: middle;\n",
              "    }\n",
              "\n",
              "    .dataframe tbody tr th {\n",
              "        vertical-align: top;\n",
              "    }\n",
              "\n",
              "    .dataframe thead th {\n",
              "        text-align: right;\n",
              "    }\n",
              "</style>\n",
              "<table border=\"1\" class=\"dataframe\">\n",
              "  <thead>\n",
              "    <tr style=\"text-align: right;\">\n",
              "      <th></th>\n",
              "      <th>epoch</th>\n",
              "      <th>_Datetime_epoch_begin</th>\n",
              "      <th>_Datetime_epoch_end</th>\n",
              "      <th>_Monitor</th>\n",
              "      <th>_Trial_id</th>\n",
              "      <th>acc</th>\n",
              "      <th>error</th>\n",
              "      <th>loss</th>\n",
              "      <th>val_acc</th>\n",
              "      <th>val_error</th>\n",
              "      <th>val_loss</th>\n",
              "    </tr>\n",
              "  </thead>\n",
              "  <tbody>\n",
              "    <tr>\n",
              "      <th>0</th>\n",
              "      <td>0</td>\n",
              "      <td>2019-02-13 10:14:42.603022</td>\n",
              "      <td>2019-02-13 10:14:59.145381</td>\n",
              "      <td>val_error</td>\n",
              "      <td>1</td>\n",
              "      <td>0.861011</td>\n",
              "      <td>0.138989</td>\n",
              "      <td>0.443171</td>\n",
              "      <td>0.9598</td>\n",
              "      <td>0.0402</td>\n",
              "      <td>0.125782</td>\n",
              "    </tr>\n",
              "    <tr>\n",
              "      <th>1</th>\n",
              "      <td>1</td>\n",
              "      <td>2019-02-13 10:14:42.603022</td>\n",
              "      <td>2019-02-13 10:14:59.145381</td>\n",
              "      <td>val_error</td>\n",
              "      <td>1</td>\n",
              "      <td>0.930604</td>\n",
              "      <td>0.138989</td>\n",
              "      <td>0.225478</td>\n",
              "      <td>0.9728</td>\n",
              "      <td>0.0402</td>\n",
              "      <td>0.087606</td>\n",
              "    </tr>\n",
              "    <tr>\n",
              "      <th>2</th>\n",
              "      <td>2</td>\n",
              "      <td>2019-02-13 10:14:42.603022</td>\n",
              "      <td>2019-02-13 10:14:59.145381</td>\n",
              "      <td>val_error</td>\n",
              "      <td>1</td>\n",
              "      <td>0.943978</td>\n",
              "      <td>0.138989</td>\n",
              "      <td>0.180567</td>\n",
              "      <td>0.9778</td>\n",
              "      <td>0.0402</td>\n",
              "      <td>0.071474</td>\n",
              "    </tr>\n",
              "    <tr>\n",
              "      <th>3</th>\n",
              "      <td>3</td>\n",
              "      <td>2019-02-13 10:14:42.603022</td>\n",
              "      <td>2019-02-13 10:14:59.145381</td>\n",
              "      <td>val_error</td>\n",
              "      <td>1</td>\n",
              "      <td>0.951727</td>\n",
              "      <td>0.138989</td>\n",
              "      <td>0.156699</td>\n",
              "      <td>0.9788</td>\n",
              "      <td>0.0402</td>\n",
              "      <td>0.061810</td>\n",
              "    </tr>\n",
              "    <tr>\n",
              "      <th>...</th>\n",
              "      <td>...</td>\n",
              "      <td>...</td>\n",
              "      <td>...</td>\n",
              "      <td>...</td>\n",
              "      <td>...</td>\n",
              "      <td>...</td>\n",
              "      <td>...</td>\n",
              "      <td>...</td>\n",
              "      <td>...</td>\n",
              "      <td>...</td>\n",
              "      <td>...</td>\n",
              "    </tr>\n",
              "    <tr>\n",
              "      <th>96</th>\n",
              "      <td>6</td>\n",
              "      <td>2019-02-13 10:26:01.156709</td>\n",
              "      <td>2019-02-13 10:26:18.801302</td>\n",
              "      <td>val_error</td>\n",
              "      <td>10</td>\n",
              "      <td>0.981253</td>\n",
              "      <td>0.102147</td>\n",
              "      <td>0.061509</td>\n",
              "      <td>0.9918</td>\n",
              "      <td>0.0206</td>\n",
              "      <td>0.025047</td>\n",
              "    </tr>\n",
              "    <tr>\n",
              "      <th>97</th>\n",
              "      <td>7</td>\n",
              "      <td>2019-02-13 10:26:01.156709</td>\n",
              "      <td>2019-02-13 10:26:18.801302</td>\n",
              "      <td>val_error</td>\n",
              "      <td>10</td>\n",
              "      <td>0.981253</td>\n",
              "      <td>0.102147</td>\n",
              "      <td>0.059762</td>\n",
              "      <td>0.9906</td>\n",
              "      <td>0.0206</td>\n",
              "      <td>0.029333</td>\n",
              "    </tr>\n",
              "    <tr>\n",
              "      <th>98</th>\n",
              "      <td>8</td>\n",
              "      <td>2019-02-13 10:26:01.156709</td>\n",
              "      <td>2019-02-13 10:26:18.801302</td>\n",
              "      <td>val_error</td>\n",
              "      <td>10</td>\n",
              "      <td>0.981689</td>\n",
              "      <td>0.102147</td>\n",
              "      <td>0.058474</td>\n",
              "      <td>0.9902</td>\n",
              "      <td>0.0206</td>\n",
              "      <td>0.029613</td>\n",
              "    </tr>\n",
              "    <tr>\n",
              "      <th>99</th>\n",
              "      <td>9</td>\n",
              "      <td>2019-02-13 10:26:01.156709</td>\n",
              "      <td>2019-02-13 10:26:18.801302</td>\n",
              "      <td>val_error</td>\n",
              "      <td>10</td>\n",
              "      <td>0.984333</td>\n",
              "      <td>0.102147</td>\n",
              "      <td>0.051120</td>\n",
              "      <td>0.9870</td>\n",
              "      <td>0.0206</td>\n",
              "      <td>0.041684</td>\n",
              "    </tr>\n",
              "  </tbody>\n",
              "</table>\n",
              "<p>100 rows × 11 columns</p>\n",
              "</div>"
            ],
            "text/plain": [
              "    epoch       _Datetime_epoch_begin         _Datetime_epoch_end   _Monitor  \\\n",
              "0       0  2019-02-13 10:14:42.603022  2019-02-13 10:14:59.145381  val_error   \n",
              "1       1  2019-02-13 10:14:42.603022  2019-02-13 10:14:59.145381  val_error   \n",
              "2       2  2019-02-13 10:14:42.603022  2019-02-13 10:14:59.145381  val_error   \n",
              "3       3  2019-02-13 10:14:42.603022  2019-02-13 10:14:59.145381  val_error   \n",
              "..    ...                         ...                         ...        ...   \n",
              "96      6  2019-02-13 10:26:01.156709  2019-02-13 10:26:18.801302  val_error   \n",
              "97      7  2019-02-13 10:26:01.156709  2019-02-13 10:26:18.801302  val_error   \n",
              "98      8  2019-02-13 10:26:01.156709  2019-02-13 10:26:18.801302  val_error   \n",
              "99      9  2019-02-13 10:26:01.156709  2019-02-13 10:26:18.801302  val_error   \n",
              "\n",
              "    _Trial_id       acc     error      loss  val_acc  val_error  val_loss  \n",
              "0           1  0.861011  0.138989  0.443171   0.9598     0.0402  0.125782  \n",
              "1           1  0.930604  0.138989  0.225478   0.9728     0.0402  0.087606  \n",
              "2           1  0.943978  0.138989  0.180567   0.9778     0.0402  0.071474  \n",
              "3           1  0.951727  0.138989  0.156699   0.9788     0.0402  0.061810  \n",
              "..        ...       ...       ...       ...      ...        ...       ...  \n",
              "96         10  0.981253  0.102147  0.061509   0.9918     0.0206  0.025047  \n",
              "97         10  0.981253  0.102147  0.059762   0.9906     0.0206  0.029333  \n",
              "98         10  0.981689  0.102147  0.058474   0.9902     0.0206  0.029613  \n",
              "99         10  0.984333  0.102147  0.051120   0.9870     0.0206  0.041684  \n",
              "\n",
              "[100 rows x 11 columns]"
            ]
          },
          "metadata": {
            "tags": []
          },
          "execution_count": 13
        }
      ]
    }
  ]
}