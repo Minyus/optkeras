{
  "nbformat": 4,
  "nbformat_minor": 0,
  "metadata": {
    "colab": {
      "name": "OptKeras_Example.ipynb",
      "version": "0.3.2",
      "provenance": [],
      "collapsed_sections": []
    },
    "kernelspec": {
      "name": "python3",
      "display_name": "Python 3"
    },
    "accelerator": "GPU"
  },
  "cells": [
    {
      "metadata": {
        "id": "adlTq181lzrT",
        "colab_type": "text"
      },
      "cell_type": "markdown",
      "source": [
        "This notebook demonstrates how to use OptKeras, wrapper of Keras and Optuna"
      ]
    },
    {
      "metadata": {
        "id": "U087RvP2l0ew",
        "colab_type": "text"
      },
      "cell_type": "markdown",
      "source": [
        "##  Set up Google Colab environment\n",
        "\n",
        "To run in Google Colab, specify a directory in Google Drive. (GPU is recommended.)\n",
        "\n",
        "To run in an environment other than Google Colab, just skip this code."
      ]
    },
    {
      "metadata": {
        "id": "2M7KQx6HV40_",
        "colab_type": "code",
        "colab": {
          "base_uri": "https://localhost:8080/",
          "height": 814
        },
        "outputId": "66aaecd1-cd1f-4b64-bba8-8b437fde1651"
      },
      "cell_type": "code",
      "source": [
        "try:\n",
        "    # Mount Google Drive\n",
        "    from google.colab import drive\n",
        "    drive.mount('/content/drive')\n",
        "    import os\n",
        "    # Specify a directory in Google Drive\n",
        "    dir = '/content/drive/My Drive/Colab Notebooks/OptKeras'\n",
        "    os.chdir(dir)    \n",
        "    # Check the environment info\n",
        "    print('## Current working directory: ', os.getcwd())\n",
        "    print('## Check the uptime. (Google Colab reboots every 12 hours)')\n",
        "    !cat /proc/uptime | awk '{print \"Uptime is \" $1 /60 /60 \" hours (\" $1 \" sec)\"}'\n",
        "    print('## Check the GPU info')\n",
        "    !nvidia-smi\n",
        "    print('## Check the OS') \n",
        "    !cat /etc/issue\n",
        "    print('## Check the Python version') \n",
        "    !python --version\n",
        "    print('## Check the memory')\n",
        "    !free -h\n",
        "    print('## Check the disk')\n",
        "    !df -h\n",
        "except:\n",
        "    print('Run the code assuming the environment is not Google Colab.')"
      ],
      "execution_count": 1,
      "outputs": [
        {
          "output_type": "stream",
          "text": [
            "Go to this URL in a browser: https://accounts.google.com/o/oauth2/auth?client_id=947318989803-6bn6qk8qdgf4n4g3pfee6491hc0brc4i.apps.googleusercontent.com&redirect_uri=urn%3Aietf%3Awg%3Aoauth%3A2.0%3Aoob&scope=email%20https%3A%2F%2Fwww.googleapis.com%2Fauth%2Fdocs.test%20https%3A%2F%2Fwww.googleapis.com%2Fauth%2Fdrive%20https%3A%2F%2Fwww.googleapis.com%2Fauth%2Fdrive.photos.readonly%20https%3A%2F%2Fwww.googleapis.com%2Fauth%2Fpeopleapi.readonly&response_type=code\n",
            "\n",
            "Enter your authorization code:\n",
            "··········\n",
            "Mounted at /content/drive\n",
            "## Current working directory:  /content/drive/My Drive/Colab Notebooks/OptKeras\n",
            "## Check the uptime. (Google Colab reboots every 12 hours)\n",
            "Uptime is 0.119208 hours (429.15 sec)\n",
            "## Check the GPU info\n",
            "Sun Feb 17 03:18:04 2019       \n",
            "+-----------------------------------------------------------------------------+\n",
            "| NVIDIA-SMI 410.79       Driver Version: 410.79       CUDA Version: 10.0     |\n",
            "|-------------------------------+----------------------+----------------------+\n",
            "| GPU  Name        Persistence-M| Bus-Id        Disp.A | Volatile Uncorr. ECC |\n",
            "| Fan  Temp  Perf  Pwr:Usage/Cap|         Memory-Usage | GPU-Util  Compute M. |\n",
            "|===============================+======================+======================|\n",
            "|   0  Tesla K80           Off  | 00000000:00:04.0 Off |                    0 |\n",
            "| N/A   32C    P8    27W / 149W |      0MiB / 11441MiB |      0%      Default |\n",
            "+-------------------------------+----------------------+----------------------+\n",
            "                                                                               \n",
            "+-----------------------------------------------------------------------------+\n",
            "| Processes:                                                       GPU Memory |\n",
            "|  GPU       PID   Type   Process name                             Usage      |\n",
            "|=============================================================================|\n",
            "|  No running processes found                                                 |\n",
            "+-----------------------------------------------------------------------------+\n",
            "## Check the OS\n",
            "Ubuntu 18.04.1 LTS \\n \\l\n",
            "\n",
            "## Check the Python version\n",
            "Python 3.6.7\n",
            "## Check the memory\n",
            "              total        used        free      shared  buff/cache   available\n",
            "Mem:            12G        438M         10G        904K        1.8G         12G\n",
            "Swap:            0B          0B          0B\n",
            "## Check the disk\n",
            "Filesystem      Size  Used Avail Use% Mounted on\n",
            "overlay         359G   22G  319G   7% /\n",
            "tmpfs           6.4G     0  6.4G   0% /dev\n",
            "tmpfs           6.4G     0  6.4G   0% /sys/fs/cgroup\n",
            "/dev/sda1       365G   26G  340G   7% /opt/bin\n",
            "tmpfs           6.4G   12K  6.4G   1% /var/colab\n",
            "shm             6.0G     0  6.0G   0% /dev/shm\n",
            "tmpfs           6.4G     0  6.4G   0% /sys/firmware\n",
            "drive           200G   13G  188G   7% /content/drive\n"
          ],
          "name": "stdout"
        }
      ]
    },
    {
      "metadata": {
        "id": "it4-DX10mqlB",
        "colab_type": "text"
      },
      "cell_type": "markdown",
      "source": [
        "## Install Optuna 0.7.0"
      ]
    },
    {
      "metadata": {
        "id": "XeNktIMgWNOg",
        "colab_type": "code",
        "colab": {
          "base_uri": "https://localhost:8080/",
          "height": 727
        },
        "outputId": "64df6a50-f1aa-488e-d762-475def32e51d"
      },
      "cell_type": "code",
      "source": [
        "!pip install optuna==0.7.0"
      ],
      "execution_count": 2,
      "outputs": [
        {
          "output_type": "stream",
          "text": [
            "Collecting optuna==0.7.0\n",
            "\u001b[?25l  Downloading https://files.pythonhosted.org/packages/2e/2c/946b73a073761a0dc68235ef92829b47d82c6f807e8767e0f84b09c98c0f/optuna-0.7.0.tar.gz (60kB)\n",
            "\u001b[K    100% |████████████████████████████████| 61kB 2.3MB/s \n",
            "\u001b[?25hRequirement already satisfied: sqlalchemy>=1.1.0 in /usr/local/lib/python3.6/dist-packages (from optuna==0.7.0) (1.2.17)\n",
            "Requirement already satisfied: numpy in /usr/local/lib/python3.6/dist-packages (from optuna==0.7.0) (1.14.6)\n",
            "Requirement already satisfied: scipy in /usr/local/lib/python3.6/dist-packages (from optuna==0.7.0) (1.1.0)\n",
            "Requirement already satisfied: six in /usr/local/lib/python3.6/dist-packages (from optuna==0.7.0) (1.11.0)\n",
            "Requirement already satisfied: typing in /usr/local/lib/python3.6/dist-packages (from optuna==0.7.0) (3.6.6)\n",
            "Collecting cliff (from optuna==0.7.0)\n",
            "\u001b[?25l  Downloading https://files.pythonhosted.org/packages/8e/1a/5404afee3d83a2e5f27e0d20ac7012c9f07bd8e9b03d0ae1fd9bb3e63037/cliff-2.14.0-py2.py3-none-any.whl (77kB)\n",
            "\u001b[K    100% |████████████████████████████████| 81kB 5.3MB/s \n",
            "\u001b[?25hCollecting colorlog (from optuna==0.7.0)\n",
            "  Downloading https://files.pythonhosted.org/packages/68/4d/892728b0c14547224f0ac40884e722a3d00cb54e7a146aea0b3186806c9e/colorlog-4.0.2-py2.py3-none-any.whl\n",
            "Requirement already satisfied: pandas in /usr/local/lib/python3.6/dist-packages (from optuna==0.7.0) (0.22.0)\n",
            "Collecting stevedore>=1.20.0 (from cliff->optuna==0.7.0)\n",
            "\u001b[?25l  Downloading https://files.pythonhosted.org/packages/35/fa/8683fab2a6e15ecfe107996e56fab91e52fe3ec0b40ca9440a0e1ffe6892/stevedore-1.30.0-py2.py3-none-any.whl (42kB)\n",
            "\u001b[K    100% |████████████████████████████████| 51kB 22.4MB/s \n",
            "\u001b[?25hRequirement already satisfied: pbr!=2.1.0,>=2.0.0 in /usr/local/lib/python3.6/dist-packages (from cliff->optuna==0.7.0) (5.1.2)\n",
            "Requirement already satisfied: pyparsing>=2.1.0 in /usr/local/lib/python3.6/dist-packages (from cliff->optuna==0.7.0) (2.3.1)\n",
            "Requirement already satisfied: PrettyTable<0.8,>=0.7.2 in /usr/local/lib/python3.6/dist-packages (from cliff->optuna==0.7.0) (0.7.2)\n",
            "Collecting cmd2!=0.8.3; python_version >= \"3.0\" (from cliff->optuna==0.7.0)\n",
            "\u001b[?25l  Downloading https://files.pythonhosted.org/packages/d6/33/dbf0d2380ef9fce79e5b75f358a9de16b66b29598df610c24d49c4c0cd86/cmd2-0.9.8-py3-none-any.whl (86kB)\n",
            "\u001b[K    100% |████████████████████████████████| 92kB 27.4MB/s \n",
            "\u001b[?25hRequirement already satisfied: PyYAML>=3.12 in /usr/local/lib/python3.6/dist-packages (from cliff->optuna==0.7.0) (3.13)\n",
            "Requirement already satisfied: python-dateutil>=2 in /usr/local/lib/python3.6/dist-packages (from pandas->optuna==0.7.0) (2.5.3)\n",
            "Requirement already satisfied: pytz>=2011k in /usr/local/lib/python3.6/dist-packages (from pandas->optuna==0.7.0) (2018.9)\n",
            "Requirement already satisfied: attrs>=16.3.0 in /usr/local/lib/python3.6/dist-packages (from cmd2!=0.8.3; python_version >= \"3.0\"->cliff->optuna==0.7.0) (18.2.0)\n",
            "Requirement already satisfied: wcwidth>=0.1.7 in /usr/local/lib/python3.6/dist-packages (from cmd2!=0.8.3; python_version >= \"3.0\"->cliff->optuna==0.7.0) (0.1.7)\n",
            "Collecting pyperclip>=1.5.27 (from cmd2!=0.8.3; python_version >= \"3.0\"->cliff->optuna==0.7.0)\n",
            "  Downloading https://files.pythonhosted.org/packages/2d/0f/4eda562dffd085945d57c2d9a5da745cfb5228c02bc90f2c74bbac746243/pyperclip-1.7.0.tar.gz\n",
            "Collecting colorama (from cmd2!=0.8.3; python_version >= \"3.0\"->cliff->optuna==0.7.0)\n",
            "  Downloading https://files.pythonhosted.org/packages/4f/a6/728666f39bfff1719fc94c481890b2106837da9318031f71a8424b662e12/colorama-0.4.1-py2.py3-none-any.whl\n",
            "Building wheels for collected packages: optuna, pyperclip\n",
            "  Building wheel for optuna (setup.py) ... \u001b[?25ldone\n",
            "\u001b[?25h  Stored in directory: /root/.cache/pip/wheels/8c/97/c7/868e9cd5d6a23cfb98266f30d59131e5bd441132bdf8da18d5\n",
            "  Building wheel for pyperclip (setup.py) ... \u001b[?25ldone\n",
            "\u001b[?25h  Stored in directory: /root/.cache/pip/wheels/92/f0/ac/2ba2972034e98971c3654ece337ac61e546bdeb34ca960dc8c\n",
            "Successfully built optuna pyperclip\n",
            "Installing collected packages: stevedore, pyperclip, colorama, cmd2, cliff, colorlog, optuna\n",
            "Successfully installed cliff-2.14.0 cmd2-0.9.8 colorama-0.4.1 colorlog-4.0.2 optuna-0.7.0 pyperclip-1.7.0 stevedore-1.30.0\n"
          ],
          "name": "stdout"
        }
      ]
    },
    {
      "metadata": {
        "id": "COmhC_CuoYo9",
        "colab_type": "text"
      },
      "cell_type": "markdown",
      "source": [
        "## Install the latest version of OptKeras"
      ]
    },
    {
      "metadata": {
        "id": "zfIoE_CLvytu",
        "colab_type": "code",
        "colab": {
          "base_uri": "https://localhost:8080/",
          "height": 607
        },
        "outputId": "85860bcf-eb62-4037-9d3a-a5d71bb6c821"
      },
      "cell_type": "code",
      "source": [
        "!pip install git+https://github.com/Minyus/optkeras.git"
      ],
      "execution_count": 3,
      "outputs": [
        {
          "output_type": "stream",
          "text": [
            "Collecting git+https://github.com/Minyus/optkeras.git\n",
            "  Cloning https://github.com/Minyus/optkeras.git to /tmp/pip-req-build-pmhu1fw3\n",
            "Requirement already satisfied: keras in /usr/local/lib/python3.6/dist-packages (from optkeras==0.0.1) (2.2.4)\n",
            "Requirement already satisfied: optuna in /usr/local/lib/python3.6/dist-packages (from optkeras==0.0.1) (0.7.0)\n",
            "Requirement already satisfied: h5py in /usr/local/lib/python3.6/dist-packages (from keras->optkeras==0.0.1) (2.8.0)\n",
            "Requirement already satisfied: keras-applications>=1.0.6 in /usr/local/lib/python3.6/dist-packages (from keras->optkeras==0.0.1) (1.0.7)\n",
            "Requirement already satisfied: keras-preprocessing>=1.0.5 in /usr/local/lib/python3.6/dist-packages (from keras->optkeras==0.0.1) (1.0.9)\n",
            "Requirement already satisfied: numpy>=1.9.1 in /usr/local/lib/python3.6/dist-packages (from keras->optkeras==0.0.1) (1.14.6)\n",
            "Requirement already satisfied: scipy>=0.14 in /usr/local/lib/python3.6/dist-packages (from keras->optkeras==0.0.1) (1.1.0)\n",
            "Requirement already satisfied: pyyaml in /usr/local/lib/python3.6/dist-packages (from keras->optkeras==0.0.1) (3.13)\n",
            "Requirement already satisfied: six>=1.9.0 in /usr/local/lib/python3.6/dist-packages (from keras->optkeras==0.0.1) (1.11.0)\n",
            "Requirement already satisfied: sqlalchemy>=1.1.0 in /usr/local/lib/python3.6/dist-packages (from optuna->optkeras==0.0.1) (1.2.17)\n",
            "Requirement already satisfied: pandas in /usr/local/lib/python3.6/dist-packages (from optuna->optkeras==0.0.1) (0.22.0)\n",
            "Requirement already satisfied: colorlog in /usr/local/lib/python3.6/dist-packages (from optuna->optkeras==0.0.1) (4.0.2)\n",
            "Requirement already satisfied: cliff in /usr/local/lib/python3.6/dist-packages (from optuna->optkeras==0.0.1) (2.14.0)\n",
            "Requirement already satisfied: typing in /usr/local/lib/python3.6/dist-packages (from optuna->optkeras==0.0.1) (3.6.6)\n",
            "Requirement already satisfied: pytz>=2011k in /usr/local/lib/python3.6/dist-packages (from pandas->optuna->optkeras==0.0.1) (2018.9)\n",
            "Requirement already satisfied: python-dateutil>=2 in /usr/local/lib/python3.6/dist-packages (from pandas->optuna->optkeras==0.0.1) (2.5.3)\n",
            "Requirement already satisfied: cmd2!=0.8.3; python_version >= \"3.0\" in /usr/local/lib/python3.6/dist-packages (from cliff->optuna->optkeras==0.0.1) (0.9.8)\n",
            "Requirement already satisfied: pyparsing>=2.1.0 in /usr/local/lib/python3.6/dist-packages (from cliff->optuna->optkeras==0.0.1) (2.3.1)\n",
            "Requirement already satisfied: pbr!=2.1.0,>=2.0.0 in /usr/local/lib/python3.6/dist-packages (from cliff->optuna->optkeras==0.0.1) (5.1.2)\n",
            "Requirement already satisfied: stevedore>=1.20.0 in /usr/local/lib/python3.6/dist-packages (from cliff->optuna->optkeras==0.0.1) (1.30.0)\n",
            "Requirement already satisfied: PrettyTable<0.8,>=0.7.2 in /usr/local/lib/python3.6/dist-packages (from cliff->optuna->optkeras==0.0.1) (0.7.2)\n",
            "Requirement already satisfied: wcwidth>=0.1.7 in /usr/local/lib/python3.6/dist-packages (from cmd2!=0.8.3; python_version >= \"3.0\"->cliff->optuna->optkeras==0.0.1) (0.1.7)\n",
            "Requirement already satisfied: attrs>=16.3.0 in /usr/local/lib/python3.6/dist-packages (from cmd2!=0.8.3; python_version >= \"3.0\"->cliff->optuna->optkeras==0.0.1) (18.2.0)\n",
            "Requirement already satisfied: pyperclip>=1.5.27 in /usr/local/lib/python3.6/dist-packages (from cmd2!=0.8.3; python_version >= \"3.0\"->cliff->optuna->optkeras==0.0.1) (1.7.0)\n",
            "Requirement already satisfied: colorama in /usr/local/lib/python3.6/dist-packages (from cmd2!=0.8.3; python_version >= \"3.0\"->cliff->optuna->optkeras==0.0.1) (0.4.1)\n",
            "Building wheels for collected packages: optkeras\n",
            "  Building wheel for optkeras (setup.py) ... \u001b[?25ldone\n",
            "\u001b[?25h  Stored in directory: /tmp/pip-ephem-wheel-cache-a91gxl1u/wheels/ad/c8/9d/67471f9fd7c5fd15961a2e7aa3d15215212d0631ea96df8b5c\n",
            "Successfully built optkeras\n",
            "Installing collected packages: optkeras\n",
            "Successfully installed optkeras-0.0.1\n"
          ],
          "name": "stdout"
        }
      ]
    },
    {
      "metadata": {
        "id": "0nikvt-fppC8",
        "colab_type": "text"
      },
      "cell_type": "markdown",
      "source": [
        "## Import modules"
      ]
    },
    {
      "metadata": {
        "id": "i85DbXl0nvmU",
        "colab_type": "code",
        "colab": {
          "base_uri": "https://localhost:8080/",
          "height": 103
        },
        "outputId": "e9cb61d3-eaf6-4211-d553-a8664d14132d"
      },
      "cell_type": "code",
      "source": [
        "# import Keras\n",
        "from keras.datasets import mnist\n",
        "from keras.models import Sequential\n",
        "from keras.layers import Activation, Flatten, Dense, Conv2D\n",
        "from keras.layers import MaxPooling2D, Dropout, BatchNormalization\n",
        "from keras.preprocessing.image import ImageDataGenerator\n",
        "from keras.optimizers import SGD, Adagrad, RMSprop, Adam, Adadelta, Adamax, Nadam\n",
        "import keras.backend as K\n",
        "\n",
        "import keras\n",
        "print('Keras', keras.__version__)\n",
        "\n",
        "import tensorflow as tf\n",
        "print('TensorFlow', tf.__version__)\n",
        "\n",
        "import numpy as np\n",
        "import pandas as pd\n",
        "\n",
        "# import Optuna and OptKeras after Keras\n",
        "import optuna \n",
        "print('Optuna', optuna.__version__)\n",
        "\n",
        "from optkeras.optkeras import OptKeras\n",
        "import optkeras\n",
        "print('OptKeras', optkeras.__version__)"
      ],
      "execution_count": 4,
      "outputs": [
        {
          "output_type": "stream",
          "text": [
            "Using TensorFlow backend.\n"
          ],
          "name": "stderr"
        },
        {
          "output_type": "stream",
          "text": [
            "Keras 2.2.4\n",
            "TensorFlow 1.13.0-rc1\n",
            "Optuna 0.7.0\n",
            "OptKeras 0.0.1\n"
          ],
          "name": "stdout"
        }
      ]
    },
    {
      "metadata": {
        "id": "mq16j0E4olJO",
        "colab_type": "text"
      },
      "cell_type": "markdown",
      "source": [
        "## Set up Dataset"
      ]
    },
    {
      "metadata": {
        "id": "sfMZGHCO4DrV",
        "colab_type": "code",
        "colab": {
          "base_uri": "https://localhost:8080/",
          "height": 51
        },
        "outputId": "cd1d361f-0d6f-47de-eca2-f1903c51053c"
      },
      "cell_type": "code",
      "source": [
        "dataset_name = 'MNIST'\n",
        "\n",
        "if dataset_name in ['MNIST', 'MNIST_1000samples']:\n",
        "    (x_train, y_train), (x_test, y_test) = mnist.load_data()\n",
        "    \n",
        "    img_x, img_y = x_train.shape[1], x_train.shape[2]\n",
        "    x_train = x_train.reshape(-1, img_x, img_y, 1)\n",
        "    x_test = x_test.reshape(-1, img_x, img_y, 1)   \n",
        "    x_train = x_train.astype('float32')\n",
        "    x_test = x_test.astype('float32')\n",
        "    x_train /= 255\n",
        "    x_test /= 255\n",
        "    num_classes = 10\n",
        "    input_shape = (img_x, img_y, 1)"
      ],
      "execution_count": 5,
      "outputs": [
        {
          "output_type": "stream",
          "text": [
            "Downloading data from https://s3.amazonaws.com/img-datasets/mnist.npz\n",
            "11493376/11490434 [==============================] - 2s 0us/step\n"
          ],
          "name": "stdout"
        }
      ]
    },
    {
      "metadata": {
        "id": "D6QEQ_Dk6ReL",
        "colab_type": "code",
        "colab": {
          "base_uri": "https://localhost:8080/",
          "height": 103
        },
        "outputId": "e72cf53f-99cc-497f-9862-a5e1e6daf69e"
      },
      "cell_type": "code",
      "source": [
        "print('x_train: ', x_train.shape)\n",
        "print('y_train', y_train.shape)\n",
        "print('x_test: ', x_test.shape)\n",
        "print('y_test', y_test.shape)\n",
        "print('input_shape: ', input_shape )    "
      ],
      "execution_count": 6,
      "outputs": [
        {
          "output_type": "stream",
          "text": [
            "x_train:  (60000, 28, 28, 1)\n",
            "y_train (60000,)\n",
            "x_test:  (10000, 28, 28, 1)\n",
            "y_test (10000,)\n",
            "input_shape:  (28, 28, 1)\n"
          ],
          "name": "stdout"
        }
      ]
    },
    {
      "metadata": {
        "id": "7Wb1ZX2vJDO1",
        "colab_type": "text"
      },
      "cell_type": "markdown",
      "source": [
        "## A simple Keras model"
      ]
    },
    {
      "metadata": {
        "id": "m5NqIOlKJBpO",
        "colab_type": "code",
        "colab": {
          "base_uri": "https://localhost:8080/",
          "height": 244
        },
        "outputId": "b8fe7748-2308-498e-fee5-08b71e4d8049"
      },
      "cell_type": "code",
      "source": [
        "model = Sequential()\n",
        "model.add(Conv2D(\n",
        "    filters = 32, \n",
        "    kernel_size = 3, \n",
        "    strides = 1,\n",
        "    activation = 'relu', \n",
        "    input_shape = input_shape ))\n",
        "model.add(Flatten())\n",
        "model.add(Dense(num_classes, activation='softmax'))\n",
        "model.compile(optimizer = Adam(), \n",
        "            loss='sparse_categorical_crossentropy', metrics=['accuracy'])\t\t\t  \n",
        "model.fit(x_train, y_train, \n",
        "          validation_data = (x_test, y_test), shuffle = True,\n",
        "          batch_size = 512, epochs = 2) "
      ],
      "execution_count": 7,
      "outputs": [
        {
          "output_type": "stream",
          "text": [
            "WARNING:tensorflow:From /usr/local/lib/python3.6/dist-packages/tensorflow/python/framework/op_def_library.py:263: colocate_with (from tensorflow.python.framework.ops) is deprecated and will be removed in a future version.\n",
            "Instructions for updating:\n",
            "Colocations handled automatically by placer.\n",
            "WARNING:tensorflow:From /usr/local/lib/python3.6/dist-packages/tensorflow/python/ops/math_ops.py:3066: to_int32 (from tensorflow.python.ops.math_ops) is deprecated and will be removed in a future version.\n",
            "Instructions for updating:\n",
            "Use tf.cast instead.\n",
            "Train on 60000 samples, validate on 10000 samples\n",
            "Epoch 1/2\n",
            "60000/60000 [==============================] - 15s 253us/step - loss: 0.4386 - acc: 0.8816 - val_loss: 0.2121 - val_acc: 0.9417\n",
            "Epoch 2/2\n",
            "60000/60000 [==============================] - 2s 31us/step - loss: 0.1713 - acc: 0.9521 - val_loss: 0.1256 - val_acc: 0.9659\n"
          ],
          "name": "stdout"
        },
        {
          "output_type": "execute_result",
          "data": {
            "text/plain": [
              "<keras.callbacks.History at 0x7fd393e77978>"
            ]
          },
          "metadata": {
            "tags": []
          },
          "execution_count": 7
        }
      ]
    },
    {
      "metadata": {
        "id": "J_MtiEV0kcSd",
        "colab_type": "text"
      },
      "cell_type": "markdown",
      "source": [
        "## Optimization of a simple Keras model without pruning"
      ]
    },
    {
      "metadata": {
        "id": "kpr1zgHub1QN",
        "colab_type": "code",
        "colab": {
          "base_uri": "https://localhost:8080/",
          "height": 347
        },
        "outputId": "3f571adb-1cda-4bc9-f9d0-ddd5d971b854"
      },
      "cell_type": "code",
      "source": [
        "study_name = dataset_name + '_Simple'\n",
        "\n",
        "ok = OptKeras(study_name=study_name)\n",
        "\n",
        "optuna.logging.set_verbosity(optuna.logging.WARN)\n",
        "\n",
        "def objective(trial):\n",
        "   \n",
        "    K.clear_session()\n",
        "    \n",
        "    model = Sequential()\n",
        "    model.add(Conv2D(\n",
        "        filters = trial.suggest_categorical('filters', [32, 64]), \n",
        "        kernel_size = trial.suggest_categorical('kernel_size', [3, 5]), \n",
        "        strides = trial.suggest_categorical('strides', [1, 2]), \n",
        "        activation = trial.suggest_categorical('activation', ['relu', 'linear']), \n",
        "        input_shape = input_shape ))\n",
        "    model.add(Flatten())\n",
        "    model.add(Dense(num_classes, activation='softmax'))\n",
        "    model.compile(optimizer = Adam(), \n",
        "                loss='sparse_categorical_crossentropy', metrics=['accuracy'])\n",
        "    \n",
        "    # [Required] Specify callbacks(trial) in fit method\n",
        "    model.fit(x_train, y_train, \n",
        "              validation_data = (x_test, y_test), shuffle = True,\n",
        "              batch_size = 512, epochs = 2,\n",
        "              callbacks = ok.callbacks(trial), \n",
        "              verbose = ok.keras_verbose )  \n",
        "    \n",
        "    # [Required] return trial_best_value (recommended) or latest_value\n",
        "    return ok.trial_best_value\n",
        "\n",
        "# Set n_trials and/or timeout (in sec) for optimization by Optuna\n",
        "ok.optimize(objective, n_trials = 16, timeout = 12*60*60)"
      ],
      "execution_count": 8,
      "outputs": [
        {
          "output_type": "stream",
          "text": [
            "[2019-02-17 03:19:00.137518] Ready for optimization. (message printed as verbose is set to 1+)\n",
            "[2019-02-17 03:19:00.456854] Latest trial id: None, value: None (None) | Best trial id: None, value: None, parameters: None\n",
            "[2019-02-17 03:19:06.341564] Latest trial id: 0, value: 0.028299999523162866 (TrialState.COMPLETE) | Best trial id: 0, value: 0.028299999523162866, parameters: {'filters': 64, 'kernel_size': 3, 'strides': 1, 'activation': 'relu'}\n",
            "[2019-02-17 03:19:09.671199] Latest trial id: 1, value: 0.0792999995231628 (TrialState.COMPLETE) | Best trial id: 0, value: 0.028299999523162866, parameters: {'filters': 64, 'kernel_size': 3, 'strides': 1, 'activation': 'relu'}\n",
            "[2019-02-17 03:19:12.173860] Latest trial id: 2, value: 0.08070000066757199 (TrialState.COMPLETE) | Best trial id: 0, value: 0.028299999523162866, parameters: {'filters': 64, 'kernel_size': 3, 'strides': 1, 'activation': 'relu'}\n",
            "[2019-02-17 03:19:14.306053] Latest trial id: 3, value: 0.08340000076293941 (TrialState.COMPLETE) | Best trial id: 0, value: 0.028299999523162866, parameters: {'filters': 64, 'kernel_size': 3, 'strides': 1, 'activation': 'relu'}\n",
            "[2019-02-17 03:19:18.919532] Latest trial id: 4, value: 0.07989999933242797 (TrialState.COMPLETE) | Best trial id: 0, value: 0.028299999523162866, parameters: {'filters': 64, 'kernel_size': 3, 'strides': 1, 'activation': 'relu'}\n",
            "[2019-02-17 03:19:24.198871] Latest trial id: 5, value: 0.07750000038146976 (TrialState.COMPLETE) | Best trial id: 0, value: 0.028299999523162866, parameters: {'filters': 64, 'kernel_size': 3, 'strides': 1, 'activation': 'relu'}\n",
            "[2019-02-17 03:19:26.775301] Latest trial id: 6, value: 0.0389000002861023 (TrialState.COMPLETE) | Best trial id: 0, value: 0.028299999523162866, parameters: {'filters': 64, 'kernel_size': 3, 'strides': 1, 'activation': 'relu'}\n",
            "[2019-02-17 03:19:28.832972] Latest trial id: 7, value: 0.08250000076293951 (TrialState.COMPLETE) | Best trial id: 0, value: 0.028299999523162866, parameters: {'filters': 64, 'kernel_size': 3, 'strides': 1, 'activation': 'relu'}\n",
            "[2019-02-17 03:19:31.535850] Latest trial id: 8, value: 0.056299999809265144 (TrialState.COMPLETE) | Best trial id: 0, value: 0.028299999523162866, parameters: {'filters': 64, 'kernel_size': 3, 'strides': 1, 'activation': 'relu'}\n",
            "[2019-02-17 03:19:33.826227] Latest trial id: 9, value: 0.08450000066757202 (TrialState.COMPLETE) | Best trial id: 0, value: 0.028299999523162866, parameters: {'filters': 64, 'kernel_size': 3, 'strides': 1, 'activation': 'relu'}\n",
            "[2019-02-17 03:19:39.707334] Latest trial id: 10, value: 0.031100000095367397 (TrialState.COMPLETE) | Best trial id: 0, value: 0.028299999523162866, parameters: {'filters': 64, 'kernel_size': 3, 'strides': 1, 'activation': 'relu'}\n",
            "[2019-02-17 03:19:45.516993] Latest trial id: 11, value: 0.027799999332427938 (TrialState.COMPLETE) | Best trial id: 11, value: 0.027799999332427938, parameters: {'filters': 64, 'kernel_size': 3, 'strides': 1, 'activation': 'relu'}\n",
            "[2019-02-17 03:19:51.320233] Latest trial id: 12, value: 0.0278999995231628 (TrialState.COMPLETE) | Best trial id: 11, value: 0.027799999332427938, parameters: {'filters': 64, 'kernel_size': 3, 'strides': 1, 'activation': 'relu'}\n",
            "[2019-02-17 03:19:57.378021] Latest trial id: 13, value: 0.02829999971389774 (TrialState.COMPLETE) | Best trial id: 11, value: 0.027799999332427938, parameters: {'filters': 64, 'kernel_size': 3, 'strides': 1, 'activation': 'relu'}\n",
            "[2019-02-17 03:20:01.166113] Latest trial id: 14, value: 0.04190000038146968 (TrialState.COMPLETE) | Best trial id: 11, value: 0.027799999332427938, parameters: {'filters': 64, 'kernel_size': 3, 'strides': 1, 'activation': 'relu'}\n",
            "[2019-02-17 03:20:06.311448] Latest trial id: 15, value: 0.01950000076293945 (TrialState.COMPLETE) | Best trial id: 15, value: 0.01950000076293945, parameters: {'filters': 64, 'kernel_size': 5, 'strides': 1, 'activation': 'relu'}\n"
          ],
          "name": "stdout"
        }
      ]
    },
    {
      "metadata": {
        "id": "R_P9NZi0KPLH",
        "colab_type": "text"
      },
      "cell_type": "markdown",
      "source": [
        "## Grid Search of a simple Keras model"
      ]
    },
    {
      "metadata": {
        "id": "O_Xn1LP8ILgF",
        "colab_type": "code",
        "colab": {
          "base_uri": "https://localhost:8080/",
          "height": 624
        },
        "outputId": "9a4f73a1-6dd9-4389-825b-0a5632650a6d"
      },
      "cell_type": "code",
      "source": [
        "study_name = dataset_name + '_GridSearch'\n",
        "\n",
        "ok = OptKeras(study_name=study_name, grid_search_mode=True)\n",
        "\n",
        "optuna.logging.set_verbosity(optuna.logging.WARN)\n",
        "\n",
        "def objective(trial):\n",
        "   \n",
        "    K.clear_session()\n",
        "    \n",
        "    model = Sequential()\n",
        "    model.add(Conv2D(\n",
        "        filters = trial.suggest_categorical('filters', [32, 64]), \n",
        "        kernel_size = trial.suggest_categorical('kernel_size', [3, 5]), \n",
        "        strides = trial.suggest_categorical('strides', [1, 2]), \n",
        "        activation = trial.suggest_categorical('activation', ['relu', 'linear']), \n",
        "        input_shape = input_shape ))\n",
        "    model.add(Flatten())\n",
        "    model.add(Dense(num_classes, activation='softmax'))\n",
        "    model.compile(optimizer = Adam(), \n",
        "                loss='sparse_categorical_crossentropy', metrics=['accuracy'])\n",
        "    \n",
        "    # [Required] Specify callbacks(trial) in fit method\n",
        "    model.fit(x_train, y_train, \n",
        "              validation_data = (x_test, y_test), shuffle = True,\n",
        "              batch_size = 512, epochs = 2,\n",
        "              callbacks = ok.callbacks(trial), \n",
        "              verbose = ok.keras_verbose )  \n",
        "    \n",
        "    # [Required] return trial_best_value (recommended) or latest_value\n",
        "    return ok.trial_best_value\n",
        "\n",
        "# Set n_trials and/or timeout (in sec) for grid_search by Optuna\n",
        "ok.grid_search(objective, n_trials = 2*2*2*2, timeout = 12*60*60)"
      ],
      "execution_count": 9,
      "outputs": [
        {
          "output_type": "stream",
          "text": [
            "[2019-02-17 03:20:06.348352] Ready for optimization. (message printed as verbose is set to 1+)\n",
            "[2019-02-17 03:20:06.465484] Latest trial id: None, value: None (None) | Best trial id: None, value: None, parameters: None\n",
            "[2019-02-17 03:20:11.454800] Completed:   6% (    1 /    16)\n",
            "[2019-02-17 03:20:11.557470] Latest trial id: 0, value: 0.07819999942779543 (TrialState.COMPLETE) | Best trial id: 0, value: 0.07819999942779543, parameters: {'filters': 64, 'kernel_size': 3, 'strides': 1, 'activation': 'linear'}\n",
            "[2019-02-17 03:20:13.604243] Completed:  12% (    2 /    16)\n",
            "[2019-02-17 03:20:13.707633] Latest trial id: 1, value: 0.05769999990463259 (TrialState.COMPLETE) | Best trial id: 1, value: 0.05769999990463259, parameters: {'filters': 32, 'kernel_size': 5, 'strides': 2, 'activation': 'relu'}\n",
            "[2019-02-17 03:20:18.397450] Completed:  19% (    3 /    16)\n",
            "[2019-02-17 03:20:18.502337] Latest trial id: 2, value: 0.07899999961853033 (TrialState.COMPLETE) | Best trial id: 1, value: 0.05769999990463259, parameters: {'filters': 32, 'kernel_size': 5, 'strides': 2, 'activation': 'relu'}\n",
            "[2019-02-17 03:20:20.602833] Completed:  25% (    4 /    16)\n",
            "[2019-02-17 03:20:20.707912] Latest trial id: 3, value: 0.07070000028610235 (TrialState.COMPLETE) | Best trial id: 1, value: 0.05769999990463259, parameters: {'filters': 32, 'kernel_size': 5, 'strides': 2, 'activation': 'relu'}\n",
            "[2019-02-17 03:20:25.776122] Completed:  31% (    5 /    16)\n",
            "[2019-02-17 03:20:25.886089] Latest trial id: 5, value: 0.0357000003814697 (TrialState.COMPLETE) | Best trial id: 5, value: 0.0357000003814697, parameters: {'filters': 64, 'kernel_size': 5, 'strides': 2, 'activation': 'relu'}\n",
            "[2019-02-17 03:20:28.704310] Completed:  38% (    6 /    16)\n",
            "[2019-02-17 03:20:28.811977] Latest trial id: 6, value: 0.05689999980926519 (TrialState.COMPLETE) | Best trial id: 5, value: 0.0357000003814697, parameters: {'filters': 64, 'kernel_size': 5, 'strides': 2, 'activation': 'relu'}\n",
            "[2019-02-17 03:20:35.479939] Completed:  44% (    7 /    16)\n",
            "[2019-02-17 03:20:35.589548] Latest trial id: 9, value: 0.07960000028610226 (TrialState.COMPLETE) | Best trial id: 5, value: 0.0357000003814697, parameters: {'filters': 64, 'kernel_size': 5, 'strides': 2, 'activation': 'relu'}\n",
            "[2019-02-17 03:20:39.329055] Completed:  50% (    8 /    16)\n",
            "[2019-02-17 03:20:39.438705] Latest trial id: 11, value: 0.0805000007629395 (TrialState.COMPLETE) | Best trial id: 5, value: 0.0357000003814697, parameters: {'filters': 64, 'kernel_size': 5, 'strides': 2, 'activation': 'relu'}\n",
            "[2019-02-17 03:20:44.110660] Completed:  56% (    9 /    16)\n",
            "[2019-02-17 03:20:44.219059] Latest trial id: 13, value: 0.083700000667572 (TrialState.COMPLETE) | Best trial id: 5, value: 0.0357000003814697, parameters: {'filters': 64, 'kernel_size': 5, 'strides': 2, 'activation': 'relu'}\n",
            "[2019-02-17 03:20:48.355539] Completed:  62% (   10 /    16)\n",
            "[2019-02-17 03:20:48.469033] Latest trial id: 15, value: 0.08009999923706057 (TrialState.COMPLETE) | Best trial id: 5, value: 0.0357000003814697, parameters: {'filters': 64, 'kernel_size': 5, 'strides': 2, 'activation': 'relu'}\n",
            "[2019-02-17 03:20:55.835868] Completed:  69% (   11 /    16)\n",
            "[2019-02-17 03:20:55.949871] Latest trial id: 17, value: 0.02799999971389766 (TrialState.COMPLETE) | Best trial id: 17, value: 0.02799999971389766, parameters: {'filters': 64, 'kernel_size': 3, 'strides': 1, 'activation': 'relu'}\n",
            "[2019-02-17 03:21:09.774213] Completed:  75% (   12 /    16)\n",
            "[2019-02-17 03:21:09.896327] Latest trial id: 24, value: 0.07930000038146978 (TrialState.COMPLETE) | Best trial id: 17, value: 0.02799999971389766, parameters: {'filters': 64, 'kernel_size': 3, 'strides': 1, 'activation': 'relu'}\n",
            "[2019-02-17 03:21:15.045558] Completed:  81% (   13 /    16)\n",
            "[2019-02-17 03:21:15.166446] Latest trial id: 25, value: 0.021699999237060563 (TrialState.COMPLETE) | Best trial id: 25, value: 0.021699999237060563, parameters: {'filters': 64, 'kernel_size': 5, 'strides': 1, 'activation': 'relu'}\n",
            "[2019-02-17 03:21:18.579485] Completed:  88% (   14 /    16)\n",
            "[2019-02-17 03:21:18.704921] Latest trial id: 26, value: 0.02829999990463261 (TrialState.COMPLETE) | Best trial id: 25, value: 0.021699999237060563, parameters: {'filters': 64, 'kernel_size': 5, 'strides': 1, 'activation': 'relu'}\n",
            "[2019-02-17 03:21:25.526219] Completed:  94% (   15 /    16)\n",
            "[2019-02-17 03:21:25.647294] Latest trial id: 28, value: 0.032199999904632515 (TrialState.COMPLETE) | Best trial id: 25, value: 0.021699999237060563, parameters: {'filters': 64, 'kernel_size': 5, 'strides': 1, 'activation': 'relu'}\n",
            "[2019-02-17 03:22:18.583332] Completed: 100% (   16 /    16)\n",
            "[2019-02-17 03:22:18.635447] Latest trial id: 54, value: 0.08210000047683719 (TrialState.COMPLETE) | Best trial id: 25, value: 0.021699999237060563, parameters: {'filters': 64, 'kernel_size': 5, 'strides': 1, 'activation': 'relu'}\n"
          ],
          "name": "stdout"
        }
      ]
    },
    {
      "metadata": {
        "id": "JdEzC5grp9ew",
        "colab_type": "text"
      },
      "cell_type": "markdown",
      "source": [
        "## Optimization of a Keras model with pruning"
      ]
    },
    {
      "metadata": {
        "id": "LfV6iONwVujP",
        "colab_type": "code",
        "colab": {
          "base_uri": "https://localhost:8080/",
          "height": 227
        },
        "outputId": "0b44edc6-4525-4e2d-9b9c-7ce18197cd7a"
      },
      "cell_type": "code",
      "source": [
        "study_name = dataset_name + '_Optimized'\n",
        "\n",
        "ok = OptKeras( \n",
        "    # parameters for optuna.create_study\n",
        "    storage='sqlite:///' + study_name + '_Optuna.db', \n",
        "    sampler=optuna.samplers.TPESampler(\n",
        "        consider_prior=True, prior_weight=1.0, \n",
        "        consider_magic_clip=True, consider_endpoints=False, \n",
        "        n_startup_trials=10, n_ei_candidates=24, \n",
        "        seed=None), \n",
        "    pruner=optuna.pruners.SuccessiveHalvingPruner(\n",
        "        min_resource=1, reduction_factor=4, min_early_stopping_rate=0), \n",
        "    study_name = study_name, \n",
        "    direction='minimize', \n",
        "    load_if_exists = True,\n",
        "    # parameters for OptKeras\n",
        "    monitor='val_error', # Either 'val_error' (1 - val_acc) or 'val_loss'\n",
        "    enable_pruning=True, \n",
        "    models_to_keep=1, # Either 1, 0, or -1 (save all models) \n",
        "    verbose=1 )\n",
        "\n",
        "optuna.logging.set_verbosity(optuna.logging.WARN)\n",
        "\n",
        "def objective(trial): \n",
        "    epochs = 10\n",
        "    \n",
        "    K.clear_session()   \n",
        "    model = Sequential()\n",
        "    \n",
        "    if trial.suggest_int('Conv', 0, 1):  \n",
        "        # 1 Convolution layer\n",
        "        i = 1\n",
        "        model.add(Conv2D(\n",
        "            filters = int(trial.suggest_discrete_uniform(\n",
        "                'Conv_{}_num_filters'.format(i), 32, 64, 32)), \n",
        "            kernel_size=tuple([trial.suggest_int(\n",
        "                'Conv_{}_kernel_size'.format(i), 2, 3)] * 2),\n",
        "            activation='relu',\n",
        "            input_shape = input_shape))\n",
        "        model.add(MaxPooling2D(pool_size=tuple([trial.suggest_int(\n",
        "                'Conv_{}_max_pooling_size'.format(i), 2, 3)] * 2)))\n",
        "        model.add(Dropout(trial.suggest_discrete_uniform(\n",
        "                'Conv_{}_dropout_rate'.format(i), 0, 0.5, 0.25) ))\n",
        "        model.add(Flatten())        \n",
        "    else:\n",
        "        model.add(Flatten(input_shape=input_shape))\n",
        "    # 2 Fully connected layers\n",
        "    for i in np.arange(2) + 1:\n",
        "        model.add(Dense(int(trial.suggest_discrete_uniform(\n",
        "            'FC_{}_num_hidden_units'.format(i), 256, 512, 256))))\n",
        "        if trial.suggest_int('FC_{}_batch_normalization'.format(i), 0, 1):\n",
        "            model.add(BatchNormalization())\n",
        "        model.add(Activation(trial.suggest_categorical(\n",
        "            'FC_{}_acivation'.format(i), ['relu'])))\n",
        "        model.add(Dropout(\n",
        "            trial.suggest_discrete_uniform(\n",
        "                'FC_{}_dropout_rate'.format(i), 0, 0.5, 0.25) ))\n",
        "        \n",
        "    # Output layer    \n",
        "    model.add(Dense(num_classes, activation='softmax'))\n",
        "    \n",
        "    optimizer_dict = { \\\n",
        "    #'Adagrad': Adagrad(),\n",
        "    'Adam': Adam() }\n",
        "    \n",
        "    model.compile(optimizer = optimizer_dict[\n",
        "        trial.suggest_categorical('Optimizer', list(optimizer_dict.keys()))],\n",
        "          loss='sparse_categorical_crossentropy', metrics=['accuracy'])    \n",
        "    \n",
        "    if ok.verbose >= 2: model.summary()\n",
        "    \n",
        "    batch_size = trial.suggest_int('Batch_size', 256, 256) \n",
        "    #batch_size = int(trial.suggest_discrete_uniform(\n",
        "    #                  'Batch_size', 256, 512, 256) )\n",
        "    data_augmentation = trial.suggest_int('Data_augmentation', 0, 1)\n",
        "    \n",
        "    if not data_augmentation:\n",
        "        # [Required] Specify callbacks(trial) in fit method\n",
        "        model.fit(x_train, y_train, batch_size = batch_size,\n",
        "                  epochs = epochs, validation_data = (x_test, y_test),\n",
        "                  shuffle = True,\n",
        "                  callbacks = ok.callbacks(trial), \n",
        "                  verbose = ok.keras_verbose )\n",
        "    \n",
        "    if data_augmentation:\n",
        "        # This will do preprocessing and realtime data augmentation:\n",
        "        datagen = ImageDataGenerator(\n",
        "            width_shift_range=[-1, 0, +1], # 1 pixel\n",
        "            height_shift_range=[-1, 0, +1], # 1 pixel\n",
        "            zoom_range=[0.95,1.05],  # set range for random zoom\n",
        "            horizontal_flip=False,  # disable horizontal flip\n",
        "            vertical_flip=False )  # disable vertical flip\n",
        "        datagen.fit(x_train)\n",
        "        # [Required] Specify callbacks(trial) in fit_generator method\n",
        "        model.fit_generator(datagen.flow(x_train, y_train, \n",
        "                                         batch_size=batch_size),\n",
        "                            epochs=epochs, validation_data=(x_test, y_test),\n",
        "                            steps_per_epoch=len(x_train) // batch_size,\n",
        "                            callbacks = ok.callbacks(trial), \n",
        "                            verbose = ok.keras_verbose )  \n",
        "    \n",
        "    # [Required] return trial_best_value (recommended) or latest_value\n",
        "    return ok.trial_best_value\n",
        "\n",
        "# Set n_trials and/or timeout (in sec) for optimization by Optuna\n",
        "ok.optimize(objective, n_trials=None, timeout = 0.5*60*60)"
      ],
      "execution_count": 10,
      "outputs": [
        {
          "output_type": "stream",
          "text": [
            "[2019-02-17 03:22:18.950760] Ready for optimization. (message printed as verbose is set to 1+)\n",
            "WARNING:tensorflow:From /usr/local/lib/python3.6/dist-packages/keras/backend/tensorflow_backend.py:3445: calling dropout (from tensorflow.python.ops.nn_ops) with keep_prob is deprecated and will be removed in a future version.\n",
            "Instructions for updating:\n",
            "Please use `rate` instead of `keep_prob`. Rate should be set to `rate = 1 - keep_prob`.\n",
            "[2019-02-17 03:22:19.762612] Latest trial id: None, value: None (None) | Best trial id: None, value: None, parameters: None\n",
            "[2019-02-17 03:22:44.720062] Latest trial id: 1, value: 0.020000000000000018 (TrialState.COMPLETE) | Best trial id: 1, value: 0.020000000000000018, parameters: {'Batch_size': 256, 'Conv': 0, 'Data_augmentation': 0, 'FC_1_acivation': 'relu', 'FC_1_batch_normalization': 1, 'FC_1_dropout_rate': 0.0, 'FC_1_num_hidden_units': 256.0, 'FC_2_acivation': 'relu', 'FC_2_batch_normalization': 1, 'FC_2_dropout_rate': 0.25, 'FC_2_num_hidden_units': 512.0, 'Optimizer': 'Adam'}\n",
            "[2019-02-17 03:25:36.284717] Latest trial id: 2, value: 0.010299999999999976 (TrialState.COMPLETE) | Best trial id: 2, value: 0.010299999999999976, parameters: {'Batch_size': 256, 'Conv': 1, 'Conv_1_dropout_rate': 0.5, 'Conv_1_kernel_size': 2, 'Conv_1_max_pooling_size': 2, 'Conv_1_num_filters': 32.0, 'Data_augmentation': 1, 'FC_1_acivation': 'relu', 'FC_1_batch_normalization': 0, 'FC_1_dropout_rate': 0.25, 'FC_1_num_hidden_units': 512.0, 'FC_2_acivation': 'relu', 'FC_2_batch_normalization': 0, 'FC_2_dropout_rate': 0.25, 'FC_2_num_hidden_units': 512.0, 'Optimizer': 'Adam'}\n",
            "[2019-02-17 03:26:19.671717] Latest trial id: 3, value: 0.010299999999999976 (TrialState.COMPLETE) | Best trial id: 2, value: 0.010299999999999976, parameters: {'Batch_size': 256, 'Conv': 1, 'Conv_1_dropout_rate': 0.5, 'Conv_1_kernel_size': 2, 'Conv_1_max_pooling_size': 2, 'Conv_1_num_filters': 32.0, 'Data_augmentation': 1, 'FC_1_acivation': 'relu', 'FC_1_batch_normalization': 0, 'FC_1_dropout_rate': 0.25, 'FC_1_num_hidden_units': 512.0, 'FC_2_acivation': 'relu', 'FC_2_batch_normalization': 0, 'FC_2_dropout_rate': 0.25, 'FC_2_num_hidden_units': 512.0, 'Optimizer': 'Adam'}\n",
            "[2019-02-17 03:29:07.814790] Latest trial id: 4, value: 0.008700000000000041 (TrialState.COMPLETE) | Best trial id: 4, value: 0.008700000000000041, parameters: {'Batch_size': 256, 'Conv': 1, 'Conv_1_dropout_rate': 0.5, 'Conv_1_kernel_size': 3, 'Conv_1_max_pooling_size': 2, 'Conv_1_num_filters': 32.0, 'Data_augmentation': 1, 'FC_1_acivation': 'relu', 'FC_1_batch_normalization': 1, 'FC_1_dropout_rate': 0.0, 'FC_1_num_hidden_units': 256.0, 'FC_2_acivation': 'relu', 'FC_2_batch_normalization': 0, 'FC_2_dropout_rate': 0.0, 'FC_2_num_hidden_units': 512.0, 'Optimizer': 'Adam'}\n",
            "[2019-02-17 03:36:54.741284] Latest trial id: 14, value: 0.007600000000000051 (TrialState.COMPLETE) | Best trial id: 14, value: 0.007600000000000051, parameters: {'Batch_size': 256, 'Conv': 1, 'Conv_1_dropout_rate': 0.25, 'Conv_1_kernel_size': 3, 'Conv_1_max_pooling_size': 2, 'Conv_1_num_filters': 64.0, 'Data_augmentation': 1, 'FC_1_acivation': 'relu', 'FC_1_batch_normalization': 0, 'FC_1_dropout_rate': 0.25, 'FC_1_num_hidden_units': 256.0, 'FC_2_acivation': 'relu', 'FC_2_batch_normalization': 0, 'FC_2_dropout_rate': 0.25, 'FC_2_num_hidden_units': 512.0, 'Optimizer': 'Adam'}\n",
            "[2019-02-17 03:44:29.871200] Latest trial id: 21, value: 0.00770000000000004 (TrialState.COMPLETE) | Best trial id: 14, value: 0.007600000000000051, parameters: {'Batch_size': 256, 'Conv': 1, 'Conv_1_dropout_rate': 0.25, 'Conv_1_kernel_size': 3, 'Conv_1_max_pooling_size': 2, 'Conv_1_num_filters': 64.0, 'Data_augmentation': 1, 'FC_1_acivation': 'relu', 'FC_1_batch_normalization': 0, 'FC_1_dropout_rate': 0.25, 'FC_1_num_hidden_units': 256.0, 'FC_2_acivation': 'relu', 'FC_2_batch_normalization': 0, 'FC_2_dropout_rate': 0.25, 'FC_2_num_hidden_units': 512.0, 'Optimizer': 'Adam'}\n"
          ],
          "name": "stdout"
        }
      ]
    },
    {
      "metadata": {
        "id": "auoF6dt0sWCl",
        "colab_type": "text"
      },
      "cell_type": "markdown",
      "source": [
        "## Check the results"
      ]
    },
    {
      "metadata": {
        "id": "6y5SKUF9qXlp",
        "colab_type": "code",
        "colab": {
          "base_uri": "https://localhost:8080/",
          "height": 345
        },
        "outputId": "fb72cf67-a353-428d-da8a-59959b049c8c"
      },
      "cell_type": "code",
      "source": [
        "# OptKeras best_trial returns \n",
        "print('Best trial id: ', ok.best_trial.trial_id)\n",
        "print('Best value:', ok.best_trial.value)\n",
        "print('Best params: ')\n",
        "ok.best_trial.params"
      ],
      "execution_count": 11,
      "outputs": [
        {
          "output_type": "stream",
          "text": [
            "Best trial id:  14\n",
            "Best value: 0.007600000000000051\n",
            "Best params: \n"
          ],
          "name": "stdout"
        },
        {
          "output_type": "execute_result",
          "data": {
            "text/plain": [
              "{'Batch_size': 256,\n",
              " 'Conv': 1,\n",
              " 'Conv_1_dropout_rate': 0.25,\n",
              " 'Conv_1_kernel_size': 3,\n",
              " 'Conv_1_max_pooling_size': 2,\n",
              " 'Conv_1_num_filters': 64.0,\n",
              " 'Data_augmentation': 1,\n",
              " 'FC_1_acivation': 'relu',\n",
              " 'FC_1_batch_normalization': 0,\n",
              " 'FC_1_dropout_rate': 0.25,\n",
              " 'FC_1_num_hidden_units': 256.0,\n",
              " 'FC_2_acivation': 'relu',\n",
              " 'FC_2_batch_normalization': 0,\n",
              " 'FC_2_dropout_rate': 0.25,\n",
              " 'FC_2_num_hidden_units': 512.0,\n",
              " 'Optimizer': 'Adam'}"
            ]
          },
          "metadata": {
            "tags": []
          },
          "execution_count": 11
        }
      ]
    },
    {
      "metadata": {
        "id": "_3VjUGT7AVqO",
        "colab_type": "code",
        "colab": {
          "base_uri": "https://localhost:8080/",
          "height": 293
        },
        "outputId": "026828e9-348d-40a0-8ad5-c8af36ce31b5"
      },
      "cell_type": "code",
      "source": [
        "\"\"\"\n",
        "Alternatively, you can access Optuna's study object to, for example, \n",
        "get the best parameters as well.\n",
        "Please note that study.best_trial returns error if optimization trials \n",
        "were not completed (e.g. if you interupt execution) as of Optuna 0.7.0, \n",
        "so usage of OptKeras is recommended.\n",
        "\"\"\"\n",
        "study = ok.study\n",
        "study.best_trial.params "
      ],
      "execution_count": 12,
      "outputs": [
        {
          "output_type": "execute_result",
          "data": {
            "text/plain": [
              "{'Batch_size': 256,\n",
              " 'Conv': 1,\n",
              " 'Conv_1_dropout_rate': 0.25,\n",
              " 'Conv_1_kernel_size': 3,\n",
              " 'Conv_1_max_pooling_size': 2,\n",
              " 'Conv_1_num_filters': 64.0,\n",
              " 'Data_augmentation': 1,\n",
              " 'FC_1_acivation': 'relu',\n",
              " 'FC_1_batch_normalization': 0,\n",
              " 'FC_1_dropout_rate': 0.25,\n",
              " 'FC_1_num_hidden_units': 256.0,\n",
              " 'FC_2_acivation': 'relu',\n",
              " 'FC_2_batch_normalization': 0,\n",
              " 'FC_2_dropout_rate': 0.25,\n",
              " 'FC_2_num_hidden_units': 512.0,\n",
              " 'Optimizer': 'Adam'}"
            ]
          },
          "metadata": {
            "tags": []
          },
          "execution_count": 12
        }
      ]
    },
    {
      "metadata": {
        "id": "uTGnnvpDF5IE",
        "colab_type": "code",
        "colab": {
          "base_uri": "https://localhost:8080/",
          "height": 549
        },
        "outputId": "c45a72d2-a04c-4803-a135-ded549671c6d"
      },
      "cell_type": "code",
      "source": [
        "## Check the Optuna CSV log file \n",
        "pd.options.display.max_rows = 8 # limit rows to display\n",
        "print('Data Frame read from', ok.optuna_log_file_path, '\\n')\n",
        "pd.read_csv(ok.optuna_log_file_path)"
      ],
      "execution_count": 13,
      "outputs": [
        {
          "output_type": "stream",
          "text": [
            "Data Frame read from MNIST_Optimized_Optuna.csv \n",
            "\n"
          ],
          "name": "stdout"
        },
        {
          "output_type": "execute_result",
          "data": {
            "text/html": [
              "<div>\n",
              "<style scoped>\n",
              "    .dataframe tbody tr th:only-of-type {\n",
              "        vertical-align: middle;\n",
              "    }\n",
              "\n",
              "    .dataframe tbody tr th {\n",
              "        vertical-align: top;\n",
              "    }\n",
              "\n",
              "    .dataframe thead th {\n",
              "        text-align: right;\n",
              "    }\n",
              "</style>\n",
              "<table border=\"1\" class=\"dataframe\">\n",
              "  <thead>\n",
              "    <tr style=\"text-align: right;\">\n",
              "      <th></th>\n",
              "      <th>trial_id</th>\n",
              "      <th>state</th>\n",
              "      <th>value</th>\n",
              "      <th>datetime_start</th>\n",
              "      <th>datetime_complete</th>\n",
              "      <th>Batch_size</th>\n",
              "      <th>Conv</th>\n",
              "      <th>Conv_1_dropout_rate</th>\n",
              "      <th>Conv_1_kernel_size</th>\n",
              "      <th>Conv_1_max_pooling_size</th>\n",
              "      <th>...</th>\n",
              "      <th>intermediate_values_0</th>\n",
              "      <th>intermediate_values_1</th>\n",
              "      <th>intermediate_values_2</th>\n",
              "      <th>intermediate_values_3</th>\n",
              "      <th>intermediate_values_4</th>\n",
              "      <th>intermediate_values_5</th>\n",
              "      <th>intermediate_values_6</th>\n",
              "      <th>intermediate_values_7</th>\n",
              "      <th>intermediate_values_8</th>\n",
              "      <th>intermediate_values_9</th>\n",
              "    </tr>\n",
              "  </thead>\n",
              "  <tbody>\n",
              "    <tr>\n",
              "      <th>0</th>\n",
              "      <td>1</td>\n",
              "      <td>TrialState.COMPLETE</td>\n",
              "      <td>0.0200</td>\n",
              "      <td>2019-02-17 03:22:18.962472</td>\n",
              "      <td>2019-02-17 03:22:43.735627</td>\n",
              "      <td>256</td>\n",
              "      <td>0</td>\n",
              "      <td>NaN</td>\n",
              "      <td>NaN</td>\n",
              "      <td>NaN</td>\n",
              "      <td>...</td>\n",
              "      <td>0.0392</td>\n",
              "      <td>0.0292</td>\n",
              "      <td>0.0279</td>\n",
              "      <td>0.0252</td>\n",
              "      <td>0.0214</td>\n",
              "      <td>0.0193</td>\n",
              "      <td>0.0196</td>\n",
              "      <td>0.0207</td>\n",
              "      <td>0.0214</td>\n",
              "      <td>0.0200</td>\n",
              "    </tr>\n",
              "    <tr>\n",
              "      <th>1</th>\n",
              "      <td>2</td>\n",
              "      <td>TrialState.COMPLETE</td>\n",
              "      <td>0.0103</td>\n",
              "      <td>2019-02-17 03:22:43.771368</td>\n",
              "      <td>2019-02-17 03:25:35.289416</td>\n",
              "      <td>256</td>\n",
              "      <td>1</td>\n",
              "      <td>0.5</td>\n",
              "      <td>2.0</td>\n",
              "      <td>2.0</td>\n",
              "      <td>...</td>\n",
              "      <td>0.0250</td>\n",
              "      <td>0.0190</td>\n",
              "      <td>0.0157</td>\n",
              "      <td>0.0122</td>\n",
              "      <td>0.0114</td>\n",
              "      <td>0.0114</td>\n",
              "      <td>0.0115</td>\n",
              "      <td>0.0118</td>\n",
              "      <td>0.0106</td>\n",
              "      <td>0.0103</td>\n",
              "    </tr>\n",
              "    <tr>\n",
              "      <th>2</th>\n",
              "      <td>3</td>\n",
              "      <td>TrialState.COMPLETE</td>\n",
              "      <td>0.0103</td>\n",
              "      <td>2019-02-17 03:25:35.328963</td>\n",
              "      <td>2019-02-17 03:26:18.581397</td>\n",
              "      <td>256</td>\n",
              "      <td>1</td>\n",
              "      <td>0.5</td>\n",
              "      <td>3.0</td>\n",
              "      <td>2.0</td>\n",
              "      <td>...</td>\n",
              "      <td>0.0201</td>\n",
              "      <td>0.0156</td>\n",
              "      <td>0.0126</td>\n",
              "      <td>0.0128</td>\n",
              "      <td>0.0105</td>\n",
              "      <td>0.0119</td>\n",
              "      <td>0.0109</td>\n",
              "      <td>0.0101</td>\n",
              "      <td>0.0096</td>\n",
              "      <td>0.0103</td>\n",
              "    </tr>\n",
              "    <tr>\n",
              "      <th>3</th>\n",
              "      <td>4</td>\n",
              "      <td>TrialState.COMPLETE</td>\n",
              "      <td>0.0087</td>\n",
              "      <td>2019-02-17 03:26:18.624491</td>\n",
              "      <td>2019-02-17 03:29:06.782529</td>\n",
              "      <td>256</td>\n",
              "      <td>1</td>\n",
              "      <td>0.5</td>\n",
              "      <td>3.0</td>\n",
              "      <td>2.0</td>\n",
              "      <td>...</td>\n",
              "      <td>0.0153</td>\n",
              "      <td>0.0156</td>\n",
              "      <td>0.0171</td>\n",
              "      <td>0.0103</td>\n",
              "      <td>0.0096</td>\n",
              "      <td>0.0081</td>\n",
              "      <td>0.0087</td>\n",
              "      <td>0.0081</td>\n",
              "      <td>0.0081</td>\n",
              "      <td>0.0087</td>\n",
              "    </tr>\n",
              "    <tr>\n",
              "      <th>...</th>\n",
              "      <td>...</td>\n",
              "      <td>...</td>\n",
              "      <td>...</td>\n",
              "      <td>...</td>\n",
              "      <td>...</td>\n",
              "      <td>...</td>\n",
              "      <td>...</td>\n",
              "      <td>...</td>\n",
              "      <td>...</td>\n",
              "      <td>...</td>\n",
              "      <td>...</td>\n",
              "      <td>...</td>\n",
              "      <td>...</td>\n",
              "      <td>...</td>\n",
              "      <td>...</td>\n",
              "      <td>...</td>\n",
              "      <td>...</td>\n",
              "      <td>...</td>\n",
              "      <td>...</td>\n",
              "      <td>...</td>\n",
              "      <td>...</td>\n",
              "    </tr>\n",
              "    <tr>\n",
              "      <th>32</th>\n",
              "      <td>33</td>\n",
              "      <td>TrialState.PRUNED</td>\n",
              "      <td>0.0173</td>\n",
              "      <td>2019-02-17 03:50:08.367605</td>\n",
              "      <td>2019-02-17 03:50:19.196433</td>\n",
              "      <td>256</td>\n",
              "      <td>1</td>\n",
              "      <td>0.0</td>\n",
              "      <td>2.0</td>\n",
              "      <td>3.0</td>\n",
              "      <td>...</td>\n",
              "      <td>0.0338</td>\n",
              "      <td>0.0173</td>\n",
              "      <td>NaN</td>\n",
              "      <td>NaN</td>\n",
              "      <td>NaN</td>\n",
              "      <td>NaN</td>\n",
              "      <td>NaN</td>\n",
              "      <td>NaN</td>\n",
              "      <td>NaN</td>\n",
              "      <td>NaN</td>\n",
              "    </tr>\n",
              "    <tr>\n",
              "      <th>33</th>\n",
              "      <td>34</td>\n",
              "      <td>TrialState.PRUNED</td>\n",
              "      <td>0.0097</td>\n",
              "      <td>2019-02-17 03:50:19.231568</td>\n",
              "      <td>2019-02-17 03:51:46.539676</td>\n",
              "      <td>256</td>\n",
              "      <td>1</td>\n",
              "      <td>0.0</td>\n",
              "      <td>3.0</td>\n",
              "      <td>2.0</td>\n",
              "      <td>...</td>\n",
              "      <td>0.0196</td>\n",
              "      <td>0.0153</td>\n",
              "      <td>0.0119</td>\n",
              "      <td>0.0140</td>\n",
              "      <td>0.0097</td>\n",
              "      <td>NaN</td>\n",
              "      <td>NaN</td>\n",
              "      <td>NaN</td>\n",
              "      <td>NaN</td>\n",
              "      <td>NaN</td>\n",
              "    </tr>\n",
              "    <tr>\n",
              "      <th>34</th>\n",
              "      <td>35</td>\n",
              "      <td>TrialState.PRUNED</td>\n",
              "      <td>0.0315</td>\n",
              "      <td>2019-02-17 03:51:46.582991</td>\n",
              "      <td>2019-02-17 03:51:55.964161</td>\n",
              "      <td>256</td>\n",
              "      <td>0</td>\n",
              "      <td>NaN</td>\n",
              "      <td>NaN</td>\n",
              "      <td>NaN</td>\n",
              "      <td>...</td>\n",
              "      <td>0.0461</td>\n",
              "      <td>0.0315</td>\n",
              "      <td>NaN</td>\n",
              "      <td>NaN</td>\n",
              "      <td>NaN</td>\n",
              "      <td>NaN</td>\n",
              "      <td>NaN</td>\n",
              "      <td>NaN</td>\n",
              "      <td>NaN</td>\n",
              "      <td>NaN</td>\n",
              "    </tr>\n",
              "    <tr>\n",
              "      <th>35</th>\n",
              "      <td>36</td>\n",
              "      <td>TrialState.PRUNED</td>\n",
              "      <td>0.0242</td>\n",
              "      <td>2019-02-17 03:51:56.012677</td>\n",
              "      <td>2019-02-17 03:52:30.565889</td>\n",
              "      <td>256</td>\n",
              "      <td>0</td>\n",
              "      <td>NaN</td>\n",
              "      <td>NaN</td>\n",
              "      <td>NaN</td>\n",
              "      <td>...</td>\n",
              "      <td>0.0328</td>\n",
              "      <td>0.0242</td>\n",
              "      <td>NaN</td>\n",
              "      <td>NaN</td>\n",
              "      <td>NaN</td>\n",
              "      <td>NaN</td>\n",
              "      <td>NaN</td>\n",
              "      <td>NaN</td>\n",
              "      <td>NaN</td>\n",
              "      <td>NaN</td>\n",
              "    </tr>\n",
              "  </tbody>\n",
              "</table>\n",
              "<p>36 rows × 43 columns</p>\n",
              "</div>"
            ],
            "text/plain": [
              "    trial_id                state   value              datetime_start  \\\n",
              "0          1  TrialState.COMPLETE  0.0200  2019-02-17 03:22:18.962472   \n",
              "1          2  TrialState.COMPLETE  0.0103  2019-02-17 03:22:43.771368   \n",
              "2          3  TrialState.COMPLETE  0.0103  2019-02-17 03:25:35.328963   \n",
              "3          4  TrialState.COMPLETE  0.0087  2019-02-17 03:26:18.624491   \n",
              "..       ...                  ...     ...                         ...   \n",
              "32        33    TrialState.PRUNED  0.0173  2019-02-17 03:50:08.367605   \n",
              "33        34    TrialState.PRUNED  0.0097  2019-02-17 03:50:19.231568   \n",
              "34        35    TrialState.PRUNED  0.0315  2019-02-17 03:51:46.582991   \n",
              "35        36    TrialState.PRUNED  0.0242  2019-02-17 03:51:56.012677   \n",
              "\n",
              "             datetime_complete  Batch_size  Conv  Conv_1_dropout_rate  \\\n",
              "0   2019-02-17 03:22:43.735627         256     0                  NaN   \n",
              "1   2019-02-17 03:25:35.289416         256     1                  0.5   \n",
              "2   2019-02-17 03:26:18.581397         256     1                  0.5   \n",
              "3   2019-02-17 03:29:06.782529         256     1                  0.5   \n",
              "..                         ...         ...   ...                  ...   \n",
              "32  2019-02-17 03:50:19.196433         256     1                  0.0   \n",
              "33  2019-02-17 03:51:46.539676         256     1                  0.0   \n",
              "34  2019-02-17 03:51:55.964161         256     0                  NaN   \n",
              "35  2019-02-17 03:52:30.565889         256     0                  NaN   \n",
              "\n",
              "    Conv_1_kernel_size  Conv_1_max_pooling_size          ...            \\\n",
              "0                  NaN                      NaN          ...             \n",
              "1                  2.0                      2.0          ...             \n",
              "2                  3.0                      2.0          ...             \n",
              "3                  3.0                      2.0          ...             \n",
              "..                 ...                      ...          ...             \n",
              "32                 2.0                      3.0          ...             \n",
              "33                 3.0                      2.0          ...             \n",
              "34                 NaN                      NaN          ...             \n",
              "35                 NaN                      NaN          ...             \n",
              "\n",
              "    intermediate_values_0  intermediate_values_1 intermediate_values_2  \\\n",
              "0                  0.0392                 0.0292                0.0279   \n",
              "1                  0.0250                 0.0190                0.0157   \n",
              "2                  0.0201                 0.0156                0.0126   \n",
              "3                  0.0153                 0.0156                0.0171   \n",
              "..                    ...                    ...                   ...   \n",
              "32                 0.0338                 0.0173                   NaN   \n",
              "33                 0.0196                 0.0153                0.0119   \n",
              "34                 0.0461                 0.0315                   NaN   \n",
              "35                 0.0328                 0.0242                   NaN   \n",
              "\n",
              "    intermediate_values_3  intermediate_values_4  intermediate_values_5  \\\n",
              "0                  0.0252                 0.0214                 0.0193   \n",
              "1                  0.0122                 0.0114                 0.0114   \n",
              "2                  0.0128                 0.0105                 0.0119   \n",
              "3                  0.0103                 0.0096                 0.0081   \n",
              "..                    ...                    ...                    ...   \n",
              "32                    NaN                    NaN                    NaN   \n",
              "33                 0.0140                 0.0097                    NaN   \n",
              "34                    NaN                    NaN                    NaN   \n",
              "35                    NaN                    NaN                    NaN   \n",
              "\n",
              "   intermediate_values_6  intermediate_values_7  intermediate_values_8  \\\n",
              "0                 0.0196                 0.0207                 0.0214   \n",
              "1                 0.0115                 0.0118                 0.0106   \n",
              "2                 0.0109                 0.0101                 0.0096   \n",
              "3                 0.0087                 0.0081                 0.0081   \n",
              "..                   ...                    ...                    ...   \n",
              "32                   NaN                    NaN                    NaN   \n",
              "33                   NaN                    NaN                    NaN   \n",
              "34                   NaN                    NaN                    NaN   \n",
              "35                   NaN                    NaN                    NaN   \n",
              "\n",
              "    intermediate_values_9  \n",
              "0                  0.0200  \n",
              "1                  0.0103  \n",
              "2                  0.0103  \n",
              "3                  0.0087  \n",
              "..                    ...  \n",
              "32                    NaN  \n",
              "33                    NaN  \n",
              "34                    NaN  \n",
              "35                    NaN  \n",
              "\n",
              "[36 rows x 43 columns]"
            ]
          },
          "metadata": {
            "tags": []
          },
          "execution_count": 13
        }
      ]
    },
    {
      "metadata": {
        "id": "aECKs3b8bR6o",
        "colab_type": "code",
        "colab": {
          "base_uri": "https://localhost:8080/",
          "height": 391
        },
        "outputId": "f558d907-40c2-48c9-dd8e-0b98ef52562f"
      },
      "cell_type": "code",
      "source": [
        "## Check the Keras CSV log file\n",
        "\n",
        "pd.options.display.max_rows = 8 # limit rows to display\n",
        "print('Data Frame read from', ok.keras_log_file_path, '\\n')\n",
        "pd.read_csv(ok.keras_log_file_path)"
      ],
      "execution_count": 14,
      "outputs": [
        {
          "output_type": "stream",
          "text": [
            "Data Frame read from MNIST_Optimized_Keras.csv \n",
            "\n"
          ],
          "name": "stdout"
        },
        {
          "output_type": "execute_result",
          "data": {
            "text/html": [
              "<div>\n",
              "<style scoped>\n",
              "    .dataframe tbody tr th:only-of-type {\n",
              "        vertical-align: middle;\n",
              "    }\n",
              "\n",
              "    .dataframe tbody tr th {\n",
              "        vertical-align: top;\n",
              "    }\n",
              "\n",
              "    .dataframe thead th {\n",
              "        text-align: right;\n",
              "    }\n",
              "</style>\n",
              "<table border=\"1\" class=\"dataframe\">\n",
              "  <thead>\n",
              "    <tr style=\"text-align: right;\">\n",
              "      <th></th>\n",
              "      <th>epoch</th>\n",
              "      <th>_Datetime_epoch_begin</th>\n",
              "      <th>_Datetime_epoch_end</th>\n",
              "      <th>_Monitor</th>\n",
              "      <th>_Trial_id</th>\n",
              "      <th>acc</th>\n",
              "      <th>error</th>\n",
              "      <th>loss</th>\n",
              "      <th>val_acc</th>\n",
              "      <th>val_error</th>\n",
              "      <th>val_loss</th>\n",
              "    </tr>\n",
              "  </thead>\n",
              "  <tbody>\n",
              "    <tr>\n",
              "      <th>0</th>\n",
              "      <td>0</td>\n",
              "      <td>2019-02-17 03:22:20.750218</td>\n",
              "      <td>2019-02-17 03:22:23.355337</td>\n",
              "      <td>val_error</td>\n",
              "      <td>1</td>\n",
              "      <td>0.929817</td>\n",
              "      <td>0.070183</td>\n",
              "      <td>0.228616</td>\n",
              "      <td>0.9608</td>\n",
              "      <td>0.0392</td>\n",
              "      <td>0.125338</td>\n",
              "    </tr>\n",
              "    <tr>\n",
              "      <th>1</th>\n",
              "      <td>1</td>\n",
              "      <td>2019-02-17 03:22:23.845494</td>\n",
              "      <td>2019-02-17 03:22:25.771266</td>\n",
              "      <td>val_error</td>\n",
              "      <td>1</td>\n",
              "      <td>0.973300</td>\n",
              "      <td>0.026700</td>\n",
              "      <td>0.085822</td>\n",
              "      <td>0.9708</td>\n",
              "      <td>0.0292</td>\n",
              "      <td>0.096068</td>\n",
              "    </tr>\n",
              "    <tr>\n",
              "      <th>2</th>\n",
              "      <td>2</td>\n",
              "      <td>2019-02-17 03:22:26.091224</td>\n",
              "      <td>2019-02-17 03:22:28.035295</td>\n",
              "      <td>val_error</td>\n",
              "      <td>1</td>\n",
              "      <td>0.983083</td>\n",
              "      <td>0.016917</td>\n",
              "      <td>0.055466</td>\n",
              "      <td>0.9721</td>\n",
              "      <td>0.0279</td>\n",
              "      <td>0.088066</td>\n",
              "    </tr>\n",
              "    <tr>\n",
              "      <th>3</th>\n",
              "      <td>3</td>\n",
              "      <td>2019-02-17 03:22:28.341721</td>\n",
              "      <td>2019-02-17 03:22:30.278312</td>\n",
              "      <td>val_error</td>\n",
              "      <td>1</td>\n",
              "      <td>0.988050</td>\n",
              "      <td>0.011950</td>\n",
              "      <td>0.039195</td>\n",
              "      <td>0.9748</td>\n",
              "      <td>0.0252</td>\n",
              "      <td>0.080062</td>\n",
              "    </tr>\n",
              "    <tr>\n",
              "      <th>...</th>\n",
              "      <td>...</td>\n",
              "      <td>...</td>\n",
              "      <td>...</td>\n",
              "      <td>...</td>\n",
              "      <td>...</td>\n",
              "      <td>...</td>\n",
              "      <td>...</td>\n",
              "      <td>...</td>\n",
              "      <td>...</td>\n",
              "      <td>...</td>\n",
              "      <td>...</td>\n",
              "    </tr>\n",
              "    <tr>\n",
              "      <th>131</th>\n",
              "      <td>0</td>\n",
              "      <td>2019-02-17 03:51:49.455350</td>\n",
              "      <td>2019-02-17 03:51:52.219222</td>\n",
              "      <td>val_error</td>\n",
              "      <td>35</td>\n",
              "      <td>0.904183</td>\n",
              "      <td>0.095817</td>\n",
              "      <td>0.314823</td>\n",
              "      <td>0.9539</td>\n",
              "      <td>0.0461</td>\n",
              "      <td>0.145614</td>\n",
              "    </tr>\n",
              "    <tr>\n",
              "      <th>132</th>\n",
              "      <td>1</td>\n",
              "      <td>2019-02-17 03:51:53.110567</td>\n",
              "      <td>2019-02-17 03:51:55.198372</td>\n",
              "      <td>val_error</td>\n",
              "      <td>35</td>\n",
              "      <td>0.954833</td>\n",
              "      <td>0.045167</td>\n",
              "      <td>0.146437</td>\n",
              "      <td>0.9685</td>\n",
              "      <td>0.0315</td>\n",
              "      <td>0.099852</td>\n",
              "    </tr>\n",
              "    <tr>\n",
              "      <th>133</th>\n",
              "      <td>0</td>\n",
              "      <td>2019-02-17 03:51:58.102622</td>\n",
              "      <td>2019-02-17 03:52:13.367637</td>\n",
              "      <td>val_error</td>\n",
              "      <td>36</td>\n",
              "      <td>0.891176</td>\n",
              "      <td>0.108824</td>\n",
              "      <td>0.373676</td>\n",
              "      <td>0.9672</td>\n",
              "      <td>0.0328</td>\n",
              "      <td>0.110411</td>\n",
              "    </tr>\n",
              "    <tr>\n",
              "      <th>134</th>\n",
              "      <td>1</td>\n",
              "      <td>2019-02-17 03:52:14.547104</td>\n",
              "      <td>2019-02-17 03:52:28.910951</td>\n",
              "      <td>val_error</td>\n",
              "      <td>36</td>\n",
              "      <td>0.958456</td>\n",
              "      <td>0.041544</td>\n",
              "      <td>0.137814</td>\n",
              "      <td>0.9758</td>\n",
              "      <td>0.0242</td>\n",
              "      <td>0.077835</td>\n",
              "    </tr>\n",
              "  </tbody>\n",
              "</table>\n",
              "<p>135 rows × 11 columns</p>\n",
              "</div>"
            ],
            "text/plain": [
              "     epoch       _Datetime_epoch_begin         _Datetime_epoch_end   _Monitor  \\\n",
              "0        0  2019-02-17 03:22:20.750218  2019-02-17 03:22:23.355337  val_error   \n",
              "1        1  2019-02-17 03:22:23.845494  2019-02-17 03:22:25.771266  val_error   \n",
              "2        2  2019-02-17 03:22:26.091224  2019-02-17 03:22:28.035295  val_error   \n",
              "3        3  2019-02-17 03:22:28.341721  2019-02-17 03:22:30.278312  val_error   \n",
              "..     ...                         ...                         ...        ...   \n",
              "131      0  2019-02-17 03:51:49.455350  2019-02-17 03:51:52.219222  val_error   \n",
              "132      1  2019-02-17 03:51:53.110567  2019-02-17 03:51:55.198372  val_error   \n",
              "133      0  2019-02-17 03:51:58.102622  2019-02-17 03:52:13.367637  val_error   \n",
              "134      1  2019-02-17 03:52:14.547104  2019-02-17 03:52:28.910951  val_error   \n",
              "\n",
              "     _Trial_id       acc     error      loss  val_acc  val_error  val_loss  \n",
              "0            1  0.929817  0.070183  0.228616   0.9608     0.0392  0.125338  \n",
              "1            1  0.973300  0.026700  0.085822   0.9708     0.0292  0.096068  \n",
              "2            1  0.983083  0.016917  0.055466   0.9721     0.0279  0.088066  \n",
              "3            1  0.988050  0.011950  0.039195   0.9748     0.0252  0.080062  \n",
              "..         ...       ...       ...       ...      ...        ...       ...  \n",
              "131         35  0.904183  0.095817  0.314823   0.9539     0.0461  0.145614  \n",
              "132         35  0.954833  0.045167  0.146437   0.9685     0.0315  0.099852  \n",
              "133         36  0.891176  0.108824  0.373676   0.9672     0.0328  0.110411  \n",
              "134         36  0.958456  0.041544  0.137814   0.9758     0.0242  0.077835  \n",
              "\n",
              "[135 rows x 11 columns]"
            ]
          },
          "metadata": {
            "tags": []
          },
          "execution_count": 14
        }
      ]
    }
  ]
}