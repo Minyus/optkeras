{
  "nbformat": 4,
  "nbformat_minor": 0,
  "metadata": {
    "colab": {
      "name": "OptKeras_Example.ipynb",
      "version": "0.3.2",
      "provenance": [],
      "collapsed_sections": []
    },
    "kernelspec": {
      "name": "python3",
      "display_name": "Python 3"
    },
    "accelerator": "GPU"
  },
  "cells": [
    {
      "metadata": {
        "id": "adlTq181lzrT",
        "colab_type": "text"
      },
      "cell_type": "markdown",
      "source": [
        "This notebook demonstrates how to use OptKeras, a Python wrapper around Keras and Optuna"
      ]
    },
    {
      "metadata": {
        "id": "U087RvP2l0ew",
        "colab_type": "text"
      },
      "cell_type": "markdown",
      "source": [
        "##  Set up Google Colab environment\n",
        "\n",
        "To run in Google Colab, specify a directory in Google Drive. (GPU is recommended.)\n",
        "\n",
        "To run in an environment other than Google Colab, just skip this code."
      ]
    },
    {
      "metadata": {
        "id": "2M7KQx6HV40_",
        "colab_type": "code",
        "outputId": "54dad8ec-aa30-46ad-ec12-926f842efd78",
        "colab": {
          "base_uri": "https://localhost:8080/",
          "height": 837
        }
      },
      "cell_type": "code",
      "source": [
        "try:\n",
        "    # Mount Google Drive\n",
        "    from google.colab import drive\n",
        "    drive.mount('/content/drive')\n",
        "    import os\n",
        "    # Specify a directory in Google Drive (Modify as in your Google Drive)\n",
        "    dir = '/content/drive/My Drive/Colab Notebooks/OptKeras'\n",
        "    os.chdir(dir)    \n",
        "    # Check the environment info\n",
        "    print('## Current working directory: ', os.getcwd())\n",
        "    print('## Check the uptime. (Google Colab reboots every 12 hours)')\n",
        "    !cat /proc/uptime | awk '{print \"Uptime is \" $1 /60 /60 \" hours (\" $1 \" sec)\"}'\n",
        "    print('## Check the GPU info')\n",
        "    !nvidia-smi\n",
        "    print('## Check the OS') \n",
        "    !cat /etc/issue\n",
        "    print('## Check the Python version') \n",
        "    !python --version\n",
        "    print('## Check the memory')\n",
        "    !free -h\n",
        "    print('## Check the disk')\n",
        "    !df -h\n",
        "except:\n",
        "    print('Run the code assuming the environment is not Google Colab.')"
      ],
      "execution_count": 1,
      "outputs": [
        {
          "output_type": "stream",
          "text": [
            "Go to this URL in a browser: https://accounts.google.com/o/oauth2/auth?client_id=947318989803-6bn6qk8qdgf4n4g3pfee6491hc0brc4i.apps.googleusercontent.com&redirect_uri=urn%3Aietf%3Awg%3Aoauth%3A2.0%3Aoob&scope=email%20https%3A%2F%2Fwww.googleapis.com%2Fauth%2Fdocs.test%20https%3A%2F%2Fwww.googleapis.com%2Fauth%2Fdrive%20https%3A%2F%2Fwww.googleapis.com%2Fauth%2Fdrive.photos.readonly%20https%3A%2F%2Fwww.googleapis.com%2Fauth%2Fpeopleapi.readonly&response_type=code\n",
            "\n",
            "Enter your authorization code:\n",
            "··········\n",
            "Mounted at /content/drive\n",
            "## Current working directory:  /content/drive/My Drive/Colab Notebooks/OptKeras\n",
            "## Check the uptime. (Google Colab reboots every 12 hours)\n",
            "Uptime is 0.0734528 hours (264.43 sec)\n",
            "## Check the GPU info\n",
            "Tue Feb 19 06:04:52 2019       \n",
            "+-----------------------------------------------------------------------------+\n",
            "| NVIDIA-SMI 410.79       Driver Version: 410.79       CUDA Version: 10.0     |\n",
            "|-------------------------------+----------------------+----------------------+\n",
            "| GPU  Name        Persistence-M| Bus-Id        Disp.A | Volatile Uncorr. ECC |\n",
            "| Fan  Temp  Perf  Pwr:Usage/Cap|         Memory-Usage | GPU-Util  Compute M. |\n",
            "|===============================+======================+======================|\n",
            "|   0  Tesla K80           Off  | 00000000:00:04.0 Off |                    0 |\n",
            "| N/A   63C    P8    31W / 149W |      0MiB / 11441MiB |      0%      Default |\n",
            "+-------------------------------+----------------------+----------------------+\n",
            "                                                                               \n",
            "+-----------------------------------------------------------------------------+\n",
            "| Processes:                                                       GPU Memory |\n",
            "|  GPU       PID   Type   Process name                             Usage      |\n",
            "|=============================================================================|\n",
            "|  No running processes found                                                 |\n",
            "+-----------------------------------------------------------------------------+\n",
            "## Check the OS\n",
            "Ubuntu 18.04.1 LTS \\n \\l\n",
            "\n",
            "## Check the Python version\n",
            "Python 3.6.7\n",
            "## Check the memory\n",
            "              total        used        free      shared  buff/cache   available\n",
            "Mem:            12G        447M         10G        904K        1.8G         12G\n",
            "Swap:            0B          0B          0B\n",
            "## Check the disk\n",
            "Filesystem      Size  Used Avail Use% Mounted on\n",
            "overlay         359G   22G  319G   7% /\n",
            "tmpfs           6.4G     0  6.4G   0% /dev\n",
            "tmpfs           6.4G     0  6.4G   0% /sys/fs/cgroup\n",
            "/dev/sda1       365G   26G  340G   7% /opt/bin\n",
            "tmpfs           6.4G   12K  6.4G   1% /var/colab\n",
            "shm             6.0G     0  6.0G   0% /dev/shm\n",
            "tmpfs           6.4G     0  6.4G   0% /sys/firmware\n",
            "drive           200G   14G  187G   7% /content/drive\n"
          ],
          "name": "stdout"
        }
      ]
    },
    {
      "metadata": {
        "id": "it4-DX10mqlB",
        "colab_type": "text"
      },
      "cell_type": "markdown",
      "source": [
        "## Install Optuna 0.7.0"
      ]
    },
    {
      "metadata": {
        "id": "XeNktIMgWNOg",
        "colab_type": "code",
        "outputId": "93a9764f-d225-48d5-ec41-68c966f750b2",
        "colab": {
          "base_uri": "https://localhost:8080/",
          "height": 728
        }
      },
      "cell_type": "code",
      "source": [
        "!pip install optuna==0.7.0"
      ],
      "execution_count": 2,
      "outputs": [
        {
          "output_type": "stream",
          "text": [
            "Collecting optuna==0.7.0\n",
            "\u001b[?25l  Downloading https://files.pythonhosted.org/packages/2e/2c/946b73a073761a0dc68235ef92829b47d82c6f807e8767e0f84b09c98c0f/optuna-0.7.0.tar.gz (60kB)\n",
            "\u001b[K    100% |████████████████████████████████| 61kB 3.0MB/s \n",
            "\u001b[?25hRequirement already satisfied: sqlalchemy>=1.1.0 in /usr/local/lib/python3.6/dist-packages (from optuna==0.7.0) (1.2.17)\n",
            "Requirement already satisfied: numpy in /usr/local/lib/python3.6/dist-packages (from optuna==0.7.0) (1.14.6)\n",
            "Requirement already satisfied: scipy in /usr/local/lib/python3.6/dist-packages (from optuna==0.7.0) (1.1.0)\n",
            "Requirement already satisfied: six in /usr/local/lib/python3.6/dist-packages (from optuna==0.7.0) (1.11.0)\n",
            "Requirement already satisfied: typing in /usr/local/lib/python3.6/dist-packages (from optuna==0.7.0) (3.6.6)\n",
            "Collecting cliff (from optuna==0.7.0)\n",
            "\u001b[?25l  Downloading https://files.pythonhosted.org/packages/8e/1a/5404afee3d83a2e5f27e0d20ac7012c9f07bd8e9b03d0ae1fd9bb3e63037/cliff-2.14.0-py2.py3-none-any.whl (77kB)\n",
            "\u001b[K    100% |████████████████████████████████| 81kB 7.5MB/s \n",
            "\u001b[?25hCollecting colorlog (from optuna==0.7.0)\n",
            "  Downloading https://files.pythonhosted.org/packages/68/4d/892728b0c14547224f0ac40884e722a3d00cb54e7a146aea0b3186806c9e/colorlog-4.0.2-py2.py3-none-any.whl\n",
            "Requirement already satisfied: pandas in /usr/local/lib/python3.6/dist-packages (from optuna==0.7.0) (0.22.0)\n",
            "Requirement already satisfied: pyparsing>=2.1.0 in /usr/local/lib/python3.6/dist-packages (from cliff->optuna==0.7.0) (2.3.1)\n",
            "Collecting stevedore>=1.20.0 (from cliff->optuna==0.7.0)\n",
            "\u001b[?25l  Downloading https://files.pythonhosted.org/packages/35/fa/8683fab2a6e15ecfe107996e56fab91e52fe3ec0b40ca9440a0e1ffe6892/stevedore-1.30.0-py2.py3-none-any.whl (42kB)\n",
            "\u001b[K    100% |████████████████████████████████| 51kB 23.3MB/s \n",
            "\u001b[?25hRequirement already satisfied: PyYAML>=3.12 in /usr/local/lib/python3.6/dist-packages (from cliff->optuna==0.7.0) (3.13)\n",
            "Requirement already satisfied: PrettyTable<0.8,>=0.7.2 in /usr/local/lib/python3.6/dist-packages (from cliff->optuna==0.7.0) (0.7.2)\n",
            "Requirement already satisfied: pbr!=2.1.0,>=2.0.0 in /usr/local/lib/python3.6/dist-packages (from cliff->optuna==0.7.0) (5.1.2)\n",
            "Collecting cmd2!=0.8.3; python_version >= \"3.0\" (from cliff->optuna==0.7.0)\n",
            "\u001b[?25l  Downloading https://files.pythonhosted.org/packages/d6/33/dbf0d2380ef9fce79e5b75f358a9de16b66b29598df610c24d49c4c0cd86/cmd2-0.9.8-py3-none-any.whl (86kB)\n",
            "\u001b[K    100% |████████████████████████████████| 92kB 7.7MB/s \n",
            "\u001b[?25hRequirement already satisfied: pytz>=2011k in /usr/local/lib/python3.6/dist-packages (from pandas->optuna==0.7.0) (2018.9)\n",
            "Requirement already satisfied: python-dateutil>=2 in /usr/local/lib/python3.6/dist-packages (from pandas->optuna==0.7.0) (2.5.3)\n",
            "Requirement already satisfied: wcwidth>=0.1.7 in /usr/local/lib/python3.6/dist-packages (from cmd2!=0.8.3; python_version >= \"3.0\"->cliff->optuna==0.7.0) (0.1.7)\n",
            "Collecting colorama (from cmd2!=0.8.3; python_version >= \"3.0\"->cliff->optuna==0.7.0)\n",
            "  Downloading https://files.pythonhosted.org/packages/4f/a6/728666f39bfff1719fc94c481890b2106837da9318031f71a8424b662e12/colorama-0.4.1-py2.py3-none-any.whl\n",
            "Collecting pyperclip>=1.5.27 (from cmd2!=0.8.3; python_version >= \"3.0\"->cliff->optuna==0.7.0)\n",
            "  Downloading https://files.pythonhosted.org/packages/2d/0f/4eda562dffd085945d57c2d9a5da745cfb5228c02bc90f2c74bbac746243/pyperclip-1.7.0.tar.gz\n",
            "Requirement already satisfied: attrs>=16.3.0 in /usr/local/lib/python3.6/dist-packages (from cmd2!=0.8.3; python_version >= \"3.0\"->cliff->optuna==0.7.0) (18.2.0)\n",
            "Building wheels for collected packages: optuna, pyperclip\n",
            "  Building wheel for optuna (setup.py) ... \u001b[?25ldone\n",
            "\u001b[?25h  Stored in directory: /root/.cache/pip/wheels/8c/97/c7/868e9cd5d6a23cfb98266f30d59131e5bd441132bdf8da18d5\n",
            "  Building wheel for pyperclip (setup.py) ... \u001b[?25ldone\n",
            "\u001b[?25h  Stored in directory: /root/.cache/pip/wheels/92/f0/ac/2ba2972034e98971c3654ece337ac61e546bdeb34ca960dc8c\n",
            "Successfully built optuna pyperclip\n",
            "Installing collected packages: stevedore, colorama, pyperclip, cmd2, cliff, colorlog, optuna\n",
            "Successfully installed cliff-2.14.0 cmd2-0.9.8 colorama-0.4.1 colorlog-4.0.2 optuna-0.7.0 pyperclip-1.7.0 stevedore-1.30.0\n"
          ],
          "name": "stdout"
        }
      ]
    },
    {
      "metadata": {
        "id": "COmhC_CuoYo9",
        "colab_type": "text"
      },
      "cell_type": "markdown",
      "source": [
        "## Install the latest version of OptKeras"
      ]
    },
    {
      "metadata": {
        "id": "zfIoE_CLvytu",
        "colab_type": "code",
        "colab": {
          "base_uri": "https://localhost:8080/",
          "height": 604
        },
        "outputId": "c9cd10d4-f117-4018-bf68-c9b205c6f24e"
      },
      "cell_type": "code",
      "source": [
        "!pip install git+https://github.com/Minyus/optkeras.git"
      ],
      "execution_count": 3,
      "outputs": [
        {
          "output_type": "stream",
          "text": [
            "Collecting git+https://github.com/Minyus/optkeras.git\n",
            "  Cloning https://github.com/Minyus/optkeras.git to /tmp/pip-req-build-3hnk3qwy\n",
            "Requirement already satisfied: keras in /usr/local/lib/python3.6/dist-packages (from optkeras==0.0.1) (2.2.4)\n",
            "Requirement already satisfied: optuna in /usr/local/lib/python3.6/dist-packages (from optkeras==0.0.1) (0.7.0)\n",
            "Requirement already satisfied: h5py in /usr/local/lib/python3.6/dist-packages (from keras->optkeras==0.0.1) (2.8.0)\n",
            "Requirement already satisfied: keras-preprocessing>=1.0.5 in /usr/local/lib/python3.6/dist-packages (from keras->optkeras==0.0.1) (1.0.9)\n",
            "Requirement already satisfied: numpy>=1.9.1 in /usr/local/lib/python3.6/dist-packages (from keras->optkeras==0.0.1) (1.14.6)\n",
            "Requirement already satisfied: pyyaml in /usr/local/lib/python3.6/dist-packages (from keras->optkeras==0.0.1) (3.13)\n",
            "Requirement already satisfied: six>=1.9.0 in /usr/local/lib/python3.6/dist-packages (from keras->optkeras==0.0.1) (1.11.0)\n",
            "Requirement already satisfied: keras-applications>=1.0.6 in /usr/local/lib/python3.6/dist-packages (from keras->optkeras==0.0.1) (1.0.7)\n",
            "Requirement already satisfied: scipy>=0.14 in /usr/local/lib/python3.6/dist-packages (from keras->optkeras==0.0.1) (1.1.0)\n",
            "Requirement already satisfied: sqlalchemy>=1.1.0 in /usr/local/lib/python3.6/dist-packages (from optuna->optkeras==0.0.1) (1.2.17)\n",
            "Requirement already satisfied: typing in /usr/local/lib/python3.6/dist-packages (from optuna->optkeras==0.0.1) (3.6.6)\n",
            "Requirement already satisfied: colorlog in /usr/local/lib/python3.6/dist-packages (from optuna->optkeras==0.0.1) (4.0.2)\n",
            "Requirement already satisfied: cliff in /usr/local/lib/python3.6/dist-packages (from optuna->optkeras==0.0.1) (2.14.0)\n",
            "Requirement already satisfied: pandas in /usr/local/lib/python3.6/dist-packages (from optuna->optkeras==0.0.1) (0.22.0)\n",
            "Requirement already satisfied: pyparsing>=2.1.0 in /usr/local/lib/python3.6/dist-packages (from cliff->optuna->optkeras==0.0.1) (2.3.1)\n",
            "Requirement already satisfied: pbr!=2.1.0,>=2.0.0 in /usr/local/lib/python3.6/dist-packages (from cliff->optuna->optkeras==0.0.1) (5.1.2)\n",
            "Requirement already satisfied: PrettyTable<0.8,>=0.7.2 in /usr/local/lib/python3.6/dist-packages (from cliff->optuna->optkeras==0.0.1) (0.7.2)\n",
            "Requirement already satisfied: stevedore>=1.20.0 in /usr/local/lib/python3.6/dist-packages (from cliff->optuna->optkeras==0.0.1) (1.30.0)\n",
            "Requirement already satisfied: cmd2!=0.8.3; python_version >= \"3.0\" in /usr/local/lib/python3.6/dist-packages (from cliff->optuna->optkeras==0.0.1) (0.9.8)\n",
            "Requirement already satisfied: pytz>=2011k in /usr/local/lib/python3.6/dist-packages (from pandas->optuna->optkeras==0.0.1) (2018.9)\n",
            "Requirement already satisfied: python-dateutil>=2 in /usr/local/lib/python3.6/dist-packages (from pandas->optuna->optkeras==0.0.1) (2.5.3)\n",
            "Requirement already satisfied: pyperclip>=1.5.27 in /usr/local/lib/python3.6/dist-packages (from cmd2!=0.8.3; python_version >= \"3.0\"->cliff->optuna->optkeras==0.0.1) (1.7.0)\n",
            "Requirement already satisfied: attrs>=16.3.0 in /usr/local/lib/python3.6/dist-packages (from cmd2!=0.8.3; python_version >= \"3.0\"->cliff->optuna->optkeras==0.0.1) (18.2.0)\n",
            "Requirement already satisfied: wcwidth>=0.1.7 in /usr/local/lib/python3.6/dist-packages (from cmd2!=0.8.3; python_version >= \"3.0\"->cliff->optuna->optkeras==0.0.1) (0.1.7)\n",
            "Requirement already satisfied: colorama in /usr/local/lib/python3.6/dist-packages (from cmd2!=0.8.3; python_version >= \"3.0\"->cliff->optuna->optkeras==0.0.1) (0.4.1)\n",
            "Building wheels for collected packages: optkeras\n",
            "  Building wheel for optkeras (setup.py) ... \u001b[?25ldone\n",
            "\u001b[?25h  Stored in directory: /tmp/pip-ephem-wheel-cache-muzcgcpy/wheels/ad/c8/9d/67471f9fd7c5fd15961a2e7aa3d15215212d0631ea96df8b5c\n",
            "Successfully built optkeras\n",
            "Installing collected packages: optkeras\n",
            "Successfully installed optkeras-0.0.1\n"
          ],
          "name": "stdout"
        }
      ]
    },
    {
      "metadata": {
        "id": "0nikvt-fppC8",
        "colab_type": "text"
      },
      "cell_type": "markdown",
      "source": [
        "## Import modules"
      ]
    },
    {
      "metadata": {
        "id": "i85DbXl0nvmU",
        "colab_type": "code",
        "colab": {
          "base_uri": "https://localhost:8080/",
          "height": 106
        },
        "outputId": "63eab288-ccf6-4d93-8a6d-c92dd856b8c1"
      },
      "cell_type": "code",
      "source": [
        "import numpy as np\n",
        "import pandas as pd\n",
        "\n",
        "from keras.datasets import mnist\n",
        "from keras.models import Sequential\n",
        "from keras.layers import Activation, Flatten, Dense, Conv2D\n",
        "from keras.layers import MaxPooling2D, Dropout, BatchNormalization\n",
        "from keras.preprocessing.image import ImageDataGenerator\n",
        "from keras.optimizers import SGD, Adagrad, RMSprop, Adam, Adadelta, Adamax, Nadam\n",
        "import keras.backend as K\n",
        "\n",
        "import keras\n",
        "print('Keras', keras.__version__)\n",
        "\n",
        "import tensorflow as tf\n",
        "print('TensorFlow', tf.__version__)\n",
        "\n",
        "# import Optuna and OptKeras after Keras\n",
        "import optuna \n",
        "print('Optuna', optuna.__version__)\n",
        "\n",
        "from optkeras.optkeras import OptKeras\n",
        "import optkeras\n",
        "print('OptKeras', optkeras.__version__)"
      ],
      "execution_count": 4,
      "outputs": [
        {
          "output_type": "stream",
          "text": [
            "Using TensorFlow backend.\n"
          ],
          "name": "stderr"
        },
        {
          "output_type": "stream",
          "text": [
            "Keras 2.2.4\n",
            "TensorFlow 1.13.0-rc1\n",
            "Optuna 0.7.0\n",
            "OptKeras 0.0.1\n"
          ],
          "name": "stdout"
        }
      ]
    },
    {
      "metadata": {
        "id": "mq16j0E4olJO",
        "colab_type": "text"
      },
      "cell_type": "markdown",
      "source": [
        "## Set up Dataset"
      ]
    },
    {
      "metadata": {
        "id": "sfMZGHCO4DrV",
        "colab_type": "code",
        "colab": {
          "base_uri": "https://localhost:8080/",
          "height": 52
        },
        "outputId": "ff9aeb81-59b1-4cc7-8c17-d4231e5b8a80"
      },
      "cell_type": "code",
      "source": [
        "dataset_name = 'MNIST'\n",
        "\n",
        "if dataset_name in ['MNIST', 'MNIST_1000samples']:\n",
        "    (x_train, y_train), (x_test, y_test) = mnist.load_data()\n",
        "    \n",
        "    img_x, img_y = x_train.shape[1], x_train.shape[2]\n",
        "    x_train = x_train.reshape(-1, img_x, img_y, 1)\n",
        "    x_test = x_test.reshape(-1, img_x, img_y, 1)   \n",
        "    x_train = x_train.astype('float32')\n",
        "    x_test = x_test.astype('float32')\n",
        "    x_train /= 255\n",
        "    x_test /= 255\n",
        "    num_classes = 10\n",
        "    input_shape = (img_x, img_y, 1)"
      ],
      "execution_count": 5,
      "outputs": [
        {
          "output_type": "stream",
          "text": [
            "Downloading data from https://s3.amazonaws.com/img-datasets/mnist.npz\n",
            "11493376/11490434 [==============================] - 0s 0us/step\n"
          ],
          "name": "stdout"
        }
      ]
    },
    {
      "metadata": {
        "id": "D6QEQ_Dk6ReL",
        "colab_type": "code",
        "colab": {
          "base_uri": "https://localhost:8080/",
          "height": 106
        },
        "outputId": "b0866889-0266-42fb-defd-5598270b0704"
      },
      "cell_type": "code",
      "source": [
        "print('x_train: ', x_train.shape)\n",
        "print('y_train', y_train.shape)\n",
        "print('x_test: ', x_test.shape)\n",
        "print('y_test', y_test.shape)\n",
        "print('input_shape: ', input_shape )    "
      ],
      "execution_count": 6,
      "outputs": [
        {
          "output_type": "stream",
          "text": [
            "x_train:  (60000, 28, 28, 1)\n",
            "y_train (60000,)\n",
            "x_test:  (10000, 28, 28, 1)\n",
            "y_test (10000,)\n",
            "input_shape:  (28, 28, 1)\n"
          ],
          "name": "stdout"
        }
      ]
    },
    {
      "metadata": {
        "id": "7Wb1ZX2vJDO1",
        "colab_type": "text"
      },
      "cell_type": "markdown",
      "source": [
        "## A simple Keras model"
      ]
    },
    {
      "metadata": {
        "id": "m5NqIOlKJBpO",
        "colab_type": "code",
        "colab": {
          "base_uri": "https://localhost:8080/",
          "height": 250
        },
        "outputId": "7595557a-264f-405a-91d5-0a9bd4ee6507"
      },
      "cell_type": "code",
      "source": [
        "model = Sequential()\n",
        "model.add(Conv2D(\n",
        "    filters = 32, \n",
        "    kernel_size = 3, \n",
        "    strides = 1,\n",
        "    activation = 'relu', \n",
        "    input_shape = input_shape ))\n",
        "model.add(Flatten())\n",
        "model.add(Dense(num_classes, activation='softmax'))\n",
        "model.compile(optimizer = Adam(), \n",
        "            loss='sparse_categorical_crossentropy', metrics=['accuracy'])\t\t\t  \n",
        "model.fit(x_train, y_train, \n",
        "          validation_data = (x_test, y_test), shuffle = True,\n",
        "          batch_size = 512, epochs = 2) "
      ],
      "execution_count": 7,
      "outputs": [
        {
          "output_type": "stream",
          "text": [
            "WARNING:tensorflow:From /usr/local/lib/python3.6/dist-packages/tensorflow/python/framework/op_def_library.py:263: colocate_with (from tensorflow.python.framework.ops) is deprecated and will be removed in a future version.\n",
            "Instructions for updating:\n",
            "Colocations handled automatically by placer.\n",
            "WARNING:tensorflow:From /usr/local/lib/python3.6/dist-packages/tensorflow/python/ops/math_ops.py:3066: to_int32 (from tensorflow.python.ops.math_ops) is deprecated and will be removed in a future version.\n",
            "Instructions for updating:\n",
            "Use tf.cast instead.\n",
            "Train on 60000 samples, validate on 10000 samples\n",
            "Epoch 1/2\n",
            "60000/60000 [==============================] - 15s 257us/step - loss: 0.4482 - acc: 0.8792 - val_loss: 0.2172 - val_acc: 0.9388\n",
            "Epoch 2/2\n",
            "60000/60000 [==============================] - 2s 33us/step - loss: 0.1784 - acc: 0.9494 - val_loss: 0.1329 - val_acc: 0.9639\n"
          ],
          "name": "stdout"
        },
        {
          "output_type": "execute_result",
          "data": {
            "text/plain": [
              "<keras.callbacks.History at 0x7f5ff24d7f28>"
            ]
          },
          "metadata": {
            "tags": []
          },
          "execution_count": 7
        }
      ]
    },
    {
      "metadata": {
        "id": "J_MtiEV0kcSd",
        "colab_type": "text"
      },
      "cell_type": "markdown",
      "source": [
        "## Optimization of a simple Keras model without pruning"
      ]
    },
    {
      "metadata": {
        "id": "kpr1zgHub1QN",
        "colab_type": "code",
        "colab": {
          "base_uri": "https://localhost:8080/",
          "height": 606
        },
        "outputId": "16fe4e33-332d-4e99-b5f9-c3f2adad24ef"
      },
      "cell_type": "code",
      "source": [
        "study_name = dataset_name + '_Simple'\n",
        "\n",
        "\"\"\" Step 1. Instantiate OptKeras class\n",
        "You can specify arguments for Optuna's create_study method and other arguments \n",
        "for OptKeras such as enable_pruning. \n",
        "\"\"\"\n",
        "\n",
        "ok = OptKeras(study_name=study_name)\n",
        "\n",
        "\n",
        "\"\"\" Step 2. Define objective function for Optuna \"\"\"\n",
        "\n",
        "def objective(trial):\n",
        "    \n",
        "    \"\"\" Clear the backend (TensorFlow). See:\n",
        "    https://www.tensorflow.org/api_docs/python/tf/keras/backend/clear_session\n",
        "    \"\"\"\n",
        "    K.clear_session() \n",
        "    \n",
        "    \"\"\" Step 2.1. Define parameters to try using methods of optuna.trial such as \n",
        "    suggest_categorical. In this simple demo, try 2*2*2*2 = 16 parameter sets: \n",
        "    2 values specified in list for each of 4 parameters \n",
        "    (filters, kernel_size, strides, and activation for convolution).\n",
        "    \"\"\"    \n",
        "    model = Sequential()\n",
        "    model.add(Conv2D(\n",
        "        filters = trial.suggest_categorical('filters', [32, 64]), \n",
        "        kernel_size = trial.suggest_categorical('kernel_size', [3, 5]), \n",
        "        strides = trial.suggest_categorical('strides', [1, 2]), \n",
        "        activation = trial.suggest_categorical('activation', ['relu', 'linear']), \n",
        "        input_shape = input_shape ))\n",
        "    model.add(Flatten())\n",
        "    model.add(Dense(num_classes, activation='softmax'))\n",
        "    model.compile(optimizer = Adam(), \n",
        "                loss='sparse_categorical_crossentropy', metrics=['accuracy'])\n",
        "    \n",
        "    \"\"\" Step 2.2. Specify callbacks(trial) and keras_verbose in fit \n",
        "    (or fit_generator) method of Keras model\n",
        "    \"\"\"\n",
        "    model.fit(x_train, y_train, \n",
        "              validation_data = (x_test, y_test), shuffle = True,\n",
        "              batch_size = 512, epochs = 2,\n",
        "              callbacks = ok.callbacks(trial), \n",
        "              verbose = ok.keras_verbose )  \n",
        "    \n",
        "    \"\"\" Step 2.3. Return trial_best_value (or latest_value) \"\"\"\n",
        "    return ok.trial_best_value\n",
        "\n",
        "\"\"\" Step 3. Run optimize. \n",
        "Set n_trials and/or timeout (in sec) for optimization by Optuna\n",
        "\"\"\"\n",
        "ok.optimize(objective, timeout = 60) # 1 minute for demo"
      ],
      "execution_count": 8,
      "outputs": [
        {
          "output_type": "stream",
          "text": [
            "[2019-02-19 06:05:43.798297] Ready for optimization. (message printed as verbose is set to 1+)\n",
            "[2019-02-19 06:05:44.104231] Latest trial id: None, value: None (None) | Best trial id: None, value: None, parameters: None\n"
          ],
          "name": "stdout"
        },
        {
          "output_type": "stream",
          "text": [
            "[I 2019-02-19 06:05:49,396] Finished a trial resulted in value: 0.021599999332427955. Current best value is 0.021599999332427955 with parameters: {'filters': 64, 'kernel_size': 5, 'strides': 1, 'activation': 'relu'}.\n"
          ],
          "name": "stderr"
        },
        {
          "output_type": "stream",
          "text": [
            "[2019-02-19 06:05:49.503909] Latest trial id: 0, value: 0.021599999332427955 (TrialState.COMPLETE) | Best trial id: 0, value: 0.021599999332427955, parameters: {'filters': 64, 'kernel_size': 5, 'strides': 1, 'activation': 'relu'}\n"
          ],
          "name": "stdout"
        },
        {
          "output_type": "stream",
          "text": [
            "[I 2019-02-19 06:05:53,014] Finished a trial resulted in value: 0.07930000076293942. Current best value is 0.021599999332427955 with parameters: {'filters': 64, 'kernel_size': 5, 'strides': 1, 'activation': 'relu'}.\n"
          ],
          "name": "stderr"
        },
        {
          "output_type": "stream",
          "text": [
            "[2019-02-19 06:05:53.125987] Latest trial id: 1, value: 0.07930000076293942 (TrialState.COMPLETE) | Best trial id: 0, value: 0.021599999332427955, parameters: {'filters': 64, 'kernel_size': 5, 'strides': 1, 'activation': 'relu'}\n"
          ],
          "name": "stdout"
        },
        {
          "output_type": "stream",
          "text": [
            "[I 2019-02-19 06:05:56,618] Finished a trial resulted in value: 0.024799999523162808. Current best value is 0.021599999332427955 with parameters: {'filters': 64, 'kernel_size': 5, 'strides': 1, 'activation': 'relu'}.\n"
          ],
          "name": "stderr"
        },
        {
          "output_type": "stream",
          "text": [
            "[2019-02-19 06:05:56.735074] Latest trial id: 2, value: 0.024799999523162808 (TrialState.COMPLETE) | Best trial id: 0, value: 0.021599999332427955, parameters: {'filters': 64, 'kernel_size': 5, 'strides': 1, 'activation': 'relu'}\n"
          ],
          "name": "stdout"
        },
        {
          "output_type": "stream",
          "text": [
            "[I 2019-02-19 06:06:00,188] Finished a trial resulted in value: 0.026199999523162876. Current best value is 0.021599999332427955 with parameters: {'filters': 64, 'kernel_size': 5, 'strides': 1, 'activation': 'relu'}.\n"
          ],
          "name": "stderr"
        },
        {
          "output_type": "stream",
          "text": [
            "[2019-02-19 06:06:00.301280] Latest trial id: 3, value: 0.026199999523162876 (TrialState.COMPLETE) | Best trial id: 0, value: 0.021599999332427955, parameters: {'filters': 64, 'kernel_size': 5, 'strides': 1, 'activation': 'relu'}\n"
          ],
          "name": "stdout"
        },
        {
          "output_type": "stream",
          "text": [
            "[I 2019-02-19 06:06:05,577] Finished a trial resulted in value: 0.022499999332427967. Current best value is 0.021599999332427955 with parameters: {'filters': 64, 'kernel_size': 5, 'strides': 1, 'activation': 'relu'}.\n"
          ],
          "name": "stderr"
        },
        {
          "output_type": "stream",
          "text": [
            "[2019-02-19 06:06:05.693980] Latest trial id: 4, value: 0.022499999332427967 (TrialState.COMPLETE) | Best trial id: 0, value: 0.021599999332427955, parameters: {'filters': 64, 'kernel_size': 5, 'strides': 1, 'activation': 'relu'}\n"
          ],
          "name": "stdout"
        },
        {
          "output_type": "stream",
          "text": [
            "[I 2019-02-19 06:06:09,288] Finished a trial resulted in value: 0.07860000076293949. Current best value is 0.021599999332427955 with parameters: {'filters': 64, 'kernel_size': 5, 'strides': 1, 'activation': 'relu'}.\n"
          ],
          "name": "stderr"
        },
        {
          "output_type": "stream",
          "text": [
            "[2019-02-19 06:06:09.403326] Latest trial id: 5, value: 0.07860000076293949 (TrialState.COMPLETE) | Best trial id: 0, value: 0.021599999332427955, parameters: {'filters': 64, 'kernel_size': 5, 'strides': 1, 'activation': 'relu'}\n"
          ],
          "name": "stdout"
        },
        {
          "output_type": "stream",
          "text": [
            "[I 2019-02-19 06:06:11,519] Finished a trial resulted in value: 0.05429999971389765. Current best value is 0.021599999332427955 with parameters: {'filters': 64, 'kernel_size': 5, 'strides': 1, 'activation': 'relu'}.\n"
          ],
          "name": "stderr"
        },
        {
          "output_type": "stream",
          "text": [
            "[2019-02-19 06:06:11.636032] Latest trial id: 6, value: 0.05429999971389765 (TrialState.COMPLETE) | Best trial id: 0, value: 0.021599999332427955, parameters: {'filters': 64, 'kernel_size': 5, 'strides': 1, 'activation': 'relu'}\n"
          ],
          "name": "stdout"
        },
        {
          "output_type": "stream",
          "text": [
            "[I 2019-02-19 06:06:14,323] Finished a trial resulted in value: 0.03590000038146968. Current best value is 0.021599999332427955 with parameters: {'filters': 64, 'kernel_size': 5, 'strides': 1, 'activation': 'relu'}.\n"
          ],
          "name": "stderr"
        },
        {
          "output_type": "stream",
          "text": [
            "[2019-02-19 06:06:14.447581] Latest trial id: 7, value: 0.03590000038146968 (TrialState.COMPLETE) | Best trial id: 0, value: 0.021599999332427955, parameters: {'filters': 64, 'kernel_size': 5, 'strides': 1, 'activation': 'relu'}\n"
          ],
          "name": "stdout"
        },
        {
          "output_type": "stream",
          "text": [
            "[I 2019-02-19 06:06:18,314] Finished a trial resulted in value: 0.03590000047683717. Current best value is 0.021599999332427955 with parameters: {'filters': 64, 'kernel_size': 5, 'strides': 1, 'activation': 'relu'}.\n"
          ],
          "name": "stderr"
        },
        {
          "output_type": "stream",
          "text": [
            "[2019-02-19 06:06:18.440350] Latest trial id: 8, value: 0.03590000047683717 (TrialState.COMPLETE) | Best trial id: 0, value: 0.021599999332427955, parameters: {'filters': 64, 'kernel_size': 5, 'strides': 1, 'activation': 'relu'}\n"
          ],
          "name": "stdout"
        },
        {
          "output_type": "stream",
          "text": [
            "[I 2019-02-19 06:06:20,783] Finished a trial resulted in value: 0.08240000076293941. Current best value is 0.021599999332427955 with parameters: {'filters': 64, 'kernel_size': 5, 'strides': 1, 'activation': 'relu'}.\n"
          ],
          "name": "stderr"
        },
        {
          "output_type": "stream",
          "text": [
            "[2019-02-19 06:06:20.902829] Latest trial id: 9, value: 0.08240000076293941 (TrialState.COMPLETE) | Best trial id: 0, value: 0.021599999332427955, parameters: {'filters': 64, 'kernel_size': 5, 'strides': 1, 'activation': 'relu'}\n"
          ],
          "name": "stdout"
        },
        {
          "output_type": "stream",
          "text": [
            "[I 2019-02-19 06:06:26,151] Finished a trial resulted in value: 0.023199999713897745. Current best value is 0.021599999332427955 with parameters: {'filters': 64, 'kernel_size': 5, 'strides': 1, 'activation': 'relu'}.\n"
          ],
          "name": "stderr"
        },
        {
          "output_type": "stream",
          "text": [
            "[2019-02-19 06:06:26.272442] Latest trial id: 10, value: 0.023199999713897745 (TrialState.COMPLETE) | Best trial id: 0, value: 0.021599999332427955, parameters: {'filters': 64, 'kernel_size': 5, 'strides': 1, 'activation': 'relu'}\n"
          ],
          "name": "stdout"
        },
        {
          "output_type": "stream",
          "text": [
            "[I 2019-02-19 06:06:30,910] Finished a trial resulted in value: 0.0795000007629395. Current best value is 0.021599999332427955 with parameters: {'filters': 64, 'kernel_size': 5, 'strides': 1, 'activation': 'relu'}.\n"
          ],
          "name": "stderr"
        },
        {
          "output_type": "stream",
          "text": [
            "[2019-02-19 06:06:31.025078] Latest trial id: 11, value: 0.0795000007629395 (TrialState.COMPLETE) | Best trial id: 0, value: 0.021599999332427955, parameters: {'filters': 64, 'kernel_size': 5, 'strides': 1, 'activation': 'relu'}\n"
          ],
          "name": "stdout"
        },
        {
          "output_type": "stream",
          "text": [
            "[I 2019-02-19 06:06:33,564] Finished a trial resulted in value: 0.03490000047683717. Current best value is 0.021599999332427955 with parameters: {'filters': 64, 'kernel_size': 5, 'strides': 1, 'activation': 'relu'}.\n"
          ],
          "name": "stderr"
        },
        {
          "output_type": "stream",
          "text": [
            "[2019-02-19 06:06:33.684147] Latest trial id: 12, value: 0.03490000047683717 (TrialState.COMPLETE) | Best trial id: 0, value: 0.021599999332427955, parameters: {'filters': 64, 'kernel_size': 5, 'strides': 1, 'activation': 'relu'}\n"
          ],
          "name": "stdout"
        },
        {
          "output_type": "stream",
          "text": [
            "[I 2019-02-19 06:06:39,169] Finished a trial resulted in value: 0.021499999427795458. Current best value is 0.021499999427795458 with parameters: {'filters': 64, 'kernel_size': 5, 'strides': 1, 'activation': 'relu'}.\n"
          ],
          "name": "stderr"
        },
        {
          "output_type": "stream",
          "text": [
            "[2019-02-19 06:06:39.289711] Latest trial id: 13, value: 0.021499999427795458 (TrialState.COMPLETE) | Best trial id: 13, value: 0.021499999427795458, parameters: {'filters': 64, 'kernel_size': 5, 'strides': 1, 'activation': 'relu'}\n"
          ],
          "name": "stdout"
        },
        {
          "output_type": "stream",
          "text": [
            "[I 2019-02-19 06:06:44,535] Finished a trial resulted in value: 0.020199999332427998. Current best value is 0.020199999332427998 with parameters: {'filters': 64, 'kernel_size': 5, 'strides': 1, 'activation': 'relu'}.\n"
          ],
          "name": "stderr"
        },
        {
          "output_type": "stream",
          "text": [
            "[2019-02-19 06:06:44.567318] Latest trial id: 14, value: 0.020199999332427998 (TrialState.COMPLETE) | Best trial id: 14, value: 0.020199999332427998, parameters: {'filters': 64, 'kernel_size': 5, 'strides': 1, 'activation': 'relu'}\n"
          ],
          "name": "stdout"
        }
      ]
    },
    {
      "metadata": {
        "id": "R_P9NZi0KPLH",
        "colab_type": "text"
      },
      "cell_type": "markdown",
      "source": [
        "## Randomized Grid Search of a simple Keras model"
      ]
    },
    {
      "metadata": {
        "id": "O_Xn1LP8ILgF",
        "colab_type": "code",
        "colab": {
          "base_uri": "https://localhost:8080/",
          "height": 1584
        },
        "outputId": "8b244f39-98aa-4716-e9ef-a3bfce5b36f8"
      },
      "cell_type": "code",
      "source": [
        "study_name = dataset_name + '_GridSearch'\n",
        "\n",
        "\"\"\" To run randomized grid search, set random_grid_search_mode True \"\"\"\n",
        "ok = OptKeras(study_name=study_name, random_grid_search_mode=True)\n",
        "\n",
        "def objective(trial):\n",
        "   \n",
        "    K.clear_session()\n",
        "    \n",
        "    model = Sequential()\n",
        "    model.add(Conv2D(\n",
        "        filters = trial.suggest_categorical('filters', [32, 64]), \n",
        "        kernel_size = trial.suggest_categorical('kernel_size', [3, 5]), \n",
        "        strides = trial.suggest_categorical('strides', [1, 2]), \n",
        "        activation = trial.suggest_categorical('activation', ['relu', 'linear']), \n",
        "        input_shape = input_shape ))\n",
        "    model.add(Flatten())\n",
        "    model.add(Dense(num_classes, activation='softmax'))\n",
        "    model.compile(optimizer = Adam(), \n",
        "                loss='sparse_categorical_crossentropy', metrics=['accuracy'])\n",
        "    \n",
        "    model.fit(x_train, y_train, \n",
        "              validation_data = (x_test, y_test), shuffle = True,\n",
        "              batch_size = 512, epochs = 2,\n",
        "              callbacks = ok.callbacks(trial), \n",
        "              verbose = ok.keras_verbose )  \n",
        "    \n",
        "    return ok.trial_best_value\n",
        "\n",
        "\"\"\" Set the number of parameter sets as n_trials for complete grid search \"\"\"\n",
        "ok.random_grid_search(objective, n_trials = 2*2*2*2) # 2*2*2*2 = 16 param sets"
      ],
      "execution_count": 9,
      "outputs": [
        {
          "output_type": "stream",
          "text": [
            "[2019-02-19 06:06:44.597494] Ready for optimization. (message printed as verbose is set to 1+)\n",
            "[2019-02-19 06:06:44.719390] Latest trial id: None, value: None (None) | Best trial id: None, value: None, parameters: None\n"
          ],
          "name": "stdout"
        },
        {
          "output_type": "stream",
          "text": [
            "[I 2019-02-19 06:06:46,879] Finished a trial resulted in value: 0.06920000038146967. Current best value is 0.06920000038146967 with parameters: {'filters': 32, 'kernel_size': 3, 'strides': 2, 'activation': 'relu'}.\n"
          ],
          "name": "stderr"
        },
        {
          "output_type": "stream",
          "text": [
            "[2019-02-19 06:06:46.890134] Completed:   6% (    1 /    16)\n",
            "[2019-02-19 06:06:46.988528] Latest trial id: 0, value: 0.06920000038146967 (TrialState.COMPLETE) | Best trial id: 0, value: 0.06920000038146967, parameters: {'filters': 32, 'kernel_size': 3, 'strides': 2, 'activation': 'relu'}\n"
          ],
          "name": "stdout"
        },
        {
          "output_type": "stream",
          "text": [
            "[I 2019-02-19 06:06:48,998] Finished a trial resulted in value: 0.08200000076293945. Current best value is 0.06920000038146967 with parameters: {'filters': 32, 'kernel_size': 3, 'strides': 2, 'activation': 'relu'}.\n"
          ],
          "name": "stderr"
        },
        {
          "output_type": "stream",
          "text": [
            "[2019-02-19 06:06:49.007544] Completed:  12% (    2 /    16)\n",
            "[2019-02-19 06:06:49.110228] Latest trial id: 1, value: 0.08200000076293945 (TrialState.COMPLETE) | Best trial id: 0, value: 0.06920000038146967, parameters: {'filters': 32, 'kernel_size': 3, 'strides': 2, 'activation': 'relu'}\n"
          ],
          "name": "stdout"
        },
        {
          "output_type": "stream",
          "text": [
            "[I 2019-02-19 06:06:50,605] Setting trial status as TrialState.PRUNED. Trial was pruned at epoch 0.\n",
            "[I 2019-02-19 06:06:52,828] Finished a trial resulted in value: 0.04050000066757198. Current best value is 0.04050000066757198 with parameters: {'filters': 32, 'kernel_size': 5, 'strides': 2, 'activation': 'relu'}.\n"
          ],
          "name": "stderr"
        },
        {
          "output_type": "stream",
          "text": [
            "[2019-02-19 06:06:52.840079] Completed:  19% (    3 /    16)\n",
            "[2019-02-19 06:06:52.941932] Latest trial id: 3, value: 0.04050000066757198 (TrialState.COMPLETE) | Best trial id: 3, value: 0.04050000066757198, parameters: {'filters': 32, 'kernel_size': 5, 'strides': 2, 'activation': 'relu'}\n"
          ],
          "name": "stdout"
        },
        {
          "output_type": "stream",
          "text": [
            "[I 2019-02-19 06:06:56,284] Finished a trial resulted in value: 0.0790000003814697. Current best value is 0.04050000066757198 with parameters: {'filters': 32, 'kernel_size': 5, 'strides': 2, 'activation': 'relu'}.\n"
          ],
          "name": "stderr"
        },
        {
          "output_type": "stream",
          "text": [
            "[2019-02-19 06:06:56.290405] Completed:  25% (    4 /    16)\n",
            "[2019-02-19 06:06:56.397758] Latest trial id: 4, value: 0.0790000003814697 (TrialState.COMPLETE) | Best trial id: 3, value: 0.04050000066757198, parameters: {'filters': 32, 'kernel_size': 5, 'strides': 2, 'activation': 'relu'}\n"
          ],
          "name": "stdout"
        },
        {
          "output_type": "stream",
          "text": [
            "[I 2019-02-19 06:06:59,067] Finished a trial resulted in value: 0.05519999961853028. Current best value is 0.04050000066757198 with parameters: {'filters': 32, 'kernel_size': 5, 'strides': 2, 'activation': 'relu'}.\n"
          ],
          "name": "stderr"
        },
        {
          "output_type": "stream",
          "text": [
            "[2019-02-19 06:06:59.078295] Completed:  31% (    5 /    16)\n",
            "[2019-02-19 06:06:59.197507] Latest trial id: 5, value: 0.05519999961853028 (TrialState.COMPLETE) | Best trial id: 3, value: 0.04050000066757198, parameters: {'filters': 32, 'kernel_size': 5, 'strides': 2, 'activation': 'relu'}\n"
          ],
          "name": "stdout"
        },
        {
          "output_type": "stream",
          "text": [
            "[I 2019-02-19 06:07:02,309] Finished a trial resulted in value: 0.07890000019073484. Current best value is 0.04050000066757198 with parameters: {'filters': 32, 'kernel_size': 5, 'strides': 2, 'activation': 'relu'}.\n"
          ],
          "name": "stderr"
        },
        {
          "output_type": "stream",
          "text": [
            "[2019-02-19 06:07:02.322229] Completed:  38% (    6 /    16)\n",
            "[2019-02-19 06:07:02.694256] Latest trial id: 6, value: 0.07890000019073484 (TrialState.COMPLETE) | Best trial id: 3, value: 0.04050000066757198, parameters: {'filters': 32, 'kernel_size': 5, 'strides': 2, 'activation': 'relu'}\n"
          ],
          "name": "stdout"
        },
        {
          "output_type": "stream",
          "text": [
            "[I 2019-02-19 06:07:03,988] Setting trial status as TrialState.PRUNED. Trial was pruned at epoch 0.\n",
            "[I 2019-02-19 06:07:05,454] Setting trial status as TrialState.PRUNED. Trial was pruned at epoch 0.\n",
            "[I 2019-02-19 06:07:07,399] Setting trial status as TrialState.PRUNED. Trial was pruned at epoch 0.\n",
            "[I 2019-02-19 06:07:13,463] Finished a trial resulted in value: 0.028499999809265097. Current best value is 0.028499999809265097 with parameters: {'filters': 64, 'kernel_size': 3, 'strides': 1, 'activation': 'relu'}.\n"
          ],
          "name": "stderr"
        },
        {
          "output_type": "stream",
          "text": [
            "[2019-02-19 06:07:13.477851] Completed:  44% (    7 /    16)\n",
            "[2019-02-19 06:07:13.828302] Latest trial id: 10, value: 0.028499999809265097 (TrialState.COMPLETE) | Best trial id: 10, value: 0.028499999809265097, parameters: {'filters': 64, 'kernel_size': 3, 'strides': 1, 'activation': 'relu'}\n"
          ],
          "name": "stdout"
        },
        {
          "output_type": "stream",
          "text": [
            "[I 2019-02-19 06:07:15,435] Setting trial status as TrialState.PRUNED. Trial was pruned at epoch 0.\n",
            "[I 2019-02-19 06:07:17,471] Setting trial status as TrialState.PRUNED. Trial was pruned at epoch 0.\n",
            "[I 2019-02-19 06:07:21,318] Finished a trial resulted in value: 0.037800000095367436. Current best value is 0.028499999809265097 with parameters: {'filters': 64, 'kernel_size': 3, 'strides': 1, 'activation': 'relu'}.\n"
          ],
          "name": "stderr"
        },
        {
          "output_type": "stream",
          "text": [
            "[2019-02-19 06:07:21.333085] Completed:  50% (    8 /    16)\n",
            "[2019-02-19 06:07:21.443627] Latest trial id: 13, value: 0.037800000095367436 (TrialState.COMPLETE) | Best trial id: 10, value: 0.028499999809265097, parameters: {'filters': 64, 'kernel_size': 3, 'strides': 1, 'activation': 'relu'}\n"
          ],
          "name": "stdout"
        },
        {
          "output_type": "stream",
          "text": [
            "[I 2019-02-19 06:07:23,275] Setting trial status as TrialState.PRUNED. Trial was pruned at epoch 0.\n",
            "[I 2019-02-19 06:07:25,469] Finished a trial resulted in value: 0.08110000076293944. Current best value is 0.028499999809265097 with parameters: {'filters': 64, 'kernel_size': 3, 'strides': 1, 'activation': 'relu'}.\n"
          ],
          "name": "stderr"
        },
        {
          "output_type": "stream",
          "text": [
            "[2019-02-19 06:07:25.483237] Completed:  56% (    9 /    16)\n",
            "[2019-02-19 06:07:25.600585] Latest trial id: 15, value: 0.08110000076293944 (TrialState.COMPLETE) | Best trial id: 10, value: 0.028499999809265097, parameters: {'filters': 64, 'kernel_size': 3, 'strides': 1, 'activation': 'relu'}\n"
          ],
          "name": "stdout"
        },
        {
          "output_type": "stream",
          "text": [
            "[I 2019-02-19 06:07:27,427] Setting trial status as TrialState.PRUNED. Trial was pruned at epoch 0.\n",
            "[I 2019-02-19 06:07:32,794] Finished a trial resulted in value: 0.021799999332427933. Current best value is 0.021799999332427933 with parameters: {'filters': 64, 'kernel_size': 5, 'strides': 1, 'activation': 'relu'}.\n"
          ],
          "name": "stderr"
        },
        {
          "output_type": "stream",
          "text": [
            "[2019-02-19 06:07:32.806931] Completed:  62% (   10 /    16)\n",
            "[2019-02-19 06:07:32.916827] Latest trial id: 17, value: 0.021799999332427933 (TrialState.COMPLETE) | Best trial id: 17, value: 0.021799999332427933, parameters: {'filters': 64, 'kernel_size': 5, 'strides': 1, 'activation': 'relu'}\n"
          ],
          "name": "stdout"
        },
        {
          "output_type": "stream",
          "text": [
            "[I 2019-02-19 06:07:38,120] Finished a trial resulted in value: 0.07650000047683714. Current best value is 0.021799999332427933 with parameters: {'filters': 64, 'kernel_size': 5, 'strides': 1, 'activation': 'relu'}.\n"
          ],
          "name": "stderr"
        },
        {
          "output_type": "stream",
          "text": [
            "[2019-02-19 06:07:38.127633] Completed:  69% (   11 /    16)\n",
            "[2019-02-19 06:07:38.508512] Latest trial id: 18, value: 0.07650000047683714 (TrialState.COMPLETE) | Best trial id: 17, value: 0.021799999332427933, parameters: {'filters': 64, 'kernel_size': 5, 'strides': 1, 'activation': 'relu'}\n"
          ],
          "name": "stdout"
        },
        {
          "output_type": "stream",
          "text": [
            "[I 2019-02-19 06:07:42,016] Finished a trial resulted in value: 0.0293999999046326. Current best value is 0.021799999332427933 with parameters: {'filters': 64, 'kernel_size': 5, 'strides': 1, 'activation': 'relu'}.\n"
          ],
          "name": "stderr"
        },
        {
          "output_type": "stream",
          "text": [
            "[2019-02-19 06:07:42.031256] Completed:  75% (   12 /    16)\n",
            "[2019-02-19 06:07:42.144894] Latest trial id: 19, value: 0.0293999999046326 (TrialState.COMPLETE) | Best trial id: 17, value: 0.021799999332427933, parameters: {'filters': 64, 'kernel_size': 5, 'strides': 1, 'activation': 'relu'}\n"
          ],
          "name": "stdout"
        },
        {
          "output_type": "stream",
          "text": [
            "[I 2019-02-19 06:07:44,528] Finished a trial resulted in value: 0.0817999992370605. Current best value is 0.021799999332427933 with parameters: {'filters': 64, 'kernel_size': 5, 'strides': 1, 'activation': 'relu'}.\n"
          ],
          "name": "stderr"
        },
        {
          "output_type": "stream",
          "text": [
            "[2019-02-19 06:07:44.536408] Completed:  81% (   13 /    16)\n",
            "[2019-02-19 06:07:44.657291] Latest trial id: 20, value: 0.0817999992370605 (TrialState.COMPLETE) | Best trial id: 17, value: 0.021799999332427933, parameters: {'filters': 64, 'kernel_size': 5, 'strides': 1, 'activation': 'relu'}\n"
          ],
          "name": "stdout"
        },
        {
          "output_type": "stream",
          "text": [
            "[I 2019-02-19 06:07:47,526] Setting trial status as TrialState.PRUNED. Trial was pruned at epoch 0.\n",
            "[I 2019-02-19 06:07:49,072] Setting trial status as TrialState.PRUNED. Trial was pruned at epoch 0.\n",
            "[I 2019-02-19 06:07:50,721] Setting trial status as TrialState.PRUNED. Trial was pruned at epoch 0.\n",
            "[I 2019-02-19 06:07:52,835] Setting trial status as TrialState.PRUNED. Trial was pruned at epoch 0.\n",
            "[I 2019-02-19 06:07:56,165] Setting trial status as TrialState.PRUNED. Trial was pruned at epoch 0.\n",
            "[I 2019-02-19 06:07:57,633] Setting trial status as TrialState.PRUNED. Trial was pruned at epoch 0.\n",
            "[I 2019-02-19 06:08:00,550] Finished a trial resulted in value: 0.040600000572204586. Current best value is 0.021799999332427933 with parameters: {'filters': 64, 'kernel_size': 5, 'strides': 1, 'activation': 'relu'}.\n"
          ],
          "name": "stderr"
        },
        {
          "output_type": "stream",
          "text": [
            "[2019-02-19 06:08:00.565609] Completed:  88% (   14 /    16)\n",
            "[2019-02-19 06:08:00.684584] Latest trial id: 27, value: 0.040600000572204586 (TrialState.COMPLETE) | Best trial id: 17, value: 0.021799999332427933, parameters: {'filters': 64, 'kernel_size': 5, 'strides': 1, 'activation': 'relu'}\n"
          ],
          "name": "stdout"
        },
        {
          "output_type": "stream",
          "text": [
            "[I 2019-02-19 06:08:03,555] Setting trial status as TrialState.PRUNED. Trial was pruned at epoch 0.\n",
            "[I 2019-02-19 06:08:05,682] Setting trial status as TrialState.PRUNED. Trial was pruned at epoch 0.\n",
            "[I 2019-02-19 06:08:07,127] Setting trial status as TrialState.PRUNED. Trial was pruned at epoch 0.\n",
            "[I 2019-02-19 06:08:10,697] Setting trial status as TrialState.PRUNED. Trial was pruned at epoch 0.\n",
            "[I 2019-02-19 06:08:12,108] Setting trial status as TrialState.PRUNED. Trial was pruned at epoch 0.\n",
            "[I 2019-02-19 06:08:13,509] Setting trial status as TrialState.PRUNED. Trial was pruned at epoch 0.\n",
            "[I 2019-02-19 06:08:16,220] Finished a trial resulted in value: 0.08239999942779541. Current best value is 0.021799999332427933 with parameters: {'filters': 64, 'kernel_size': 5, 'strides': 1, 'activation': 'relu'}.\n"
          ],
          "name": "stderr"
        },
        {
          "output_type": "stream",
          "text": [
            "[2019-02-19 06:08:16.234885] Completed:  94% (   15 /    16)\n",
            "[2019-02-19 06:08:16.352870] Latest trial id: 34, value: 0.08239999942779541 (TrialState.COMPLETE) | Best trial id: 17, value: 0.021799999332427933, parameters: {'filters': 64, 'kernel_size': 5, 'strides': 1, 'activation': 'relu'}\n"
          ],
          "name": "stdout"
        },
        {
          "output_type": "stream",
          "text": [
            "[I 2019-02-19 06:08:18,113] Setting trial status as TrialState.PRUNED. Trial was pruned at epoch 0.\n",
            "[I 2019-02-19 06:08:21,120] Setting trial status as TrialState.PRUNED. Trial was pruned at epoch 0.\n",
            "[I 2019-02-19 06:08:22,827] Setting trial status as TrialState.PRUNED. Trial was pruned at epoch 0.\n",
            "[I 2019-02-19 06:08:24,444] Setting trial status as TrialState.PRUNED. Trial was pruned at epoch 0.\n",
            "[I 2019-02-19 06:08:27,420] Setting trial status as TrialState.PRUNED. Trial was pruned at epoch 0.\n",
            "[I 2019-02-19 06:08:31,014] Setting trial status as TrialState.PRUNED. Trial was pruned at epoch 0.\n",
            "[I 2019-02-19 06:08:32,448] Setting trial status as TrialState.PRUNED. Trial was pruned at epoch 0.\n",
            "[I 2019-02-19 06:08:33,874] Setting trial status as TrialState.PRUNED. Trial was pruned at epoch 0.\n",
            "[I 2019-02-19 06:08:36,118] Setting trial status as TrialState.PRUNED. Trial was pruned at epoch 0.\n",
            "[I 2019-02-19 06:08:37,783] Setting trial status as TrialState.PRUNED. Trial was pruned at epoch 0.\n",
            "[I 2019-02-19 06:08:39,164] Setting trial status as TrialState.PRUNED. Trial was pruned at epoch 0.\n",
            "[I 2019-02-19 06:08:40,599] Setting trial status as TrialState.PRUNED. Trial was pruned at epoch 0.\n",
            "[I 2019-02-19 06:08:42,836] Setting trial status as TrialState.PRUNED. Trial was pruned at epoch 0.\n",
            "[I 2019-02-19 06:08:44,710] Setting trial status as TrialState.PRUNED. Trial was pruned at epoch 0.\n",
            "[I 2019-02-19 06:08:46,128] Setting trial status as TrialState.PRUNED. Trial was pruned at epoch 0.\n",
            "[I 2019-02-19 06:08:47,516] Setting trial status as TrialState.PRUNED. Trial was pruned at epoch 0.\n",
            "[I 2019-02-19 06:08:48,930] Setting trial status as TrialState.PRUNED. Trial was pruned at epoch 0.\n",
            "[I 2019-02-19 06:08:53,982] Finished a trial resulted in value: 0.07879999933242798. Current best value is 0.021799999332427933 with parameters: {'filters': 64, 'kernel_size': 5, 'strides': 1, 'activation': 'relu'}.\n"
          ],
          "name": "stderr"
        },
        {
          "output_type": "stream",
          "text": [
            "[2019-02-19 06:08:54.000967] Completed: 100% (   16 /    16)\n",
            "[2019-02-19 06:08:54.041659] Latest trial id: 52, value: 0.07879999933242798 (TrialState.COMPLETE) | Best trial id: 17, value: 0.021799999332427933, parameters: {'filters': 64, 'kernel_size': 5, 'strides': 1, 'activation': 'relu'}\n"
          ],
          "name": "stdout"
        }
      ]
    },
    {
      "metadata": {
        "id": "JdEzC5grp9ew",
        "colab_type": "text"
      },
      "cell_type": "markdown",
      "source": [
        "## Optimization of a Keras model using more Optuna's features such as pruning"
      ]
    },
    {
      "metadata": {
        "id": "LfV6iONwVujP",
        "colab_type": "code",
        "colab": {
          "base_uri": "https://localhost:8080/",
          "height": 179
        },
        "outputId": "82375358-7a1b-4548-c5cf-928258a8fbc8"
      },
      "cell_type": "code",
      "source": [
        "study_name = dataset_name + '_Optimized'\n",
        "\n",
        "ok = OptKeras( \n",
        "    # parameters for optuna.create_study\n",
        "    storage='sqlite:///' + study_name + '_Optuna.db', \n",
        "    sampler=optuna.samplers.TPESampler(\n",
        "        consider_prior=True, prior_weight=1.0, \n",
        "        consider_magic_clip=True, consider_endpoints=False, \n",
        "        n_startup_trials=10, n_ei_candidates=24, \n",
        "        seed=None), \n",
        "    pruner=optuna.pruners.SuccessiveHalvingPruner(\n",
        "        min_resource=1, reduction_factor=4, min_early_stopping_rate=0), \n",
        "    study_name = study_name, \n",
        "    direction='minimize', \n",
        "    load_if_exists = True,\n",
        "    # parameters for OptKeras\n",
        "    monitor='val_error', # Either 'val_error' (1 - val_acc) or 'val_loss'\n",
        "    enable_pruning=True, \n",
        "    models_to_keep=1, # Either 1, 0, or -1 (save all models) \n",
        "    verbose=1 )\n",
        "\n",
        "# (Optional) Disable messages from Optuna below WARN level.\n",
        "optuna.logging.set_verbosity(optuna.logging.WARN) \n",
        "\n",
        "def objective(trial): \n",
        "    epochs = 10\n",
        "    \n",
        "    K.clear_session()   \n",
        "    model = Sequential()\n",
        "    \n",
        "    if trial.suggest_int('Conv', 0, 1):  \n",
        "        # 1 Convolution layer\n",
        "        i = 1\n",
        "        model.add(Conv2D(\n",
        "            filters = int(trial.suggest_discrete_uniform(\n",
        "                'Conv_{}_num_filters'.format(i), 32, 64, 32)), \n",
        "            kernel_size=tuple([trial.suggest_int(\n",
        "                'Conv_{}_kernel_size'.format(i), 2, 3)] * 2),\n",
        "            activation='relu',\n",
        "            input_shape = input_shape))\n",
        "        model.add(MaxPooling2D(pool_size=tuple([trial.suggest_int(\n",
        "                'Conv_{}_max_pooling_size'.format(i), 2, 3)] * 2)))\n",
        "        model.add(Dropout(trial.suggest_discrete_uniform(\n",
        "                'Conv_{}_dropout_rate'.format(i), 0, 0.5, 0.25) ))\n",
        "        model.add(Flatten())        \n",
        "    else:\n",
        "        model.add(Flatten(input_shape=input_shape))\n",
        "    # 2 Fully connected layers\n",
        "    for i in np.arange(2) + 1:\n",
        "        model.add(Dense(int(trial.suggest_discrete_uniform(\n",
        "            'FC_{}_num_hidden_units'.format(i), 256, 512, 256))))\n",
        "        if trial.suggest_int('FC_{}_batch_normalization'.format(i), 0, 1):\n",
        "            model.add(BatchNormalization())\n",
        "        model.add(Activation(trial.suggest_categorical(\n",
        "            'FC_{}_acivation'.format(i), ['relu'])))\n",
        "        model.add(Dropout(\n",
        "            trial.suggest_discrete_uniform(\n",
        "                'FC_{}_dropout_rate'.format(i), 0, 0.5, 0.25) ))\n",
        "        \n",
        "    # Output layer    \n",
        "    model.add(Dense(num_classes, activation='softmax'))\n",
        "    \n",
        "    optimizer_dict = { \\\n",
        "    #'Adagrad': Adagrad(),\n",
        "    'Adam': Adam() }\n",
        "    \n",
        "    model.compile(optimizer = optimizer_dict[\n",
        "        trial.suggest_categorical('Optimizer', list(optimizer_dict.keys()))],\n",
        "          loss='sparse_categorical_crossentropy', metrics=['accuracy'])    \n",
        "    \n",
        "    if ok.verbose >= 2: model.summary()\n",
        "    \n",
        "    batch_size = trial.suggest_int('Batch_size', 256, 256) \n",
        "    #batch_size = int(trial.suggest_discrete_uniform(\n",
        "    #                  'Batch_size', 256, 512, 256) )\n",
        "    data_augmentation = trial.suggest_int('Data_augmentation', 0, 1)\n",
        "    \n",
        "    if not data_augmentation:\n",
        "        # [Required] Specify callbacks(trial) in fit method\n",
        "        model.fit(x_train, y_train, batch_size = batch_size,\n",
        "                  epochs = epochs, validation_data = (x_test, y_test),\n",
        "                  shuffle = True,\n",
        "                  callbacks = ok.callbacks(trial), \n",
        "                  verbose = ok.keras_verbose )\n",
        "    \n",
        "    if data_augmentation:\n",
        "        # This will do preprocessing and realtime data augmentation:\n",
        "        datagen = ImageDataGenerator(\n",
        "            width_shift_range=[-1, 0, +1], # 1 pixel\n",
        "            height_shift_range=[-1, 0, +1], # 1 pixel\n",
        "            zoom_range=[0.95,1.05],  # set range for random zoom\n",
        "            horizontal_flip=False,  # disable horizontal flip\n",
        "            vertical_flip=False )  # disable vertical flip\n",
        "        datagen.fit(x_train)\n",
        "        # [Required] Specify callbacks(trial) in fit_generator method\n",
        "        model.fit_generator(datagen.flow(x_train, y_train, \n",
        "                                         batch_size=batch_size),\n",
        "                            epochs=epochs, validation_data=(x_test, y_test),\n",
        "                            steps_per_epoch=len(x_train) // batch_size,\n",
        "                            callbacks = ok.callbacks(trial), \n",
        "                            verbose = ok.keras_verbose )  \n",
        "    \n",
        "    # [Required] return trial_best_value (recommended) or latest_value\n",
        "    return ok.trial_best_value\n",
        "\n",
        "# Set n_trials and/or timeout (in sec) for optimization by Optuna\n",
        "ok.optimize(objective, timeout = 10*60) # 10 minutes for demo"
      ],
      "execution_count": 10,
      "outputs": [
        {
          "output_type": "stream",
          "text": [
            "[I 2019-02-19 06:08:54,342] A new study created with name: MNIST_Optimized\n"
          ],
          "name": "stderr"
        },
        {
          "output_type": "stream",
          "text": [
            "[2019-02-19 06:08:54.367702] Ready for optimization. (message printed as verbose is set to 1+)\n",
            "WARNING:tensorflow:From /usr/local/lib/python3.6/dist-packages/keras/backend/tensorflow_backend.py:3445: calling dropout (from tensorflow.python.ops.nn_ops) with keep_prob is deprecated and will be removed in a future version.\n",
            "Instructions for updating:\n",
            "Please use `rate` instead of `keep_prob`. Rate should be set to `rate = 1 - keep_prob`.\n",
            "[2019-02-19 06:08:55.388551] Latest trial id: None, value: None (None) | Best trial id: None, value: None, parameters: None\n",
            "[2019-02-19 06:11:56.579468] Latest trial id: 1, value: 0.009600000000000053 (TrialState.COMPLETE) | Best trial id: 1, value: 0.009600000000000053, parameters: {'Batch_size': 256, 'Conv': 1, 'Conv_1_dropout_rate': 0.5, 'Conv_1_kernel_size': 2, 'Conv_1_max_pooling_size': 3, 'Conv_1_num_filters': 32.0, 'Data_augmentation': 1, 'FC_1_acivation': 'relu', 'FC_1_batch_normalization': 1, 'FC_1_dropout_rate': 0.25, 'FC_1_num_hidden_units': 512.0, 'FC_2_acivation': 'relu', 'FC_2_batch_normalization': 0, 'FC_2_dropout_rate': 0.5, 'FC_2_num_hidden_units': 512.0, 'Optimizer': 'Adam'}\n",
            "[2019-02-19 06:18:02.400595] Latest trial id: 11, value: 0.009099999999999997 (TrialState.COMPLETE) | Best trial id: 11, value: 0.009099999999999997, parameters: {'Batch_size': 256, 'Conv': 1, 'Conv_1_dropout_rate': 0.0, 'Conv_1_kernel_size': 3, 'Conv_1_max_pooling_size': 2, 'Conv_1_num_filters': 32.0, 'Data_augmentation': 1, 'FC_1_acivation': 'relu', 'FC_1_batch_normalization': 0, 'FC_1_dropout_rate': 0.0, 'FC_1_num_hidden_units': 512.0, 'FC_2_acivation': 'relu', 'FC_2_batch_normalization': 0, 'FC_2_dropout_rate': 0.5, 'FC_2_num_hidden_units': 512.0, 'Optimizer': 'Adam'}\n"
          ],
          "name": "stdout"
        }
      ]
    },
    {
      "metadata": {
        "id": "auoF6dt0sWCl",
        "colab_type": "text"
      },
      "cell_type": "markdown",
      "source": [
        "## Check the results"
      ]
    },
    {
      "metadata": {
        "id": "6y5SKUF9qXlp",
        "colab_type": "code",
        "colab": {
          "base_uri": "https://localhost:8080/",
          "height": 355
        },
        "outputId": "790f4df1-f93c-43ee-d022-0f3e6aeebb1b"
      },
      "cell_type": "code",
      "source": [
        "# OptKeras best_trial returns \n",
        "print('Best trial id: ', ok.best_trial.trial_id)\n",
        "print('Best value:', ok.best_trial.value)\n",
        "print('Best params: ')\n",
        "ok.best_trial.params"
      ],
      "execution_count": 11,
      "outputs": [
        {
          "output_type": "stream",
          "text": [
            "Best trial id:  11\n",
            "Best value: 0.009099999999999997\n",
            "Best params: \n"
          ],
          "name": "stdout"
        },
        {
          "output_type": "execute_result",
          "data": {
            "text/plain": [
              "{'Batch_size': 256,\n",
              " 'Conv': 1,\n",
              " 'Conv_1_dropout_rate': 0.0,\n",
              " 'Conv_1_kernel_size': 3,\n",
              " 'Conv_1_max_pooling_size': 2,\n",
              " 'Conv_1_num_filters': 32.0,\n",
              " 'Data_augmentation': 1,\n",
              " 'FC_1_acivation': 'relu',\n",
              " 'FC_1_batch_normalization': 0,\n",
              " 'FC_1_dropout_rate': 0.0,\n",
              " 'FC_1_num_hidden_units': 512.0,\n",
              " 'FC_2_acivation': 'relu',\n",
              " 'FC_2_batch_normalization': 0,\n",
              " 'FC_2_dropout_rate': 0.5,\n",
              " 'FC_2_num_hidden_units': 512.0,\n",
              " 'Optimizer': 'Adam'}"
            ]
          },
          "metadata": {
            "tags": []
          },
          "execution_count": 11
        }
      ]
    },
    {
      "metadata": {
        "id": "_3VjUGT7AVqO",
        "colab_type": "code",
        "colab": {
          "base_uri": "https://localhost:8080/",
          "height": 301
        },
        "outputId": "32ed0755-ec73-47df-9ba0-e327a0b36f77"
      },
      "cell_type": "code",
      "source": [
        "\"\"\"\n",
        "Alternatively, you can access Optuna's study object to, for example, \n",
        "get the best parameters as well.\n",
        "Please note that study.best_trial returns error if optimization trials \n",
        "were not completed (e.g. if you interupt execution) as of Optuna 0.7.0, \n",
        "so usage of OptKeras is recommended.\n",
        "\"\"\"\n",
        "study = ok.study\n",
        "study.best_trial.params "
      ],
      "execution_count": 12,
      "outputs": [
        {
          "output_type": "execute_result",
          "data": {
            "text/plain": [
              "{'Batch_size': 256,\n",
              " 'Conv': 1,\n",
              " 'Conv_1_dropout_rate': 0.0,\n",
              " 'Conv_1_kernel_size': 3,\n",
              " 'Conv_1_max_pooling_size': 2,\n",
              " 'Conv_1_num_filters': 32.0,\n",
              " 'Data_augmentation': 1,\n",
              " 'FC_1_acivation': 'relu',\n",
              " 'FC_1_batch_normalization': 0,\n",
              " 'FC_1_dropout_rate': 0.0,\n",
              " 'FC_1_num_hidden_units': 512.0,\n",
              " 'FC_2_acivation': 'relu',\n",
              " 'FC_2_batch_normalization': 0,\n",
              " 'FC_2_dropout_rate': 0.5,\n",
              " 'FC_2_num_hidden_units': 512.0,\n",
              " 'Optimizer': 'Adam'}"
            ]
          },
          "metadata": {
            "tags": []
          },
          "execution_count": 12
        }
      ]
    },
    {
      "metadata": {
        "id": "uTGnnvpDF5IE",
        "colab_type": "code",
        "colab": {
          "base_uri": "https://localhost:8080/",
          "height": 531
        },
        "outputId": "b74af0c5-ac15-4545-a533-0fa5e1c26d9b"
      },
      "cell_type": "code",
      "source": [
        "## Check the Optuna CSV log file \n",
        "pd.options.display.max_rows = 8 # limit rows to display\n",
        "print('Data Frame read from', ok.optuna_log_file_path, '\\n')\n",
        "pd.read_csv(ok.optuna_log_file_path)"
      ],
      "execution_count": 13,
      "outputs": [
        {
          "output_type": "stream",
          "text": [
            "Data Frame read from MNIST_Optimized_Optuna.csv \n",
            "\n"
          ],
          "name": "stdout"
        },
        {
          "output_type": "execute_result",
          "data": {
            "text/html": [
              "<div>\n",
              "<style scoped>\n",
              "    .dataframe tbody tr th:only-of-type {\n",
              "        vertical-align: middle;\n",
              "    }\n",
              "\n",
              "    .dataframe tbody tr th {\n",
              "        vertical-align: top;\n",
              "    }\n",
              "\n",
              "    .dataframe thead th {\n",
              "        text-align: right;\n",
              "    }\n",
              "</style>\n",
              "<table border=\"1\" class=\"dataframe\">\n",
              "  <thead>\n",
              "    <tr style=\"text-align: right;\">\n",
              "      <th></th>\n",
              "      <th>trial_id</th>\n",
              "      <th>state</th>\n",
              "      <th>value</th>\n",
              "      <th>datetime_start</th>\n",
              "      <th>datetime_complete</th>\n",
              "      <th>Batch_size</th>\n",
              "      <th>Conv</th>\n",
              "      <th>Conv_1_dropout_rate</th>\n",
              "      <th>Conv_1_kernel_size</th>\n",
              "      <th>Conv_1_max_pooling_size</th>\n",
              "      <th>...</th>\n",
              "      <th>intermediate_values_0</th>\n",
              "      <th>intermediate_values_1</th>\n",
              "      <th>intermediate_values_2</th>\n",
              "      <th>intermediate_values_3</th>\n",
              "      <th>intermediate_values_4</th>\n",
              "      <th>intermediate_values_5</th>\n",
              "      <th>intermediate_values_6</th>\n",
              "      <th>intermediate_values_7</th>\n",
              "      <th>intermediate_values_8</th>\n",
              "      <th>intermediate_values_9</th>\n",
              "    </tr>\n",
              "  </thead>\n",
              "  <tbody>\n",
              "    <tr>\n",
              "      <th>0</th>\n",
              "      <td>1</td>\n",
              "      <td>TrialState.COMPLETE</td>\n",
              "      <td>0.0096</td>\n",
              "      <td>2019-02-19 06:08:54.383733</td>\n",
              "      <td>2019-02-19 06:11:55.435378</td>\n",
              "      <td>256</td>\n",
              "      <td>1</td>\n",
              "      <td>0.5</td>\n",
              "      <td>2.0</td>\n",
              "      <td>3.0</td>\n",
              "      <td>...</td>\n",
              "      <td>0.0240</td>\n",
              "      <td>0.0171</td>\n",
              "      <td>0.0118</td>\n",
              "      <td>0.0134</td>\n",
              "      <td>0.0116</td>\n",
              "      <td>0.0105</td>\n",
              "      <td>0.0102</td>\n",
              "      <td>0.0106</td>\n",
              "      <td>0.0100</td>\n",
              "      <td>0.0096</td>\n",
              "    </tr>\n",
              "    <tr>\n",
              "      <th>1</th>\n",
              "      <td>2</td>\n",
              "      <td>TrialState.PRUNED</td>\n",
              "      <td>0.0315</td>\n",
              "      <td>2019-02-19 06:11:55.471142</td>\n",
              "      <td>2019-02-19 06:12:32.584937</td>\n",
              "      <td>256</td>\n",
              "      <td>0</td>\n",
              "      <td>NaN</td>\n",
              "      <td>NaN</td>\n",
              "      <td>NaN</td>\n",
              "      <td>...</td>\n",
              "      <td>0.0445</td>\n",
              "      <td>0.0315</td>\n",
              "      <td>NaN</td>\n",
              "      <td>NaN</td>\n",
              "      <td>NaN</td>\n",
              "      <td>NaN</td>\n",
              "      <td>NaN</td>\n",
              "      <td>NaN</td>\n",
              "      <td>NaN</td>\n",
              "      <td>NaN</td>\n",
              "    </tr>\n",
              "    <tr>\n",
              "      <th>2</th>\n",
              "      <td>3</td>\n",
              "      <td>TrialState.PRUNED</td>\n",
              "      <td>0.0173</td>\n",
              "      <td>2019-02-19 06:12:32.604743</td>\n",
              "      <td>2019-02-19 06:12:42.537040</td>\n",
              "      <td>256</td>\n",
              "      <td>1</td>\n",
              "      <td>0.5</td>\n",
              "      <td>3.0</td>\n",
              "      <td>2.0</td>\n",
              "      <td>...</td>\n",
              "      <td>0.0183</td>\n",
              "      <td>0.0173</td>\n",
              "      <td>NaN</td>\n",
              "      <td>NaN</td>\n",
              "      <td>NaN</td>\n",
              "      <td>NaN</td>\n",
              "      <td>NaN</td>\n",
              "      <td>NaN</td>\n",
              "      <td>NaN</td>\n",
              "      <td>NaN</td>\n",
              "    </tr>\n",
              "    <tr>\n",
              "      <th>3</th>\n",
              "      <td>4</td>\n",
              "      <td>TrialState.PRUNED</td>\n",
              "      <td>0.0214</td>\n",
              "      <td>2019-02-19 06:12:42.557278</td>\n",
              "      <td>2019-02-19 06:13:18.519587</td>\n",
              "      <td>256</td>\n",
              "      <td>0</td>\n",
              "      <td>NaN</td>\n",
              "      <td>NaN</td>\n",
              "      <td>NaN</td>\n",
              "      <td>...</td>\n",
              "      <td>0.0360</td>\n",
              "      <td>0.0214</td>\n",
              "      <td>NaN</td>\n",
              "      <td>NaN</td>\n",
              "      <td>NaN</td>\n",
              "      <td>NaN</td>\n",
              "      <td>NaN</td>\n",
              "      <td>NaN</td>\n",
              "      <td>NaN</td>\n",
              "      <td>NaN</td>\n",
              "    </tr>\n",
              "    <tr>\n",
              "      <th>...</th>\n",
              "      <td>...</td>\n",
              "      <td>...</td>\n",
              "      <td>...</td>\n",
              "      <td>...</td>\n",
              "      <td>...</td>\n",
              "      <td>...</td>\n",
              "      <td>...</td>\n",
              "      <td>...</td>\n",
              "      <td>...</td>\n",
              "      <td>...</td>\n",
              "      <td>...</td>\n",
              "      <td>...</td>\n",
              "      <td>...</td>\n",
              "      <td>...</td>\n",
              "      <td>...</td>\n",
              "      <td>...</td>\n",
              "      <td>...</td>\n",
              "      <td>...</td>\n",
              "      <td>...</td>\n",
              "      <td>...</td>\n",
              "      <td>...</td>\n",
              "    </tr>\n",
              "    <tr>\n",
              "      <th>9</th>\n",
              "      <td>10</td>\n",
              "      <td>TrialState.PRUNED</td>\n",
              "      <td>0.0300</td>\n",
              "      <td>2019-02-19 06:14:56.949029</td>\n",
              "      <td>2019-02-19 06:15:03.633743</td>\n",
              "      <td>256</td>\n",
              "      <td>0</td>\n",
              "      <td>NaN</td>\n",
              "      <td>NaN</td>\n",
              "      <td>NaN</td>\n",
              "      <td>...</td>\n",
              "      <td>0.0386</td>\n",
              "      <td>0.0300</td>\n",
              "      <td>NaN</td>\n",
              "      <td>NaN</td>\n",
              "      <td>NaN</td>\n",
              "      <td>NaN</td>\n",
              "      <td>NaN</td>\n",
              "      <td>NaN</td>\n",
              "      <td>NaN</td>\n",
              "      <td>NaN</td>\n",
              "    </tr>\n",
              "    <tr>\n",
              "      <th>10</th>\n",
              "      <td>11</td>\n",
              "      <td>TrialState.COMPLETE</td>\n",
              "      <td>0.0091</td>\n",
              "      <td>2019-02-19 06:15:03.662993</td>\n",
              "      <td>2019-02-19 06:18:01.183166</td>\n",
              "      <td>256</td>\n",
              "      <td>1</td>\n",
              "      <td>0.0</td>\n",
              "      <td>3.0</td>\n",
              "      <td>2.0</td>\n",
              "      <td>...</td>\n",
              "      <td>0.0208</td>\n",
              "      <td>0.0151</td>\n",
              "      <td>0.0136</td>\n",
              "      <td>0.0117</td>\n",
              "      <td>0.0115</td>\n",
              "      <td>0.0083</td>\n",
              "      <td>0.0093</td>\n",
              "      <td>0.0107</td>\n",
              "      <td>0.0104</td>\n",
              "      <td>0.0091</td>\n",
              "    </tr>\n",
              "    <tr>\n",
              "      <th>11</th>\n",
              "      <td>12</td>\n",
              "      <td>TrialState.PRUNED</td>\n",
              "      <td>0.0183</td>\n",
              "      <td>2019-02-19 06:18:01.236386</td>\n",
              "      <td>2019-02-19 06:18:38.937226</td>\n",
              "      <td>256</td>\n",
              "      <td>1</td>\n",
              "      <td>0.0</td>\n",
              "      <td>2.0</td>\n",
              "      <td>3.0</td>\n",
              "      <td>...</td>\n",
              "      <td>0.0204</td>\n",
              "      <td>0.0183</td>\n",
              "      <td>NaN</td>\n",
              "      <td>NaN</td>\n",
              "      <td>NaN</td>\n",
              "      <td>NaN</td>\n",
              "      <td>NaN</td>\n",
              "      <td>NaN</td>\n",
              "      <td>NaN</td>\n",
              "      <td>NaN</td>\n",
              "    </tr>\n",
              "    <tr>\n",
              "      <th>12</th>\n",
              "      <td>13</td>\n",
              "      <td>TrialState.PRUNED</td>\n",
              "      <td>0.0346</td>\n",
              "      <td>2019-02-19 06:18:38.962716</td>\n",
              "      <td>2019-02-19 06:19:16.441947</td>\n",
              "      <td>256</td>\n",
              "      <td>0</td>\n",
              "      <td>NaN</td>\n",
              "      <td>NaN</td>\n",
              "      <td>NaN</td>\n",
              "      <td>...</td>\n",
              "      <td>0.0497</td>\n",
              "      <td>0.0346</td>\n",
              "      <td>NaN</td>\n",
              "      <td>NaN</td>\n",
              "      <td>NaN</td>\n",
              "      <td>NaN</td>\n",
              "      <td>NaN</td>\n",
              "      <td>NaN</td>\n",
              "      <td>NaN</td>\n",
              "      <td>NaN</td>\n",
              "    </tr>\n",
              "  </tbody>\n",
              "</table>\n",
              "<p>13 rows × 43 columns</p>\n",
              "</div>"
            ],
            "text/plain": [
              "    trial_id                state   value              datetime_start  \\\n",
              "0          1  TrialState.COMPLETE  0.0096  2019-02-19 06:08:54.383733   \n",
              "1          2    TrialState.PRUNED  0.0315  2019-02-19 06:11:55.471142   \n",
              "2          3    TrialState.PRUNED  0.0173  2019-02-19 06:12:32.604743   \n",
              "3          4    TrialState.PRUNED  0.0214  2019-02-19 06:12:42.557278   \n",
              "..       ...                  ...     ...                         ...   \n",
              "9         10    TrialState.PRUNED  0.0300  2019-02-19 06:14:56.949029   \n",
              "10        11  TrialState.COMPLETE  0.0091  2019-02-19 06:15:03.662993   \n",
              "11        12    TrialState.PRUNED  0.0183  2019-02-19 06:18:01.236386   \n",
              "12        13    TrialState.PRUNED  0.0346  2019-02-19 06:18:38.962716   \n",
              "\n",
              "             datetime_complete  Batch_size  Conv  Conv_1_dropout_rate  \\\n",
              "0   2019-02-19 06:11:55.435378         256     1                  0.5   \n",
              "1   2019-02-19 06:12:32.584937         256     0                  NaN   \n",
              "2   2019-02-19 06:12:42.537040         256     1                  0.5   \n",
              "3   2019-02-19 06:13:18.519587         256     0                  NaN   \n",
              "..                         ...         ...   ...                  ...   \n",
              "9   2019-02-19 06:15:03.633743         256     0                  NaN   \n",
              "10  2019-02-19 06:18:01.183166         256     1                  0.0   \n",
              "11  2019-02-19 06:18:38.937226         256     1                  0.0   \n",
              "12  2019-02-19 06:19:16.441947         256     0                  NaN   \n",
              "\n",
              "    Conv_1_kernel_size  Conv_1_max_pooling_size          ...            \\\n",
              "0                  2.0                      3.0          ...             \n",
              "1                  NaN                      NaN          ...             \n",
              "2                  3.0                      2.0          ...             \n",
              "3                  NaN                      NaN          ...             \n",
              "..                 ...                      ...          ...             \n",
              "9                  NaN                      NaN          ...             \n",
              "10                 3.0                      2.0          ...             \n",
              "11                 2.0                      3.0          ...             \n",
              "12                 NaN                      NaN          ...             \n",
              "\n",
              "    intermediate_values_0  intermediate_values_1 intermediate_values_2  \\\n",
              "0                  0.0240                 0.0171                0.0118   \n",
              "1                  0.0445                 0.0315                   NaN   \n",
              "2                  0.0183                 0.0173                   NaN   \n",
              "3                  0.0360                 0.0214                   NaN   \n",
              "..                    ...                    ...                   ...   \n",
              "9                  0.0386                 0.0300                   NaN   \n",
              "10                 0.0208                 0.0151                0.0136   \n",
              "11                 0.0204                 0.0183                   NaN   \n",
              "12                 0.0497                 0.0346                   NaN   \n",
              "\n",
              "    intermediate_values_3  intermediate_values_4  intermediate_values_5  \\\n",
              "0                  0.0134                 0.0116                 0.0105   \n",
              "1                     NaN                    NaN                    NaN   \n",
              "2                     NaN                    NaN                    NaN   \n",
              "3                     NaN                    NaN                    NaN   \n",
              "..                    ...                    ...                    ...   \n",
              "9                     NaN                    NaN                    NaN   \n",
              "10                 0.0117                 0.0115                 0.0083   \n",
              "11                    NaN                    NaN                    NaN   \n",
              "12                    NaN                    NaN                    NaN   \n",
              "\n",
              "   intermediate_values_6  intermediate_values_7  intermediate_values_8  \\\n",
              "0                 0.0102                 0.0106                 0.0100   \n",
              "1                    NaN                    NaN                    NaN   \n",
              "2                    NaN                    NaN                    NaN   \n",
              "3                    NaN                    NaN                    NaN   \n",
              "..                   ...                    ...                    ...   \n",
              "9                    NaN                    NaN                    NaN   \n",
              "10                0.0093                 0.0107                 0.0104   \n",
              "11                   NaN                    NaN                    NaN   \n",
              "12                   NaN                    NaN                    NaN   \n",
              "\n",
              "    intermediate_values_9  \n",
              "0                  0.0096  \n",
              "1                     NaN  \n",
              "2                     NaN  \n",
              "3                     NaN  \n",
              "..                    ...  \n",
              "9                     NaN  \n",
              "10                 0.0091  \n",
              "11                    NaN  \n",
              "12                    NaN  \n",
              "\n",
              "[13 rows x 43 columns]"
            ]
          },
          "metadata": {
            "tags": []
          },
          "execution_count": 13
        }
      ]
    },
    {
      "metadata": {
        "id": "aECKs3b8bR6o",
        "colab_type": "code",
        "colab": {
          "base_uri": "https://localhost:8080/",
          "height": 376
        },
        "outputId": "d1902e03-60ce-48f3-ea2e-d7fa0e72c13d"
      },
      "cell_type": "code",
      "source": [
        "## Check the Keras CSV log file\n",
        "\n",
        "pd.options.display.max_rows = 8 # limit rows to display\n",
        "print('Data Frame read from', ok.keras_log_file_path, '\\n')\n",
        "pd.read_csv(ok.keras_log_file_path)"
      ],
      "execution_count": 14,
      "outputs": [
        {
          "output_type": "stream",
          "text": [
            "Data Frame read from MNIST_Optimized_Keras.csv \n",
            "\n"
          ],
          "name": "stdout"
        },
        {
          "output_type": "execute_result",
          "data": {
            "text/html": [
              "<div>\n",
              "<style scoped>\n",
              "    .dataframe tbody tr th:only-of-type {\n",
              "        vertical-align: middle;\n",
              "    }\n",
              "\n",
              "    .dataframe tbody tr th {\n",
              "        vertical-align: top;\n",
              "    }\n",
              "\n",
              "    .dataframe thead th {\n",
              "        text-align: right;\n",
              "    }\n",
              "</style>\n",
              "<table border=\"1\" class=\"dataframe\">\n",
              "  <thead>\n",
              "    <tr style=\"text-align: right;\">\n",
              "      <th></th>\n",
              "      <th>epoch</th>\n",
              "      <th>_Datetime_epoch_begin</th>\n",
              "      <th>_Datetime_epoch_end</th>\n",
              "      <th>_Monitor</th>\n",
              "      <th>_Trial_id</th>\n",
              "      <th>acc</th>\n",
              "      <th>error</th>\n",
              "      <th>loss</th>\n",
              "      <th>val_acc</th>\n",
              "      <th>val_error</th>\n",
              "      <th>val_loss</th>\n",
              "    </tr>\n",
              "  </thead>\n",
              "  <tbody>\n",
              "    <tr>\n",
              "      <th>0</th>\n",
              "      <td>0</td>\n",
              "      <td>2019-02-19 06:08:56.119901</td>\n",
              "      <td>2019-02-19 06:09:14.208986</td>\n",
              "      <td>val_error</td>\n",
              "      <td>1</td>\n",
              "      <td>0.860026</td>\n",
              "      <td>0.139974</td>\n",
              "      <td>0.432818</td>\n",
              "      <td>0.9760</td>\n",
              "      <td>0.0240</td>\n",
              "      <td>0.071521</td>\n",
              "    </tr>\n",
              "    <tr>\n",
              "      <th>1</th>\n",
              "      <td>1</td>\n",
              "      <td>2019-02-19 06:09:14.927605</td>\n",
              "      <td>2019-02-19 06:09:31.865061</td>\n",
              "      <td>val_error</td>\n",
              "      <td>1</td>\n",
              "      <td>0.941969</td>\n",
              "      <td>0.058031</td>\n",
              "      <td>0.181730</td>\n",
              "      <td>0.9829</td>\n",
              "      <td>0.0171</td>\n",
              "      <td>0.049296</td>\n",
              "    </tr>\n",
              "    <tr>\n",
              "      <th>2</th>\n",
              "      <td>2</td>\n",
              "      <td>2019-02-19 06:09:32.756224</td>\n",
              "      <td>2019-02-19 06:09:49.897006</td>\n",
              "      <td>val_error</td>\n",
              "      <td>1</td>\n",
              "      <td>0.954255</td>\n",
              "      <td>0.045745</td>\n",
              "      <td>0.147522</td>\n",
              "      <td>0.9882</td>\n",
              "      <td>0.0118</td>\n",
              "      <td>0.038795</td>\n",
              "    </tr>\n",
              "    <tr>\n",
              "      <th>3</th>\n",
              "      <td>3</td>\n",
              "      <td>2019-02-19 06:09:50.878222</td>\n",
              "      <td>2019-02-19 06:10:08.118410</td>\n",
              "      <td>val_error</td>\n",
              "      <td>1</td>\n",
              "      <td>0.960029</td>\n",
              "      <td>0.039971</td>\n",
              "      <td>0.125914</td>\n",
              "      <td>0.9866</td>\n",
              "      <td>0.0134</td>\n",
              "      <td>0.040229</td>\n",
              "    </tr>\n",
              "    <tr>\n",
              "      <th>...</th>\n",
              "      <td>...</td>\n",
              "      <td>...</td>\n",
              "      <td>...</td>\n",
              "      <td>...</td>\n",
              "      <td>...</td>\n",
              "      <td>...</td>\n",
              "      <td>...</td>\n",
              "      <td>...</td>\n",
              "      <td>...</td>\n",
              "      <td>...</td>\n",
              "      <td>...</td>\n",
              "    </tr>\n",
              "    <tr>\n",
              "      <th>38</th>\n",
              "      <td>0</td>\n",
              "      <td>2019-02-19 06:18:03.330970</td>\n",
              "      <td>2019-02-19 06:18:20.798756</td>\n",
              "      <td>val_error</td>\n",
              "      <td>12</td>\n",
              "      <td>0.914730</td>\n",
              "      <td>0.085270</td>\n",
              "      <td>0.275146</td>\n",
              "      <td>0.9796</td>\n",
              "      <td>0.0204</td>\n",
              "      <td>0.061174</td>\n",
              "    </tr>\n",
              "    <tr>\n",
              "      <th>39</th>\n",
              "      <td>1</td>\n",
              "      <td>2019-02-19 06:18:21.656352</td>\n",
              "      <td>2019-02-19 06:18:37.934356</td>\n",
              "      <td>val_error</td>\n",
              "      <td>12</td>\n",
              "      <td>0.962339</td>\n",
              "      <td>0.037661</td>\n",
              "      <td>0.121282</td>\n",
              "      <td>0.9817</td>\n",
              "      <td>0.0183</td>\n",
              "      <td>0.052814</td>\n",
              "    </tr>\n",
              "    <tr>\n",
              "      <th>40</th>\n",
              "      <td>0</td>\n",
              "      <td>2019-02-19 06:18:41.093189</td>\n",
              "      <td>2019-02-19 06:18:58.527986</td>\n",
              "      <td>val_error</td>\n",
              "      <td>13</td>\n",
              "      <td>0.813835</td>\n",
              "      <td>0.186165</td>\n",
              "      <td>0.587297</td>\n",
              "      <td>0.9503</td>\n",
              "      <td>0.0497</td>\n",
              "      <td>0.166245</td>\n",
              "    </tr>\n",
              "    <tr>\n",
              "      <th>41</th>\n",
              "      <td>1</td>\n",
              "      <td>2019-02-19 06:18:59.483394</td>\n",
              "      <td>2019-02-19 06:19:15.497729</td>\n",
              "      <td>val_error</td>\n",
              "      <td>13</td>\n",
              "      <td>0.907756</td>\n",
              "      <td>0.092244</td>\n",
              "      <td>0.298405</td>\n",
              "      <td>0.9654</td>\n",
              "      <td>0.0346</td>\n",
              "      <td>0.114381</td>\n",
              "    </tr>\n",
              "  </tbody>\n",
              "</table>\n",
              "<p>42 rows × 11 columns</p>\n",
              "</div>"
            ],
            "text/plain": [
              "    epoch       _Datetime_epoch_begin         _Datetime_epoch_end   _Monitor  \\\n",
              "0       0  2019-02-19 06:08:56.119901  2019-02-19 06:09:14.208986  val_error   \n",
              "1       1  2019-02-19 06:09:14.927605  2019-02-19 06:09:31.865061  val_error   \n",
              "2       2  2019-02-19 06:09:32.756224  2019-02-19 06:09:49.897006  val_error   \n",
              "3       3  2019-02-19 06:09:50.878222  2019-02-19 06:10:08.118410  val_error   \n",
              "..    ...                         ...                         ...        ...   \n",
              "38      0  2019-02-19 06:18:03.330970  2019-02-19 06:18:20.798756  val_error   \n",
              "39      1  2019-02-19 06:18:21.656352  2019-02-19 06:18:37.934356  val_error   \n",
              "40      0  2019-02-19 06:18:41.093189  2019-02-19 06:18:58.527986  val_error   \n",
              "41      1  2019-02-19 06:18:59.483394  2019-02-19 06:19:15.497729  val_error   \n",
              "\n",
              "    _Trial_id       acc     error      loss  val_acc  val_error  val_loss  \n",
              "0           1  0.860026  0.139974  0.432818   0.9760     0.0240  0.071521  \n",
              "1           1  0.941969  0.058031  0.181730   0.9829     0.0171  0.049296  \n",
              "2           1  0.954255  0.045745  0.147522   0.9882     0.0118  0.038795  \n",
              "3           1  0.960029  0.039971  0.125914   0.9866     0.0134  0.040229  \n",
              "..        ...       ...       ...       ...      ...        ...       ...  \n",
              "38         12  0.914730  0.085270  0.275146   0.9796     0.0204  0.061174  \n",
              "39         12  0.962339  0.037661  0.121282   0.9817     0.0183  0.052814  \n",
              "40         13  0.813835  0.186165  0.587297   0.9503     0.0497  0.166245  \n",
              "41         13  0.907756  0.092244  0.298405   0.9654     0.0346  0.114381  \n",
              "\n",
              "[42 rows x 11 columns]"
            ]
          },
          "metadata": {
            "tags": []
          },
          "execution_count": 14
        }
      ]
    }
  ]
}