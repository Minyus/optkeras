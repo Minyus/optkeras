{
  "nbformat": 4,
  "nbformat_minor": 0,
  "metadata": {
    "colab": {
      "name": "OptKeras_Example.ipynb",
      "version": "0.3.2",
      "provenance": [],
      "collapsed_sections": []
    },
    "kernelspec": {
      "name": "python3",
      "display_name": "Python 3"
    },
    "accelerator": "GPU"
  },
  "cells": [
    {
      "metadata": {
        "id": "adlTq181lzrT",
        "colab_type": "text"
      },
      "cell_type": "markdown",
      "source": [
        "This notebook demonstrates how to use OptKeras, wrapper of Keras and Optuna"
      ]
    },
    {
      "metadata": {
        "id": "U087RvP2l0ew",
        "colab_type": "text"
      },
      "cell_type": "markdown",
      "source": [
        "##  Set up Google Colab environment\n",
        "\n",
        "To run in Google Colab, specify a directory in Google Drive. (GPU is recommended.)\n",
        "\n",
        "To run in an environment other than Google Colab, just skip this code."
      ]
    },
    {
      "metadata": {
        "id": "2M7KQx6HV40_",
        "colab_type": "code",
        "colab": {
          "base_uri": "https://localhost:8080/",
          "height": 802
        },
        "outputId": "a8f54490-fff4-4734-8e74-abad05d3c8f8"
      },
      "cell_type": "code",
      "source": [
        "try:\n",
        "    # Mount Google Drive\n",
        "    from google.colab import drive\n",
        "    drive.mount('/content/drive')\n",
        "    import os\n",
        "    # Specify a directory in Google Drive\n",
        "    dir = '/content/drive/My Drive/Colab Notebooks/OptKeras'\n",
        "    os.chdir(dir)    \n",
        "    # Check the environment info\n",
        "    print('## Current working directory: ', os.getcwd())\n",
        "    print('## Check the uptime. (Google Colab reboots every 12 hours)')\n",
        "    !cat /proc/uptime | awk '{print \"Uptime is \" $1 /60 /60 \" hours (\" $1 \" sec)\"}'\n",
        "    print('## Check the GPU info')\n",
        "    !nvidia-smi\n",
        "    print('## Check the OS') \n",
        "    !cat /etc/issue\n",
        "    print('## Check the Python version') \n",
        "    !python --version\n",
        "    print('## Check the memory')\n",
        "    !free -h\n",
        "    print('## Check the disk')\n",
        "    !df -h\n",
        "except:\n",
        "    print('Run the code assuming the environment is not Google Colab.')"
      ],
      "execution_count": 1,
      "outputs": [
        {
          "output_type": "stream",
          "text": [
            "Go to this URL in a browser: https://accounts.google.com/o/oauth2/auth?client_id=947318989803-6bn6qk8qdgf4n4g3pfee6491hc0brc4i.apps.googleusercontent.com&redirect_uri=urn%3Aietf%3Awg%3Aoauth%3A2.0%3Aoob&scope=email%20https%3A%2F%2Fwww.googleapis.com%2Fauth%2Fdocs.test%20https%3A%2F%2Fwww.googleapis.com%2Fauth%2Fdrive%20https%3A%2F%2Fwww.googleapis.com%2Fauth%2Fdrive.photos.readonly%20https%3A%2F%2Fwww.googleapis.com%2Fauth%2Fpeopleapi.readonly&response_type=code\n",
            "\n",
            "Enter your authorization code:\n",
            "··········\n",
            "Mounted at /content/drive\n",
            "## Current working directory:  /content/drive/My Drive/Colab Notebooks/OptKeras\n",
            "## Check the uptime. (Google Colab reboots every 12 hours)\n",
            "Uptime is 0.0237722 hours (85.58 sec)\n",
            "## Check the GPU info\n",
            "Wed Feb 13 11:09:40 2019       \n",
            "+-----------------------------------------------------------------------------+\n",
            "| NVIDIA-SMI 410.79       Driver Version: 410.79       CUDA Version: 10.0     |\n",
            "|-------------------------------+----------------------+----------------------+\n",
            "| GPU  Name        Persistence-M| Bus-Id        Disp.A | Volatile Uncorr. ECC |\n",
            "| Fan  Temp  Perf  Pwr:Usage/Cap|         Memory-Usage | GPU-Util  Compute M. |\n",
            "|===============================+======================+======================|\n",
            "|   0  Tesla K80           Off  | 00000000:00:04.0 Off |                    0 |\n",
            "| N/A   32C    P8    29W / 149W |      0MiB / 11441MiB |      0%      Default |\n",
            "+-------------------------------+----------------------+----------------------+\n",
            "                                                                               \n",
            "+-----------------------------------------------------------------------------+\n",
            "| Processes:                                                       GPU Memory |\n",
            "|  GPU       PID   Type   Process name                             Usage      |\n",
            "|=============================================================================|\n",
            "|  No running processes found                                                 |\n",
            "+-----------------------------------------------------------------------------+\n",
            "## Check the OS\n",
            "Ubuntu 18.04.1 LTS \\n \\l\n",
            "\n",
            "## Check the Python version\n",
            "Python 3.6.7\n",
            "## Check the memory\n",
            "              total        used        free      shared  buff/cache   available\n",
            "Mem:            12G        444M         10G        904K        1.8G         12G\n",
            "Swap:            0B          0B          0B\n",
            "## Check the disk\n",
            "Filesystem      Size  Used Avail Use% Mounted on\n",
            "overlay         359G   22G  319G   7% /\n",
            "tmpfs           6.4G     0  6.4G   0% /dev\n",
            "tmpfs           6.4G     0  6.4G   0% /sys/fs/cgroup\n",
            "tmpfs           6.4G   12K  6.4G   1% /var/colab\n",
            "/dev/sda1       365G   26G  340G   7% /opt/bin\n",
            "shm             6.0G     0  6.0G   0% /dev/shm\n",
            "tmpfs           6.4G     0  6.4G   0% /sys/firmware\n",
            "drive           200G   39G  162G  20% /content/drive\n"
          ],
          "name": "stdout"
        }
      ]
    },
    {
      "metadata": {
        "id": "it4-DX10mqlB",
        "colab_type": "text"
      },
      "cell_type": "markdown",
      "source": [
        "## Install Optuna 0.7.0"
      ]
    },
    {
      "metadata": {
        "id": "XeNktIMgWNOg",
        "colab_type": "code",
        "colab": {
          "base_uri": "https://localhost:8080/",
          "height": 717
        },
        "outputId": "2c3fb06f-0743-4416-b96d-19b48499073e"
      },
      "cell_type": "code",
      "source": [
        "!pip install optuna==0.7.0"
      ],
      "execution_count": 2,
      "outputs": [
        {
          "output_type": "stream",
          "text": [
            "Collecting optuna==0.7.0\n",
            "\u001b[?25l  Downloading https://files.pythonhosted.org/packages/2e/2c/946b73a073761a0dc68235ef92829b47d82c6f807e8767e0f84b09c98c0f/optuna-0.7.0.tar.gz (60kB)\n",
            "\u001b[K    100% |████████████████████████████████| 61kB 2.3MB/s \n",
            "\u001b[?25hRequirement already satisfied: sqlalchemy>=1.1.0 in /usr/local/lib/python3.6/dist-packages (from optuna==0.7.0) (1.2.17)\n",
            "Requirement already satisfied: numpy in /usr/local/lib/python3.6/dist-packages (from optuna==0.7.0) (1.14.6)\n",
            "Requirement already satisfied: scipy in /usr/local/lib/python3.6/dist-packages (from optuna==0.7.0) (1.1.0)\n",
            "Requirement already satisfied: six in /usr/local/lib/python3.6/dist-packages (from optuna==0.7.0) (1.11.0)\n",
            "Requirement already satisfied: typing in /usr/local/lib/python3.6/dist-packages (from optuna==0.7.0) (3.6.6)\n",
            "Collecting cliff (from optuna==0.7.0)\n",
            "\u001b[?25l  Downloading https://files.pythonhosted.org/packages/8e/1a/5404afee3d83a2e5f27e0d20ac7012c9f07bd8e9b03d0ae1fd9bb3e63037/cliff-2.14.0-py2.py3-none-any.whl (77kB)\n",
            "\u001b[K    100% |████████████████████████████████| 81kB 5.9MB/s \n",
            "\u001b[?25hCollecting colorlog (from optuna==0.7.0)\n",
            "  Downloading https://files.pythonhosted.org/packages/68/4d/892728b0c14547224f0ac40884e722a3d00cb54e7a146aea0b3186806c9e/colorlog-4.0.2-py2.py3-none-any.whl\n",
            "Requirement already satisfied: pandas in /usr/local/lib/python3.6/dist-packages (from optuna==0.7.0) (0.22.0)\n",
            "Requirement already satisfied: PrettyTable<0.8,>=0.7.2 in /usr/local/lib/python3.6/dist-packages (from cliff->optuna==0.7.0) (0.7.2)\n",
            "Requirement already satisfied: pyparsing>=2.1.0 in /usr/local/lib/python3.6/dist-packages (from cliff->optuna==0.7.0) (2.3.1)\n",
            "Requirement already satisfied: PyYAML>=3.12 in /usr/local/lib/python3.6/dist-packages (from cliff->optuna==0.7.0) (3.13)\n",
            "Collecting stevedore>=1.20.0 (from cliff->optuna==0.7.0)\n",
            "\u001b[?25l  Downloading https://files.pythonhosted.org/packages/35/fa/8683fab2a6e15ecfe107996e56fab91e52fe3ec0b40ca9440a0e1ffe6892/stevedore-1.30.0-py2.py3-none-any.whl (42kB)\n",
            "\u001b[K    100% |████████████████████████████████| 51kB 21.3MB/s \n",
            "\u001b[?25hCollecting cmd2!=0.8.3; python_version >= \"3.0\" (from cliff->optuna==0.7.0)\n",
            "\u001b[?25l  Downloading https://files.pythonhosted.org/packages/d6/33/dbf0d2380ef9fce79e5b75f358a9de16b66b29598df610c24d49c4c0cd86/cmd2-0.9.8-py3-none-any.whl (86kB)\n",
            "\u001b[K    100% |████████████████████████████████| 92kB 25.9MB/s \n",
            "\u001b[?25hRequirement already satisfied: pbr!=2.1.0,>=2.0.0 in /usr/local/lib/python3.6/dist-packages (from cliff->optuna==0.7.0) (5.1.2)\n",
            "Requirement already satisfied: pytz>=2011k in /usr/local/lib/python3.6/dist-packages (from pandas->optuna==0.7.0) (2018.9)\n",
            "Requirement already satisfied: python-dateutil>=2 in /usr/local/lib/python3.6/dist-packages (from pandas->optuna==0.7.0) (2.5.3)\n",
            "Collecting pyperclip>=1.5.27 (from cmd2!=0.8.3; python_version >= \"3.0\"->cliff->optuna==0.7.0)\n",
            "  Downloading https://files.pythonhosted.org/packages/2d/0f/4eda562dffd085945d57c2d9a5da745cfb5228c02bc90f2c74bbac746243/pyperclip-1.7.0.tar.gz\n",
            "Requirement already satisfied: wcwidth>=0.1.7 in /usr/local/lib/python3.6/dist-packages (from cmd2!=0.8.3; python_version >= \"3.0\"->cliff->optuna==0.7.0) (0.1.7)\n",
            "Requirement already satisfied: attrs>=16.3.0 in /usr/local/lib/python3.6/dist-packages (from cmd2!=0.8.3; python_version >= \"3.0\"->cliff->optuna==0.7.0) (18.2.0)\n",
            "Collecting colorama (from cmd2!=0.8.3; python_version >= \"3.0\"->cliff->optuna==0.7.0)\n",
            "  Downloading https://files.pythonhosted.org/packages/4f/a6/728666f39bfff1719fc94c481890b2106837da9318031f71a8424b662e12/colorama-0.4.1-py2.py3-none-any.whl\n",
            "Building wheels for collected packages: optuna, pyperclip\n",
            "  Building wheel for optuna (setup.py) ... \u001b[?25ldone\n",
            "\u001b[?25h  Stored in directory: /root/.cache/pip/wheels/8c/97/c7/868e9cd5d6a23cfb98266f30d59131e5bd441132bdf8da18d5\n",
            "  Building wheel for pyperclip (setup.py) ... \u001b[?25ldone\n",
            "\u001b[?25h  Stored in directory: /root/.cache/pip/wheels/92/f0/ac/2ba2972034e98971c3654ece337ac61e546bdeb34ca960dc8c\n",
            "Successfully built optuna pyperclip\n",
            "Installing collected packages: stevedore, pyperclip, colorama, cmd2, cliff, colorlog, optuna\n",
            "Successfully installed cliff-2.14.0 cmd2-0.9.8 colorama-0.4.1 colorlog-4.0.2 optuna-0.7.0 pyperclip-1.7.0 stevedore-1.30.0\n"
          ],
          "name": "stdout"
        }
      ]
    },
    {
      "metadata": {
        "id": "COmhC_CuoYo9",
        "colab_type": "text"
      },
      "cell_type": "markdown",
      "source": [
        "## Install the latest version of OptKeras"
      ]
    },
    {
      "metadata": {
        "id": "zfIoE_CLvytu",
        "colab_type": "code",
        "colab": {
          "base_uri": "https://localhost:8080/",
          "height": 598
        },
        "outputId": "dd16470b-3d04-4c41-dbb7-5d0a9dc06801"
      },
      "cell_type": "code",
      "source": [
        "!pip install git+https://github.com/Minyus/optkeras.git"
      ],
      "execution_count": 3,
      "outputs": [
        {
          "output_type": "stream",
          "text": [
            "Collecting git+https://github.com/Minyus/optkeras.git\n",
            "  Cloning https://github.com/Minyus/optkeras.git to /tmp/pip-req-build-k8r4lchp\n",
            "Requirement already satisfied: keras in /usr/local/lib/python3.6/dist-packages (from optkeras==0.0.1) (2.2.4)\n",
            "Requirement already satisfied: optuna in /usr/local/lib/python3.6/dist-packages (from optkeras==0.0.1) (0.7.0)\n",
            "Requirement already satisfied: h5py in /usr/local/lib/python3.6/dist-packages (from keras->optkeras==0.0.1) (2.8.0)\n",
            "Requirement already satisfied: scipy>=0.14 in /usr/local/lib/python3.6/dist-packages (from keras->optkeras==0.0.1) (1.1.0)\n",
            "Requirement already satisfied: keras-preprocessing>=1.0.5 in /usr/local/lib/python3.6/dist-packages (from keras->optkeras==0.0.1) (1.0.9)\n",
            "Requirement already satisfied: six>=1.9.0 in /usr/local/lib/python3.6/dist-packages (from keras->optkeras==0.0.1) (1.11.0)\n",
            "Requirement already satisfied: keras-applications>=1.0.6 in /usr/local/lib/python3.6/dist-packages (from keras->optkeras==0.0.1) (1.0.7)\n",
            "Requirement already satisfied: pyyaml in /usr/local/lib/python3.6/dist-packages (from keras->optkeras==0.0.1) (3.13)\n",
            "Requirement already satisfied: numpy>=1.9.1 in /usr/local/lib/python3.6/dist-packages (from keras->optkeras==0.0.1) (1.14.6)\n",
            "Requirement already satisfied: cliff in /usr/local/lib/python3.6/dist-packages (from optuna->optkeras==0.0.1) (2.14.0)\n",
            "Requirement already satisfied: pandas in /usr/local/lib/python3.6/dist-packages (from optuna->optkeras==0.0.1) (0.22.0)\n",
            "Requirement already satisfied: colorlog in /usr/local/lib/python3.6/dist-packages (from optuna->optkeras==0.0.1) (4.0.2)\n",
            "Requirement already satisfied: sqlalchemy>=1.1.0 in /usr/local/lib/python3.6/dist-packages (from optuna->optkeras==0.0.1) (1.2.17)\n",
            "Requirement already satisfied: typing in /usr/local/lib/python3.6/dist-packages (from optuna->optkeras==0.0.1) (3.6.6)\n",
            "Requirement already satisfied: stevedore>=1.20.0 in /usr/local/lib/python3.6/dist-packages (from cliff->optuna->optkeras==0.0.1) (1.30.0)\n",
            "Requirement already satisfied: PrettyTable<0.8,>=0.7.2 in /usr/local/lib/python3.6/dist-packages (from cliff->optuna->optkeras==0.0.1) (0.7.2)\n",
            "Requirement already satisfied: pbr!=2.1.0,>=2.0.0 in /usr/local/lib/python3.6/dist-packages (from cliff->optuna->optkeras==0.0.1) (5.1.2)\n",
            "Requirement already satisfied: cmd2!=0.8.3; python_version >= \"3.0\" in /usr/local/lib/python3.6/dist-packages (from cliff->optuna->optkeras==0.0.1) (0.9.8)\n",
            "Requirement already satisfied: pyparsing>=2.1.0 in /usr/local/lib/python3.6/dist-packages (from cliff->optuna->optkeras==0.0.1) (2.3.1)\n",
            "Requirement already satisfied: pytz>=2011k in /usr/local/lib/python3.6/dist-packages (from pandas->optuna->optkeras==0.0.1) (2018.9)\n",
            "Requirement already satisfied: python-dateutil>=2 in /usr/local/lib/python3.6/dist-packages (from pandas->optuna->optkeras==0.0.1) (2.5.3)\n",
            "Requirement already satisfied: pyperclip>=1.5.27 in /usr/local/lib/python3.6/dist-packages (from cmd2!=0.8.3; python_version >= \"3.0\"->cliff->optuna->optkeras==0.0.1) (1.7.0)\n",
            "Requirement already satisfied: attrs>=16.3.0 in /usr/local/lib/python3.6/dist-packages (from cmd2!=0.8.3; python_version >= \"3.0\"->cliff->optuna->optkeras==0.0.1) (18.2.0)\n",
            "Requirement already satisfied: wcwidth>=0.1.7 in /usr/local/lib/python3.6/dist-packages (from cmd2!=0.8.3; python_version >= \"3.0\"->cliff->optuna->optkeras==0.0.1) (0.1.7)\n",
            "Requirement already satisfied: colorama in /usr/local/lib/python3.6/dist-packages (from cmd2!=0.8.3; python_version >= \"3.0\"->cliff->optuna->optkeras==0.0.1) (0.4.1)\n",
            "Building wheels for collected packages: optkeras\n",
            "  Building wheel for optkeras (setup.py) ... \u001b[?25ldone\n",
            "\u001b[?25h  Stored in directory: /tmp/pip-ephem-wheel-cache-rofjanl9/wheels/ad/c8/9d/67471f9fd7c5fd15961a2e7aa3d15215212d0631ea96df8b5c\n",
            "Successfully built optkeras\n",
            "Installing collected packages: optkeras\n",
            "Successfully installed optkeras-0.0.1\n"
          ],
          "name": "stdout"
        }
      ]
    },
    {
      "metadata": {
        "id": "0nikvt-fppC8",
        "colab_type": "text"
      },
      "cell_type": "markdown",
      "source": [
        "## Import modules"
      ]
    },
    {
      "metadata": {
        "id": "i85DbXl0nvmU",
        "colab_type": "code",
        "colab": {
          "base_uri": "https://localhost:8080/",
          "height": 102
        },
        "outputId": "06552d85-4bb4-4055-e956-d9b2e4e7a032"
      },
      "cell_type": "code",
      "source": [
        "# import Keras\n",
        "from keras.datasets import mnist\n",
        "from keras.models import Sequential\n",
        "from keras.layers import Activation, Flatten, Dense, Conv2D\n",
        "from keras.layers import MaxPooling2D, Dropout, BatchNormalization\n",
        "from keras.preprocessing.image import ImageDataGenerator\n",
        "from keras.optimizers import SGD, Adagrad, RMSprop, Adam, Adadelta, Adamax, Nadam\n",
        "import keras.backend as K\n",
        "\n",
        "import keras\n",
        "print('Keras', keras.__version__)\n",
        "\n",
        "import tensorflow as tf\n",
        "print('TensorFlow', tf.__version__)\n",
        "\n",
        "import numpy as np\n",
        "import pandas as pd\n",
        "\n",
        "# import Optuna and OptKeras after Keras\n",
        "import optuna \n",
        "print('Optuna', optuna.__version__)\n",
        "\n",
        "from optkeras.optkeras import OptKeras\n",
        "import optkeras\n",
        "print('OptKeras', optkeras.__version__)"
      ],
      "execution_count": 4,
      "outputs": [
        {
          "output_type": "stream",
          "text": [
            "Using TensorFlow backend.\n"
          ],
          "name": "stderr"
        },
        {
          "output_type": "stream",
          "text": [
            "Keras 2.2.4\n",
            "TensorFlow 1.13.0-rc1\n",
            "Optuna 0.7.0\n",
            "OptKeras 0.0.1\n"
          ],
          "name": "stdout"
        }
      ]
    },
    {
      "metadata": {
        "id": "mq16j0E4olJO",
        "colab_type": "text"
      },
      "cell_type": "markdown",
      "source": [
        "## Set up Dataset"
      ]
    },
    {
      "metadata": {
        "id": "sfMZGHCO4DrV",
        "colab_type": "code",
        "colab": {
          "base_uri": "https://localhost:8080/",
          "height": 51
        },
        "outputId": "6b1c4110-2219-4a9f-a8ad-3fe3feff8ec8"
      },
      "cell_type": "code",
      "source": [
        "dataset_name = 'MNIST'\n",
        "\n",
        "if dataset_name in ['MNIST', 'MNIST_1000samples']:\n",
        "    (x_train, y_train), (x_test, y_test) = mnist.load_data()\n",
        "    \n",
        "    img_x, img_y = x_train.shape[1], x_train.shape[2]\n",
        "    x_train = x_train.reshape(-1, img_x, img_y, 1)\n",
        "    x_test = x_test.reshape(-1, img_x, img_y, 1)   \n",
        "    x_train = x_train.astype('float32')\n",
        "    x_test = x_test.astype('float32')\n",
        "    x_train /= 255\n",
        "    x_test /= 255\n",
        "    num_classes = 10\n",
        "    input_shape = (img_x, img_y, 1)"
      ],
      "execution_count": 5,
      "outputs": [
        {
          "output_type": "stream",
          "text": [
            "Downloading data from https://s3.amazonaws.com/img-datasets/mnist.npz\n",
            "11493376/11490434 [==============================] - 2s 0us/step\n"
          ],
          "name": "stdout"
        }
      ]
    },
    {
      "metadata": {
        "id": "D6QEQ_Dk6ReL",
        "colab_type": "code",
        "outputId": "c141a57b-932d-41ec-c6e0-60167338a519",
        "colab": {
          "base_uri": "https://localhost:8080/",
          "height": 102
        }
      },
      "cell_type": "code",
      "source": [
        "print('x_train: ', x_train.shape)\n",
        "print('y_train', y_train.shape)\n",
        "print('x_test: ', x_test.shape)\n",
        "print('y_test', y_test.shape)\n",
        "print('input_shape: ', input_shape )    "
      ],
      "execution_count": 6,
      "outputs": [
        {
          "output_type": "stream",
          "text": [
            "x_train:  (60000, 28, 28, 1)\n",
            "y_train (60000,)\n",
            "x_test:  (10000, 28, 28, 1)\n",
            "y_test (10000,)\n",
            "input_shape:  (28, 28, 1)\n"
          ],
          "name": "stdout"
        }
      ]
    },
    {
      "metadata": {
        "id": "7Wb1ZX2vJDO1",
        "colab_type": "text"
      },
      "cell_type": "markdown",
      "source": [
        "## Try a simple Convolutional Neural Networks model"
      ]
    },
    {
      "metadata": {
        "id": "m5NqIOlKJBpO",
        "colab_type": "code",
        "outputId": "86952a82-45cf-4962-d104-381d717e4866",
        "colab": {
          "base_uri": "https://localhost:8080/",
          "height": 241
        }
      },
      "cell_type": "code",
      "source": [
        "model = Sequential()\n",
        "model.add(Conv2D(128, kernel_size = (3, 3), strides = (1, 1),\n",
        "               activation = 'relu', input_shape = input_shape))\n",
        "model.add(Flatten())\n",
        "model.add(Dense(10, activation='softmax'))\n",
        "model.compile(optimizer = Adam(), \n",
        "            loss='sparse_categorical_crossentropy', metrics=['accuracy'])\t\t\t  \n",
        "model.fit(x_train, y_train, validation_data = (x_test, y_test), shuffle = True,\n",
        "          batch_size = 512, epochs = 2) "
      ],
      "execution_count": 7,
      "outputs": [
        {
          "output_type": "stream",
          "text": [
            "WARNING:tensorflow:From /usr/local/lib/python3.6/dist-packages/tensorflow/python/framework/op_def_library.py:263: colocate_with (from tensorflow.python.framework.ops) is deprecated and will be removed in a future version.\n",
            "Instructions for updating:\n",
            "Colocations handled automatically by placer.\n",
            "WARNING:tensorflow:From /usr/local/lib/python3.6/dist-packages/tensorflow/python/ops/math_ops.py:3066: to_int32 (from tensorflow.python.ops.math_ops) is deprecated and will be removed in a future version.\n",
            "Instructions for updating:\n",
            "Use tf.cast instead.\n",
            "Train on 60000 samples, validate on 10000 samples\n",
            "Epoch 1/2\n",
            "60000/60000 [==============================] - 19s 325us/step - loss: 0.3435 - acc: 0.9036 - val_loss: 0.1476 - val_acc: 0.9576\n",
            "Epoch 2/2\n",
            "60000/60000 [==============================] - 6s 97us/step - loss: 0.1071 - acc: 0.9705 - val_loss: 0.0787 - val_acc: 0.9769\n"
          ],
          "name": "stdout"
        },
        {
          "output_type": "execute_result",
          "data": {
            "text/plain": [
              "<keras.callbacks.History at 0x7f89f1704048>"
            ]
          },
          "metadata": {
            "tags": []
          },
          "execution_count": 7
        }
      ]
    },
    {
      "metadata": {
        "id": "JdEzC5grp9ew",
        "colab_type": "text"
      },
      "cell_type": "markdown",
      "source": [
        "## Setup optimization of a Keras model"
      ]
    },
    {
      "metadata": {
        "id": "LfV6iONwVujP",
        "colab_type": "code",
        "colab": {
          "base_uri": "https://localhost:8080/",
          "height": 51
        },
        "outputId": "461bfff8-6241-46b2-a7ad-c3b58dce37e3"
      },
      "cell_type": "code",
      "source": [
        "study_name = dataset_name + '_Optimized'\n",
        "\n",
        "ok = OptKeras( \n",
        "    # parameters for optuna.create_study\n",
        "    storage='sqlite:///' + study_name + '_Optuna.db', \n",
        "    sampler=None, \n",
        "    pruner=optuna.pruners.MedianPruner(n_startup_trials=5, n_warmup_steps=0), \n",
        "    study_name = study_name, \n",
        "    direction='minimize', \n",
        "    load_if_exists = True,\n",
        "    # parameters for OptKeras\n",
        "    monitor='val_error', # Either 'val_error' (1 - val_acc) or 'val_loss'\n",
        "    enable_pruning=False, \n",
        "    models_to_keep=1, # Either 1, 0, or -1 (save all models) \n",
        "    verbose=1 )\n",
        "\n",
        "def objective(trial): \n",
        "    epochs = 10\n",
        "    \n",
        "    K.clear_session()   \n",
        "    model = Sequential()\n",
        "    \n",
        "    if trial.suggest_int('Conv', 0, 1):  \n",
        "        # 1 Convolution layer\n",
        "        i = 1\n",
        "        model.add(Conv2D(\n",
        "            filters = int(trial.suggest_discrete_uniform(\n",
        "                'Conv_{}_num_filters_'.format(i), 32, 64, 32)), \n",
        "            kernel_size=tuple([trial.suggest_int(\n",
        "                'Conv_{}_kernel_size'.format(i), 2, 3)] * 2),\n",
        "            activation='relu',\n",
        "            input_shape = input_shape))\n",
        "        model.add(MaxPooling2D(pool_size=tuple([trial.suggest_int(\n",
        "                'Conv_{}_max_pooling_size'.format(i), 2, 3)] * 2)))\n",
        "        model.add(Dropout(trial.suggest_discrete_uniform(\n",
        "                'Conv_{}_dropout_rate'.format(i), 0, 0.5, 0.25) ))\n",
        "        model.add(Flatten())        \n",
        "    else:\n",
        "        model.add(Flatten(input_shape=input_shape))\n",
        "    # 2 Fully connected layers\n",
        "    for i in np.arange(2) + 1:\n",
        "        model.add(Dense(int(trial.suggest_discrete_uniform(\n",
        "            'FC_{}_num_hidden_units'.format(i), 256, 512, 256))))\n",
        "        if trial.suggest_int('FC_{}_batch_normalization'.format(i), 0, 1):\n",
        "            model.add(BatchNormalization())\n",
        "        model.add(Activation(trial.suggest_categorical(\n",
        "            'FC_{}_acivation'.format(i), ['relu'])))\n",
        "        model.add(Dropout(\n",
        "            trial.suggest_discrete_uniform(\n",
        "                'FC_{}_dropout_rate'.format(i), 0, 0.5, 0.25) ))\n",
        "        \n",
        "    # Output layer    \n",
        "    model.add(Dense(num_classes, activation='softmax'))\n",
        "    \n",
        "    optimizer_dict = { \\\n",
        "    #'Adagrad': Adagrad(),\n",
        "    'Adam': Adam() }\n",
        "    \n",
        "    model.compile(optimizer = optimizer_dict[\n",
        "        trial.suggest_categorical('Optimizer', list(optimizer_dict.keys()))],\n",
        "          loss='sparse_categorical_crossentropy', metrics=['accuracy'])    \n",
        "    \n",
        "    if ok.verbose >= 2: model.summary()\n",
        "    \n",
        "    batch_size = trial.suggest_int('Batch_size', 256, 256) \n",
        "    #batch_size = int(trial.suggest_discrete_uniform(\n",
        "    #                  'Batch_size', 256, 512, 256) )\n",
        "    data_augmentation = trial.suggest_int('Data_augmentation', 0, 1)\n",
        "    \n",
        "    if not data_augmentation:\n",
        "        # [Required] Specify callbacks(trial) in fit method\n",
        "        model.fit(x_train, y_train, batch_size = batch_size,\n",
        "                  epochs = epochs, validation_data = (x_test, y_test),\n",
        "                  shuffle = True,\n",
        "                  callbacks = ok.callbacks(trial), \n",
        "                  verbose = ok.keras_verbose )\n",
        "    \n",
        "    if data_augmentation:\n",
        "        # This will do preprocessing and realtime data augmentation:\n",
        "        datagen = ImageDataGenerator(\n",
        "            width_shift_range=[-1, 0, +1], # 1 pixel\n",
        "            height_shift_range=[-1, 0, +1], # 1 pixel\n",
        "            zoom_range=[0.95,1.05],  # set range for random zoom\n",
        "            horizontal_flip=False,  # disable horizontal flip\n",
        "            vertical_flip=False )  # disable vertical flip\n",
        "        datagen.fit(x_train)\n",
        "        # [Required] Specify callbacks(trial) in fit_generator method\n",
        "        model.fit_generator(datagen.flow(x_train, y_train, \n",
        "                                         batch_size=batch_size),\n",
        "                            epochs=epochs, validation_data=(x_test, y_test),\n",
        "                            steps_per_epoch=len(x_train) // batch_size,\n",
        "                            callbacks = ok.callbacks(trial), \n",
        "                            verbose = ok.keras_verbose )  \n",
        "    \n",
        "    # [Required] return trial_best_value (recommended) or latest_value\n",
        "    return ok.trial_best_value"
      ],
      "execution_count": 8,
      "outputs": [
        {
          "output_type": "stream",
          "text": [
            "[I 2019-02-13 11:10:45,703] A new study created with name: MNIST_Optimized\n"
          ],
          "name": "stderr"
        },
        {
          "output_type": "stream",
          "text": [
            "[2019-02-13 11:10:45.727697]  Ready for optimization. (message printed as verbose is set to 1+)\n"
          ],
          "name": "stdout"
        }
      ]
    },
    {
      "metadata": {
        "id": "lUrj6NZWqB8b",
        "colab_type": "text"
      },
      "cell_type": "markdown",
      "source": [
        "## Run optimization trials"
      ]
    },
    {
      "metadata": {
        "id": "GCkV2XqeBMhm",
        "colab_type": "code",
        "colab": {
          "base_uri": "https://localhost:8080/",
          "height": 445
        },
        "outputId": "a2de7677-71df-4a04-b42b-3615d8c5f876"
      },
      "cell_type": "code",
      "source": [
        "# Set n_trials and/or timeout (in sec) for optimization by Optuna\n",
        "ok.optimize(objective, n_trials=10, timeout = 12 * 60 * 60)"
      ],
      "execution_count": 9,
      "outputs": [
        {
          "output_type": "stream",
          "text": [
            "WARNING:tensorflow:From /usr/local/lib/python3.6/dist-packages/keras/backend/tensorflow_backend.py:3445: calling dropout (from tensorflow.python.ops.nn_ops) with keep_prob is deprecated and will be removed in a future version.\n",
            "Instructions for updating:\n",
            "Please use `rate` instead of `keep_prob`. Rate should be set to `rate = 1 - keep_prob`.\n",
            "[2019-02-13 11:10:46.894130] Latest trial id: None, value: None (None) | Best trial id: None, value: None, parameters: None\n"
          ],
          "name": "stdout"
        },
        {
          "output_type": "stream",
          "text": [
            "[I 2019-02-13 11:13:27,198] Finished a trial resulted in value: 0.014599999999999946. Current best value is 0.014599999999999946 with parameters: {'Batch_size': 256, 'Conv': 0, 'Data_augmentation': 1, 'FC_1_acivation': 'relu', 'FC_1_batch_normalization': 1, 'FC_1_dropout_rate': 0.5, 'FC_1_num_hidden_units': 512.0, 'FC_2_acivation': 'relu', 'FC_2_batch_normalization': 1, 'FC_2_dropout_rate': 0.0, 'FC_2_num_hidden_units': 512.0, 'Optimizer': 'Adam'}.\n"
          ],
          "name": "stderr"
        },
        {
          "output_type": "stream",
          "text": [
            "[2019-02-13 11:13:28.263281] Latest trial id: 1, value: 0.014599999999999946 (TrialState.COMPLETE) | Best trial id: 1, value: 0.014599999999999946, parameters: {'Batch_size': 256, 'Conv': 0, 'Data_augmentation': 1, 'FC_1_acivation': 'relu', 'FC_1_batch_normalization': 1, 'FC_1_dropout_rate': 0.5, 'FC_1_num_hidden_units': 512.0, 'FC_2_acivation': 'relu', 'FC_2_batch_normalization': 1, 'FC_2_dropout_rate': 0.0, 'FC_2_num_hidden_units': 512.0, 'Optimizer': 'Adam'}\n"
          ],
          "name": "stdout"
        },
        {
          "output_type": "stream",
          "text": [
            "[I 2019-02-13 11:16:19,177] Finished a trial resulted in value: 0.010800000000000032. Current best value is 0.010800000000000032 with parameters: {'Batch_size': 256, 'Conv': 1, 'Conv_1_dropout_rate': 0.5, 'Conv_1_kernel_size': 2, 'Conv_1_max_pooling_size': 3, 'Conv_1_num_filters_': 32.0, 'Data_augmentation': 1, 'FC_1_acivation': 'relu', 'FC_1_batch_normalization': 1, 'FC_1_dropout_rate': 0.5, 'FC_1_num_hidden_units': 512.0, 'FC_2_acivation': 'relu', 'FC_2_batch_normalization': 1, 'FC_2_dropout_rate': 0.25, 'FC_2_num_hidden_units': 512.0, 'Optimizer': 'Adam'}.\n"
          ],
          "name": "stderr"
        },
        {
          "output_type": "stream",
          "text": [
            "[2019-02-13 11:16:20.169901] Latest trial id: 2, value: 0.010800000000000032 (TrialState.COMPLETE) | Best trial id: 2, value: 0.010800000000000032, parameters: {'Batch_size': 256, 'Conv': 1, 'Conv_1_dropout_rate': 0.5, 'Conv_1_kernel_size': 2, 'Conv_1_max_pooling_size': 3, 'Conv_1_num_filters_': 32.0, 'Data_augmentation': 1, 'FC_1_acivation': 'relu', 'FC_1_batch_normalization': 1, 'FC_1_dropout_rate': 0.5, 'FC_1_num_hidden_units': 512.0, 'FC_2_acivation': 'relu', 'FC_2_batch_normalization': 1, 'FC_2_dropout_rate': 0.25, 'FC_2_num_hidden_units': 512.0, 'Optimizer': 'Adam'}\n"
          ],
          "name": "stdout"
        },
        {
          "output_type": "stream",
          "text": [
            "[I 2019-02-13 11:19:09,058] Finished a trial resulted in value: 0.009000000000000008. Current best value is 0.009000000000000008 with parameters: {'Batch_size': 256, 'Conv': 1, 'Conv_1_dropout_rate': 0.25, 'Conv_1_kernel_size': 3, 'Conv_1_max_pooling_size': 2, 'Conv_1_num_filters_': 32.0, 'Data_augmentation': 1, 'FC_1_acivation': 'relu', 'FC_1_batch_normalization': 1, 'FC_1_dropout_rate': 0.25, 'FC_1_num_hidden_units': 512.0, 'FC_2_acivation': 'relu', 'FC_2_batch_normalization': 0, 'FC_2_dropout_rate': 0.5, 'FC_2_num_hidden_units': 512.0, 'Optimizer': 'Adam'}.\n"
          ],
          "name": "stderr"
        },
        {
          "output_type": "stream",
          "text": [
            "[2019-02-13 11:19:10.387551] Latest trial id: 3, value: 0.009000000000000008 (TrialState.COMPLETE) | Best trial id: 3, value: 0.009000000000000008, parameters: {'Batch_size': 256, 'Conv': 1, 'Conv_1_dropout_rate': 0.25, 'Conv_1_kernel_size': 3, 'Conv_1_max_pooling_size': 2, 'Conv_1_num_filters_': 32.0, 'Data_augmentation': 1, 'FC_1_acivation': 'relu', 'FC_1_batch_normalization': 1, 'FC_1_dropout_rate': 0.25, 'FC_1_num_hidden_units': 512.0, 'FC_2_acivation': 'relu', 'FC_2_batch_normalization': 0, 'FC_2_dropout_rate': 0.5, 'FC_2_num_hidden_units': 512.0, 'Optimizer': 'Adam'}\n"
          ],
          "name": "stdout"
        },
        {
          "output_type": "stream",
          "text": [
            "[I 2019-02-13 11:21:56,149] Finished a trial resulted in value: 0.011499999999999955. Current best value is 0.009000000000000008 with parameters: {'Batch_size': 256, 'Conv': 1, 'Conv_1_dropout_rate': 0.25, 'Conv_1_kernel_size': 3, 'Conv_1_max_pooling_size': 2, 'Conv_1_num_filters_': 32.0, 'Data_augmentation': 1, 'FC_1_acivation': 'relu', 'FC_1_batch_normalization': 1, 'FC_1_dropout_rate': 0.25, 'FC_1_num_hidden_units': 512.0, 'FC_2_acivation': 'relu', 'FC_2_batch_normalization': 0, 'FC_2_dropout_rate': 0.5, 'FC_2_num_hidden_units': 512.0, 'Optimizer': 'Adam'}.\n"
          ],
          "name": "stderr"
        },
        {
          "output_type": "stream",
          "text": [
            "[2019-02-13 11:21:57.169720] Latest trial id: 4, value: 0.011499999999999955 (TrialState.COMPLETE) | Best trial id: 3, value: 0.009000000000000008, parameters: {'Batch_size': 256, 'Conv': 1, 'Conv_1_dropout_rate': 0.25, 'Conv_1_kernel_size': 3, 'Conv_1_max_pooling_size': 2, 'Conv_1_num_filters_': 32.0, 'Data_augmentation': 1, 'FC_1_acivation': 'relu', 'FC_1_batch_normalization': 1, 'FC_1_dropout_rate': 0.25, 'FC_1_num_hidden_units': 512.0, 'FC_2_acivation': 'relu', 'FC_2_batch_normalization': 0, 'FC_2_dropout_rate': 0.5, 'FC_2_num_hidden_units': 512.0, 'Optimizer': 'Adam'}\n"
          ],
          "name": "stdout"
        },
        {
          "output_type": "stream",
          "text": [
            "[I 2019-02-13 11:22:51,232] Finished a trial resulted in value: 0.012299999999999978. Current best value is 0.009000000000000008 with parameters: {'Batch_size': 256, 'Conv': 1, 'Conv_1_dropout_rate': 0.25, 'Conv_1_kernel_size': 3, 'Conv_1_max_pooling_size': 2, 'Conv_1_num_filters_': 32.0, 'Data_augmentation': 1, 'FC_1_acivation': 'relu', 'FC_1_batch_normalization': 1, 'FC_1_dropout_rate': 0.25, 'FC_1_num_hidden_units': 512.0, 'FC_2_acivation': 'relu', 'FC_2_batch_normalization': 0, 'FC_2_dropout_rate': 0.5, 'FC_2_num_hidden_units': 512.0, 'Optimizer': 'Adam'}.\n"
          ],
          "name": "stderr"
        },
        {
          "output_type": "stream",
          "text": [
            "[2019-02-13 11:22:52.210329] Latest trial id: 5, value: 0.012299999999999978 (TrialState.COMPLETE) | Best trial id: 3, value: 0.009000000000000008, parameters: {'Batch_size': 256, 'Conv': 1, 'Conv_1_dropout_rate': 0.25, 'Conv_1_kernel_size': 3, 'Conv_1_max_pooling_size': 2, 'Conv_1_num_filters_': 32.0, 'Data_augmentation': 1, 'FC_1_acivation': 'relu', 'FC_1_batch_normalization': 1, 'FC_1_dropout_rate': 0.25, 'FC_1_num_hidden_units': 512.0, 'FC_2_acivation': 'relu', 'FC_2_batch_normalization': 0, 'FC_2_dropout_rate': 0.5, 'FC_2_num_hidden_units': 512.0, 'Optimizer': 'Adam'}\n"
          ],
          "name": "stdout"
        },
        {
          "output_type": "stream",
          "text": [
            "[I 2019-02-13 11:23:34,595] Finished a trial resulted in value: 0.013299999999999979. Current best value is 0.009000000000000008 with parameters: {'Batch_size': 256, 'Conv': 1, 'Conv_1_dropout_rate': 0.25, 'Conv_1_kernel_size': 3, 'Conv_1_max_pooling_size': 2, 'Conv_1_num_filters_': 32.0, 'Data_augmentation': 1, 'FC_1_acivation': 'relu', 'FC_1_batch_normalization': 1, 'FC_1_dropout_rate': 0.25, 'FC_1_num_hidden_units': 512.0, 'FC_2_acivation': 'relu', 'FC_2_batch_normalization': 0, 'FC_2_dropout_rate': 0.5, 'FC_2_num_hidden_units': 512.0, 'Optimizer': 'Adam'}.\n"
          ],
          "name": "stderr"
        },
        {
          "output_type": "stream",
          "text": [
            "[2019-02-13 11:23:35.452091] Latest trial id: 6, value: 0.013299999999999979 (TrialState.COMPLETE) | Best trial id: 3, value: 0.009000000000000008, parameters: {'Batch_size': 256, 'Conv': 1, 'Conv_1_dropout_rate': 0.25, 'Conv_1_kernel_size': 3, 'Conv_1_max_pooling_size': 2, 'Conv_1_num_filters_': 32.0, 'Data_augmentation': 1, 'FC_1_acivation': 'relu', 'FC_1_batch_normalization': 1, 'FC_1_dropout_rate': 0.25, 'FC_1_num_hidden_units': 512.0, 'FC_2_acivation': 'relu', 'FC_2_batch_normalization': 0, 'FC_2_dropout_rate': 0.5, 'FC_2_num_hidden_units': 512.0, 'Optimizer': 'Adam'}\n"
          ],
          "name": "stdout"
        },
        {
          "output_type": "stream",
          "text": [
            "[I 2019-02-13 11:23:56,896] Finished a trial resulted in value: 0.01980000000000004. Current best value is 0.009000000000000008 with parameters: {'Batch_size': 256, 'Conv': 1, 'Conv_1_dropout_rate': 0.25, 'Conv_1_kernel_size': 3, 'Conv_1_max_pooling_size': 2, 'Conv_1_num_filters_': 32.0, 'Data_augmentation': 1, 'FC_1_acivation': 'relu', 'FC_1_batch_normalization': 1, 'FC_1_dropout_rate': 0.25, 'FC_1_num_hidden_units': 512.0, 'FC_2_acivation': 'relu', 'FC_2_batch_normalization': 0, 'FC_2_dropout_rate': 0.5, 'FC_2_num_hidden_units': 512.0, 'Optimizer': 'Adam'}.\n"
          ],
          "name": "stderr"
        },
        {
          "output_type": "stream",
          "text": [
            "[2019-02-13 11:23:58.075861] Latest trial id: 7, value: 0.01980000000000004 (TrialState.COMPLETE) | Best trial id: 3, value: 0.009000000000000008, parameters: {'Batch_size': 256, 'Conv': 1, 'Conv_1_dropout_rate': 0.25, 'Conv_1_kernel_size': 3, 'Conv_1_max_pooling_size': 2, 'Conv_1_num_filters_': 32.0, 'Data_augmentation': 1, 'FC_1_acivation': 'relu', 'FC_1_batch_normalization': 1, 'FC_1_dropout_rate': 0.25, 'FC_1_num_hidden_units': 512.0, 'FC_2_acivation': 'relu', 'FC_2_batch_normalization': 0, 'FC_2_dropout_rate': 0.5, 'FC_2_num_hidden_units': 512.0, 'Optimizer': 'Adam'}\n"
          ],
          "name": "stdout"
        },
        {
          "output_type": "stream",
          "text": [
            "[I 2019-02-13 11:26:51,895] Finished a trial resulted in value: 0.009199999999999986. Current best value is 0.009000000000000008 with parameters: {'Batch_size': 256, 'Conv': 1, 'Conv_1_dropout_rate': 0.25, 'Conv_1_kernel_size': 3, 'Conv_1_max_pooling_size': 2, 'Conv_1_num_filters_': 32.0, 'Data_augmentation': 1, 'FC_1_acivation': 'relu', 'FC_1_batch_normalization': 1, 'FC_1_dropout_rate': 0.25, 'FC_1_num_hidden_units': 512.0, 'FC_2_acivation': 'relu', 'FC_2_batch_normalization': 0, 'FC_2_dropout_rate': 0.5, 'FC_2_num_hidden_units': 512.0, 'Optimizer': 'Adam'}.\n"
          ],
          "name": "stderr"
        },
        {
          "output_type": "stream",
          "text": [
            "[2019-02-13 11:26:53.181970] Latest trial id: 8, value: 0.009199999999999986 (TrialState.COMPLETE) | Best trial id: 3, value: 0.009000000000000008, parameters: {'Batch_size': 256, 'Conv': 1, 'Conv_1_dropout_rate': 0.25, 'Conv_1_kernel_size': 3, 'Conv_1_max_pooling_size': 2, 'Conv_1_num_filters_': 32.0, 'Data_augmentation': 1, 'FC_1_acivation': 'relu', 'FC_1_batch_normalization': 1, 'FC_1_dropout_rate': 0.25, 'FC_1_num_hidden_units': 512.0, 'FC_2_acivation': 'relu', 'FC_2_batch_normalization': 0, 'FC_2_dropout_rate': 0.5, 'FC_2_num_hidden_units': 512.0, 'Optimizer': 'Adam'}\n"
          ],
          "name": "stdout"
        },
        {
          "output_type": "stream",
          "text": [
            "[I 2019-02-13 11:29:31,779] Finished a trial resulted in value: 0.013700000000000045. Current best value is 0.009000000000000008 with parameters: {'Batch_size': 256, 'Conv': 1, 'Conv_1_dropout_rate': 0.25, 'Conv_1_kernel_size': 3, 'Conv_1_max_pooling_size': 2, 'Conv_1_num_filters_': 32.0, 'Data_augmentation': 1, 'FC_1_acivation': 'relu', 'FC_1_batch_normalization': 1, 'FC_1_dropout_rate': 0.25, 'FC_1_num_hidden_units': 512.0, 'FC_2_acivation': 'relu', 'FC_2_batch_normalization': 0, 'FC_2_dropout_rate': 0.5, 'FC_2_num_hidden_units': 512.0, 'Optimizer': 'Adam'}.\n"
          ],
          "name": "stderr"
        },
        {
          "output_type": "stream",
          "text": [
            "[2019-02-13 11:29:32.746838] Latest trial id: 9, value: 0.013700000000000045 (TrialState.COMPLETE) | Best trial id: 3, value: 0.009000000000000008, parameters: {'Batch_size': 256, 'Conv': 1, 'Conv_1_dropout_rate': 0.25, 'Conv_1_kernel_size': 3, 'Conv_1_max_pooling_size': 2, 'Conv_1_num_filters_': 32.0, 'Data_augmentation': 1, 'FC_1_acivation': 'relu', 'FC_1_batch_normalization': 1, 'FC_1_dropout_rate': 0.25, 'FC_1_num_hidden_units': 512.0, 'FC_2_acivation': 'relu', 'FC_2_batch_normalization': 0, 'FC_2_dropout_rate': 0.5, 'FC_2_num_hidden_units': 512.0, 'Optimizer': 'Adam'}\n"
          ],
          "name": "stdout"
        },
        {
          "output_type": "stream",
          "text": [
            "[I 2019-02-13 11:29:54,871] Finished a trial resulted in value: 0.01649999999999996. Current best value is 0.009000000000000008 with parameters: {'Batch_size': 256, 'Conv': 1, 'Conv_1_dropout_rate': 0.25, 'Conv_1_kernel_size': 3, 'Conv_1_max_pooling_size': 2, 'Conv_1_num_filters_': 32.0, 'Data_augmentation': 1, 'FC_1_acivation': 'relu', 'FC_1_batch_normalization': 1, 'FC_1_dropout_rate': 0.25, 'FC_1_num_hidden_units': 512.0, 'FC_2_acivation': 'relu', 'FC_2_batch_normalization': 0, 'FC_2_dropout_rate': 0.5, 'FC_2_num_hidden_units': 512.0, 'Optimizer': 'Adam'}.\n"
          ],
          "name": "stderr"
        },
        {
          "output_type": "stream",
          "text": [
            "[2019-02-13 11:29:54.971461] Latest trial id: 10, value: 0.01649999999999996 (TrialState.COMPLETE) | Best trial id: 3, value: 0.009000000000000008, parameters: {'Batch_size': 256, 'Conv': 1, 'Conv_1_dropout_rate': 0.25, 'Conv_1_kernel_size': 3, 'Conv_1_max_pooling_size': 2, 'Conv_1_num_filters_': 32.0, 'Data_augmentation': 1, 'FC_1_acivation': 'relu', 'FC_1_batch_normalization': 1, 'FC_1_dropout_rate': 0.25, 'FC_1_num_hidden_units': 512.0, 'FC_2_acivation': 'relu', 'FC_2_batch_normalization': 0, 'FC_2_dropout_rate': 0.5, 'FC_2_num_hidden_units': 512.0, 'Optimizer': 'Adam'}\n"
          ],
          "name": "stdout"
        }
      ]
    },
    {
      "metadata": {
        "id": "auoF6dt0sWCl",
        "colab_type": "text"
      },
      "cell_type": "markdown",
      "source": [
        "## Check the results"
      ]
    },
    {
      "metadata": {
        "id": "6y5SKUF9qXlp",
        "colab_type": "code",
        "outputId": "9a619f1b-cb8a-48d7-e412-8edd379d9e22",
        "colab": {
          "base_uri": "https://localhost:8080/",
          "height": 340
        }
      },
      "cell_type": "code",
      "source": [
        "# OptKeras best_trial returns \n",
        "print('Best trial id: ', ok.best_trial.trial_id)\n",
        "print('Best value:', ok.best_trial.value)\n",
        "print('Best params: ')\n",
        "ok.best_trial.params"
      ],
      "execution_count": 10,
      "outputs": [
        {
          "output_type": "stream",
          "text": [
            "Best trial id:  3\n",
            "Best value: 0.009000000000000008\n",
            "Best params: \n"
          ],
          "name": "stdout"
        },
        {
          "output_type": "execute_result",
          "data": {
            "text/plain": [
              "{'Batch_size': 256,\n",
              " 'Conv': 1,\n",
              " 'Conv_1_dropout_rate': 0.25,\n",
              " 'Conv_1_kernel_size': 3,\n",
              " 'Conv_1_max_pooling_size': 2,\n",
              " 'Conv_1_num_filters_': 32.0,\n",
              " 'Data_augmentation': 1,\n",
              " 'FC_1_acivation': 'relu',\n",
              " 'FC_1_batch_normalization': 1,\n",
              " 'FC_1_dropout_rate': 0.25,\n",
              " 'FC_1_num_hidden_units': 512.0,\n",
              " 'FC_2_acivation': 'relu',\n",
              " 'FC_2_batch_normalization': 0,\n",
              " 'FC_2_dropout_rate': 0.5,\n",
              " 'FC_2_num_hidden_units': 512.0,\n",
              " 'Optimizer': 'Adam'}"
            ]
          },
          "metadata": {
            "tags": []
          },
          "execution_count": 10
        }
      ]
    },
    {
      "metadata": {
        "id": "_3VjUGT7AVqO",
        "colab_type": "code",
        "colab": {
          "base_uri": "https://localhost:8080/",
          "height": 289
        },
        "outputId": "20ff6ce6-5924-4ad0-d82f-166ffc6cae15"
      },
      "cell_type": "code",
      "source": [
        "\"\"\"\n",
        "Alternatively, you can access Optuna's study object to, for example, \n",
        "get the best parameters as well.\n",
        "Please note that study.best_trial returns error if optimization trials \n",
        "were not completed (e.g. if you interupt execution) as of Optuna 0.7.0, \n",
        "so usage of OptKeras is recommended.\n",
        "\"\"\"\n",
        "study = ok.study\n",
        "study.best_trial.params "
      ],
      "execution_count": 11,
      "outputs": [
        {
          "output_type": "execute_result",
          "data": {
            "text/plain": [
              "{'Batch_size': 256,\n",
              " 'Conv': 1,\n",
              " 'Conv_1_dropout_rate': 0.25,\n",
              " 'Conv_1_kernel_size': 3,\n",
              " 'Conv_1_max_pooling_size': 2,\n",
              " 'Conv_1_num_filters_': 32.0,\n",
              " 'Data_augmentation': 1,\n",
              " 'FC_1_acivation': 'relu',\n",
              " 'FC_1_batch_normalization': 1,\n",
              " 'FC_1_dropout_rate': 0.25,\n",
              " 'FC_1_num_hidden_units': 512.0,\n",
              " 'FC_2_acivation': 'relu',\n",
              " 'FC_2_batch_normalization': 0,\n",
              " 'FC_2_dropout_rate': 0.5,\n",
              " 'FC_2_num_hidden_units': 512.0,\n",
              " 'Optimizer': 'Adam'}"
            ]
          },
          "metadata": {
            "tags": []
          },
          "execution_count": 11
        }
      ]
    },
    {
      "metadata": {
        "id": "uTGnnvpDF5IE",
        "colab_type": "code",
        "colab": {
          "base_uri": "https://localhost:8080/",
          "height": 547
        },
        "outputId": "f90b9bfd-3848-4360-ee24-691c651b9e75"
      },
      "cell_type": "code",
      "source": [
        "## Check the Optuna CSV log file \n",
        "pd.options.display.max_rows = 8 # limit rows to display\n",
        "print('Data Frame read from', ok.optuna_log_file_path, '\\n')\n",
        "pd.read_csv(ok.optuna_log_file_path)"
      ],
      "execution_count": 12,
      "outputs": [
        {
          "output_type": "stream",
          "text": [
            "Data Frame read from MNIST_Optimized_Optuna.csv \n",
            "\n"
          ],
          "name": "stdout"
        },
        {
          "output_type": "execute_result",
          "data": {
            "text/html": [
              "<div>\n",
              "<style scoped>\n",
              "    .dataframe tbody tr th:only-of-type {\n",
              "        vertical-align: middle;\n",
              "    }\n",
              "\n",
              "    .dataframe tbody tr th {\n",
              "        vertical-align: top;\n",
              "    }\n",
              "\n",
              "    .dataframe thead th {\n",
              "        text-align: right;\n",
              "    }\n",
              "</style>\n",
              "<table border=\"1\" class=\"dataframe\">\n",
              "  <thead>\n",
              "    <tr style=\"text-align: right;\">\n",
              "      <th></th>\n",
              "      <th>trial_id</th>\n",
              "      <th>state</th>\n",
              "      <th>value</th>\n",
              "      <th>datetime_start</th>\n",
              "      <th>datetime_complete</th>\n",
              "      <th>Batch_size</th>\n",
              "      <th>Conv</th>\n",
              "      <th>Conv_1_dropout_rate</th>\n",
              "      <th>Conv_1_kernel_size</th>\n",
              "      <th>Conv_1_max_pooling_size</th>\n",
              "      <th>...</th>\n",
              "      <th>_Datetime_epoch_begin</th>\n",
              "      <th>_Datetime_epoch_end</th>\n",
              "      <th>_Monitor</th>\n",
              "      <th>_Trial_id</th>\n",
              "      <th>acc</th>\n",
              "      <th>error</th>\n",
              "      <th>loss</th>\n",
              "      <th>val_acc</th>\n",
              "      <th>val_error</th>\n",
              "      <th>val_loss</th>\n",
              "    </tr>\n",
              "  </thead>\n",
              "  <tbody>\n",
              "    <tr>\n",
              "      <th>0</th>\n",
              "      <td>1</td>\n",
              "      <td>TrialState.COMPLETE</td>\n",
              "      <td>0.0146</td>\n",
              "      <td>2019-02-13 11:10:45.749164</td>\n",
              "      <td>2019-02-13 11:13:27.165666</td>\n",
              "      <td>256</td>\n",
              "      <td>0</td>\n",
              "      <td>NaN</td>\n",
              "      <td>NaN</td>\n",
              "      <td>NaN</td>\n",
              "      <td>...</td>\n",
              "      <td>2019-02-13 11:13:11.655200</td>\n",
              "      <td>2019-02-13 11:13:26.875603</td>\n",
              "      <td>val_error</td>\n",
              "      <td>1</td>\n",
              "      <td>0.971093</td>\n",
              "      <td>0.028907</td>\n",
              "      <td>0.091096</td>\n",
              "      <td>0.9854</td>\n",
              "      <td>0.0146</td>\n",
              "      <td>0.042454</td>\n",
              "    </tr>\n",
              "    <tr>\n",
              "      <th>1</th>\n",
              "      <td>2</td>\n",
              "      <td>TrialState.COMPLETE</td>\n",
              "      <td>0.0108</td>\n",
              "      <td>2019-02-13 11:13:27.207080</td>\n",
              "      <td>2019-02-13 11:16:19.141811</td>\n",
              "      <td>256</td>\n",
              "      <td>1</td>\n",
              "      <td>0.50</td>\n",
              "      <td>2.0</td>\n",
              "      <td>3.0</td>\n",
              "      <td>...</td>\n",
              "      <td>2019-02-13 11:16:02.671262</td>\n",
              "      <td>2019-02-13 11:16:18.805748</td>\n",
              "      <td>val_error</td>\n",
              "      <td>2</td>\n",
              "      <td>0.968583</td>\n",
              "      <td>0.031417</td>\n",
              "      <td>0.098159</td>\n",
              "      <td>0.9892</td>\n",
              "      <td>0.0108</td>\n",
              "      <td>0.030241</td>\n",
              "    </tr>\n",
              "    <tr>\n",
              "      <th>2</th>\n",
              "      <td>3</td>\n",
              "      <td>TrialState.COMPLETE</td>\n",
              "      <td>0.0090</td>\n",
              "      <td>2019-02-13 11:16:19.182370</td>\n",
              "      <td>2019-02-13 11:19:09.019019</td>\n",
              "      <td>256</td>\n",
              "      <td>1</td>\n",
              "      <td>0.25</td>\n",
              "      <td>3.0</td>\n",
              "      <td>2.0</td>\n",
              "      <td>...</td>\n",
              "      <td>2019-02-13 11:18:52.768998</td>\n",
              "      <td>2019-02-13 11:19:08.668811</td>\n",
              "      <td>val_error</td>\n",
              "      <td>3</td>\n",
              "      <td>0.986442</td>\n",
              "      <td>0.013558</td>\n",
              "      <td>0.044292</td>\n",
              "      <td>0.9910</td>\n",
              "      <td>0.0090</td>\n",
              "      <td>0.029543</td>\n",
              "    </tr>\n",
              "    <tr>\n",
              "      <th>3</th>\n",
              "      <td>4</td>\n",
              "      <td>TrialState.COMPLETE</td>\n",
              "      <td>0.0115</td>\n",
              "      <td>2019-02-13 11:19:09.065058</td>\n",
              "      <td>2019-02-13 11:21:56.108416</td>\n",
              "      <td>256</td>\n",
              "      <td>1</td>\n",
              "      <td>0.25</td>\n",
              "      <td>2.0</td>\n",
              "      <td>3.0</td>\n",
              "      <td>...</td>\n",
              "      <td>2019-02-13 11:21:39.839719</td>\n",
              "      <td>2019-02-13 11:21:55.711689</td>\n",
              "      <td>val_error</td>\n",
              "      <td>4</td>\n",
              "      <td>0.986492</td>\n",
              "      <td>0.013508</td>\n",
              "      <td>0.042585</td>\n",
              "      <td>0.9885</td>\n",
              "      <td>0.0115</td>\n",
              "      <td>0.040009</td>\n",
              "    </tr>\n",
              "    <tr>\n",
              "      <th>...</th>\n",
              "      <td>...</td>\n",
              "      <td>...</td>\n",
              "      <td>...</td>\n",
              "      <td>...</td>\n",
              "      <td>...</td>\n",
              "      <td>...</td>\n",
              "      <td>...</td>\n",
              "      <td>...</td>\n",
              "      <td>...</td>\n",
              "      <td>...</td>\n",
              "      <td>...</td>\n",
              "      <td>...</td>\n",
              "      <td>...</td>\n",
              "      <td>...</td>\n",
              "      <td>...</td>\n",
              "      <td>...</td>\n",
              "      <td>...</td>\n",
              "      <td>...</td>\n",
              "      <td>...</td>\n",
              "      <td>...</td>\n",
              "      <td>...</td>\n",
              "    </tr>\n",
              "    <tr>\n",
              "      <th>6</th>\n",
              "      <td>7</td>\n",
              "      <td>TrialState.COMPLETE</td>\n",
              "      <td>0.0198</td>\n",
              "      <td>2019-02-13 11:23:34.600983</td>\n",
              "      <td>2019-02-13 11:23:56.843933</td>\n",
              "      <td>256</td>\n",
              "      <td>0</td>\n",
              "      <td>NaN</td>\n",
              "      <td>NaN</td>\n",
              "      <td>NaN</td>\n",
              "      <td>...</td>\n",
              "      <td>2019-02-13 11:23:54.765027</td>\n",
              "      <td>2019-02-13 11:23:56.544645</td>\n",
              "      <td>val_error</td>\n",
              "      <td>7</td>\n",
              "      <td>0.995017</td>\n",
              "      <td>0.004983</td>\n",
              "      <td>0.014111</td>\n",
              "      <td>0.9802</td>\n",
              "      <td>0.0198</td>\n",
              "      <td>0.073235</td>\n",
              "    </tr>\n",
              "    <tr>\n",
              "      <th>7</th>\n",
              "      <td>8</td>\n",
              "      <td>TrialState.COMPLETE</td>\n",
              "      <td>0.0092</td>\n",
              "      <td>2019-02-13 11:23:56.901083</td>\n",
              "      <td>2019-02-13 11:26:51.845384</td>\n",
              "      <td>256</td>\n",
              "      <td>1</td>\n",
              "      <td>0.25</td>\n",
              "      <td>3.0</td>\n",
              "      <td>2.0</td>\n",
              "      <td>...</td>\n",
              "      <td>2019-02-13 11:26:35.143727</td>\n",
              "      <td>2019-02-13 11:26:51.355880</td>\n",
              "      <td>val_error</td>\n",
              "      <td>8</td>\n",
              "      <td>0.993054</td>\n",
              "      <td>0.006946</td>\n",
              "      <td>0.020988</td>\n",
              "      <td>0.9908</td>\n",
              "      <td>0.0092</td>\n",
              "      <td>0.031861</td>\n",
              "    </tr>\n",
              "    <tr>\n",
              "      <th>8</th>\n",
              "      <td>9</td>\n",
              "      <td>TrialState.COMPLETE</td>\n",
              "      <td>0.0137</td>\n",
              "      <td>2019-02-13 11:26:51.906647</td>\n",
              "      <td>2019-02-13 11:29:31.722901</td>\n",
              "      <td>256</td>\n",
              "      <td>0</td>\n",
              "      <td>NaN</td>\n",
              "      <td>NaN</td>\n",
              "      <td>NaN</td>\n",
              "      <td>...</td>\n",
              "      <td>2019-02-13 11:29:15.865533</td>\n",
              "      <td>2019-02-13 11:29:30.733310</td>\n",
              "      <td>val_error</td>\n",
              "      <td>9</td>\n",
              "      <td>0.979362</td>\n",
              "      <td>0.020638</td>\n",
              "      <td>0.065974</td>\n",
              "      <td>0.9863</td>\n",
              "      <td>0.0137</td>\n",
              "      <td>0.041371</td>\n",
              "    </tr>\n",
              "    <tr>\n",
              "      <th>9</th>\n",
              "      <td>10</td>\n",
              "      <td>TrialState.COMPLETE</td>\n",
              "      <td>0.0165</td>\n",
              "      <td>2019-02-13 11:29:31.792148</td>\n",
              "      <td>2019-02-13 11:29:54.812921</td>\n",
              "      <td>256</td>\n",
              "      <td>0</td>\n",
              "      <td>NaN</td>\n",
              "      <td>NaN</td>\n",
              "      <td>NaN</td>\n",
              "      <td>...</td>\n",
              "      <td>2019-02-13 11:29:52.681523</td>\n",
              "      <td>2019-02-13 11:29:54.419806</td>\n",
              "      <td>val_error</td>\n",
              "      <td>10</td>\n",
              "      <td>0.992100</td>\n",
              "      <td>0.007900</td>\n",
              "      <td>0.023792</td>\n",
              "      <td>0.9835</td>\n",
              "      <td>0.0165</td>\n",
              "      <td>0.052651</td>\n",
              "    </tr>\n",
              "  </tbody>\n",
              "</table>\n",
              "<p>10 rows × 31 columns</p>\n",
              "</div>"
            ],
            "text/plain": [
              "    trial_id                state   value              datetime_start  \\\n",
              "0          1  TrialState.COMPLETE  0.0146  2019-02-13 11:10:45.749164   \n",
              "1          2  TrialState.COMPLETE  0.0108  2019-02-13 11:13:27.207080   \n",
              "2          3  TrialState.COMPLETE  0.0090  2019-02-13 11:16:19.182370   \n",
              "3          4  TrialState.COMPLETE  0.0115  2019-02-13 11:19:09.065058   \n",
              "..       ...                  ...     ...                         ...   \n",
              "6          7  TrialState.COMPLETE  0.0198  2019-02-13 11:23:34.600983   \n",
              "7          8  TrialState.COMPLETE  0.0092  2019-02-13 11:23:56.901083   \n",
              "8          9  TrialState.COMPLETE  0.0137  2019-02-13 11:26:51.906647   \n",
              "9         10  TrialState.COMPLETE  0.0165  2019-02-13 11:29:31.792148   \n",
              "\n",
              "             datetime_complete  Batch_size  Conv  Conv_1_dropout_rate  \\\n",
              "0   2019-02-13 11:13:27.165666         256     0                  NaN   \n",
              "1   2019-02-13 11:16:19.141811         256     1                 0.50   \n",
              "2   2019-02-13 11:19:09.019019         256     1                 0.25   \n",
              "3   2019-02-13 11:21:56.108416         256     1                 0.25   \n",
              "..                         ...         ...   ...                  ...   \n",
              "6   2019-02-13 11:23:56.843933         256     0                  NaN   \n",
              "7   2019-02-13 11:26:51.845384         256     1                 0.25   \n",
              "8   2019-02-13 11:29:31.722901         256     0                  NaN   \n",
              "9   2019-02-13 11:29:54.812921         256     0                  NaN   \n",
              "\n",
              "    Conv_1_kernel_size  Conv_1_max_pooling_size    ...     \\\n",
              "0                  NaN                      NaN    ...      \n",
              "1                  2.0                      3.0    ...      \n",
              "2                  3.0                      2.0    ...      \n",
              "3                  2.0                      3.0    ...      \n",
              "..                 ...                      ...    ...      \n",
              "6                  NaN                      NaN    ...      \n",
              "7                  3.0                      2.0    ...      \n",
              "8                  NaN                      NaN    ...      \n",
              "9                  NaN                      NaN    ...      \n",
              "\n",
              "         _Datetime_epoch_begin         _Datetime_epoch_end   _Monitor  \\\n",
              "0   2019-02-13 11:13:11.655200  2019-02-13 11:13:26.875603  val_error   \n",
              "1   2019-02-13 11:16:02.671262  2019-02-13 11:16:18.805748  val_error   \n",
              "2   2019-02-13 11:18:52.768998  2019-02-13 11:19:08.668811  val_error   \n",
              "3   2019-02-13 11:21:39.839719  2019-02-13 11:21:55.711689  val_error   \n",
              "..                         ...                         ...        ...   \n",
              "6   2019-02-13 11:23:54.765027  2019-02-13 11:23:56.544645  val_error   \n",
              "7   2019-02-13 11:26:35.143727  2019-02-13 11:26:51.355880  val_error   \n",
              "8   2019-02-13 11:29:15.865533  2019-02-13 11:29:30.733310  val_error   \n",
              "9   2019-02-13 11:29:52.681523  2019-02-13 11:29:54.419806  val_error   \n",
              "\n",
              "    _Trial_id       acc     error      loss  val_acc  val_error  val_loss  \n",
              "0           1  0.971093  0.028907  0.091096   0.9854     0.0146  0.042454  \n",
              "1           2  0.968583  0.031417  0.098159   0.9892     0.0108  0.030241  \n",
              "2           3  0.986442  0.013558  0.044292   0.9910     0.0090  0.029543  \n",
              "3           4  0.986492  0.013508  0.042585   0.9885     0.0115  0.040009  \n",
              "..        ...       ...       ...       ...      ...        ...       ...  \n",
              "6           7  0.995017  0.004983  0.014111   0.9802     0.0198  0.073235  \n",
              "7           8  0.993054  0.006946  0.020988   0.9908     0.0092  0.031861  \n",
              "8           9  0.979362  0.020638  0.065974   0.9863     0.0137  0.041371  \n",
              "9          10  0.992100  0.007900  0.023792   0.9835     0.0165  0.052651  \n",
              "\n",
              "[10 rows x 31 columns]"
            ]
          },
          "metadata": {
            "tags": []
          },
          "execution_count": 12
        }
      ]
    },
    {
      "metadata": {
        "id": "aECKs3b8bR6o",
        "colab_type": "code",
        "colab": {
          "base_uri": "https://localhost:8080/",
          "height": 391
        },
        "outputId": "05b8cd51-cb6c-4a42-d4fe-02a93cd2904a"
      },
      "cell_type": "code",
      "source": [
        "## Check the Keras CSV log file\n",
        "\n",
        "pd.options.display.max_rows = 8 # limit rows to display\n",
        "print('Data Frame read from', ok.keras_log_file_path, '\\n')\n",
        "pd.read_csv(ok.keras_log_file_path)"
      ],
      "execution_count": 13,
      "outputs": [
        {
          "output_type": "stream",
          "text": [
            "Data Frame read from MNIST_Optimized_Keras.csv \n",
            "\n"
          ],
          "name": "stdout"
        },
        {
          "output_type": "execute_result",
          "data": {
            "text/html": [
              "<div>\n",
              "<style scoped>\n",
              "    .dataframe tbody tr th:only-of-type {\n",
              "        vertical-align: middle;\n",
              "    }\n",
              "\n",
              "    .dataframe tbody tr th {\n",
              "        vertical-align: top;\n",
              "    }\n",
              "\n",
              "    .dataframe thead th {\n",
              "        text-align: right;\n",
              "    }\n",
              "</style>\n",
              "<table border=\"1\" class=\"dataframe\">\n",
              "  <thead>\n",
              "    <tr style=\"text-align: right;\">\n",
              "      <th></th>\n",
              "      <th>epoch</th>\n",
              "      <th>_Datetime_epoch_begin</th>\n",
              "      <th>_Datetime_epoch_end</th>\n",
              "      <th>_Monitor</th>\n",
              "      <th>_Trial_id</th>\n",
              "      <th>acc</th>\n",
              "      <th>error</th>\n",
              "      <th>loss</th>\n",
              "      <th>val_acc</th>\n",
              "      <th>val_error</th>\n",
              "      <th>val_loss</th>\n",
              "    </tr>\n",
              "  </thead>\n",
              "  <tbody>\n",
              "    <tr>\n",
              "      <th>0</th>\n",
              "      <td>0</td>\n",
              "      <td>2019-02-13 11:10:47.846167</td>\n",
              "      <td>2019-02-13 11:11:03.975231</td>\n",
              "      <td>val_error</td>\n",
              "      <td>1</td>\n",
              "      <td>0.874048</td>\n",
              "      <td>0.125952</td>\n",
              "      <td>0.403773</td>\n",
              "      <td>0.9608</td>\n",
              "      <td>0.0392</td>\n",
              "      <td>0.120862</td>\n",
              "    </tr>\n",
              "    <tr>\n",
              "      <th>1</th>\n",
              "      <td>1</td>\n",
              "      <td>2019-02-13 11:11:04.551341</td>\n",
              "      <td>2019-02-13 11:11:19.585107</td>\n",
              "      <td>val_error</td>\n",
              "      <td>1</td>\n",
              "      <td>0.937182</td>\n",
              "      <td>0.062818</td>\n",
              "      <td>0.203350</td>\n",
              "      <td>0.9760</td>\n",
              "      <td>0.0240</td>\n",
              "      <td>0.077140</td>\n",
              "    </tr>\n",
              "    <tr>\n",
              "      <th>2</th>\n",
              "      <td>2</td>\n",
              "      <td>2019-02-13 11:11:20.358317</td>\n",
              "      <td>2019-02-13 11:11:35.590956</td>\n",
              "      <td>val_error</td>\n",
              "      <td>1</td>\n",
              "      <td>0.948597</td>\n",
              "      <td>0.051403</td>\n",
              "      <td>0.163696</td>\n",
              "      <td>0.9763</td>\n",
              "      <td>0.0237</td>\n",
              "      <td>0.072022</td>\n",
              "    </tr>\n",
              "    <tr>\n",
              "      <th>3</th>\n",
              "      <td>3</td>\n",
              "      <td>2019-02-13 11:11:36.467452</td>\n",
              "      <td>2019-02-13 11:11:51.702920</td>\n",
              "      <td>val_error</td>\n",
              "      <td>1</td>\n",
              "      <td>0.955611</td>\n",
              "      <td>0.044389</td>\n",
              "      <td>0.140955</td>\n",
              "      <td>0.9795</td>\n",
              "      <td>0.0205</td>\n",
              "      <td>0.060727</td>\n",
              "    </tr>\n",
              "    <tr>\n",
              "      <th>...</th>\n",
              "      <td>...</td>\n",
              "      <td>...</td>\n",
              "      <td>...</td>\n",
              "      <td>...</td>\n",
              "      <td>...</td>\n",
              "      <td>...</td>\n",
              "      <td>...</td>\n",
              "      <td>...</td>\n",
              "      <td>...</td>\n",
              "      <td>...</td>\n",
              "      <td>...</td>\n",
              "    </tr>\n",
              "    <tr>\n",
              "      <th>96</th>\n",
              "      <td>6</td>\n",
              "      <td>2019-02-13 11:29:46.625672</td>\n",
              "      <td>2019-02-13 11:29:48.372567</td>\n",
              "      <td>val_error</td>\n",
              "      <td>10</td>\n",
              "      <td>0.990550</td>\n",
              "      <td>0.009450</td>\n",
              "      <td>0.030616</td>\n",
              "      <td>0.9811</td>\n",
              "      <td>0.0189</td>\n",
              "      <td>0.058786</td>\n",
              "    </tr>\n",
              "    <tr>\n",
              "      <th>97</th>\n",
              "      <td>7</td>\n",
              "      <td>2019-02-13 11:29:48.647015</td>\n",
              "      <td>2019-02-13 11:29:50.383037</td>\n",
              "      <td>val_error</td>\n",
              "      <td>10</td>\n",
              "      <td>0.990217</td>\n",
              "      <td>0.009783</td>\n",
              "      <td>0.028173</td>\n",
              "      <td>0.9810</td>\n",
              "      <td>0.0190</td>\n",
              "      <td>0.062615</td>\n",
              "    </tr>\n",
              "    <tr>\n",
              "      <th>98</th>\n",
              "      <td>8</td>\n",
              "      <td>2019-02-13 11:29:50.667720</td>\n",
              "      <td>2019-02-13 11:29:52.401896</td>\n",
              "      <td>val_error</td>\n",
              "      <td>10</td>\n",
              "      <td>0.991450</td>\n",
              "      <td>0.008550</td>\n",
              "      <td>0.026595</td>\n",
              "      <td>0.9811</td>\n",
              "      <td>0.0189</td>\n",
              "      <td>0.062924</td>\n",
              "    </tr>\n",
              "    <tr>\n",
              "      <th>99</th>\n",
              "      <td>9</td>\n",
              "      <td>2019-02-13 11:29:52.681523</td>\n",
              "      <td>2019-02-13 11:29:54.419806</td>\n",
              "      <td>val_error</td>\n",
              "      <td>10</td>\n",
              "      <td>0.992100</td>\n",
              "      <td>0.007900</td>\n",
              "      <td>0.023792</td>\n",
              "      <td>0.9835</td>\n",
              "      <td>0.0165</td>\n",
              "      <td>0.052651</td>\n",
              "    </tr>\n",
              "  </tbody>\n",
              "</table>\n",
              "<p>100 rows × 11 columns</p>\n",
              "</div>"
            ],
            "text/plain": [
              "    epoch       _Datetime_epoch_begin         _Datetime_epoch_end   _Monitor  \\\n",
              "0       0  2019-02-13 11:10:47.846167  2019-02-13 11:11:03.975231  val_error   \n",
              "1       1  2019-02-13 11:11:04.551341  2019-02-13 11:11:19.585107  val_error   \n",
              "2       2  2019-02-13 11:11:20.358317  2019-02-13 11:11:35.590956  val_error   \n",
              "3       3  2019-02-13 11:11:36.467452  2019-02-13 11:11:51.702920  val_error   \n",
              "..    ...                         ...                         ...        ...   \n",
              "96      6  2019-02-13 11:29:46.625672  2019-02-13 11:29:48.372567  val_error   \n",
              "97      7  2019-02-13 11:29:48.647015  2019-02-13 11:29:50.383037  val_error   \n",
              "98      8  2019-02-13 11:29:50.667720  2019-02-13 11:29:52.401896  val_error   \n",
              "99      9  2019-02-13 11:29:52.681523  2019-02-13 11:29:54.419806  val_error   \n",
              "\n",
              "    _Trial_id       acc     error      loss  val_acc  val_error  val_loss  \n",
              "0           1  0.874048  0.125952  0.403773   0.9608     0.0392  0.120862  \n",
              "1           1  0.937182  0.062818  0.203350   0.9760     0.0240  0.077140  \n",
              "2           1  0.948597  0.051403  0.163696   0.9763     0.0237  0.072022  \n",
              "3           1  0.955611  0.044389  0.140955   0.9795     0.0205  0.060727  \n",
              "..        ...       ...       ...       ...      ...        ...       ...  \n",
              "96         10  0.990550  0.009450  0.030616   0.9811     0.0189  0.058786  \n",
              "97         10  0.990217  0.009783  0.028173   0.9810     0.0190  0.062615  \n",
              "98         10  0.991450  0.008550  0.026595   0.9811     0.0189  0.062924  \n",
              "99         10  0.992100  0.007900  0.023792   0.9835     0.0165  0.052651  \n",
              "\n",
              "[100 rows x 11 columns]"
            ]
          },
          "metadata": {
            "tags": []
          },
          "execution_count": 13
        }
      ]
    }
  ]
}