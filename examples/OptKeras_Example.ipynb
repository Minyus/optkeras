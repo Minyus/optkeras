{
  "nbformat": 4,
  "nbformat_minor": 0,
  "metadata": {
    "colab": {
      "name": "OptKeras_Example.ipynb",
      "version": "0.3.2",
      "provenance": [],
      "collapsed_sections": []
    },
    "kernelspec": {
      "name": "python3",
      "display_name": "Python 3"
    },
    "accelerator": "GPU"
  },
  "cells": [
    {
      "metadata": {
        "id": "adlTq181lzrT",
        "colab_type": "text"
      },
      "cell_type": "markdown",
      "source": [
        "This notebook demonstrates how to use OptKeras, a Python wrapper around Keras and Optuna"
      ]
    },
    {
      "metadata": {
        "id": "U087RvP2l0ew",
        "colab_type": "text"
      },
      "cell_type": "markdown",
      "source": [
        "##  Set up Google Colab environment\n",
        "\n",
        "To run in Google Colab, specify a directory in Google Drive. (GPU is recommended.)\n",
        "\n",
        "To run in an environment other than Google Colab, just skip this code."
      ]
    },
    {
      "metadata": {
        "id": "c4WCNh4ZGn65",
        "colab_type": "code",
        "colab": {
          "base_uri": "https://localhost:8080/",
          "height": 814
        },
        "outputId": "f6d70366-a0a4-4e89-a7e6-2b50a03650fd"
      },
      "cell_type": "code",
      "source": [
        "import os\n",
        "\n",
        "try:\n",
        "    # Mount Google Drive\n",
        "    from google.colab import drive\n",
        "    drive.mount('/content/drive')\n",
        "    # Specify a directory in Google Drive (Modify as in your Google Drive)\n",
        "    workdir = '/content/drive/My Drive/Colab Notebooks/OptKeras_Example_Output'\n",
        "    # Create target directory & all intermediate directories if don't exists\n",
        "    if not os.path.exists(workdir):\n",
        "        os.makedirs(workdir)\n",
        "        print('## Directory: ' , workdir ,  ' was created.') \n",
        "    os.chdir(workdir)\n",
        "    print('## Current working directory was set to: ', os.getcwd())\n",
        "    print('## Check the uptime. (Google Colab reboots every 12 hours)')\n",
        "    !cat /proc/uptime | awk '{print \"Uptime is \" $1 /60 /60 \" hours (\" $1 \" sec)\"}'\n",
        "    print('## Check the GPU info')\n",
        "    !nvidia-smi\n",
        "    print('## Check the OS') \n",
        "    !cat /etc/issue\n",
        "    print('## Check the Python version') \n",
        "    !python --version\n",
        "    print('## Check the memory')\n",
        "    !free -h\n",
        "    print('## Check the disk')\n",
        "    !df -h\n",
        "except:\n",
        "    print('Run the code assuming the environment is not Google Colab.')\n",
        "\n",
        " \n"
      ],
      "execution_count": 1,
      "outputs": [
        {
          "output_type": "stream",
          "text": [
            "Go to this URL in a browser: https://accounts.google.com/o/oauth2/auth?client_id=947318989803-6bn6qk8qdgf4n4g3pfee6491hc0brc4i.apps.googleusercontent.com&redirect_uri=urn%3Aietf%3Awg%3Aoauth%3A2.0%3Aoob&scope=email%20https%3A%2F%2Fwww.googleapis.com%2Fauth%2Fdocs.test%20https%3A%2F%2Fwww.googleapis.com%2Fauth%2Fdrive%20https%3A%2F%2Fwww.googleapis.com%2Fauth%2Fdrive.photos.readonly%20https%3A%2F%2Fwww.googleapis.com%2Fauth%2Fpeopleapi.readonly&response_type=code\n",
            "\n",
            "Enter your authorization code:\n",
            "··········\n",
            "Mounted at /content/drive\n",
            "## Current working directory was set to:  /content/drive/My Drive/Colab Notebooks/OptKeras_Example_Output\n",
            "## Check the uptime. (Google Colab reboots every 12 hours)\n",
            "Uptime is 0.030125 hours (108.45 sec)\n",
            "## Check the GPU info\n",
            "Sun Feb 24 09:31:40 2019       \n",
            "+-----------------------------------------------------------------------------+\n",
            "| NVIDIA-SMI 410.79       Driver Version: 410.79       CUDA Version: 10.0     |\n",
            "|-------------------------------+----------------------+----------------------+\n",
            "| GPU  Name        Persistence-M| Bus-Id        Disp.A | Volatile Uncorr. ECC |\n",
            "| Fan  Temp  Perf  Pwr:Usage/Cap|         Memory-Usage | GPU-Util  Compute M. |\n",
            "|===============================+======================+======================|\n",
            "|   0  Tesla K80           Off  | 00000000:00:04.0 Off |                    0 |\n",
            "| N/A   33C    P8    30W / 149W |      0MiB / 11441MiB |      0%      Default |\n",
            "+-------------------------------+----------------------+----------------------+\n",
            "                                                                               \n",
            "+-----------------------------------------------------------------------------+\n",
            "| Processes:                                                       GPU Memory |\n",
            "|  GPU       PID   Type   Process name                             Usage      |\n",
            "|=============================================================================|\n",
            "|  No running processes found                                                 |\n",
            "+-----------------------------------------------------------------------------+\n",
            "## Check the OS\n",
            "Ubuntu 18.04.1 LTS \\n \\l\n",
            "\n",
            "## Check the Python version\n",
            "Python 3.6.7\n",
            "## Check the memory\n",
            "              total        used        free      shared  buff/cache   available\n",
            "Mem:            12G        464M         10G        904K        1.8G         11G\n",
            "Swap:            0B          0B          0B\n",
            "## Check the disk\n",
            "Filesystem      Size  Used Avail Use% Mounted on\n",
            "overlay         359G   23G  318G   7% /\n",
            "tmpfs           6.4G     0  6.4G   0% /dev\n",
            "tmpfs           6.4G     0  6.4G   0% /sys/fs/cgroup\n",
            "/dev/sda1       365G   27G  339G   8% /opt/bin\n",
            "tmpfs           6.4G   12K  6.4G   1% /var/colab\n",
            "shm             6.0G     0  6.0G   0% /dev/shm\n",
            "tmpfs           6.4G     0  6.4G   0% /sys/firmware\n",
            "drive           200G   23G  178G  12% /content/drive\n"
          ],
          "name": "stdout"
        }
      ]
    },
    {
      "metadata": {
        "id": "it4-DX10mqlB",
        "colab_type": "text"
      },
      "cell_type": "markdown",
      "source": [
        "## Install Optuna 0.7.0"
      ]
    },
    {
      "metadata": {
        "id": "XeNktIMgWNOg",
        "colab_type": "code",
        "outputId": "f4b9dcdd-6d40-48d1-8258-ace7030f8aa6",
        "colab": {
          "base_uri": "https://localhost:8080/",
          "height": 727
        }
      },
      "cell_type": "code",
      "source": [
        "!pip install optuna==0.7.0"
      ],
      "execution_count": 2,
      "outputs": [
        {
          "output_type": "stream",
          "text": [
            "Collecting optuna==0.7.0\n",
            "\u001b[?25l  Downloading https://files.pythonhosted.org/packages/2e/2c/946b73a073761a0dc68235ef92829b47d82c6f807e8767e0f84b09c98c0f/optuna-0.7.0.tar.gz (60kB)\n",
            "\u001b[K    100% |████████████████████████████████| 61kB 2.9MB/s \n",
            "\u001b[?25hRequirement already satisfied: sqlalchemy>=1.1.0 in /usr/local/lib/python3.6/dist-packages (from optuna==0.7.0) (1.2.17)\n",
            "Requirement already satisfied: numpy in /usr/local/lib/python3.6/dist-packages (from optuna==0.7.0) (1.14.6)\n",
            "Requirement already satisfied: scipy in /usr/local/lib/python3.6/dist-packages (from optuna==0.7.0) (1.1.0)\n",
            "Requirement already satisfied: six in /usr/local/lib/python3.6/dist-packages (from optuna==0.7.0) (1.11.0)\n",
            "Requirement already satisfied: typing in /usr/local/lib/python3.6/dist-packages (from optuna==0.7.0) (3.6.6)\n",
            "Collecting cliff (from optuna==0.7.0)\n",
            "\u001b[?25l  Downloading https://files.pythonhosted.org/packages/8e/1a/5404afee3d83a2e5f27e0d20ac7012c9f07bd8e9b03d0ae1fd9bb3e63037/cliff-2.14.0-py2.py3-none-any.whl (77kB)\n",
            "\u001b[K    100% |████████████████████████████████| 81kB 7.6MB/s \n",
            "\u001b[?25hCollecting colorlog (from optuna==0.7.0)\n",
            "  Downloading https://files.pythonhosted.org/packages/68/4d/892728b0c14547224f0ac40884e722a3d00cb54e7a146aea0b3186806c9e/colorlog-4.0.2-py2.py3-none-any.whl\n",
            "Requirement already satisfied: pandas in /usr/local/lib/python3.6/dist-packages (from optuna==0.7.0) (0.22.0)\n",
            "Collecting cmd2!=0.8.3; python_version >= \"3.0\" (from cliff->optuna==0.7.0)\n",
            "\u001b[?25l  Downloading https://files.pythonhosted.org/packages/d6/9d/ed576b7bae064280181b9a043e116c73ec19a6885eb93c14ac2e5ff55fc0/cmd2-0.9.10-py3-none-any.whl (86kB)\n",
            "\u001b[K    100% |████████████████████████████████| 92kB 29.6MB/s \n",
            "\u001b[?25hRequirement already satisfied: PyYAML>=3.12 in /usr/local/lib/python3.6/dist-packages (from cliff->optuna==0.7.0) (3.13)\n",
            "Requirement already satisfied: PrettyTable<0.8,>=0.7.2 in /usr/local/lib/python3.6/dist-packages (from cliff->optuna==0.7.0) (0.7.2)\n",
            "Requirement already satisfied: pyparsing>=2.1.0 in /usr/local/lib/python3.6/dist-packages (from cliff->optuna==0.7.0) (2.3.1)\n",
            "Collecting stevedore>=1.20.0 (from cliff->optuna==0.7.0)\n",
            "\u001b[?25l  Downloading https://files.pythonhosted.org/packages/35/fa/8683fab2a6e15ecfe107996e56fab91e52fe3ec0b40ca9440a0e1ffe6892/stevedore-1.30.0-py2.py3-none-any.whl (42kB)\n",
            "\u001b[K    100% |████████████████████████████████| 51kB 23.2MB/s \n",
            "\u001b[?25hRequirement already satisfied: pbr!=2.1.0,>=2.0.0 in /usr/local/lib/python3.6/dist-packages (from cliff->optuna==0.7.0) (5.1.2)\n",
            "Requirement already satisfied: python-dateutil>=2 in /usr/local/lib/python3.6/dist-packages (from pandas->optuna==0.7.0) (2.5.3)\n",
            "Requirement already satisfied: pytz>=2011k in /usr/local/lib/python3.6/dist-packages (from pandas->optuna==0.7.0) (2018.9)\n",
            "Collecting pyperclip>=1.5.27 (from cmd2!=0.8.3; python_version >= \"3.0\"->cliff->optuna==0.7.0)\n",
            "  Downloading https://files.pythonhosted.org/packages/2d/0f/4eda562dffd085945d57c2d9a5da745cfb5228c02bc90f2c74bbac746243/pyperclip-1.7.0.tar.gz\n",
            "Requirement already satisfied: attrs>=16.3.0 in /usr/local/lib/python3.6/dist-packages (from cmd2!=0.8.3; python_version >= \"3.0\"->cliff->optuna==0.7.0) (18.2.0)\n",
            "Requirement already satisfied: wcwidth>=0.1.7 in /usr/local/lib/python3.6/dist-packages (from cmd2!=0.8.3; python_version >= \"3.0\"->cliff->optuna==0.7.0) (0.1.7)\n",
            "Collecting colorama (from cmd2!=0.8.3; python_version >= \"3.0\"->cliff->optuna==0.7.0)\n",
            "  Downloading https://files.pythonhosted.org/packages/4f/a6/728666f39bfff1719fc94c481890b2106837da9318031f71a8424b662e12/colorama-0.4.1-py2.py3-none-any.whl\n",
            "Building wheels for collected packages: optuna, pyperclip\n",
            "  Building wheel for optuna (setup.py) ... \u001b[?25ldone\n",
            "\u001b[?25h  Stored in directory: /root/.cache/pip/wheels/8c/97/c7/868e9cd5d6a23cfb98266f30d59131e5bd441132bdf8da18d5\n",
            "  Building wheel for pyperclip (setup.py) ... \u001b[?25ldone\n",
            "\u001b[?25h  Stored in directory: /root/.cache/pip/wheels/92/f0/ac/2ba2972034e98971c3654ece337ac61e546bdeb34ca960dc8c\n",
            "Successfully built optuna pyperclip\n",
            "Installing collected packages: pyperclip, colorama, cmd2, stevedore, cliff, colorlog, optuna\n",
            "Successfully installed cliff-2.14.0 cmd2-0.9.10 colorama-0.4.1 colorlog-4.0.2 optuna-0.7.0 pyperclip-1.7.0 stevedore-1.30.0\n"
          ],
          "name": "stdout"
        }
      ]
    },
    {
      "metadata": {
        "id": "COmhC_CuoYo9",
        "colab_type": "text"
      },
      "cell_type": "markdown",
      "source": [
        "## Install OptKeras 0.0.1"
      ]
    },
    {
      "metadata": {
        "id": "zfIoE_CLvytu",
        "colab_type": "code",
        "outputId": "e4b6e071-13f9-4507-a245-a60db54dd345",
        "colab": {
          "base_uri": "https://localhost:8080/",
          "height": 537
        }
      },
      "cell_type": "code",
      "source": [
        "!pip install optkeras==0.0.1\n",
        "#!pip install git+https://github.com/Minyus/optkeras.git"
      ],
      "execution_count": 3,
      "outputs": [
        {
          "output_type": "stream",
          "text": [
            "Collecting optkeras==0.0.1\n",
            "  Downloading https://files.pythonhosted.org/packages/a1/af/160983f1296faec9a96c381ebf62925b1e9234a8e9625f2d33302cd90a0f/optkeras-0.0.1-py3-none-any.whl\n",
            "Requirement already satisfied: keras in /usr/local/lib/python3.6/dist-packages (from optkeras==0.0.1) (2.2.4)\n",
            "Requirement already satisfied: optuna in /usr/local/lib/python3.6/dist-packages (from optkeras==0.0.1) (0.7.0)\n",
            "Requirement already satisfied: keras-applications>=1.0.6 in /usr/local/lib/python3.6/dist-packages (from keras->optkeras==0.0.1) (1.0.7)\n",
            "Requirement already satisfied: h5py in /usr/local/lib/python3.6/dist-packages (from keras->optkeras==0.0.1) (2.8.0)\n",
            "Requirement already satisfied: numpy>=1.9.1 in /usr/local/lib/python3.6/dist-packages (from keras->optkeras==0.0.1) (1.14.6)\n",
            "Requirement already satisfied: pyyaml in /usr/local/lib/python3.6/dist-packages (from keras->optkeras==0.0.1) (3.13)\n",
            "Requirement already satisfied: six>=1.9.0 in /usr/local/lib/python3.6/dist-packages (from keras->optkeras==0.0.1) (1.11.0)\n",
            "Requirement already satisfied: keras-preprocessing>=1.0.5 in /usr/local/lib/python3.6/dist-packages (from keras->optkeras==0.0.1) (1.0.9)\n",
            "Requirement already satisfied: scipy>=0.14 in /usr/local/lib/python3.6/dist-packages (from keras->optkeras==0.0.1) (1.1.0)\n",
            "Requirement already satisfied: pandas in /usr/local/lib/python3.6/dist-packages (from optuna->optkeras==0.0.1) (0.22.0)\n",
            "Requirement already satisfied: cliff in /usr/local/lib/python3.6/dist-packages (from optuna->optkeras==0.0.1) (2.14.0)\n",
            "Requirement already satisfied: sqlalchemy>=1.1.0 in /usr/local/lib/python3.6/dist-packages (from optuna->optkeras==0.0.1) (1.2.17)\n",
            "Requirement already satisfied: typing in /usr/local/lib/python3.6/dist-packages (from optuna->optkeras==0.0.1) (3.6.6)\n",
            "Requirement already satisfied: colorlog in /usr/local/lib/python3.6/dist-packages (from optuna->optkeras==0.0.1) (4.0.2)\n",
            "Requirement already satisfied: pytz>=2011k in /usr/local/lib/python3.6/dist-packages (from pandas->optuna->optkeras==0.0.1) (2018.9)\n",
            "Requirement already satisfied: python-dateutil>=2 in /usr/local/lib/python3.6/dist-packages (from pandas->optuna->optkeras==0.0.1) (2.5.3)\n",
            "Requirement already satisfied: pbr!=2.1.0,>=2.0.0 in /usr/local/lib/python3.6/dist-packages (from cliff->optuna->optkeras==0.0.1) (5.1.2)\n",
            "Requirement already satisfied: pyparsing>=2.1.0 in /usr/local/lib/python3.6/dist-packages (from cliff->optuna->optkeras==0.0.1) (2.3.1)\n",
            "Requirement already satisfied: PrettyTable<0.8,>=0.7.2 in /usr/local/lib/python3.6/dist-packages (from cliff->optuna->optkeras==0.0.1) (0.7.2)\n",
            "Requirement already satisfied: cmd2!=0.8.3; python_version >= \"3.0\" in /usr/local/lib/python3.6/dist-packages (from cliff->optuna->optkeras==0.0.1) (0.9.10)\n",
            "Requirement already satisfied: stevedore>=1.20.0 in /usr/local/lib/python3.6/dist-packages (from cliff->optuna->optkeras==0.0.1) (1.30.0)\n",
            "Requirement already satisfied: wcwidth>=0.1.7 in /usr/local/lib/python3.6/dist-packages (from cmd2!=0.8.3; python_version >= \"3.0\"->cliff->optuna->optkeras==0.0.1) (0.1.7)\n",
            "Requirement already satisfied: attrs>=16.3.0 in /usr/local/lib/python3.6/dist-packages (from cmd2!=0.8.3; python_version >= \"3.0\"->cliff->optuna->optkeras==0.0.1) (18.2.0)\n",
            "Requirement already satisfied: pyperclip>=1.5.27 in /usr/local/lib/python3.6/dist-packages (from cmd2!=0.8.3; python_version >= \"3.0\"->cliff->optuna->optkeras==0.0.1) (1.7.0)\n",
            "Requirement already satisfied: colorama in /usr/local/lib/python3.6/dist-packages (from cmd2!=0.8.3; python_version >= \"3.0\"->cliff->optuna->optkeras==0.0.1) (0.4.1)\n",
            "Installing collected packages: optkeras\n",
            "Successfully installed optkeras-0.0.1\n"
          ],
          "name": "stdout"
        }
      ]
    },
    {
      "metadata": {
        "id": "0nikvt-fppC8",
        "colab_type": "text"
      },
      "cell_type": "markdown",
      "source": [
        "## Import modules"
      ]
    },
    {
      "metadata": {
        "id": "i85DbXl0nvmU",
        "colab_type": "code",
        "outputId": "8ac4582e-8f78-46e2-a62d-30e5aa632de0",
        "colab": {
          "base_uri": "https://localhost:8080/",
          "height": 103
        }
      },
      "cell_type": "code",
      "source": [
        "import numpy as np\n",
        "import pandas as pd\n",
        "\n",
        "from keras.datasets import mnist\n",
        "from keras.models import Sequential\n",
        "from keras.layers import Activation, Flatten, Dense, Conv2D\n",
        "from keras.layers import MaxPooling2D, Dropout, BatchNormalization\n",
        "from keras.preprocessing.image import ImageDataGenerator\n",
        "from keras.optimizers import SGD, Adagrad, RMSprop, Adam, Adadelta, Adamax, Nadam\n",
        "import keras.backend as K\n",
        "\n",
        "import keras\n",
        "print('Keras', keras.__version__)\n",
        "\n",
        "import tensorflow as tf\n",
        "print('TensorFlow', tf.__version__)\n",
        "\n",
        "# import Optuna and OptKeras after Keras\n",
        "import optuna \n",
        "print('Optuna', optuna.__version__)\n",
        "\n",
        "from optkeras.optkeras import OptKeras\n",
        "import optkeras\n",
        "print('OptKeras', optkeras.__version__)\n",
        "\n",
        "# (Optional) Disable messages from Optuna below WARN level.\n",
        "optuna.logging.set_verbosity(optuna.logging.WARN) "
      ],
      "execution_count": 4,
      "outputs": [
        {
          "output_type": "stream",
          "text": [
            "Using TensorFlow backend.\n"
          ],
          "name": "stderr"
        },
        {
          "output_type": "stream",
          "text": [
            "Keras 2.2.4\n",
            "TensorFlow 1.13.0-rc1\n",
            "Optuna 0.7.0\n",
            "OptKeras 0.0.1\n"
          ],
          "name": "stdout"
        }
      ]
    },
    {
      "metadata": {
        "id": "mq16j0E4olJO",
        "colab_type": "text"
      },
      "cell_type": "markdown",
      "source": [
        "## Set up Dataset"
      ]
    },
    {
      "metadata": {
        "id": "sfMZGHCO4DrV",
        "colab_type": "code",
        "outputId": "64c627ad-acae-436a-d2d2-77c2885d946b",
        "colab": {
          "base_uri": "https://localhost:8080/",
          "height": 51
        }
      },
      "cell_type": "code",
      "source": [
        "dataset_name = 'MNIST'\n",
        "\n",
        "if dataset_name in ['MNIST', 'MNIST_1000samples']:\n",
        "    (x_train, y_train), (x_test, y_test) = mnist.load_data()\n",
        "    \n",
        "    img_x, img_y = x_train.shape[1], x_train.shape[2]\n",
        "    x_train = x_train.reshape(-1, img_x, img_y, 1)\n",
        "    x_test = x_test.reshape(-1, img_x, img_y, 1)   \n",
        "    x_train = x_train.astype('float32')\n",
        "    x_test = x_test.astype('float32')\n",
        "    x_train /= 255\n",
        "    x_test /= 255\n",
        "    num_classes = 10\n",
        "    input_shape = (img_x, img_y, 1)"
      ],
      "execution_count": 5,
      "outputs": [
        {
          "output_type": "stream",
          "text": [
            "Downloading data from https://s3.amazonaws.com/img-datasets/mnist.npz\n",
            "11493376/11490434 [==============================] - 0s 0us/step\n"
          ],
          "name": "stdout"
        }
      ]
    },
    {
      "metadata": {
        "id": "D6QEQ_Dk6ReL",
        "colab_type": "code",
        "outputId": "988de20a-1a45-4e49-b560-4dc265e21a6b",
        "colab": {
          "base_uri": "https://localhost:8080/",
          "height": 103
        }
      },
      "cell_type": "code",
      "source": [
        "print('x_train: ', x_train.shape)\n",
        "print('y_train', y_train.shape)\n",
        "print('x_test: ', x_test.shape)\n",
        "print('y_test', y_test.shape)\n",
        "print('input_shape: ', input_shape )    "
      ],
      "execution_count": 6,
      "outputs": [
        {
          "output_type": "stream",
          "text": [
            "x_train:  (60000, 28, 28, 1)\n",
            "y_train (60000,)\n",
            "x_test:  (10000, 28, 28, 1)\n",
            "y_test (10000,)\n",
            "input_shape:  (28, 28, 1)\n"
          ],
          "name": "stdout"
        }
      ]
    },
    {
      "metadata": {
        "id": "7Wb1ZX2vJDO1",
        "colab_type": "text"
      },
      "cell_type": "markdown",
      "source": [
        "## A simple Keras model"
      ]
    },
    {
      "metadata": {
        "id": "m5NqIOlKJBpO",
        "colab_type": "code",
        "outputId": "224c8a0b-452b-45aa-eb93-4b0b70709151",
        "colab": {
          "base_uri": "https://localhost:8080/",
          "height": 244
        }
      },
      "cell_type": "code",
      "source": [
        "model = Sequential()\n",
        "model.add(Conv2D(\n",
        "    filters = 32, \n",
        "    kernel_size = 3, \n",
        "    strides = 1,\n",
        "    activation = 'relu', \n",
        "    input_shape = input_shape ))\n",
        "model.add(Flatten())\n",
        "model.add(Dense(num_classes, activation='softmax'))\n",
        "model.compile(optimizer = Adam(), \n",
        "            loss='sparse_categorical_crossentropy', metrics=['accuracy'])\t\t\t  \n",
        "model.fit(x_train, y_train, \n",
        "          validation_data = (x_test, y_test), shuffle = True,\n",
        "          batch_size = 512, epochs = 2) "
      ],
      "execution_count": 7,
      "outputs": [
        {
          "output_type": "stream",
          "text": [
            "WARNING:tensorflow:From /usr/local/lib/python3.6/dist-packages/tensorflow/python/framework/op_def_library.py:263: colocate_with (from tensorflow.python.framework.ops) is deprecated and will be removed in a future version.\n",
            "Instructions for updating:\n",
            "Colocations handled automatically by placer.\n",
            "WARNING:tensorflow:From /usr/local/lib/python3.6/dist-packages/tensorflow/python/ops/math_ops.py:3066: to_int32 (from tensorflow.python.ops.math_ops) is deprecated and will be removed in a future version.\n",
            "Instructions for updating:\n",
            "Use tf.cast instead.\n",
            "Train on 60000 samples, validate on 10000 samples\n",
            "Epoch 1/2\n",
            "60000/60000 [==============================] - 16s 266us/step - loss: 0.4474 - acc: 0.8783 - val_loss: 0.2442 - val_acc: 0.9286\n",
            "Epoch 2/2\n",
            "60000/60000 [==============================] - 2s 33us/step - loss: 0.1953 - acc: 0.9448 - val_loss: 0.1480 - val_acc: 0.9614\n"
          ],
          "name": "stdout"
        },
        {
          "output_type": "execute_result",
          "data": {
            "text/plain": [
              "<keras.callbacks.History at 0x7f25749dacc0>"
            ]
          },
          "metadata": {
            "tags": []
          },
          "execution_count": 7
        }
      ]
    },
    {
      "metadata": {
        "id": "J_MtiEV0kcSd",
        "colab_type": "text"
      },
      "cell_type": "markdown",
      "source": [
        "## Optimization of a simple Keras model without pruning"
      ]
    },
    {
      "metadata": {
        "id": "kpr1zgHub1QN",
        "colab_type": "code",
        "outputId": "32834f8a-a8b2-4eb0-e45d-d56432be0c3c",
        "colab": {
          "base_uri": "https://localhost:8080/",
          "height": 330
        }
      },
      "cell_type": "code",
      "source": [
        "study_name = dataset_name + '_Simple'\n",
        "\n",
        "\"\"\" Step 1. Instantiate OptKeras class\n",
        "You can specify arguments for Optuna's create_study method and other arguments \n",
        "for OptKeras such as enable_pruning. \n",
        "\"\"\"\n",
        "\n",
        "ok = OptKeras(study_name=study_name)\n",
        "\n",
        "\n",
        "\"\"\" Step 2. Define objective function for Optuna \"\"\"\n",
        "\n",
        "def objective(trial):\n",
        "    \n",
        "    \"\"\" Clear the backend (TensorFlow). See:\n",
        "    https://www.tensorflow.org/api_docs/python/tf/keras/backend/clear_session\n",
        "    \"\"\"\n",
        "    K.clear_session() \n",
        "    \n",
        "    \"\"\" Step 2.1. Define parameters to try using methods of optuna.trial such as \n",
        "    suggest_categorical. In this simple demo, try 2*2*2*2 = 16 parameter sets: \n",
        "    2 values specified in list for each of 4 parameters \n",
        "    (filters, kernel_size, strides, and activation for convolution).\n",
        "    \"\"\"    \n",
        "    model = Sequential()\n",
        "    model.add(Conv2D(\n",
        "        filters = trial.suggest_categorical('filters', [32, 64]), \n",
        "        kernel_size = trial.suggest_categorical('kernel_size', [3, 5]), \n",
        "        strides = trial.suggest_categorical('strides', [1, 2]), \n",
        "        activation = trial.suggest_categorical('activation', ['relu', 'linear']), \n",
        "        input_shape = input_shape ))\n",
        "    model.add(Flatten())\n",
        "    model.add(Dense(num_classes, activation='softmax'))\n",
        "    model.compile(optimizer = Adam(), \n",
        "                loss='sparse_categorical_crossentropy', metrics=['accuracy'])\n",
        "    \n",
        "    \"\"\" Step 2.2. Specify callbacks(trial) and keras_verbose in fit \n",
        "    (or fit_generator) method of Keras model\n",
        "    \"\"\"\n",
        "    model.fit(x_train, y_train, \n",
        "              validation_data = (x_test, y_test), shuffle = True,\n",
        "              batch_size = 512, epochs = 2,\n",
        "              callbacks = ok.callbacks(trial), \n",
        "              verbose = ok.keras_verbose )  \n",
        "    \n",
        "    \"\"\" Step 2.3. Return trial_best_value (or latest_value) \"\"\"\n",
        "    return ok.trial_best_value\n",
        "\n",
        "\"\"\" Step 3. Run optimize. \n",
        "Set n_trials and/or timeout (in sec) for optimization by Optuna\n",
        "\"\"\"\n",
        "ok.optimize(objective, timeout = 60) # 1 minute for demo"
      ],
      "execution_count": 8,
      "outputs": [
        {
          "output_type": "stream",
          "text": [
            "[2019-02-24 09:32:25.462880] Ready for optimization. (message printed as verbose is set to 1+)\n",
            "[2019-02-24 09:32:25.807950] Latest trial id: None, value: None (None) | Best trial id: None, value: None, parameters: None\n",
            "[2019-02-24 09:32:28.177527] Latest trial id: 0, value: 0.06769999961853024 (TrialState.COMPLETE) | Best trial id: 0, value: 0.06769999961853024, parameters: {'filters': 32, 'kernel_size': 3, 'strides': 2, 'activation': 'relu'}\n",
            "[2019-02-24 09:32:31.043376] Latest trial id: 1, value: 0.04040000076293948 (TrialState.COMPLETE) | Best trial id: 1, value: 0.04040000076293948, parameters: {'filters': 64, 'kernel_size': 5, 'strides': 2, 'activation': 'relu'}\n",
            "[2019-02-24 09:32:33.679953] Latest trial id: 2, value: 0.0556999998092651 (TrialState.COMPLETE) | Best trial id: 1, value: 0.04040000076293948, parameters: {'filters': 64, 'kernel_size': 5, 'strides': 2, 'activation': 'relu'}\n",
            "[2019-02-24 09:32:39.486085] Latest trial id: 3, value: 0.029299999523162867 (TrialState.COMPLETE) | Best trial id: 3, value: 0.029299999523162867, parameters: {'filters': 64, 'kernel_size': 3, 'strides': 1, 'activation': 'relu'}\n",
            "[2019-02-24 09:32:42.666468] Latest trial id: 4, value: 0.07810000066757206 (TrialState.COMPLETE) | Best trial id: 3, value: 0.029299999523162867, parameters: {'filters': 64, 'kernel_size': 3, 'strides': 1, 'activation': 'relu'}\n",
            "[2019-02-24 09:32:45.338223] Latest trial id: 5, value: 0.08190000038146972 (TrialState.COMPLETE) | Best trial id: 3, value: 0.029299999523162867, parameters: {'filters': 64, 'kernel_size': 3, 'strides': 1, 'activation': 'relu'}\n",
            "[2019-02-24 09:32:47.456032] Latest trial id: 6, value: 0.08129999923706055 (TrialState.COMPLETE) | Best trial id: 3, value: 0.029299999523162867, parameters: {'filters': 64, 'kernel_size': 3, 'strides': 1, 'activation': 'relu'}\n",
            "[2019-02-24 09:32:49.850790] Latest trial id: 7, value: 0.08379999971389773 (TrialState.COMPLETE) | Best trial id: 3, value: 0.029299999523162867, parameters: {'filters': 64, 'kernel_size': 3, 'strides': 1, 'activation': 'relu'}\n",
            "[2019-02-24 09:32:54.499301] Latest trial id: 8, value: 0.08080000076293947 (TrialState.COMPLETE) | Best trial id: 3, value: 0.029299999523162867, parameters: {'filters': 64, 'kernel_size': 3, 'strides': 1, 'activation': 'relu'}\n",
            "[2019-02-24 09:32:56.781361] Latest trial id: 9, value: 0.08030000076293942 (TrialState.COMPLETE) | Best trial id: 3, value: 0.029299999523162867, parameters: {'filters': 64, 'kernel_size': 3, 'strides': 1, 'activation': 'relu'}\n",
            "[2019-02-24 09:33:02.606684] Latest trial id: 10, value: 0.028899999332427928 (TrialState.COMPLETE) | Best trial id: 10, value: 0.028899999332427928, parameters: {'filters': 64, 'kernel_size': 3, 'strides': 1, 'activation': 'relu'}\n",
            "[2019-02-24 09:33:08.363205] Latest trial id: 11, value: 0.027399999618530235 (TrialState.COMPLETE) | Best trial id: 11, value: 0.027399999618530235, parameters: {'filters': 64, 'kernel_size': 3, 'strides': 1, 'activation': 'relu'}\n",
            "[2019-02-24 09:33:14.195635] Latest trial id: 12, value: 0.02559999933242796 (TrialState.COMPLETE) | Best trial id: 12, value: 0.02559999933242796, parameters: {'filters': 64, 'kernel_size': 3, 'strides': 1, 'activation': 'relu'}\n",
            "[2019-02-24 09:33:20.261383] Latest trial id: 13, value: 0.029199999427795387 (TrialState.COMPLETE) | Best trial id: 12, value: 0.02559999933242796, parameters: {'filters': 64, 'kernel_size': 3, 'strides': 1, 'activation': 'relu'}\n",
            "[2019-02-24 09:33:25.945662] Latest trial id: 14, value: 0.029299999904632612 (TrialState.COMPLETE) | Best trial id: 12, value: 0.02559999933242796, parameters: {'filters': 64, 'kernel_size': 3, 'strides': 1, 'activation': 'relu'}\n"
          ],
          "name": "stdout"
        }
      ]
    },
    {
      "metadata": {
        "id": "R_P9NZi0KPLH",
        "colab_type": "text"
      },
      "cell_type": "markdown",
      "source": [
        "## Randomized Grid Search of a simple Keras model"
      ]
    },
    {
      "metadata": {
        "id": "O_Xn1LP8ILgF",
        "colab_type": "code",
        "outputId": "390701e7-6e4a-477e-90f8-156d263d131c",
        "colab": {
          "base_uri": "https://localhost:8080/",
          "height": 624
        }
      },
      "cell_type": "code",
      "source": [
        "study_name = dataset_name + '_GridSearch'\n",
        "\n",
        "\"\"\" To run randomized grid search, set random_grid_search_mode True \"\"\"\n",
        "ok = OptKeras(study_name=study_name, random_grid_search_mode=True)\n",
        "\n",
        "def objective(trial):\n",
        "   \n",
        "    K.clear_session()\n",
        "    \n",
        "    model = Sequential()\n",
        "    model.add(Conv2D(\n",
        "        filters = trial.suggest_categorical('filters', [32, 64]), \n",
        "        kernel_size = trial.suggest_categorical('kernel_size', [3, 5]), \n",
        "        strides = trial.suggest_categorical('strides', [1, 2]), \n",
        "        activation = trial.suggest_categorical('activation', ['relu', 'linear']), \n",
        "        input_shape = input_shape ))\n",
        "    model.add(Flatten())\n",
        "    model.add(Dense(num_classes, activation='softmax'))\n",
        "    model.compile(optimizer = Adam(), \n",
        "                loss='sparse_categorical_crossentropy', metrics=['accuracy'])\n",
        "    \n",
        "    model.fit(x_train, y_train, \n",
        "              validation_data = (x_test, y_test), shuffle = True,\n",
        "              batch_size = 512, epochs = 2,\n",
        "              callbacks = ok.callbacks(trial), \n",
        "              verbose = ok.keras_verbose )  \n",
        "    \n",
        "    return ok.trial_best_value\n",
        "\n",
        "\"\"\" Set the number of parameter sets as n_trials for complete grid search \"\"\"\n",
        "ok.random_grid_search(objective, n_trials = 2*2*2*2) # 2*2*2*2 = 16 param sets"
      ],
      "execution_count": 9,
      "outputs": [
        {
          "output_type": "stream",
          "text": [
            "[2019-02-24 09:33:25.975148] Ready for optimization. (message printed as verbose is set to 1+)\n",
            "[2019-02-24 09:33:26.086711] Latest trial id: None, value: None (None) | Best trial id: None, value: None, parameters: None\n",
            "[2019-02-24 09:33:31.771017] Completed:   6% (    1 /    16)\n",
            "[2019-02-24 09:33:31.873750] Latest trial id: 0, value: 0.028599999523162833 (TrialState.COMPLETE) | Best trial id: 0, value: 0.028599999523162833, parameters: {'filters': 64, 'kernel_size': 3, 'strides': 1, 'activation': 'relu'}\n",
            "[2019-02-24 09:33:34.324624] Completed:  12% (    2 /    16)\n",
            "[2019-02-24 09:33:34.427215] Latest trial id: 1, value: 0.03540000038146973 (TrialState.COMPLETE) | Best trial id: 0, value: 0.028599999523162833, parameters: {'filters': 64, 'kernel_size': 3, 'strides': 1, 'activation': 'relu'}\n",
            "[2019-02-24 09:33:39.776762] Completed:  19% (    3 /    16)\n",
            "[2019-02-24 09:33:39.880299] Latest trial id: 2, value: 0.08099999942779545 (TrialState.COMPLETE) | Best trial id: 0, value: 0.028599999523162833, parameters: {'filters': 64, 'kernel_size': 3, 'strides': 1, 'activation': 'relu'}\n",
            "[2019-02-24 09:33:41.999380] Completed:  25% (    4 /    16)\n",
            "[2019-02-24 09:33:42.102954] Latest trial id: 3, value: 0.07710000057220456 (TrialState.COMPLETE) | Best trial id: 0, value: 0.028599999523162833, parameters: {'filters': 64, 'kernel_size': 3, 'strides': 1, 'activation': 'relu'}\n",
            "[2019-02-24 09:33:45.397256] Completed:  31% (    5 /    16)\n",
            "[2019-02-24 09:33:45.507698] Latest trial id: 4, value: 0.07760000047683713 (TrialState.COMPLETE) | Best trial id: 0, value: 0.028599999523162833, parameters: {'filters': 64, 'kernel_size': 3, 'strides': 1, 'activation': 'relu'}\n",
            "[2019-02-24 09:33:47.495104] Completed:  38% (    6 /    16)\n",
            "[2019-02-24 09:33:47.606646] Latest trial id: 5, value: 0.08219999923706056 (TrialState.COMPLETE) | Best trial id: 0, value: 0.028599999523162833, parameters: {'filters': 64, 'kernel_size': 3, 'strides': 1, 'activation': 'relu'}\n",
            "[2019-02-24 09:33:51.251060] Completed:  44% (    7 /    16)\n",
            "[2019-02-24 09:33:51.572399] Latest trial id: 6, value: 0.035699999999999954 (TrialState.COMPLETE) | Best trial id: 0, value: 0.028599999523162833, parameters: {'filters': 64, 'kernel_size': 3, 'strides': 1, 'activation': 'relu'}\n",
            "[2019-02-24 09:33:55.014947] Completed:  50% (    8 /    16)\n",
            "[2019-02-24 09:33:55.121125] Latest trial id: 7, value: 0.03139999980926511 (TrialState.COMPLETE) | Best trial id: 0, value: 0.028599999523162833, parameters: {'filters': 64, 'kernel_size': 3, 'strides': 1, 'activation': 'relu'}\n",
            "[2019-02-24 09:34:01.299381] Completed:  56% (    9 /    16)\n",
            "[2019-02-24 09:34:01.602197] Latest trial id: 10, value: 0.05529999952316289 (TrialState.COMPLETE) | Best trial id: 0, value: 0.028599999523162833, parameters: {'filters': 64, 'kernel_size': 3, 'strides': 1, 'activation': 'relu'}\n",
            "[2019-02-24 09:34:06.764725] Completed:  62% (   10 /    16)\n",
            "[2019-02-24 09:34:06.876031] Latest trial id: 11, value: 0.02089999923706054 (TrialState.COMPLETE) | Best trial id: 11, value: 0.02089999923706054, parameters: {'filters': 64, 'kernel_size': 5, 'strides': 1, 'activation': 'relu'}\n",
            "[2019-02-24 09:34:17.186647] Completed:  69% (   11 /    16)\n",
            "[2019-02-24 09:34:17.301388] Latest trial id: 16, value: 0.04879999933242796 (TrialState.COMPLETE) | Best trial id: 11, value: 0.02089999923706054, parameters: {'filters': 64, 'kernel_size': 5, 'strides': 1, 'activation': 'relu'}\n",
            "[2019-02-24 09:34:25.697286] Completed:  75% (   12 /    16)\n",
            "[2019-02-24 09:34:25.813699] Latest trial id: 19, value: 0.08259999923706052 (TrialState.COMPLETE) | Best trial id: 11, value: 0.02089999923706054, parameters: {'filters': 64, 'kernel_size': 5, 'strides': 1, 'activation': 'relu'}\n",
            "[2019-02-24 09:34:30.668708] Completed:  81% (   13 /    16)\n",
            "[2019-02-24 09:34:31.011757] Latest trial id: 22, value: 0.07940000038146977 (TrialState.COMPLETE) | Best trial id: 11, value: 0.02089999923706054, parameters: {'filters': 64, 'kernel_size': 5, 'strides': 1, 'activation': 'relu'}\n",
            "[2019-02-24 09:34:36.701310] Completed:  88% (   14 /    16)\n",
            "[2019-02-24 09:34:36.823422] Latest trial id: 24, value: 0.0804000007629394 (TrialState.COMPLETE) | Best trial id: 11, value: 0.02089999923706054, parameters: {'filters': 64, 'kernel_size': 5, 'strides': 1, 'activation': 'relu'}\n",
            "[2019-02-24 09:34:43.674699] Completed:  94% (   15 /    16)\n",
            "[2019-02-24 09:34:43.797624] Latest trial id: 27, value: 0.0826999992370605 (TrialState.COMPLETE) | Best trial id: 11, value: 0.02089999923706054, parameters: {'filters': 64, 'kernel_size': 5, 'strides': 1, 'activation': 'relu'}\n",
            "[2019-02-24 09:35:14.327032] Completed: 100% (   16 /    16)\n",
            "[2019-02-24 09:35:14.363441] Latest trial id: 40, value: 0.07979999923706049 (TrialState.COMPLETE) | Best trial id: 11, value: 0.02089999923706054, parameters: {'filters': 64, 'kernel_size': 5, 'strides': 1, 'activation': 'relu'}\n"
          ],
          "name": "stdout"
        }
      ]
    },
    {
      "metadata": {
        "id": "JdEzC5grp9ew",
        "colab_type": "text"
      },
      "cell_type": "markdown",
      "source": [
        "## Optimization of a Keras model using more Optuna's features such as pruning"
      ]
    },
    {
      "metadata": {
        "id": "LfV6iONwVujP",
        "colab_type": "code",
        "outputId": "d1ba51cd-1561-4008-a195-c81b2baa6d97",
        "colab": {
          "base_uri": "https://localhost:8080/",
          "height": 192
        }
      },
      "cell_type": "code",
      "source": [
        "study_name = dataset_name + '_Optimized'\n",
        "\n",
        "ok = OptKeras( \n",
        "    # parameters for optuna.create_study\n",
        "    storage='sqlite:///' + study_name + '_Optuna.db', \n",
        "    sampler=optuna.samplers.TPESampler(\n",
        "        consider_prior=True, prior_weight=1.0, \n",
        "        consider_magic_clip=True, consider_endpoints=False, \n",
        "        n_startup_trials=10, n_ei_candidates=24, \n",
        "        seed=None), \n",
        "    pruner=optuna.pruners.SuccessiveHalvingPruner(\n",
        "        min_resource=1, reduction_factor=4, min_early_stopping_rate=0), \n",
        "    study_name = study_name, \n",
        "    direction='minimize', \n",
        "    load_if_exists = True,\n",
        "    # parameters for OptKeras\n",
        "    monitor='val_error', # Either 'val_error' (1 - val_acc) or 'val_loss'\n",
        "    enable_pruning=True, \n",
        "    models_to_keep=1, # Either 1, 0, or -1 (save all models) \n",
        "    verbose=1 )\n",
        "\n",
        "def objective(trial): \n",
        "    epochs = 10\n",
        "    \n",
        "    K.clear_session()   \n",
        "    model = Sequential()\n",
        "    \n",
        "    if trial.suggest_int('Conv', 0, 1):  \n",
        "        # 1 Convolution layer\n",
        "        i = 1\n",
        "        model.add(Conv2D(\n",
        "            filters = int(trial.suggest_discrete_uniform(\n",
        "                'Conv_{}_num_filters'.format(i), 32, 64, 32)), \n",
        "            kernel_size=tuple([trial.suggest_int(\n",
        "                'Conv_{}_kernel_size'.format(i), 2, 3)] * 2),\n",
        "            activation='relu',\n",
        "            input_shape = input_shape))\n",
        "        model.add(MaxPooling2D(pool_size=tuple([trial.suggest_int(\n",
        "                'Conv_{}_max_pooling_size'.format(i), 2, 3)] * 2)))\n",
        "        model.add(Dropout(trial.suggest_discrete_uniform(\n",
        "                'Conv_{}_dropout_rate'.format(i), 0, 0.5, 0.25) ))\n",
        "        model.add(Flatten())        \n",
        "    else:\n",
        "        model.add(Flatten(input_shape=input_shape))\n",
        "    # 2 Fully connected layers\n",
        "    for i in np.arange(2) + 1:\n",
        "        model.add(Dense(int(trial.suggest_discrete_uniform(\n",
        "            'FC_{}_num_hidden_units'.format(i), 256, 512, 256))))\n",
        "        if trial.suggest_int('FC_{}_batch_normalization'.format(i), 0, 1):\n",
        "            model.add(BatchNormalization())\n",
        "        model.add(Activation(trial.suggest_categorical(\n",
        "            'FC_{}_acivation'.format(i), ['relu'])))\n",
        "        model.add(Dropout(\n",
        "            trial.suggest_discrete_uniform(\n",
        "                'FC_{}_dropout_rate'.format(i), 0, 0.5, 0.25) ))\n",
        "        \n",
        "    # Output layer    \n",
        "    model.add(Dense(num_classes, activation='softmax'))\n",
        "    \n",
        "    optimizer_dict = { \\\n",
        "    #'Adagrad': Adagrad(),\n",
        "    'Adam': Adam() }\n",
        "    \n",
        "    model.compile(optimizer = optimizer_dict[\n",
        "        trial.suggest_categorical('Optimizer', list(optimizer_dict.keys()))],\n",
        "          loss='sparse_categorical_crossentropy', metrics=['accuracy'])    \n",
        "    \n",
        "    if ok.verbose >= 2: model.summary()\n",
        "    \n",
        "    batch_size = trial.suggest_int('Batch_size', 256, 256) \n",
        "    #batch_size = int(trial.suggest_discrete_uniform(\n",
        "    #                  'Batch_size', 256, 512, 256) )\n",
        "    data_augmentation = trial.suggest_int('Data_augmentation', 0, 1)\n",
        "    \n",
        "    if not data_augmentation:\n",
        "        # [Required] Specify callbacks(trial) in fit method\n",
        "        model.fit(x_train, y_train, batch_size = batch_size,\n",
        "                  epochs = epochs, validation_data = (x_test, y_test),\n",
        "                  shuffle = True,\n",
        "                  callbacks = ok.callbacks(trial), \n",
        "                  verbose = ok.keras_verbose )\n",
        "    \n",
        "    if data_augmentation:\n",
        "        # This will do preprocessing and realtime data augmentation:\n",
        "        datagen = ImageDataGenerator(\n",
        "            width_shift_range=[-1, 0, +1], # 1 pixel\n",
        "            height_shift_range=[-1, 0, +1], # 1 pixel\n",
        "            zoom_range=[0.95,1.05],  # set range for random zoom\n",
        "            horizontal_flip=False,  # disable horizontal flip\n",
        "            vertical_flip=False )  # disable vertical flip\n",
        "        datagen.fit(x_train)\n",
        "        # [Required] Specify callbacks(trial) in fit_generator method\n",
        "        model.fit_generator(datagen.flow(x_train, y_train, \n",
        "                                         batch_size=batch_size),\n",
        "                            epochs=epochs, validation_data=(x_test, y_test),\n",
        "                            steps_per_epoch=len(x_train) // batch_size,\n",
        "                            callbacks = ok.callbacks(trial), \n",
        "                            verbose = ok.keras_verbose )  \n",
        "    \n",
        "    # [Required] return trial_best_value (recommended) or latest_value\n",
        "    return ok.trial_best_value\n",
        "\n",
        "# Set n_trials and/or timeout (in sec) for optimization by Optuna\n",
        "ok.optimize(objective, timeout = 10*60) # 10 minutes for demo"
      ],
      "execution_count": 10,
      "outputs": [
        {
          "output_type": "stream",
          "text": [
            "[2019-02-24 09:35:14.678466] Ready for optimization. (message printed as verbose is set to 1+)\n",
            "WARNING:tensorflow:From /usr/local/lib/python3.6/dist-packages/keras/backend/tensorflow_backend.py:3445: calling dropout (from tensorflow.python.ops.nn_ops) with keep_prob is deprecated and will be removed in a future version.\n",
            "Instructions for updating:\n",
            "Please use `rate` instead of `keep_prob`. Rate should be set to `rate = 1 - keep_prob`.\n",
            "[2019-02-24 09:35:15.537035] Latest trial id: None, value: None (None) | Best trial id: None, value: None, parameters: None\n",
            "[2019-02-24 09:35:52.461026] Latest trial id: 1, value: 0.012700000000000045 (TrialState.COMPLETE) | Best trial id: 1, value: 0.012700000000000045, parameters: {'Batch_size': 256, 'Conv': 1, 'Conv_1_dropout_rate': 0.5, 'Conv_1_kernel_size': 2, 'Conv_1_max_pooling_size': 2, 'Conv_1_num_filters': 32.0, 'Data_augmentation': 0, 'FC_1_acivation': 'relu', 'FC_1_batch_normalization': 0, 'FC_1_dropout_rate': 0.0, 'FC_1_num_hidden_units': 256.0, 'FC_2_acivation': 'relu', 'FC_2_batch_normalization': 1, 'FC_2_dropout_rate': 0.0, 'FC_2_num_hidden_units': 256.0, 'Optimizer': 'Adam'}\n",
            "[2019-02-24 09:37:58.406814] Latest trial id: 5, value: 0.010399999999999965 (TrialState.COMPLETE) | Best trial id: 5, value: 0.010399999999999965, parameters: {'Batch_size': 256, 'Conv': 1, 'Conv_1_dropout_rate': 0.25, 'Conv_1_kernel_size': 3, 'Conv_1_max_pooling_size': 3, 'Conv_1_num_filters': 64.0, 'Data_augmentation': 0, 'FC_1_acivation': 'relu', 'FC_1_batch_normalization': 1, 'FC_1_dropout_rate': 0.25, 'FC_1_num_hidden_units': 512.0, 'FC_2_acivation': 'relu', 'FC_2_batch_normalization': 0, 'FC_2_dropout_rate': 0.0, 'FC_2_num_hidden_units': 256.0, 'Optimizer': 'Adam'}\n",
            "[2019-02-24 09:40:13.504049] Latest trial id: 12, value: 0.011800000000000033 (TrialState.COMPLETE) | Best trial id: 5, value: 0.010399999999999965, parameters: {'Batch_size': 256, 'Conv': 1, 'Conv_1_dropout_rate': 0.25, 'Conv_1_kernel_size': 3, 'Conv_1_max_pooling_size': 3, 'Conv_1_num_filters': 64.0, 'Data_augmentation': 0, 'FC_1_acivation': 'relu', 'FC_1_batch_normalization': 1, 'FC_1_dropout_rate': 0.25, 'FC_1_num_hidden_units': 512.0, 'FC_2_acivation': 'relu', 'FC_2_batch_normalization': 0, 'FC_2_dropout_rate': 0.0, 'FC_2_num_hidden_units': 256.0, 'Optimizer': 'Adam'}\n",
            "[2019-02-24 09:48:22.542935] Latest trial id: 26, value: 0.008399999999999963 (TrialState.COMPLETE) | Best trial id: 26, value: 0.008399999999999963, parameters: {'Batch_size': 256, 'Conv': 1, 'Conv_1_dropout_rate': 0.5, 'Conv_1_kernel_size': 3, 'Conv_1_max_pooling_size': 2, 'Conv_1_num_filters': 64.0, 'Data_augmentation': 1, 'FC_1_acivation': 'relu', 'FC_1_batch_normalization': 0, 'FC_1_dropout_rate': 0.25, 'FC_1_num_hidden_units': 512.0, 'FC_2_acivation': 'relu', 'FC_2_batch_normalization': 1, 'FC_2_dropout_rate': 0.25, 'FC_2_num_hidden_units': 256.0, 'Optimizer': 'Adam'}\n"
          ],
          "name": "stdout"
        }
      ]
    },
    {
      "metadata": {
        "id": "auoF6dt0sWCl",
        "colab_type": "text"
      },
      "cell_type": "markdown",
      "source": [
        "## Check the results"
      ]
    },
    {
      "metadata": {
        "id": "6y5SKUF9qXlp",
        "colab_type": "code",
        "outputId": "e89c67f1-7675-4a4b-f52a-0e07adab5d60",
        "colab": {
          "base_uri": "https://localhost:8080/",
          "height": 345
        }
      },
      "cell_type": "code",
      "source": [
        "# OptKeras best_trial returns \n",
        "print('Best trial id: ', ok.best_trial.trial_id)\n",
        "print('Best value:', ok.best_trial.value)\n",
        "print('Best params: ')\n",
        "ok.best_trial.params"
      ],
      "execution_count": 11,
      "outputs": [
        {
          "output_type": "stream",
          "text": [
            "Best trial id:  26\n",
            "Best value: 0.008399999999999963\n",
            "Best params: \n"
          ],
          "name": "stdout"
        },
        {
          "output_type": "execute_result",
          "data": {
            "text/plain": [
              "{'Batch_size': 256,\n",
              " 'Conv': 1,\n",
              " 'Conv_1_dropout_rate': 0.5,\n",
              " 'Conv_1_kernel_size': 3,\n",
              " 'Conv_1_max_pooling_size': 2,\n",
              " 'Conv_1_num_filters': 64.0,\n",
              " 'Data_augmentation': 1,\n",
              " 'FC_1_acivation': 'relu',\n",
              " 'FC_1_batch_normalization': 0,\n",
              " 'FC_1_dropout_rate': 0.25,\n",
              " 'FC_1_num_hidden_units': 512.0,\n",
              " 'FC_2_acivation': 'relu',\n",
              " 'FC_2_batch_normalization': 1,\n",
              " 'FC_2_dropout_rate': 0.25,\n",
              " 'FC_2_num_hidden_units': 256.0,\n",
              " 'Optimizer': 'Adam'}"
            ]
          },
          "metadata": {
            "tags": []
          },
          "execution_count": 11
        }
      ]
    },
    {
      "metadata": {
        "id": "_3VjUGT7AVqO",
        "colab_type": "code",
        "outputId": "714f5919-0324-4897-ff16-0855d796c104",
        "colab": {
          "base_uri": "https://localhost:8080/",
          "height": 293
        }
      },
      "cell_type": "code",
      "source": [
        "\"\"\"\n",
        "Alternatively, you can access Optuna's study object to, for example, \n",
        "get the best parameters as well.\n",
        "Please note that study.best_trial returns error if optimization trials \n",
        "were not completed (e.g. if you interupt execution) as of Optuna 0.7.0, \n",
        "so usage of OptKeras is recommended.\n",
        "\"\"\"\n",
        "study = ok.study\n",
        "study.best_trial.params "
      ],
      "execution_count": 12,
      "outputs": [
        {
          "output_type": "execute_result",
          "data": {
            "text/plain": [
              "{'Batch_size': 256,\n",
              " 'Conv': 1,\n",
              " 'Conv_1_dropout_rate': 0.5,\n",
              " 'Conv_1_kernel_size': 3,\n",
              " 'Conv_1_max_pooling_size': 2,\n",
              " 'Conv_1_num_filters': 64.0,\n",
              " 'Data_augmentation': 1,\n",
              " 'FC_1_acivation': 'relu',\n",
              " 'FC_1_batch_normalization': 0,\n",
              " 'FC_1_dropout_rate': 0.25,\n",
              " 'FC_1_num_hidden_units': 512.0,\n",
              " 'FC_2_acivation': 'relu',\n",
              " 'FC_2_batch_normalization': 1,\n",
              " 'FC_2_dropout_rate': 0.25,\n",
              " 'FC_2_num_hidden_units': 256.0,\n",
              " 'Optimizer': 'Adam'}"
            ]
          },
          "metadata": {
            "tags": []
          },
          "execution_count": 12
        }
      ]
    },
    {
      "metadata": {
        "id": "uTGnnvpDF5IE",
        "colab_type": "code",
        "outputId": "531dfee2-3c9f-4a17-89dd-bdef02fe06a9",
        "colab": {
          "base_uri": "https://localhost:8080/",
          "height": 549
        }
      },
      "cell_type": "code",
      "source": [
        "## Check the Optuna CSV log file \n",
        "pd.options.display.max_rows = 8 # limit rows to display\n",
        "print('Data Frame read from', ok.optuna_log_file_path, '\\n')\n",
        "pd.read_csv(ok.optuna_log_file_path)"
      ],
      "execution_count": 13,
      "outputs": [
        {
          "output_type": "stream",
          "text": [
            "Data Frame read from MNIST_Optimized_Optuna.csv \n",
            "\n"
          ],
          "name": "stdout"
        },
        {
          "output_type": "execute_result",
          "data": {
            "text/html": [
              "<div>\n",
              "<style scoped>\n",
              "    .dataframe tbody tr th:only-of-type {\n",
              "        vertical-align: middle;\n",
              "    }\n",
              "\n",
              "    .dataframe tbody tr th {\n",
              "        vertical-align: top;\n",
              "    }\n",
              "\n",
              "    .dataframe thead th {\n",
              "        text-align: right;\n",
              "    }\n",
              "</style>\n",
              "<table border=\"1\" class=\"dataframe\">\n",
              "  <thead>\n",
              "    <tr style=\"text-align: right;\">\n",
              "      <th></th>\n",
              "      <th>trial_id</th>\n",
              "      <th>state</th>\n",
              "      <th>value</th>\n",
              "      <th>datetime_start</th>\n",
              "      <th>datetime_complete</th>\n",
              "      <th>Batch_size</th>\n",
              "      <th>Conv</th>\n",
              "      <th>Conv_1_dropout_rate</th>\n",
              "      <th>Conv_1_kernel_size</th>\n",
              "      <th>Conv_1_max_pooling_size</th>\n",
              "      <th>...</th>\n",
              "      <th>intermediate_values_0</th>\n",
              "      <th>intermediate_values_1</th>\n",
              "      <th>intermediate_values_2</th>\n",
              "      <th>intermediate_values_3</th>\n",
              "      <th>intermediate_values_4</th>\n",
              "      <th>intermediate_values_5</th>\n",
              "      <th>intermediate_values_6</th>\n",
              "      <th>intermediate_values_7</th>\n",
              "      <th>intermediate_values_8</th>\n",
              "      <th>intermediate_values_9</th>\n",
              "    </tr>\n",
              "  </thead>\n",
              "  <tbody>\n",
              "    <tr>\n",
              "      <th>0</th>\n",
              "      <td>1</td>\n",
              "      <td>TrialState.COMPLETE</td>\n",
              "      <td>0.0127</td>\n",
              "      <td>2019-02-24 09:35:14.695532</td>\n",
              "      <td>2019-02-24 09:35:51.514608</td>\n",
              "      <td>256</td>\n",
              "      <td>1</td>\n",
              "      <td>0.5</td>\n",
              "      <td>2.0</td>\n",
              "      <td>2.0</td>\n",
              "      <td>...</td>\n",
              "      <td>0.0262</td>\n",
              "      <td>0.0171</td>\n",
              "      <td>0.0151</td>\n",
              "      <td>0.0142</td>\n",
              "      <td>0.0149</td>\n",
              "      <td>0.0127</td>\n",
              "      <td>0.0127</td>\n",
              "      <td>0.0112</td>\n",
              "      <td>0.0136</td>\n",
              "      <td>0.0127</td>\n",
              "    </tr>\n",
              "    <tr>\n",
              "      <th>1</th>\n",
              "      <td>2</td>\n",
              "      <td>TrialState.PRUNED</td>\n",
              "      <td>0.0280</td>\n",
              "      <td>2019-02-24 09:35:51.549683</td>\n",
              "      <td>2019-02-24 09:36:28.213672</td>\n",
              "      <td>256</td>\n",
              "      <td>0</td>\n",
              "      <td>NaN</td>\n",
              "      <td>NaN</td>\n",
              "      <td>NaN</td>\n",
              "      <td>...</td>\n",
              "      <td>0.0357</td>\n",
              "      <td>0.0280</td>\n",
              "      <td>NaN</td>\n",
              "      <td>NaN</td>\n",
              "      <td>NaN</td>\n",
              "      <td>NaN</td>\n",
              "      <td>NaN</td>\n",
              "      <td>NaN</td>\n",
              "      <td>NaN</td>\n",
              "      <td>NaN</td>\n",
              "    </tr>\n",
              "    <tr>\n",
              "      <th>2</th>\n",
              "      <td>3</td>\n",
              "      <td>TrialState.PRUNED</td>\n",
              "      <td>0.0307</td>\n",
              "      <td>2019-02-24 09:36:28.232243</td>\n",
              "      <td>2019-02-24 09:36:34.286224</td>\n",
              "      <td>256</td>\n",
              "      <td>0</td>\n",
              "      <td>NaN</td>\n",
              "      <td>NaN</td>\n",
              "      <td>NaN</td>\n",
              "      <td>...</td>\n",
              "      <td>0.0371</td>\n",
              "      <td>0.0307</td>\n",
              "      <td>NaN</td>\n",
              "      <td>NaN</td>\n",
              "      <td>NaN</td>\n",
              "      <td>NaN</td>\n",
              "      <td>NaN</td>\n",
              "      <td>NaN</td>\n",
              "      <td>NaN</td>\n",
              "      <td>NaN</td>\n",
              "    </tr>\n",
              "    <tr>\n",
              "      <th>3</th>\n",
              "      <td>4</td>\n",
              "      <td>TrialState.PRUNED</td>\n",
              "      <td>0.0257</td>\n",
              "      <td>2019-02-24 09:36:34.306324</td>\n",
              "      <td>2019-02-24 09:37:11.722880</td>\n",
              "      <td>256</td>\n",
              "      <td>0</td>\n",
              "      <td>NaN</td>\n",
              "      <td>NaN</td>\n",
              "      <td>NaN</td>\n",
              "      <td>...</td>\n",
              "      <td>0.0451</td>\n",
              "      <td>0.0257</td>\n",
              "      <td>NaN</td>\n",
              "      <td>NaN</td>\n",
              "      <td>NaN</td>\n",
              "      <td>NaN</td>\n",
              "      <td>NaN</td>\n",
              "      <td>NaN</td>\n",
              "      <td>NaN</td>\n",
              "      <td>NaN</td>\n",
              "    </tr>\n",
              "    <tr>\n",
              "      <th>...</th>\n",
              "      <td>...</td>\n",
              "      <td>...</td>\n",
              "      <td>...</td>\n",
              "      <td>...</td>\n",
              "      <td>...</td>\n",
              "      <td>...</td>\n",
              "      <td>...</td>\n",
              "      <td>...</td>\n",
              "      <td>...</td>\n",
              "      <td>...</td>\n",
              "      <td>...</td>\n",
              "      <td>...</td>\n",
              "      <td>...</td>\n",
              "      <td>...</td>\n",
              "      <td>...</td>\n",
              "      <td>...</td>\n",
              "      <td>...</td>\n",
              "      <td>...</td>\n",
              "      <td>...</td>\n",
              "      <td>...</td>\n",
              "      <td>...</td>\n",
              "    </tr>\n",
              "    <tr>\n",
              "      <th>22</th>\n",
              "      <td>23</td>\n",
              "      <td>TrialState.PRUNED</td>\n",
              "      <td>0.0370</td>\n",
              "      <td>2019-02-24 09:44:19.715208</td>\n",
              "      <td>2019-02-24 09:44:25.254138</td>\n",
              "      <td>256</td>\n",
              "      <td>0</td>\n",
              "      <td>NaN</td>\n",
              "      <td>NaN</td>\n",
              "      <td>NaN</td>\n",
              "      <td>...</td>\n",
              "      <td>0.0507</td>\n",
              "      <td>0.0370</td>\n",
              "      <td>NaN</td>\n",
              "      <td>NaN</td>\n",
              "      <td>NaN</td>\n",
              "      <td>NaN</td>\n",
              "      <td>NaN</td>\n",
              "      <td>NaN</td>\n",
              "      <td>NaN</td>\n",
              "      <td>NaN</td>\n",
              "    </tr>\n",
              "    <tr>\n",
              "      <th>23</th>\n",
              "      <td>24</td>\n",
              "      <td>TrialState.PRUNED</td>\n",
              "      <td>0.0315</td>\n",
              "      <td>2019-02-24 09:44:25.289811</td>\n",
              "      <td>2019-02-24 09:45:00.688242</td>\n",
              "      <td>256</td>\n",
              "      <td>0</td>\n",
              "      <td>NaN</td>\n",
              "      <td>NaN</td>\n",
              "      <td>NaN</td>\n",
              "      <td>...</td>\n",
              "      <td>0.0440</td>\n",
              "      <td>0.0315</td>\n",
              "      <td>NaN</td>\n",
              "      <td>NaN</td>\n",
              "      <td>NaN</td>\n",
              "      <td>NaN</td>\n",
              "      <td>NaN</td>\n",
              "      <td>NaN</td>\n",
              "      <td>NaN</td>\n",
              "      <td>NaN</td>\n",
              "    </tr>\n",
              "    <tr>\n",
              "      <th>24</th>\n",
              "      <td>25</td>\n",
              "      <td>TrialState.PRUNED</td>\n",
              "      <td>0.0179</td>\n",
              "      <td>2019-02-24 09:45:00.721059</td>\n",
              "      <td>2019-02-24 09:45:12.520694</td>\n",
              "      <td>256</td>\n",
              "      <td>1</td>\n",
              "      <td>0.5</td>\n",
              "      <td>2.0</td>\n",
              "      <td>2.0</td>\n",
              "      <td>...</td>\n",
              "      <td>0.0270</td>\n",
              "      <td>0.0179</td>\n",
              "      <td>NaN</td>\n",
              "      <td>NaN</td>\n",
              "      <td>NaN</td>\n",
              "      <td>NaN</td>\n",
              "      <td>NaN</td>\n",
              "      <td>NaN</td>\n",
              "      <td>NaN</td>\n",
              "      <td>NaN</td>\n",
              "    </tr>\n",
              "    <tr>\n",
              "      <th>25</th>\n",
              "      <td>26</td>\n",
              "      <td>TrialState.COMPLETE</td>\n",
              "      <td>0.0084</td>\n",
              "      <td>2019-02-24 09:45:12.556062</td>\n",
              "      <td>2019-02-24 09:48:22.300769</td>\n",
              "      <td>256</td>\n",
              "      <td>1</td>\n",
              "      <td>0.5</td>\n",
              "      <td>3.0</td>\n",
              "      <td>2.0</td>\n",
              "      <td>...</td>\n",
              "      <td>0.0158</td>\n",
              "      <td>0.0130</td>\n",
              "      <td>0.0098</td>\n",
              "      <td>0.0083</td>\n",
              "      <td>0.0084</td>\n",
              "      <td>0.0096</td>\n",
              "      <td>0.0095</td>\n",
              "      <td>0.0083</td>\n",
              "      <td>0.0081</td>\n",
              "      <td>0.0084</td>\n",
              "    </tr>\n",
              "  </tbody>\n",
              "</table>\n",
              "<p>26 rows × 43 columns</p>\n",
              "</div>"
            ],
            "text/plain": [
              "    trial_id                state   value              datetime_start  \\\n",
              "0          1  TrialState.COMPLETE  0.0127  2019-02-24 09:35:14.695532   \n",
              "1          2    TrialState.PRUNED  0.0280  2019-02-24 09:35:51.549683   \n",
              "2          3    TrialState.PRUNED  0.0307  2019-02-24 09:36:28.232243   \n",
              "3          4    TrialState.PRUNED  0.0257  2019-02-24 09:36:34.306324   \n",
              "..       ...                  ...     ...                         ...   \n",
              "22        23    TrialState.PRUNED  0.0370  2019-02-24 09:44:19.715208   \n",
              "23        24    TrialState.PRUNED  0.0315  2019-02-24 09:44:25.289811   \n",
              "24        25    TrialState.PRUNED  0.0179  2019-02-24 09:45:00.721059   \n",
              "25        26  TrialState.COMPLETE  0.0084  2019-02-24 09:45:12.556062   \n",
              "\n",
              "             datetime_complete  Batch_size  Conv  Conv_1_dropout_rate  \\\n",
              "0   2019-02-24 09:35:51.514608         256     1                  0.5   \n",
              "1   2019-02-24 09:36:28.213672         256     0                  NaN   \n",
              "2   2019-02-24 09:36:34.286224         256     0                  NaN   \n",
              "3   2019-02-24 09:37:11.722880         256     0                  NaN   \n",
              "..                         ...         ...   ...                  ...   \n",
              "22  2019-02-24 09:44:25.254138         256     0                  NaN   \n",
              "23  2019-02-24 09:45:00.688242         256     0                  NaN   \n",
              "24  2019-02-24 09:45:12.520694         256     1                  0.5   \n",
              "25  2019-02-24 09:48:22.300769         256     1                  0.5   \n",
              "\n",
              "    Conv_1_kernel_size  Conv_1_max_pooling_size          ...            \\\n",
              "0                  2.0                      2.0          ...             \n",
              "1                  NaN                      NaN          ...             \n",
              "2                  NaN                      NaN          ...             \n",
              "3                  NaN                      NaN          ...             \n",
              "..                 ...                      ...          ...             \n",
              "22                 NaN                      NaN          ...             \n",
              "23                 NaN                      NaN          ...             \n",
              "24                 2.0                      2.0          ...             \n",
              "25                 3.0                      2.0          ...             \n",
              "\n",
              "    intermediate_values_0  intermediate_values_1 intermediate_values_2  \\\n",
              "0                  0.0262                 0.0171                0.0151   \n",
              "1                  0.0357                 0.0280                   NaN   \n",
              "2                  0.0371                 0.0307                   NaN   \n",
              "3                  0.0451                 0.0257                   NaN   \n",
              "..                    ...                    ...                   ...   \n",
              "22                 0.0507                 0.0370                   NaN   \n",
              "23                 0.0440                 0.0315                   NaN   \n",
              "24                 0.0270                 0.0179                   NaN   \n",
              "25                 0.0158                 0.0130                0.0098   \n",
              "\n",
              "    intermediate_values_3  intermediate_values_4  intermediate_values_5  \\\n",
              "0                  0.0142                 0.0149                 0.0127   \n",
              "1                     NaN                    NaN                    NaN   \n",
              "2                     NaN                    NaN                    NaN   \n",
              "3                     NaN                    NaN                    NaN   \n",
              "..                    ...                    ...                    ...   \n",
              "22                    NaN                    NaN                    NaN   \n",
              "23                    NaN                    NaN                    NaN   \n",
              "24                    NaN                    NaN                    NaN   \n",
              "25                 0.0083                 0.0084                 0.0096   \n",
              "\n",
              "   intermediate_values_6  intermediate_values_7  intermediate_values_8  \\\n",
              "0                 0.0127                 0.0112                 0.0136   \n",
              "1                    NaN                    NaN                    NaN   \n",
              "2                    NaN                    NaN                    NaN   \n",
              "3                    NaN                    NaN                    NaN   \n",
              "..                   ...                    ...                    ...   \n",
              "22                   NaN                    NaN                    NaN   \n",
              "23                   NaN                    NaN                    NaN   \n",
              "24                   NaN                    NaN                    NaN   \n",
              "25                0.0095                 0.0083                 0.0081   \n",
              "\n",
              "    intermediate_values_9  \n",
              "0                  0.0127  \n",
              "1                     NaN  \n",
              "2                     NaN  \n",
              "3                     NaN  \n",
              "..                    ...  \n",
              "22                    NaN  \n",
              "23                    NaN  \n",
              "24                    NaN  \n",
              "25                 0.0084  \n",
              "\n",
              "[26 rows x 43 columns]"
            ]
          },
          "metadata": {
            "tags": []
          },
          "execution_count": 13
        }
      ]
    },
    {
      "metadata": {
        "id": "aECKs3b8bR6o",
        "colab_type": "code",
        "outputId": "921b3c35-0aaa-4281-d317-8c282422ce7e",
        "colab": {
          "base_uri": "https://localhost:8080/",
          "height": 391
        }
      },
      "cell_type": "code",
      "source": [
        "## Check the Keras CSV log file\n",
        "\n",
        "pd.options.display.max_rows = 8 # limit rows to display\n",
        "print('Data Frame read from', ok.keras_log_file_path, '\\n')\n",
        "pd.read_csv(ok.keras_log_file_path)"
      ],
      "execution_count": 14,
      "outputs": [
        {
          "output_type": "stream",
          "text": [
            "Data Frame read from MNIST_Optimized_Keras.csv \n",
            "\n"
          ],
          "name": "stdout"
        },
        {
          "output_type": "execute_result",
          "data": {
            "text/html": [
              "<div>\n",
              "<style scoped>\n",
              "    .dataframe tbody tr th:only-of-type {\n",
              "        vertical-align: middle;\n",
              "    }\n",
              "\n",
              "    .dataframe tbody tr th {\n",
              "        vertical-align: top;\n",
              "    }\n",
              "\n",
              "    .dataframe thead th {\n",
              "        text-align: right;\n",
              "    }\n",
              "</style>\n",
              "<table border=\"1\" class=\"dataframe\">\n",
              "  <thead>\n",
              "    <tr style=\"text-align: right;\">\n",
              "      <th></th>\n",
              "      <th>epoch</th>\n",
              "      <th>_Datetime_epoch_begin</th>\n",
              "      <th>_Datetime_epoch_end</th>\n",
              "      <th>_Monitor</th>\n",
              "      <th>_Trial_id</th>\n",
              "      <th>acc</th>\n",
              "      <th>error</th>\n",
              "      <th>loss</th>\n",
              "      <th>val_acc</th>\n",
              "      <th>val_error</th>\n",
              "      <th>val_loss</th>\n",
              "    </tr>\n",
              "  </thead>\n",
              "  <tbody>\n",
              "    <tr>\n",
              "      <th>0</th>\n",
              "      <td>0</td>\n",
              "      <td>2019-02-24 09:35:16.186699</td>\n",
              "      <td>2019-02-24 09:35:19.896706</td>\n",
              "      <td>val_error</td>\n",
              "      <td>1</td>\n",
              "      <td>0.934550</td>\n",
              "      <td>0.065450</td>\n",
              "      <td>0.215014</td>\n",
              "      <td>0.9738</td>\n",
              "      <td>0.0262</td>\n",
              "      <td>0.087519</td>\n",
              "    </tr>\n",
              "    <tr>\n",
              "      <th>1</th>\n",
              "      <td>1</td>\n",
              "      <td>2019-02-24 09:35:20.358237</td>\n",
              "      <td>2019-02-24 09:35:23.464105</td>\n",
              "      <td>val_error</td>\n",
              "      <td>1</td>\n",
              "      <td>0.976250</td>\n",
              "      <td>0.023750</td>\n",
              "      <td>0.077705</td>\n",
              "      <td>0.9829</td>\n",
              "      <td>0.0171</td>\n",
              "      <td>0.053412</td>\n",
              "    </tr>\n",
              "    <tr>\n",
              "      <th>2</th>\n",
              "      <td>2</td>\n",
              "      <td>2019-02-24 09:35:23.823867</td>\n",
              "      <td>2019-02-24 09:35:26.924000</td>\n",
              "      <td>val_error</td>\n",
              "      <td>1</td>\n",
              "      <td>0.982567</td>\n",
              "      <td>0.017433</td>\n",
              "      <td>0.056076</td>\n",
              "      <td>0.9849</td>\n",
              "      <td>0.0151</td>\n",
              "      <td>0.048943</td>\n",
              "    </tr>\n",
              "    <tr>\n",
              "      <th>3</th>\n",
              "      <td>3</td>\n",
              "      <td>2019-02-24 09:35:27.455028</td>\n",
              "      <td>2019-02-24 09:35:30.547219</td>\n",
              "      <td>val_error</td>\n",
              "      <td>1</td>\n",
              "      <td>0.986300</td>\n",
              "      <td>0.013700</td>\n",
              "      <td>0.041604</td>\n",
              "      <td>0.9858</td>\n",
              "      <td>0.0142</td>\n",
              "      <td>0.042347</td>\n",
              "    </tr>\n",
              "    <tr>\n",
              "      <th>...</th>\n",
              "      <td>...</td>\n",
              "      <td>...</td>\n",
              "      <td>...</td>\n",
              "      <td>...</td>\n",
              "      <td>...</td>\n",
              "      <td>...</td>\n",
              "      <td>...</td>\n",
              "      <td>...</td>\n",
              "      <td>...</td>\n",
              "      <td>...</td>\n",
              "      <td>...</td>\n",
              "    </tr>\n",
              "    <tr>\n",
              "      <th>86</th>\n",
              "      <td>6</td>\n",
              "      <td>2019-02-24 09:47:08.107669</td>\n",
              "      <td>2019-02-24 09:47:25.428471</td>\n",
              "      <td>val_error</td>\n",
              "      <td>26</td>\n",
              "      <td>0.984400</td>\n",
              "      <td>0.015600</td>\n",
              "      <td>0.048308</td>\n",
              "      <td>0.9905</td>\n",
              "      <td>0.0095</td>\n",
              "      <td>0.029372</td>\n",
              "    </tr>\n",
              "    <tr>\n",
              "      <th>87</th>\n",
              "      <td>7</td>\n",
              "      <td>2019-02-24 09:47:26.180463</td>\n",
              "      <td>2019-02-24 09:47:44.109124</td>\n",
              "      <td>val_error</td>\n",
              "      <td>26</td>\n",
              "      <td>0.986509</td>\n",
              "      <td>0.013491</td>\n",
              "      <td>0.043048</td>\n",
              "      <td>0.9917</td>\n",
              "      <td>0.0083</td>\n",
              "      <td>0.026503</td>\n",
              "    </tr>\n",
              "    <tr>\n",
              "      <th>88</th>\n",
              "      <td>8</td>\n",
              "      <td>2019-02-24 09:47:44.862322</td>\n",
              "      <td>2019-02-24 09:48:02.128197</td>\n",
              "      <td>val_error</td>\n",
              "      <td>26</td>\n",
              "      <td>0.986777</td>\n",
              "      <td>0.013223</td>\n",
              "      <td>0.041968</td>\n",
              "      <td>0.9919</td>\n",
              "      <td>0.0081</td>\n",
              "      <td>0.026766</td>\n",
              "    </tr>\n",
              "    <tr>\n",
              "      <th>89</th>\n",
              "      <td>9</td>\n",
              "      <td>2019-02-24 09:48:03.942366</td>\n",
              "      <td>2019-02-24 09:48:21.514279</td>\n",
              "      <td>val_error</td>\n",
              "      <td>26</td>\n",
              "      <td>0.987597</td>\n",
              "      <td>0.012403</td>\n",
              "      <td>0.038953</td>\n",
              "      <td>0.9916</td>\n",
              "      <td>0.0084</td>\n",
              "      <td>0.025915</td>\n",
              "    </tr>\n",
              "  </tbody>\n",
              "</table>\n",
              "<p>90 rows × 11 columns</p>\n",
              "</div>"
            ],
            "text/plain": [
              "    epoch       _Datetime_epoch_begin         _Datetime_epoch_end   _Monitor  \\\n",
              "0       0  2019-02-24 09:35:16.186699  2019-02-24 09:35:19.896706  val_error   \n",
              "1       1  2019-02-24 09:35:20.358237  2019-02-24 09:35:23.464105  val_error   \n",
              "2       2  2019-02-24 09:35:23.823867  2019-02-24 09:35:26.924000  val_error   \n",
              "3       3  2019-02-24 09:35:27.455028  2019-02-24 09:35:30.547219  val_error   \n",
              "..    ...                         ...                         ...        ...   \n",
              "86      6  2019-02-24 09:47:08.107669  2019-02-24 09:47:25.428471  val_error   \n",
              "87      7  2019-02-24 09:47:26.180463  2019-02-24 09:47:44.109124  val_error   \n",
              "88      8  2019-02-24 09:47:44.862322  2019-02-24 09:48:02.128197  val_error   \n",
              "89      9  2019-02-24 09:48:03.942366  2019-02-24 09:48:21.514279  val_error   \n",
              "\n",
              "    _Trial_id       acc     error      loss  val_acc  val_error  val_loss  \n",
              "0           1  0.934550  0.065450  0.215014   0.9738     0.0262  0.087519  \n",
              "1           1  0.976250  0.023750  0.077705   0.9829     0.0171  0.053412  \n",
              "2           1  0.982567  0.017433  0.056076   0.9849     0.0151  0.048943  \n",
              "3           1  0.986300  0.013700  0.041604   0.9858     0.0142  0.042347  \n",
              "..        ...       ...       ...       ...      ...        ...       ...  \n",
              "86         26  0.984400  0.015600  0.048308   0.9905     0.0095  0.029372  \n",
              "87         26  0.986509  0.013491  0.043048   0.9917     0.0083  0.026503  \n",
              "88         26  0.986777  0.013223  0.041968   0.9919     0.0081  0.026766  \n",
              "89         26  0.987597  0.012403  0.038953   0.9916     0.0084  0.025915  \n",
              "\n",
              "[90 rows x 11 columns]"
            ]
          },
          "metadata": {
            "tags": []
          },
          "execution_count": 14
        }
      ]
    }
  ]
}